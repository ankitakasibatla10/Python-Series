{
  "nbformat": 4,
  "nbformat_minor": 0,
  "metadata": {
    "colab": {
      "provenance": []
    },
    "kernelspec": {
      "name": "python3",
      "display_name": "Python 3"
    },
    "language_info": {
      "name": "python"
    }
  },
  "cells": [
    {
      "cell_type": "markdown",
      "source": [
        "Python Objects :\n",
        "\n",
        "1. high level objects : int, float\n",
        "2. containers : list (insert, append), dictionaries(fast lookup)"
      ],
      "metadata": {
        "id": "N0Q-Tz7c50y1"
      }
    },
    {
      "cell_type": "markdown",
      "source": [
        "Numpy\n",
        "\n",
        "* extension package for multi-dim arrays\n",
        "* closer to hardware\n",
        "* designed for scientific computation\n",
        "* known as array oriented programming"
      ],
      "metadata": {
        "id": "A0sIWD7i6KAG"
      }
    },
    {
      "cell_type": "code",
      "execution_count": null,
      "metadata": {
        "colab": {
          "base_uri": "https://localhost:8080/"
        },
        "id": "8xuc_Wa45xWf",
        "outputId": "5ec8b559-9694-4d84-b091-1b718509f5e1"
      },
      "outputs": [
        {
          "output_type": "execute_result",
          "data": {
            "text/plain": [
              "array([0, 1, 2, 3])"
            ]
          },
          "metadata": {},
          "execution_count": 1
        }
      ],
      "source": [
        "import numpy as np\n",
        "a = np.array([0, 1, 2, 3])\n",
        "a"
      ]
    },
    {
      "cell_type": "code",
      "source": [
        "np.arange(10)"
      ],
      "metadata": {
        "colab": {
          "base_uri": "https://localhost:8080/"
        },
        "id": "2OmOlR4b6kud",
        "outputId": "223900b1-2ac7-4cde-a988-15c837a90c88"
      },
      "execution_count": null,
      "outputs": [
        {
          "output_type": "execute_result",
          "data": {
            "text/plain": [
              "array([0, 1, 2, 3, 4, 5, 6, 7, 8, 9])"
            ]
          },
          "metadata": {},
          "execution_count": 3
        }
      ]
    },
    {
      "cell_type": "code",
      "source": [
        "l = range(1000)\n",
        "%timeit [i ** 2 for i in l]      #0-999 sq"
      ],
      "metadata": {
        "colab": {
          "base_uri": "https://localhost:8080/"
        },
        "id": "eGTGgkZJ6p5z",
        "outputId": "f0d63484-ef10-40e2-ef76-2d7e4ac0b98a"
      },
      "execution_count": null,
      "outputs": [
        {
          "output_type": "stream",
          "name": "stdout",
          "text": [
            "360 µs ± 87 µs per loop (mean ± std. dev. of 7 runs, 1000 loops each)\n"
          ]
        }
      ]
    },
    {
      "cell_type": "code",
      "source": [
        "a = np.arange(1000)\n",
        "%timeit a**2      #1.26 sec that means normal lists are slower , np is 200 times faster"
      ],
      "metadata": {
        "colab": {
          "base_uri": "https://localhost:8080/"
        },
        "id": "HLjy7eJL6yqZ",
        "outputId": "031aff3a-5675-4185-8a20-44fff3675d6d"
      },
      "execution_count": null,
      "outputs": [
        {
          "output_type": "stream",
          "name": "stdout",
          "text": [
            "1.26 µs ± 33 ns per loop (mean ± std. dev. of 7 runs, 1000000 loops each)\n"
          ]
        }
      ]
    },
    {
      "cell_type": "markdown",
      "source": [
        "1. Creating arrays"
      ],
      "metadata": {
        "id": "pLHPEsrm7Dhe"
      }
    },
    {
      "cell_type": "code",
      "source": [
        "a = np.array([0, 1, 2, 3])  #1d array-vector\n",
        "a"
      ],
      "metadata": {
        "colab": {
          "base_uri": "https://localhost:8080/"
        },
        "id": "xoyRBq3r7a1L",
        "outputId": "e89466f5-c521-4d32-ca87-1456b0bb7814"
      },
      "execution_count": null,
      "outputs": [
        {
          "output_type": "execute_result",
          "data": {
            "text/plain": [
              "array([0, 1, 2, 3])"
            ]
          },
          "metadata": {},
          "execution_count": 7
        }
      ]
    },
    {
      "cell_type": "code",
      "source": [
        "a.ndim"
      ],
      "metadata": {
        "colab": {
          "base_uri": "https://localhost:8080/"
        },
        "id": "cGaoUUxk7d_y",
        "outputId": "c3d6977d-4e9c-4ed1-a533-bf316333824e"
      },
      "execution_count": null,
      "outputs": [
        {
          "output_type": "execute_result",
          "data": {
            "text/plain": [
              "1"
            ]
          },
          "metadata": {},
          "execution_count": 8
        }
      ]
    },
    {
      "cell_type": "code",
      "source": [
        "a.shape"
      ],
      "metadata": {
        "colab": {
          "base_uri": "https://localhost:8080/"
        },
        "id": "mAffBiCI7go8",
        "outputId": "29a3e90b-2a0d-41af-9a6b-ed322f77623e"
      },
      "execution_count": null,
      "outputs": [
        {
          "output_type": "execute_result",
          "data": {
            "text/plain": [
              "(4,)"
            ]
          },
          "metadata": {},
          "execution_count": 9
        }
      ]
    },
    {
      "cell_type": "code",
      "source": [
        "len(a)"
      ],
      "metadata": {
        "colab": {
          "base_uri": "https://localhost:8080/"
        },
        "id": "DcojKkww7iXz",
        "outputId": "cec5756f-ed6f-4e25-8f91-9ca7354723b1"
      },
      "execution_count": null,
      "outputs": [
        {
          "output_type": "execute_result",
          "data": {
            "text/plain": [
              "4"
            ]
          },
          "metadata": {},
          "execution_count": 10
        }
      ]
    },
    {
      "cell_type": "code",
      "source": [
        "b = np.array([[0, 1, 2], [3, 4, 5]]) #2d array-matrix\n",
        "b.ndim"
      ],
      "metadata": {
        "colab": {
          "base_uri": "https://localhost:8080/"
        },
        "id": "HdZ3bURg8IwA",
        "outputId": "a15392ca-54b9-4615-c2d9-26fdf70c8d9f"
      },
      "execution_count": null,
      "outputs": [
        {
          "output_type": "execute_result",
          "data": {
            "text/plain": [
              "2"
            ]
          },
          "metadata": {},
          "execution_count": 15
        }
      ]
    },
    {
      "cell_type": "code",
      "source": [
        "b.shape"
      ],
      "metadata": {
        "colab": {
          "base_uri": "https://localhost:8080/"
        },
        "id": "Q7CIfP1J8Ajh",
        "outputId": "30e5e5ac-8fc3-4415-bde4-bdb21e2f235b"
      },
      "execution_count": null,
      "outputs": [
        {
          "output_type": "execute_result",
          "data": {
            "text/plain": [
              "(2, 3)"
            ]
          },
          "metadata": {},
          "execution_count": 16
        }
      ]
    },
    {
      "cell_type": "code",
      "source": [
        "len(b)"
      ],
      "metadata": {
        "colab": {
          "base_uri": "https://localhost:8080/"
        },
        "id": "yE198Hvv8GNQ",
        "outputId": "2eb77abb-a8b8-4cf9-b2ab-6f61e5f24e1f"
      },
      "execution_count": null,
      "outputs": [
        {
          "output_type": "execute_result",
          "data": {
            "text/plain": [
              "2"
            ]
          },
          "metadata": {},
          "execution_count": 17
        }
      ]
    },
    {
      "cell_type": "code",
      "source": [
        "c = np.array([[[1, 2,3], [4, 5, 6], [7, 8, 9], [10, 11, 12]]]) #nd array - tensor\n",
        "c"
      ],
      "metadata": {
        "colab": {
          "base_uri": "https://localhost:8080/"
        },
        "id": "TfvSUiEA8Rvn",
        "outputId": "6a5e32bd-62c9-46a7-bbc3-30259ffa179d"
      },
      "execution_count": null,
      "outputs": [
        {
          "output_type": "execute_result",
          "data": {
            "text/plain": [
              "array([[[ 1,  2,  3],\n",
              "        [ 4,  5,  6],\n",
              "        [ 7,  8,  9],\n",
              "        [10, 11, 12]]])"
            ]
          },
          "metadata": {},
          "execution_count": 18
        }
      ]
    },
    {
      "cell_type": "code",
      "source": [
        "c.ndim"
      ],
      "metadata": {
        "colab": {
          "base_uri": "https://localhost:8080/"
        },
        "id": "htqGp9nr8cNi",
        "outputId": "ff45bd1d-2892-428b-9d69-71ad057e947e"
      },
      "execution_count": null,
      "outputs": [
        {
          "output_type": "execute_result",
          "data": {
            "text/plain": [
              "3"
            ]
          },
          "metadata": {},
          "execution_count": 19
        }
      ]
    },
    {
      "cell_type": "code",
      "source": [
        "c.shape"
      ],
      "metadata": {
        "colab": {
          "base_uri": "https://localhost:8080/"
        },
        "id": "Z_gOwvkq8eIi",
        "outputId": "f73bd551-9808-4984-aaab-c18be13519cb"
      },
      "execution_count": null,
      "outputs": [
        {
          "output_type": "execute_result",
          "data": {
            "text/plain": [
              "(1, 4, 3)"
            ]
          },
          "metadata": {},
          "execution_count": 20
        }
      ]
    },
    {
      "cell_type": "code",
      "source": [
        "len(c)"
      ],
      "metadata": {
        "colab": {
          "base_uri": "https://localhost:8080/"
        },
        "id": "ek8bHMma8kpL",
        "outputId": "67569ad6-851f-4bd5-b146-32f3825954f6"
      },
      "execution_count": null,
      "outputs": [
        {
          "output_type": "execute_result",
          "data": {
            "text/plain": [
              "1"
            ]
          },
          "metadata": {},
          "execution_count": 21
        }
      ]
    },
    {
      "cell_type": "code",
      "source": [
        "b = np.arange(1, 10, 2)   #start, end(exc, stepsize)\n",
        "b"
      ],
      "metadata": {
        "colab": {
          "base_uri": "https://localhost:8080/"
        },
        "id": "JabEDcgx8wJJ",
        "outputId": "3feed421-1c85-4ed0-9b83-193cb5aa3f6d"
      },
      "execution_count": null,
      "outputs": [
        {
          "output_type": "execute_result",
          "data": {
            "text/plain": [
              "array([1, 3, 5, 7, 9])"
            ]
          },
          "metadata": {},
          "execution_count": 22
        }
      ]
    },
    {
      "cell_type": "code",
      "source": [
        "a = np.linspace(0, 1, 6)  #linear space\n",
        "a"
      ],
      "metadata": {
        "colab": {
          "base_uri": "https://localhost:8080/"
        },
        "id": "tnvdnWS-85O_",
        "outputId": "2f6fa036-0a9e-469e-ddde-18faf0ee47b6"
      },
      "execution_count": null,
      "outputs": [
        {
          "output_type": "execute_result",
          "data": {
            "text/plain": [
              "array([0. , 0.2, 0.4, 0.6, 0.8, 1. ])"
            ]
          },
          "metadata": {},
          "execution_count": 25
        }
      ]
    },
    {
      "cell_type": "code",
      "source": [
        "a = np.ones(3)\n",
        "a"
      ],
      "metadata": {
        "colab": {
          "base_uri": "https://localhost:8080/"
        },
        "id": "IlQr8M5A9A_-",
        "outputId": "7ee55017-b4a7-4c6c-8f3e-cd5d90b8d600"
      },
      "execution_count": null,
      "outputs": [
        {
          "output_type": "execute_result",
          "data": {
            "text/plain": [
              "array([1., 1., 1.])"
            ]
          },
          "metadata": {},
          "execution_count": 26
        }
      ]
    },
    {
      "cell_type": "code",
      "source": [
        "a = np.ones((3, 3))\n",
        "a"
      ],
      "metadata": {
        "colab": {
          "base_uri": "https://localhost:8080/"
        },
        "id": "bWpiM3oo9Pml",
        "outputId": "35ff0960-5d37-43d1-cfdc-6d74dcf14986"
      },
      "execution_count": null,
      "outputs": [
        {
          "output_type": "execute_result",
          "data": {
            "text/plain": [
              "array([[1., 1., 1.],\n",
              "       [1., 1., 1.],\n",
              "       [1., 1., 1.]])"
            ]
          },
          "metadata": {},
          "execution_count": 27
        }
      ]
    },
    {
      "cell_type": "code",
      "source": [
        "a = np.zeros((3, 4))\n",
        "a"
      ],
      "metadata": {
        "colab": {
          "base_uri": "https://localhost:8080/"
        },
        "id": "NgmNvJnp9TlQ",
        "outputId": "a037d60d-4408-475d-970f-e9f7ef73dab4"
      },
      "execution_count": null,
      "outputs": [
        {
          "output_type": "execute_result",
          "data": {
            "text/plain": [
              "array([[0., 0., 0., 0.],\n",
              "       [0., 0., 0., 0.],\n",
              "       [0., 0., 0., 0.]])"
            ]
          },
          "metadata": {},
          "execution_count": 28
        }
      ]
    },
    {
      "cell_type": "code",
      "source": [
        "a = np.eye(3) #diagonals = 1\n",
        "a"
      ],
      "metadata": {
        "colab": {
          "base_uri": "https://localhost:8080/"
        },
        "id": "peaK33Qv9ZBZ",
        "outputId": "c6fd599f-4973-41e1-cf12-c0416b4877a3"
      },
      "execution_count": null,
      "outputs": [
        {
          "output_type": "execute_result",
          "data": {
            "text/plain": [
              "array([[1., 0., 0.],\n",
              "       [0., 1., 0.],\n",
              "       [0., 0., 1.]])"
            ]
          },
          "metadata": {},
          "execution_count": 29
        }
      ]
    },
    {
      "cell_type": "code",
      "source": [
        "a = np.eye(3, 2)   #3rows, 2 columns, index of diagonal = 1\n",
        "a"
      ],
      "metadata": {
        "colab": {
          "base_uri": "https://localhost:8080/"
        },
        "id": "V_h-0_fg9e5k",
        "outputId": "d880888b-c8b6-4d62-eafb-267921c49d58"
      },
      "execution_count": null,
      "outputs": [
        {
          "output_type": "execute_result",
          "data": {
            "text/plain": [
              "array([[1., 0.],\n",
              "       [0., 1.],\n",
              "       [0., 0.]])"
            ]
          },
          "metadata": {},
          "execution_count": 30
        }
      ]
    },
    {
      "cell_type": "code",
      "source": [
        "a = np.diag([1, 2, 3,4])  #all zeros, only diagonals n = n*n matrix\n",
        "a"
      ],
      "metadata": {
        "colab": {
          "base_uri": "https://localhost:8080/"
        },
        "id": "BzNF3Slk9r8L",
        "outputId": "81c29d6b-74e4-4161-a01a-c107a039390d"
      },
      "execution_count": null,
      "outputs": [
        {
          "output_type": "execute_result",
          "data": {
            "text/plain": [
              "array([[1, 0, 0, 0],\n",
              "       [0, 2, 0, 0],\n",
              "       [0, 0, 3, 0],\n",
              "       [0, 0, 0, 4]])"
            ]
          },
          "metadata": {},
          "execution_count": 31
        }
      ]
    },
    {
      "cell_type": "code",
      "source": [
        "np.diag(a)"
      ],
      "metadata": {
        "colab": {
          "base_uri": "https://localhost:8080/"
        },
        "id": "Q222XV7m90CW",
        "outputId": "f7a20c1f-3945-407f-b869-3e91c5387bc4"
      },
      "execution_count": null,
      "outputs": [
        {
          "output_type": "execute_result",
          "data": {
            "text/plain": [
              "array([1, 2, 3, 4])"
            ]
          },
          "metadata": {},
          "execution_count": 32
        }
      ]
    },
    {
      "cell_type": "code",
      "source": [
        "a = np.random.rand(4) #random values of 4 elemt array\n",
        "a"
      ],
      "metadata": {
        "colab": {
          "base_uri": "https://localhost:8080/"
        },
        "id": "saWh8ohJ96oD",
        "outputId": "5a008ea1-df59-404c-b417-c474a2dc5a00"
      },
      "execution_count": null,
      "outputs": [
        {
          "output_type": "execute_result",
          "data": {
            "text/plain": [
              "array([0.62570683, 0.19397561, 0.11308782, 0.90767352])"
            ]
          },
          "metadata": {},
          "execution_count": 33
        }
      ]
    },
    {
      "cell_type": "code",
      "source": [
        "a = np.random.randn(4)   #print standard normal distribution\n",
        "a"
      ],
      "metadata": {
        "colab": {
          "base_uri": "https://localhost:8080/"
        },
        "id": "h1pIpphg-EkC",
        "outputId": "216931df-5303-43fb-d406-4887f6163708"
      },
      "execution_count": null,
      "outputs": [
        {
          "output_type": "execute_result",
          "data": {
            "text/plain": [
              "array([-1.69489736,  0.48223313, -0.63509021,  0.69376926])"
            ]
          },
          "metadata": {},
          "execution_count": 34
        }
      ]
    },
    {
      "cell_type": "code",
      "source": [
        "a = np.arange(10)\n",
        "a"
      ],
      "metadata": {
        "colab": {
          "base_uri": "https://localhost:8080/"
        },
        "id": "B-RPr2Ct-U86",
        "outputId": "281faec0-777c-41c7-b3cf-0596131f0144"
      },
      "execution_count": null,
      "outputs": [
        {
          "output_type": "execute_result",
          "data": {
            "text/plain": [
              "array([0, 1, 2, 3, 4, 5, 6, 7, 8, 9])"
            ]
          },
          "metadata": {},
          "execution_count": 36
        }
      ]
    },
    {
      "cell_type": "code",
      "source": [
        "a.dtype"
      ],
      "metadata": {
        "colab": {
          "base_uri": "https://localhost:8080/"
        },
        "id": "fm4NvDC7-hfa",
        "outputId": "188c91a7-6193-418a-abb4-6336d90e527f"
      },
      "execution_count": null,
      "outputs": [
        {
          "output_type": "execute_result",
          "data": {
            "text/plain": [
              "dtype('int64')"
            ]
          },
          "metadata": {},
          "execution_count": 37
        }
      ]
    },
    {
      "cell_type": "code",
      "source": [
        "a = np.arange(10, dtype='float')\n",
        "a"
      ],
      "metadata": {
        "colab": {
          "base_uri": "https://localhost:8080/"
        },
        "id": "w_iluEmf-knb",
        "outputId": "babfde8e-b71f-4f7e-e950-cbc8f9542a1a"
      },
      "execution_count": null,
      "outputs": [
        {
          "output_type": "execute_result",
          "data": {
            "text/plain": [
              "array([0., 1., 2., 3., 4., 5., 6., 7., 8., 9.])"
            ]
          },
          "metadata": {},
          "execution_count": 39
        }
      ]
    },
    {
      "cell_type": "code",
      "source": [
        "a = np.zeros((3, 3))\n",
        "print(a)\n",
        "a.dtype"
      ],
      "metadata": {
        "colab": {
          "base_uri": "https://localhost:8080/"
        },
        "id": "v8dBnUAN-qUz",
        "outputId": "4496e06e-d894-4f74-a132-54b4dbfc6afd"
      },
      "execution_count": null,
      "outputs": [
        {
          "output_type": "stream",
          "name": "stdout",
          "text": [
            "[[0. 0. 0.]\n",
            " [0. 0. 0.]\n",
            " [0. 0. 0.]]\n"
          ]
        },
        {
          "output_type": "execute_result",
          "data": {
            "text/plain": [
              "dtype('float64')"
            ]
          },
          "metadata": {},
          "execution_count": 40
        }
      ]
    },
    {
      "cell_type": "code",
      "source": [
        "d = np.array([1+2j, 2+4j])\n",
        "d.dtype"
      ],
      "metadata": {
        "colab": {
          "base_uri": "https://localhost:8080/"
        },
        "id": "wW1A4fUl-0Ez",
        "outputId": "2fb9c26e-d7ac-480b-9424-1bc6a519039f"
      },
      "execution_count": null,
      "outputs": [
        {
          "output_type": "execute_result",
          "data": {
            "text/plain": [
              "dtype('complex128')"
            ]
          },
          "metadata": {},
          "execution_count": 41
        }
      ]
    },
    {
      "cell_type": "code",
      "source": [
        "a = np.array([True, False])\n",
        "a.dtype"
      ],
      "metadata": {
        "colab": {
          "base_uri": "https://localhost:8080/"
        },
        "id": "K5WR-Qyl-7TZ",
        "outputId": "a15ceb8f-9e8f-485a-b650-4abbbe6c1b57"
      },
      "execution_count": null,
      "outputs": [
        {
          "output_type": "execute_result",
          "data": {
            "text/plain": [
              "dtype('bool')"
            ]
          },
          "metadata": {},
          "execution_count": 42
        }
      ]
    },
    {
      "cell_type": "code",
      "source": [
        "a = np.array(['Ank', 'Ita'])\n",
        "a.dtype"
      ],
      "metadata": {
        "colab": {
          "base_uri": "https://localhost:8080/"
        },
        "id": "53C8rcol_Btd",
        "outputId": "f3e82764-e7d9-4bae-b47c-5caed8e8a3ef"
      },
      "execution_count": null,
      "outputs": [
        {
          "output_type": "execute_result",
          "data": {
            "text/plain": [
              "dtype('<U3')"
            ]
          },
          "metadata": {},
          "execution_count": 43
        }
      ]
    },
    {
      "cell_type": "code",
      "source": [
        "#Indexing\n",
        "a = np.arange(10)\n",
        "a[5]"
      ],
      "metadata": {
        "colab": {
          "base_uri": "https://localhost:8080/"
        },
        "id": "TV0qiwRb_ear",
        "outputId": "d5b3bc06-232d-4bfd-985e-64128145ada9"
      },
      "execution_count": null,
      "outputs": [
        {
          "output_type": "execute_result",
          "data": {
            "text/plain": [
              "5"
            ]
          },
          "metadata": {},
          "execution_count": 44
        }
      ]
    },
    {
      "cell_type": "code",
      "source": [
        "a = np.diag([1, 2, 3])\n",
        "a"
      ],
      "metadata": {
        "colab": {
          "base_uri": "https://localhost:8080/"
        },
        "id": "JCBSNDMA_iv6",
        "outputId": "ef0c8197-4f1a-4c0b-d80c-1d9d1b5c13af"
      },
      "execution_count": null,
      "outputs": [
        {
          "output_type": "execute_result",
          "data": {
            "text/plain": [
              "array([[1, 0, 0],\n",
              "       [0, 2, 0],\n",
              "       [0, 0, 3]])"
            ]
          },
          "metadata": {},
          "execution_count": 45
        }
      ]
    },
    {
      "cell_type": "code",
      "source": [
        "a[2][2]"
      ],
      "metadata": {
        "colab": {
          "base_uri": "https://localhost:8080/"
        },
        "id": "KkoyGAGJ_ncn",
        "outputId": "db2decd6-d228-44c5-fe09-39539dd3e679"
      },
      "execution_count": null,
      "outputs": [
        {
          "output_type": "execute_result",
          "data": {
            "text/plain": [
              "3"
            ]
          },
          "metadata": {},
          "execution_count": 46
        }
      ]
    },
    {
      "cell_type": "code",
      "source": [
        "a[2, 1] = 5\n",
        "a"
      ],
      "metadata": {
        "colab": {
          "base_uri": "https://localhost:8080/"
        },
        "id": "b9mLfe7r_qeV",
        "outputId": "cde59fd6-9f39-49d7-e5a1-7c9a71753ba6"
      },
      "execution_count": null,
      "outputs": [
        {
          "output_type": "execute_result",
          "data": {
            "text/plain": [
              "array([[1, 0, 0],\n",
              "       [0, 2, 0],\n",
              "       [0, 5, 3]])"
            ]
          },
          "metadata": {},
          "execution_count": 47
        }
      ]
    },
    {
      "cell_type": "code",
      "source": [
        "#slicing\n",
        "a = np.arange(10)\n",
        "a[1:8:2]  #1st - 7th with step 2\n",
        "a"
      ],
      "metadata": {
        "colab": {
          "base_uri": "https://localhost:8080/"
        },
        "id": "M7AOQP3Z_y1G",
        "outputId": "87cd6b73-037f-4f73-d102-61f1bd5c4453"
      },
      "execution_count": null,
      "outputs": [
        {
          "output_type": "execute_result",
          "data": {
            "text/plain": [
              "array([0, 1, 2, 3, 4, 5, 6, 7, 8, 9])"
            ]
          },
          "metadata": {},
          "execution_count": 49
        }
      ]
    },
    {
      "cell_type": "code",
      "source": [
        "a[5:] = 10  #[n:] - n to upto the end\n",
        "a"
      ],
      "metadata": {
        "colab": {
          "base_uri": "https://localhost:8080/"
        },
        "id": "SzxDfA9NADpH",
        "outputId": "ec6f259c-e098-48c3-fef9-8e83b512b46c"
      },
      "execution_count": null,
      "outputs": [
        {
          "output_type": "execute_result",
          "data": {
            "text/plain": [
              "array([ 0,  1,  2,  3,  4, 10, 10, 10, 10, 10])"
            ]
          },
          "metadata": {},
          "execution_count": 50
        }
      ]
    },
    {
      "cell_type": "code",
      "source": [
        "b = np.arange(5)\n",
        "a[5:] = b[::-1]  #[::-1] start, end, reverse\n",
        "a"
      ],
      "metadata": {
        "colab": {
          "base_uri": "https://localhost:8080/"
        },
        "id": "z1IbWW5NASIg",
        "outputId": "e6905b66-2835-4730-f421-fc2c619a2d8a"
      },
      "execution_count": null,
      "outputs": [
        {
          "output_type": "execute_result",
          "data": {
            "text/plain": [
              "array([0, 1, 2, 3, 4, 4, 3, 2, 1, 0])"
            ]
          },
          "metadata": {},
          "execution_count": 51
        }
      ]
    },
    {
      "cell_type": "code",
      "source": [
        "b = a[::2]\n",
        "b"
      ],
      "metadata": {
        "colab": {
          "base_uri": "https://localhost:8080/"
        },
        "id": "OSYF4FG-Ahkh",
        "outputId": "f89c59d3-130e-424c-befa-81016052bbc8"
      },
      "execution_count": null,
      "outputs": [
        {
          "output_type": "execute_result",
          "data": {
            "text/plain": [
              "array([0, 2, 4, 3, 1])"
            ]
          },
          "metadata": {},
          "execution_count": 52
        }
      ]
    },
    {
      "cell_type": "code",
      "source": [
        "np.shares_memory(a, b)  #both share in RAM"
      ],
      "metadata": {
        "colab": {
          "base_uri": "https://localhost:8080/"
        },
        "id": "qzPfskcGArrW",
        "outputId": "7d52fc55-f1ea-4dea-eb04-9a3803d92781"
      },
      "execution_count": null,
      "outputs": [
        {
          "output_type": "execute_result",
          "data": {
            "text/plain": [
              "True"
            ]
          },
          "metadata": {},
          "execution_count": 53
        }
      ]
    },
    {
      "cell_type": "code",
      "source": [
        "b[0] =10\n",
        "b"
      ],
      "metadata": {
        "colab": {
          "base_uri": "https://localhost:8080/"
        },
        "id": "861f8DvXA0N9",
        "outputId": "37bc29f6-aade-408a-8734-02b91f13bf5e"
      },
      "execution_count": null,
      "outputs": [
        {
          "output_type": "execute_result",
          "data": {
            "text/plain": [
              "array([10,  2,  4,  3,  1])"
            ]
          },
          "metadata": {},
          "execution_count": 54
        }
      ]
    },
    {
      "cell_type": "code",
      "source": [
        "a  #a and b shares same location. so one operation in any obj it reflects in  another"
      ],
      "metadata": {
        "colab": {
          "base_uri": "https://localhost:8080/"
        },
        "id": "dfNx2cOTA35m",
        "outputId": "34d956b9-c7fe-44ba-93ab-bce558ef2515"
      },
      "execution_count": null,
      "outputs": [
        {
          "output_type": "execute_result",
          "data": {
            "text/plain": [
              "array([10,  1,  2,  3,  4,  4,  3,  2,  1,  0])"
            ]
          },
          "metadata": {},
          "execution_count": 55
        }
      ]
    },
    {
      "cell_type": "code",
      "source": [
        "c[0] = 10\n",
        "a"
      ],
      "metadata": {
        "colab": {
          "base_uri": "https://localhost:8080/"
        },
        "id": "f56GQCSTA_Xc",
        "outputId": "b584141b-90f1-4926-b8ad-69df7550fca1"
      },
      "execution_count": null,
      "outputs": [
        {
          "output_type": "execute_result",
          "data": {
            "text/plain": [
              "array([10,  1,  2,  3,  4,  4,  3,  2,  1,  0])"
            ]
          },
          "metadata": {},
          "execution_count": 56
        }
      ]
    },
    {
      "cell_type": "code",
      "source": [
        "a = np.random.randint(0, 20, 15)\n",
        "a"
      ],
      "metadata": {
        "colab": {
          "base_uri": "https://localhost:8080/"
        },
        "id": "Weycata7BFAy",
        "outputId": "15fb429a-0aba-4868-dae3-17784ce98883"
      },
      "execution_count": null,
      "outputs": [
        {
          "output_type": "execute_result",
          "data": {
            "text/plain": [
              "array([ 5, 12, 15,  5, 18,  0,  8,  1, 16, 12, 17,  9, 18,  4,  4])"
            ]
          },
          "metadata": {},
          "execution_count": 57
        }
      ]
    },
    {
      "cell_type": "code",
      "source": [
        "mask = (a%2 == 0)"
      ],
      "metadata": {
        "id": "GIDbVei4BJka"
      },
      "execution_count": null,
      "outputs": []
    },
    {
      "cell_type": "code",
      "source": [
        "extract_from_a = a[mask]\n",
        "extract_from_a"
      ],
      "metadata": {
        "colab": {
          "base_uri": "https://localhost:8080/"
        },
        "id": "VQcp16ebBOWK",
        "outputId": "5143006f-785a-4fa3-d88d-51bdde02b225"
      },
      "execution_count": null,
      "outputs": [
        {
          "output_type": "execute_result",
          "data": {
            "text/plain": [
              "array([12, 18,  0,  8, 16, 12, 18,  4,  4])"
            ]
          },
          "metadata": {},
          "execution_count": 59
        }
      ]
    },
    {
      "cell_type": "code",
      "source": [
        "a[mask] = -1  #all even are -1 now\n",
        "a"
      ],
      "metadata": {
        "colab": {
          "base_uri": "https://localhost:8080/"
        },
        "id": "FbQIl-uiBVCz",
        "outputId": "05f33647-5eb4-4735-ebe2-f444664a7e7c"
      },
      "execution_count": null,
      "outputs": [
        {
          "output_type": "execute_result",
          "data": {
            "text/plain": [
              "array([ 5, -1, 15,  5, -1, -1, -1,  1, -1, -1, 17,  9, -1, -1, -1])"
            ]
          },
          "metadata": {},
          "execution_count": 60
        }
      ]
    },
    {
      "cell_type": "code",
      "source": [
        "a = np.arange(0, 100, 10)\n",
        "a"
      ],
      "metadata": {
        "colab": {
          "base_uri": "https://localhost:8080/"
        },
        "id": "4YtiePPyBapD",
        "outputId": "58714ae2-c769-4e03-f592-c8855cbe37e5"
      },
      "execution_count": null,
      "outputs": [
        {
          "output_type": "execute_result",
          "data": {
            "text/plain": [
              "array([ 0, 10, 20, 30, 40, 50, 60, 70, 80, 90])"
            ]
          },
          "metadata": {},
          "execution_count": 61
        }
      ]
    },
    {
      "cell_type": "code",
      "source": [
        "a[[2, 3, 2, 4, 2]]\n",
        "a"
      ],
      "metadata": {
        "colab": {
          "base_uri": "https://localhost:8080/"
        },
        "id": "dByhfFd3BgPz",
        "outputId": "ea128eb5-10c3-4f20-8437-85cb08faa287"
      },
      "execution_count": null,
      "outputs": [
        {
          "output_type": "execute_result",
          "data": {
            "text/plain": [
              "array([   0,   10,   20,   30,   40,   50,   60, -200,   80, -200])"
            ]
          },
          "metadata": {},
          "execution_count": 65
        }
      ]
    },
    {
      "cell_type": "code",
      "source": [
        "a[[9, 7]] = -200\n",
        "a"
      ],
      "metadata": {
        "colab": {
          "base_uri": "https://localhost:8080/"
        },
        "id": "QMKGzF8RBuRS",
        "outputId": "13e3dd26-aeb4-47d8-8b50-aefca7a0174e"
      },
      "execution_count": null,
      "outputs": [
        {
          "output_type": "execute_result",
          "data": {
            "text/plain": [
              "array([   0,   10,   20,   30,   40,   50,   60, -200,   80, -200])"
            ]
          },
          "metadata": {},
          "execution_count": 64
        }
      ]
    },
    {
      "cell_type": "markdown",
      "source": [
        "Numpy operations"
      ],
      "metadata": {
        "id": "E_i3xr0bB9zF"
      }
    },
    {
      "cell_type": "code",
      "source": [
        "a = np.array([1, 2, 3])\n",
        "a+1"
      ],
      "metadata": {
        "colab": {
          "base_uri": "https://localhost:8080/"
        },
        "id": "HpvPs26gB_SX",
        "outputId": "00dc6e6b-dbb1-48e8-f8f8-5f5340ee14d6"
      },
      "execution_count": null,
      "outputs": [
        {
          "output_type": "execute_result",
          "data": {
            "text/plain": [
              "array([2, 3, 4])"
            ]
          },
          "metadata": {},
          "execution_count": 66
        }
      ]
    },
    {
      "cell_type": "code",
      "source": [
        "a ** 2"
      ],
      "metadata": {
        "colab": {
          "base_uri": "https://localhost:8080/"
        },
        "id": "n-IiFO6uCFRG",
        "outputId": "f33a132b-11c4-41fc-88dc-9bff45bd57f9"
      },
      "execution_count": null,
      "outputs": [
        {
          "output_type": "execute_result",
          "data": {
            "text/plain": [
              "array([1, 4, 9])"
            ]
          },
          "metadata": {},
          "execution_count": 67
        }
      ]
    },
    {
      "cell_type": "code",
      "source": [
        "b = np.ones(3) + 1\n",
        "a - b  #element wise subtraction"
      ],
      "metadata": {
        "colab": {
          "base_uri": "https://localhost:8080/"
        },
        "id": "qLa85xHhCKPd",
        "outputId": "e4d194cf-b211-4621-e0e0-f014610a3588"
      },
      "execution_count": null,
      "outputs": [
        {
          "output_type": "execute_result",
          "data": {
            "text/plain": [
              "array([-1.,  0.,  1.])"
            ]
          },
          "metadata": {},
          "execution_count": 70
        }
      ]
    },
    {
      "cell_type": "code",
      "source": [
        "a*b"
      ],
      "metadata": {
        "colab": {
          "base_uri": "https://localhost:8080/"
        },
        "id": "IMsZtmOZCWt8",
        "outputId": "a2b2c447-b443-4fd6-d21e-52afc198cc25"
      },
      "execution_count": null,
      "outputs": [
        {
          "output_type": "execute_result",
          "data": {
            "text/plain": [
              "array([2., 4., 6.])"
            ]
          },
          "metadata": {},
          "execution_count": 71
        }
      ]
    },
    {
      "cell_type": "code",
      "source": [
        "b"
      ],
      "metadata": {
        "colab": {
          "base_uri": "https://localhost:8080/"
        },
        "id": "0qUmXRb0CapT",
        "outputId": "497ed18b-f3d5-413d-e253-78fad06afd63"
      },
      "execution_count": null,
      "outputs": [
        {
          "output_type": "execute_result",
          "data": {
            "text/plain": [
              "array([2., 2., 2.])"
            ]
          },
          "metadata": {},
          "execution_count": 72
        }
      ]
    },
    {
      "cell_type": "code",
      "source": [
        "c = np.diag([1, 2, 3,4])\n",
        "print(c*c)\n",
        "print('*******************************')\n",
        "print(c.dot(c))   #this says c*c = c dot c"
      ],
      "metadata": {
        "colab": {
          "base_uri": "https://localhost:8080/"
        },
        "id": "cU821XMHCcRk",
        "outputId": "00c695b7-a508-465c-a8df-840d23b443fa"
      },
      "execution_count": null,
      "outputs": [
        {
          "output_type": "stream",
          "name": "stdout",
          "text": [
            "[[ 1  0  0  0]\n",
            " [ 0  4  0  0]\n",
            " [ 0  0  9  0]\n",
            " [ 0  0  0 16]]\n",
            "*******************************\n",
            "[[ 1  0  0  0]\n",
            " [ 0  4  0  0]\n",
            " [ 0  0  9  0]\n",
            " [ 0  0  0 16]]\n"
          ]
        }
      ]
    },
    {
      "cell_type": "code",
      "source": [
        "a = np.array([1, 2, 3])\n",
        "b = np.array([4, 5, 3])\n",
        "a == b  #element wise comparision"
      ],
      "metadata": {
        "colab": {
          "base_uri": "https://localhost:8080/"
        },
        "id": "9oJ2d9dfCtOn",
        "outputId": "9ee86387-d003-4e12-e8e9-7fcc753762e5"
      },
      "execution_count": null,
      "outputs": [
        {
          "output_type": "execute_result",
          "data": {
            "text/plain": [
              "array([False, False,  True])"
            ]
          },
          "metadata": {},
          "execution_count": 75
        }
      ]
    },
    {
      "cell_type": "code",
      "source": [
        "b>a"
      ],
      "metadata": {
        "colab": {
          "base_uri": "https://localhost:8080/"
        },
        "id": "UAk5m0EzC3Va",
        "outputId": "1f19f9a2-a488-445d-a6ae-dc10e920c166"
      },
      "execution_count": null,
      "outputs": [
        {
          "output_type": "execute_result",
          "data": {
            "text/plain": [
              "array([ True,  True, False])"
            ]
          },
          "metadata": {},
          "execution_count": 76
        }
      ]
    },
    {
      "cell_type": "code",
      "source": [
        "a = np.array([1, 2, 3])\n",
        "b = np.array([4, 5, 3])\n",
        "c = np.array([1, 2, 3])\n",
        "np.array_equal(a, b)"
      ],
      "metadata": {
        "colab": {
          "base_uri": "https://localhost:8080/"
        },
        "id": "Ax1gdBBsC57X",
        "outputId": "a60d4852-934e-4987-f6f3-3e7045e6acac"
      },
      "execution_count": null,
      "outputs": [
        {
          "output_type": "execute_result",
          "data": {
            "text/plain": [
              "False"
            ]
          },
          "metadata": {},
          "execution_count": 77
        }
      ]
    },
    {
      "cell_type": "code",
      "source": [
        "np.array_equal(a, c)"
      ],
      "metadata": {
        "colab": {
          "base_uri": "https://localhost:8080/"
        },
        "id": "bO3O0mBeDFi0",
        "outputId": "be9cf900-a9e7-41f7-c034-d7433e982b2e"
      },
      "execution_count": null,
      "outputs": [
        {
          "output_type": "execute_result",
          "data": {
            "text/plain": [
              "True"
            ]
          },
          "metadata": {},
          "execution_count": 78
        }
      ]
    },
    {
      "cell_type": "code",
      "source": [
        "a = np.array([1, 1, 0, 0], dtype = bool)\n",
        "b = np.array([1, 0, 1, 0], dtype = bool)\n",
        "np.logical_or(a, b)"
      ],
      "metadata": {
        "colab": {
          "base_uri": "https://localhost:8080/"
        },
        "id": "XRbVfEoGDKYE",
        "outputId": "4b9deead-b2ba-48c8-b628-68a68612d359"
      },
      "execution_count": null,
      "outputs": [
        {
          "output_type": "execute_result",
          "data": {
            "text/plain": [
              "array([ True,  True,  True, False])"
            ]
          },
          "metadata": {},
          "execution_count": 80
        }
      ]
    },
    {
      "cell_type": "code",
      "source": [
        "np.logical_and(a, b)"
      ],
      "metadata": {
        "colab": {
          "base_uri": "https://localhost:8080/"
        },
        "id": "7EHnMYY6DheN",
        "outputId": "99fd81c8-7700-47e4-b811-f74092dbe181"
      },
      "execution_count": null,
      "outputs": [
        {
          "output_type": "execute_result",
          "data": {
            "text/plain": [
              "array([ True, False, False, False])"
            ]
          },
          "metadata": {},
          "execution_count": 82
        }
      ]
    },
    {
      "cell_type": "code",
      "source": [
        "#transcendental functions\n",
        "import numpy as np\n",
        "a = np.arange(5)\n",
        "a"
      ],
      "metadata": {
        "id": "L1DRMeVmDmJS",
        "colab": {
          "base_uri": "https://localhost:8080/"
        },
        "outputId": "613296cc-b0fc-4c27-f852-a4bb9dc42ff5"
      },
      "execution_count": null,
      "outputs": [
        {
          "output_type": "execute_result",
          "data": {
            "text/plain": [
              "array([0, 1, 2, 3, 4])"
            ]
          },
          "metadata": {},
          "execution_count": 3
        }
      ]
    },
    {
      "cell_type": "code",
      "source": [
        "np.sin(a)"
      ],
      "metadata": {
        "id": "lTLHhY4HDshE",
        "colab": {
          "base_uri": "https://localhost:8080/"
        },
        "outputId": "d40728be-7b11-487a-e3c5-0d6345e70fb8"
      },
      "execution_count": null,
      "outputs": [
        {
          "output_type": "execute_result",
          "data": {
            "text/plain": [
              "array([ 0.        ,  0.84147098,  0.90929743,  0.14112001, -0.7568025 ])"
            ]
          },
          "metadata": {},
          "execution_count": 4
        }
      ]
    },
    {
      "cell_type": "code",
      "source": [
        "np.log(a)"
      ],
      "metadata": {
        "colab": {
          "base_uri": "https://localhost:8080/"
        },
        "id": "HKyNSks5SA5h",
        "outputId": "7ab0ad0f-7bf2-41ff-804b-2a4c6f462ea0"
      },
      "execution_count": null,
      "outputs": [
        {
          "output_type": "stream",
          "name": "stderr",
          "text": [
            "<ipython-input-6-89b6b8e53c58>:1: RuntimeWarning: divide by zero encountered in log\n",
            "  np.log(a)\n"
          ]
        },
        {
          "output_type": "execute_result",
          "data": {
            "text/plain": [
              "array([      -inf, 0.        , 0.69314718, 1.09861229, 1.38629436])"
            ]
          },
          "metadata": {},
          "execution_count": 6
        }
      ]
    },
    {
      "cell_type": "code",
      "source": [
        "np.exp(a)"
      ],
      "metadata": {
        "colab": {
          "base_uri": "https://localhost:8080/"
        },
        "id": "Z3d50ripSE6f",
        "outputId": "cdf2dcbb-fc7c-49e0-e3e8-d7b1ef1fda98"
      },
      "execution_count": null,
      "outputs": [
        {
          "output_type": "execute_result",
          "data": {
            "text/plain": [
              "array([ 1.        ,  2.71828183,  7.3890561 , 20.08553692, 54.59815003])"
            ]
          },
          "metadata": {},
          "execution_count": 7
        }
      ]
    },
    {
      "cell_type": "code",
      "source": [
        "#shape mismatch\n",
        "a = np.arange(4)\n",
        "a + np.array([1, 2])   #shapes are different for both"
      ],
      "metadata": {
        "colab": {
          "base_uri": "https://localhost:8080/",
          "height": 210
        },
        "id": "HLg0sMDqSJw5",
        "outputId": "378487aa-5459-4fd4-d114-1b6ab27a32e8"
      },
      "execution_count": null,
      "outputs": [
        {
          "output_type": "error",
          "ename": "ValueError",
          "evalue": "operands could not be broadcast together with shapes (4,) (2,) ",
          "traceback": [
            "\u001b[0;31m---------------------------------------------------------------------------\u001b[0m",
            "\u001b[0;31mValueError\u001b[0m                                Traceback (most recent call last)",
            "\u001b[0;32m<ipython-input-8-10abc1ad401c>\u001b[0m in \u001b[0;36m<cell line: 3>\u001b[0;34m()\u001b[0m\n\u001b[1;32m      1\u001b[0m \u001b[0;31m#shape mismatch\u001b[0m\u001b[0;34m\u001b[0m\u001b[0;34m\u001b[0m\u001b[0m\n\u001b[1;32m      2\u001b[0m \u001b[0ma\u001b[0m \u001b[0;34m=\u001b[0m \u001b[0mnp\u001b[0m\u001b[0;34m.\u001b[0m\u001b[0marange\u001b[0m\u001b[0;34m(\u001b[0m\u001b[0;36m4\u001b[0m\u001b[0;34m)\u001b[0m\u001b[0;34m\u001b[0m\u001b[0;34m\u001b[0m\u001b[0m\n\u001b[0;32m----> 3\u001b[0;31m \u001b[0ma\u001b[0m \u001b[0;34m+\u001b[0m \u001b[0mnp\u001b[0m\u001b[0;34m.\u001b[0m\u001b[0marray\u001b[0m\u001b[0;34m(\u001b[0m\u001b[0;34m[\u001b[0m\u001b[0;36m1\u001b[0m\u001b[0;34m,\u001b[0m \u001b[0;36m2\u001b[0m\u001b[0;34m]\u001b[0m\u001b[0;34m)\u001b[0m\u001b[0;34m\u001b[0m\u001b[0;34m\u001b[0m\u001b[0m\n\u001b[0m",
            "\u001b[0;31mValueError\u001b[0m: operands could not be broadcast together with shapes (4,) (2,) "
          ]
        }
      ]
    },
    {
      "cell_type": "code",
      "source": [
        "#Basic reductions\n",
        "x = np.array([1, 2,3 ,4])\n",
        "np.sum(x)"
      ],
      "metadata": {
        "colab": {
          "base_uri": "https://localhost:8080/"
        },
        "id": "o939-RgOSVOB",
        "outputId": "8528cfff-dd55-40f6-dd50-89066f5092da"
      },
      "execution_count": null,
      "outputs": [
        {
          "output_type": "execute_result",
          "data": {
            "text/plain": [
              "10"
            ]
          },
          "metadata": {},
          "execution_count": 9
        }
      ]
    },
    {
      "cell_type": "code",
      "source": [
        "x = np.array([[1, 1], [2, 2]])\n",
        "x"
      ],
      "metadata": {
        "colab": {
          "base_uri": "https://localhost:8080/"
        },
        "id": "pCRcaXYaSWwf",
        "outputId": "153d8e75-40a1-460c-ad64-6e57b4963453"
      },
      "execution_count": null,
      "outputs": [
        {
          "output_type": "execute_result",
          "data": {
            "text/plain": [
              "array([[1, 1],\n",
              "       [2, 2]])"
            ]
          },
          "metadata": {},
          "execution_count": 10
        }
      ]
    },
    {
      "cell_type": "code",
      "source": [
        "x.sum(axis=0) #row wise sum"
      ],
      "metadata": {
        "colab": {
          "base_uri": "https://localhost:8080/"
        },
        "id": "SuxrhnvcSn2C",
        "outputId": "07819756-3bb6-4928-ad0c-ffe3919331c5"
      },
      "execution_count": null,
      "outputs": [
        {
          "output_type": "execute_result",
          "data": {
            "text/plain": [
              "array([3, 3])"
            ]
          },
          "metadata": {},
          "execution_count": 11
        }
      ]
    },
    {
      "cell_type": "code",
      "source": [
        "x.sum(axis = 1) #column wise sum"
      ],
      "metadata": {
        "colab": {
          "base_uri": "https://localhost:8080/"
        },
        "id": "oSIazANCSvU0",
        "outputId": "f501d53c-bb17-4f51-b9be-22faa76de858"
      },
      "execution_count": null,
      "outputs": [
        {
          "output_type": "execute_result",
          "data": {
            "text/plain": [
              "array([2, 4])"
            ]
          },
          "metadata": {},
          "execution_count": 12
        }
      ]
    },
    {
      "cell_type": "code",
      "source": [
        "x = np.array([1, 2, 3, 4])\n",
        "x.min()"
      ],
      "metadata": {
        "colab": {
          "base_uri": "https://localhost:8080/"
        },
        "id": "EwGurOyqSzD9",
        "outputId": "80b2b398-0aef-46bc-e7ac-60c69267a358"
      },
      "execution_count": null,
      "outputs": [
        {
          "output_type": "execute_result",
          "data": {
            "text/plain": [
              "1"
            ]
          },
          "metadata": {},
          "execution_count": 13
        }
      ]
    },
    {
      "cell_type": "code",
      "source": [
        "x.max()"
      ],
      "metadata": {
        "colab": {
          "base_uri": "https://localhost:8080/"
        },
        "id": "pJBU8PMxS35F",
        "outputId": "be99be85-68b9-4872-d40d-8840c85dc41a"
      },
      "execution_count": null,
      "outputs": [
        {
          "output_type": "execute_result",
          "data": {
            "text/plain": [
              "4"
            ]
          },
          "metadata": {},
          "execution_count": 14
        }
      ]
    },
    {
      "cell_type": "code",
      "source": [
        "x.argmin() #returns index"
      ],
      "metadata": {
        "colab": {
          "base_uri": "https://localhost:8080/"
        },
        "id": "tiCuj7UMS57A",
        "outputId": "5977c52b-c4c8-40c4-fd26-73535a901f16"
      },
      "execution_count": null,
      "outputs": [
        {
          "output_type": "execute_result",
          "data": {
            "text/plain": [
              "0"
            ]
          },
          "metadata": {},
          "execution_count": 15
        }
      ]
    },
    {
      "cell_type": "code",
      "source": [
        "x.argmax()   #returns index of max ele"
      ],
      "metadata": {
        "colab": {
          "base_uri": "https://localhost:8080/"
        },
        "id": "NqOFdfLRS9Hv",
        "outputId": "31942160-0cdf-465f-84fc-29b4d069d2fa"
      },
      "execution_count": null,
      "outputs": [
        {
          "output_type": "execute_result",
          "data": {
            "text/plain": [
              "3"
            ]
          },
          "metadata": {},
          "execution_count": 16
        }
      ]
    },
    {
      "cell_type": "code",
      "source": [
        "#Logical operation\n",
        "a = np.any([True, False, True])"
      ],
      "metadata": {
        "id": "umETVXuYTH5u"
      },
      "execution_count": null,
      "outputs": []
    },
    {
      "cell_type": "code",
      "source": [
        "a = np.zeros((50, 50))\n",
        "np.any(a!=0)"
      ],
      "metadata": {
        "colab": {
          "base_uri": "https://localhost:8080/"
        },
        "id": "fAIM2SaZTYyM",
        "outputId": "c30e80d3-f5f0-4573-f363-7fddfde307f0"
      },
      "execution_count": null,
      "outputs": [
        {
          "output_type": "execute_result",
          "data": {
            "text/plain": [
              "False"
            ]
          },
          "metadata": {},
          "execution_count": 19
        }
      ]
    },
    {
      "cell_type": "code",
      "source": [
        "np.all(a == a)"
      ],
      "metadata": {
        "colab": {
          "base_uri": "https://localhost:8080/"
        },
        "id": "JvrymNubTjgY",
        "outputId": "c4d190b2-cb54-4db6-a3a3-68bd11fdd3bb"
      },
      "execution_count": null,
      "outputs": [
        {
          "output_type": "execute_result",
          "data": {
            "text/plain": [
              "True"
            ]
          },
          "metadata": {},
          "execution_count": 20
        }
      ]
    },
    {
      "cell_type": "code",
      "source": [
        "a = np.array([1, 2, 3, 1])\n",
        "b = np.array([2, 2, 3, 2])\n",
        "c = np.array([6, 4, 4, 5])\n",
        "((a <= b) & (b <= c)).all()"
      ],
      "metadata": {
        "colab": {
          "base_uri": "https://localhost:8080/"
        },
        "id": "DBHbJ3UvTm1Y",
        "outputId": "8ab2c95f-873e-48c9-a873-00edf408a0c5"
      },
      "execution_count": null,
      "outputs": [
        {
          "output_type": "execute_result",
          "data": {
            "text/plain": [
              "True"
            ]
          },
          "metadata": {},
          "execution_count": 21
        }
      ]
    },
    {
      "cell_type": "code",
      "source": [
        "#statistics\n",
        "import numpy as np\n",
        "a = np.array([1, 2, 3, 1])\n",
        "y = np.array([[1, 2, 3], [4, 5, 6]])\n",
        "a.mean()"
      ],
      "metadata": {
        "colab": {
          "base_uri": "https://localhost:8080/"
        },
        "id": "3CDWcmnXT5dm",
        "outputId": "1cce9669-9230-49de-a57b-1b170667a3a0"
      },
      "execution_count": null,
      "outputs": [
        {
          "output_type": "execute_result",
          "data": {
            "text/plain": [
              "1.75"
            ]
          },
          "metadata": {},
          "execution_count": 3
        }
      ]
    },
    {
      "cell_type": "code",
      "source": [
        "np.median(a)\n"
      ],
      "metadata": {
        "colab": {
          "base_uri": "https://localhost:8080/"
        },
        "id": "BFBEx3K8kjui",
        "outputId": "b9aba3ac-8470-4b96-d408-5fa54f673c20"
      },
      "execution_count": null,
      "outputs": [
        {
          "output_type": "execute_result",
          "data": {
            "text/plain": [
              "1.5"
            ]
          },
          "metadata": {},
          "execution_count": 4
        }
      ]
    },
    {
      "cell_type": "code",
      "source": [
        "np.median(y, axis=1)"
      ],
      "metadata": {
        "colab": {
          "base_uri": "https://localhost:8080/"
        },
        "id": "hK4RJEw7kus3",
        "outputId": "e324bffa-32f1-404c-e109-0f350f023ec1"
      },
      "execution_count": null,
      "outputs": [
        {
          "output_type": "execute_result",
          "data": {
            "text/plain": [
              "array([2., 5.])"
            ]
          },
          "metadata": {},
          "execution_count": 6
        }
      ]
    },
    {
      "cell_type": "code",
      "source": [
        "a.std()"
      ],
      "metadata": {
        "colab": {
          "base_uri": "https://localhost:8080/"
        },
        "id": "-sLAw1Wwk26U",
        "outputId": "903207c8-5772-436a-d8f4-64e5aafa3d3b"
      },
      "execution_count": null,
      "outputs": [
        {
          "output_type": "execute_result",
          "data": {
            "text/plain": [
              "0.82915619758885"
            ]
          },
          "metadata": {},
          "execution_count": 7
        }
      ]
    },
    {
      "cell_type": "code",
      "source": [
        "#loadinf any file\n",
        "a = np.loadtxt('test.txt')\n",
        "a #returns list"
      ],
      "metadata": {
        "id": "l7AaT5c6k5Q4"
      },
      "execution_count": null,
      "outputs": []
    },
    {
      "cell_type": "code",
      "source": [
        "a[: 1 :] #take all the rows starting from index 1 (axis = 1, row wise)"
      ],
      "metadata": {
        "id": "K4wE_2ejlI8H"
      },
      "execution_count": null,
      "outputs": []
    },
    {
      "cell_type": "markdown",
      "source": [
        "Broadcasting\n",
        "\n",
        "Fitting the rows for operations like sum, difference in matrices of 2d array. This method cn transform a low d matrx to have extra rows for operations"
      ],
      "metadata": {
        "id": "QHH7dQvylwqn"
      }
    },
    {
      "cell_type": "code",
      "source": [
        "a = np.tile(np.arange(0, 40, 10), (3, 1)) #3 rows 1 time\n",
        "a"
      ],
      "metadata": {
        "colab": {
          "base_uri": "https://localhost:8080/"
        },
        "id": "gIKzMkY_mJxA",
        "outputId": "2546ec0d-8c33-4c5c-f25e-2fb1b5b19156"
      },
      "execution_count": null,
      "outputs": [
        {
          "output_type": "execute_result",
          "data": {
            "text/plain": [
              "array([[ 0, 10, 20, 30],\n",
              "       [ 0, 10, 20, 30],\n",
              "       [ 0, 10, 20, 30]])"
            ]
          },
          "metadata": {},
          "execution_count": 9
        }
      ]
    },
    {
      "cell_type": "code",
      "source": [
        "a = a.T\n",
        "a"
      ],
      "metadata": {
        "colab": {
          "base_uri": "https://localhost:8080/"
        },
        "id": "0VX7682GmWIV",
        "outputId": "8ff9980f-d5f4-49c1-ea5c-7088115bb5a5"
      },
      "execution_count": null,
      "outputs": [
        {
          "output_type": "execute_result",
          "data": {
            "text/plain": [
              "array([[ 0,  0,  0],\n",
              "       [10, 10, 10],\n",
              "       [20, 20, 20],\n",
              "       [30, 30, 30]])"
            ]
          },
          "metadata": {},
          "execution_count": 10
        }
      ]
    },
    {
      "cell_type": "code",
      "source": [
        "b = np.array([0, 1, 2])\n",
        "b"
      ],
      "metadata": {
        "colab": {
          "base_uri": "https://localhost:8080/"
        },
        "id": "lKgNwPNFmcKv",
        "outputId": "982a53cf-b090-4bdf-d5ad-e1660db0bd47"
      },
      "execution_count": null,
      "outputs": [
        {
          "output_type": "execute_result",
          "data": {
            "text/plain": [
              "array([0, 1, 2])"
            ]
          },
          "metadata": {},
          "execution_count": 11
        }
      ]
    },
    {
      "cell_type": "code",
      "source": [
        "#broadcasting\n",
        "a + b"
      ],
      "metadata": {
        "colab": {
          "base_uri": "https://localhost:8080/"
        },
        "id": "RczVT725mqPg",
        "outputId": "e3d75766-b751-4592-8e64-a93099781e44"
      },
      "execution_count": null,
      "outputs": [
        {
          "output_type": "execute_result",
          "data": {
            "text/plain": [
              "array([[ 0,  1,  2],\n",
              "       [10, 11, 12],\n",
              "       [20, 21, 22],\n",
              "       [30, 31, 32]])"
            ]
          },
          "metadata": {},
          "execution_count": 12
        }
      ]
    },
    {
      "cell_type": "code",
      "source": [
        "a = np.arange(0, 40, 10)\n",
        "a.shape"
      ],
      "metadata": {
        "colab": {
          "base_uri": "https://localhost:8080/"
        },
        "id": "cs8DeohTmwwX",
        "outputId": "171dfda3-e207-4cc0-e067-9c5259f373e6"
      },
      "execution_count": null,
      "outputs": [
        {
          "output_type": "execute_result",
          "data": {
            "text/plain": [
              "(4,)"
            ]
          },
          "metadata": {},
          "execution_count": 13
        }
      ]
    },
    {
      "cell_type": "code",
      "source": [
        "a = a[:, np.newaxis]\n",
        "a.shape"
      ],
      "metadata": {
        "colab": {
          "base_uri": "https://localhost:8080/"
        },
        "id": "_8rEG-aUm4Ce",
        "outputId": "6b6f8aa5-c578-4a97-9aa6-e73fc4e25900"
      },
      "execution_count": null,
      "outputs": [
        {
          "output_type": "execute_result",
          "data": {
            "text/plain": [
              "(4, 1)"
            ]
          },
          "metadata": {},
          "execution_count": 14
        }
      ]
    },
    {
      "cell_type": "code",
      "source": [
        "a"
      ],
      "metadata": {
        "colab": {
          "base_uri": "https://localhost:8080/"
        },
        "id": "lJCH9_XIm9w8",
        "outputId": "6728314b-0dbe-4d81-a095-1eb92d7de54a"
      },
      "execution_count": null,
      "outputs": [
        {
          "output_type": "execute_result",
          "data": {
            "text/plain": [
              "array([[ 0],\n",
              "       [10],\n",
              "       [20],\n",
              "       [30]])"
            ]
          },
          "metadata": {},
          "execution_count": 15
        }
      ]
    },
    {
      "cell_type": "code",
      "source": [
        "a.ndim #its shifted to 2d array"
      ],
      "metadata": {
        "colab": {
          "base_uri": "https://localhost:8080/"
        },
        "id": "OdhxutH0m_yU",
        "outputId": "4eb12e62-09ec-45d5-dd31-644cd0ca78ba"
      },
      "execution_count": null,
      "outputs": [
        {
          "output_type": "execute_result",
          "data": {
            "text/plain": [
              "2"
            ]
          },
          "metadata": {},
          "execution_count": 16
        }
      ]
    },
    {
      "cell_type": "code",
      "source": [
        "a = np.array([[1, 2, 3], [4, 5, 6]])\n",
        "a.ravel() #flattend to line"
      ],
      "metadata": {
        "colab": {
          "base_uri": "https://localhost:8080/"
        },
        "id": "4IzeCrtQnK4d",
        "outputId": "0c4164a1-9bab-48d9-fb33-8af3605e4951"
      },
      "execution_count": null,
      "outputs": [
        {
          "output_type": "execute_result",
          "data": {
            "text/plain": [
              "array([1, 2, 3, 4, 5, 6])"
            ]
          },
          "metadata": {},
          "execution_count": 17
        }
      ]
    },
    {
      "cell_type": "code",
      "source": [
        "a.T"
      ],
      "metadata": {
        "colab": {
          "base_uri": "https://localhost:8080/"
        },
        "id": "UTODSCannVXG",
        "outputId": "6286c690-9402-41f7-db2c-c91cbc331bed"
      },
      "execution_count": null,
      "outputs": [
        {
          "output_type": "execute_result",
          "data": {
            "text/plain": [
              "array([[1, 4],\n",
              "       [2, 5],\n",
              "       [3, 6]])"
            ]
          },
          "metadata": {},
          "execution_count": 18
        }
      ]
    },
    {
      "cell_type": "code",
      "source": [
        "a.T.ravel()"
      ],
      "metadata": {
        "colab": {
          "base_uri": "https://localhost:8080/"
        },
        "id": "8knELWBhnXLY",
        "outputId": "45d0ea94-4900-4e80-8bee-a0f51fe18e99"
      },
      "execution_count": null,
      "outputs": [
        {
          "output_type": "execute_result",
          "data": {
            "text/plain": [
              "array([1, 4, 2, 5, 3, 6])"
            ]
          },
          "metadata": {},
          "execution_count": 19
        }
      ]
    },
    {
      "cell_type": "code",
      "source": [
        "b = a.ravel()"
      ],
      "metadata": {
        "id": "8U8PJojcnZhr"
      },
      "execution_count": null,
      "outputs": []
    },
    {
      "cell_type": "code",
      "source": [
        "b = b.reshape((2, 3)) #flattened to reshape\n",
        "b"
      ],
      "metadata": {
        "colab": {
          "base_uri": "https://localhost:8080/"
        },
        "id": "NmfKEiORnbnY",
        "outputId": "4008b6b4-7d3d-46a9-f3e9-ace7407a539f"
      },
      "execution_count": null,
      "outputs": [
        {
          "output_type": "execute_result",
          "data": {
            "text/plain": [
              "array([[1, 2, 3],\n",
              "       [4, 5, 6]])"
            ]
          },
          "metadata": {},
          "execution_count": 22
        }
      ]
    },
    {
      "cell_type": "code",
      "source": [
        "b[0, 0] = 100\n",
        "a #its storing a and b in same location (since np stores in min, so a changes as well as b)"
      ],
      "metadata": {
        "colab": {
          "base_uri": "https://localhost:8080/"
        },
        "id": "7V-cCa4Rni0I",
        "outputId": "13f623c9-2cd2-4838-8589-12e5a2890b8f"
      },
      "execution_count": null,
      "outputs": [
        {
          "output_type": "execute_result",
          "data": {
            "text/plain": [
              "array([[100,   2,   3],\n",
              "       [  4,   5,   6]])"
            ]
          },
          "metadata": {},
          "execution_count": 23
        }
      ]
    },
    {
      "cell_type": "code",
      "source": [
        "a = np.zeros((3, 2))\n",
        "b = a.T.reshape(3*2)\n",
        "b[0] = 50\n",
        "print(b)\n",
        "print('**************************')\n",
        "print(a)"
      ],
      "metadata": {
        "colab": {
          "base_uri": "https://localhost:8080/"
        },
        "id": "CQbetjdJnsqn",
        "outputId": "793366b6-941a-4d6f-8d9d-ddc74135ef8a"
      },
      "execution_count": null,
      "outputs": [
        {
          "output_type": "stream",
          "name": "stdout",
          "text": [
            "[50.  0.  0.  0.  0.  0.]\n",
            "**************************\n",
            "[[0. 0.]\n",
            " [0. 0.]\n",
            " [0. 0.]]\n"
          ]
        }
      ]
    },
    {
      "cell_type": "code",
      "source": [
        "#Adding a dim\n",
        "a = np.array([1, 2, 3])\n",
        "a"
      ],
      "metadata": {
        "colab": {
          "base_uri": "https://localhost:8080/"
        },
        "id": "gU1df2bpoTEB",
        "outputId": "8546c9ed-8ce7-4582-8adc-f59737ba04c4"
      },
      "execution_count": null,
      "outputs": [
        {
          "output_type": "execute_result",
          "data": {
            "text/plain": [
              "array([1, 2, 3])"
            ]
          },
          "metadata": {},
          "execution_count": 26
        }
      ]
    },
    {
      "cell_type": "code",
      "source": [
        "b = np.arange(4*3*2).reshape(4, 3, 2) #4 matrices with 3*2\n",
        "b.shape"
      ],
      "metadata": {
        "colab": {
          "base_uri": "https://localhost:8080/"
        },
        "id": "RQeLHjKLoa-k",
        "outputId": "4deb1272-b719-4f9e-fbfe-8ea4daaab3bc"
      },
      "execution_count": null,
      "outputs": [
        {
          "output_type": "execute_result",
          "data": {
            "text/plain": [
              "(4, 3, 2)"
            ]
          },
          "metadata": {},
          "execution_count": 28
        }
      ]
    },
    {
      "cell_type": "code",
      "source": [
        "b"
      ],
      "metadata": {
        "colab": {
          "base_uri": "https://localhost:8080/"
        },
        "id": "2pgpTsKloz3d",
        "outputId": "8d2b858d-25ae-4bf4-bbcf-c115fb117fb8"
      },
      "execution_count": null,
      "outputs": [
        {
          "output_type": "execute_result",
          "data": {
            "text/plain": [
              "array([[[ 0,  1],\n",
              "        [ 2,  3],\n",
              "        [ 4,  5]],\n",
              "\n",
              "       [[ 6,  7],\n",
              "        [ 8,  9],\n",
              "        [10, 11]],\n",
              "\n",
              "       [[12, 13],\n",
              "        [14, 15],\n",
              "        [16, 17]],\n",
              "\n",
              "       [[18, 19],\n",
              "        [20, 21],\n",
              "        [22, 23]]])"
            ]
          },
          "metadata": {},
          "execution_count": 29
        }
      ]
    },
    {
      "cell_type": "code",
      "source": [
        "b[0, 2, 1]"
      ],
      "metadata": {
        "colab": {
          "base_uri": "https://localhost:8080/"
        },
        "id": "vGPHcevmo3PB",
        "outputId": "9a556488-a2f0-4137-8d66-c0c842536c34"
      },
      "execution_count": null,
      "outputs": [
        {
          "output_type": "execute_result",
          "data": {
            "text/plain": [
              "5"
            ]
          },
          "metadata": {},
          "execution_count": 30
        }
      ]
    },
    {
      "cell_type": "code",
      "source": [
        "b[1, 2, 1] = 119\n",
        "b"
      ],
      "metadata": {
        "colab": {
          "base_uri": "https://localhost:8080/"
        },
        "id": "Ht-vkWWzo9K6",
        "outputId": "c0067030-b42c-4e81-d448-1d6f99f5969e"
      },
      "execution_count": null,
      "outputs": [
        {
          "output_type": "execute_result",
          "data": {
            "text/plain": [
              "array([[[  0,   1],\n",
              "        [  2,   3],\n",
              "        [  4,   5]],\n",
              "\n",
              "       [[  6,   7],\n",
              "        [  8,   9],\n",
              "        [ 10, 119]],\n",
              "\n",
              "       [[ 12,  13],\n",
              "        [ 14,  15],\n",
              "        [ 16,  17]],\n",
              "\n",
              "       [[ 18,  19],\n",
              "        [ 20,  21],\n",
              "        [ 22,  23]]])"
            ]
          },
          "metadata": {},
          "execution_count": 31
        }
      ]
    },
    {
      "cell_type": "code",
      "source": [
        "a = np.arange(4)\n",
        "a.resize((8,))\n",
        "a"
      ],
      "metadata": {
        "colab": {
          "base_uri": "https://localhost:8080/"
        },
        "id": "qjOBVl13pBUE",
        "outputId": "9d088784-2c0a-4674-90b3-ec24c3e53115"
      },
      "execution_count": null,
      "outputs": [
        {
          "output_type": "execute_result",
          "data": {
            "text/plain": [
              "array([0, 1, 2, 3, 0, 0, 0, 0])"
            ]
          },
          "metadata": {},
          "execution_count": 32
        }
      ]
    },
    {
      "cell_type": "code",
      "source": [
        "b = a\n",
        "a.resize((4,))  #if we have 2 variables pointing to same location, we cannot resize any of it"
      ],
      "metadata": {
        "colab": {
          "base_uri": "https://localhost:8080/",
          "height": 227
        },
        "id": "b2Rev3XkpH91",
        "outputId": "e27eece6-3309-4d43-8a91-d9d8f8b59b8e"
      },
      "execution_count": null,
      "outputs": [
        {
          "output_type": "error",
          "ename": "ValueError",
          "evalue": "cannot resize an array that references or is referenced\nby another array in this way.\nUse the np.resize function or refcheck=False",
          "traceback": [
            "\u001b[0;31m---------------------------------------------------------------------------\u001b[0m",
            "\u001b[0;31mValueError\u001b[0m                                Traceback (most recent call last)",
            "\u001b[0;32m<ipython-input-33-665bd5cc7e2d>\u001b[0m in \u001b[0;36m<cell line: 2>\u001b[0;34m()\u001b[0m\n\u001b[1;32m      1\u001b[0m \u001b[0mb\u001b[0m \u001b[0;34m=\u001b[0m \u001b[0ma\u001b[0m\u001b[0;34m\u001b[0m\u001b[0;34m\u001b[0m\u001b[0m\n\u001b[0;32m----> 2\u001b[0;31m \u001b[0ma\u001b[0m\u001b[0;34m.\u001b[0m\u001b[0mresize\u001b[0m\u001b[0;34m(\u001b[0m\u001b[0;34m(\u001b[0m\u001b[0;36m4\u001b[0m\u001b[0;34m,\u001b[0m\u001b[0;34m)\u001b[0m\u001b[0;34m)\u001b[0m\u001b[0;34m\u001b[0m\u001b[0;34m\u001b[0m\u001b[0m\n\u001b[0m",
            "\u001b[0;31mValueError\u001b[0m: cannot resize an array that references or is referenced\nby another array in this way.\nUse the np.resize function or refcheck=False"
          ]
        }
      ]
    },
    {
      "cell_type": "code",
      "source": [
        "a = np.array([[5, 4, 3], [2, 3, 2]])\n",
        "b = np.sort(a, axis=1)\n",
        "b"
      ],
      "metadata": {
        "colab": {
          "base_uri": "https://localhost:8080/"
        },
        "id": "Xhph5DebpSc_",
        "outputId": "c43d0f0e-a4b3-4a23-826b-20634afc54af"
      },
      "execution_count": null,
      "outputs": [
        {
          "output_type": "execute_result",
          "data": {
            "text/plain": [
              "array([[3, 4, 5],\n",
              "       [2, 2, 3]])"
            ]
          },
          "metadata": {},
          "execution_count": 35
        }
      ]
    },
    {
      "cell_type": "code",
      "source": [
        "a.sort(axis=1)\n",
        "a"
      ],
      "metadata": {
        "colab": {
          "base_uri": "https://localhost:8080/"
        },
        "id": "83510kh7pgHV",
        "outputId": "4f37b2df-336e-4f22-c957-73b7f40c64aa"
      },
      "execution_count": null,
      "outputs": [
        {
          "output_type": "execute_result",
          "data": {
            "text/plain": [
              "array([[3, 4, 5],\n",
              "       [2, 2, 3]])"
            ]
          },
          "metadata": {},
          "execution_count": 37
        }
      ]
    },
    {
      "cell_type": "code",
      "source": [
        "a = np.array([4, 3, 2, 1])\n",
        "j = np.argsort(a)\n",
        "j   #the positions of indices after sorting 3, 2, 1, 0 represent index"
      ],
      "metadata": {
        "colab": {
          "base_uri": "https://localhost:8080/"
        },
        "id": "Vqe2WRzvpkg0",
        "outputId": "77a451c3-2ea6-406a-d378-170056a4b18f"
      },
      "execution_count": null,
      "outputs": [
        {
          "output_type": "execute_result",
          "data": {
            "text/plain": [
              "array([3, 2, 1, 0])"
            ]
          },
          "metadata": {},
          "execution_count": 39
        }
      ]
    },
    {
      "cell_type": "code",
      "source": [
        "a[j]"
      ],
      "metadata": {
        "id": "JDOxmCCbpyCf",
        "outputId": "26e9b273-e21e-4619-e958-7e819b0658c1",
        "colab": {
          "base_uri": "https://localhost:8080/"
        }
      },
      "execution_count": null,
      "outputs": [
        {
          "output_type": "execute_result",
          "data": {
            "text/plain": [
              "array([1, 2, 3, 4])"
            ]
          },
          "metadata": {},
          "execution_count": 40
        }
      ]
    },
    {
      "cell_type": "markdown",
      "source": [
        "#Matplotlib\n",
        "\n",
        "Matplotlibpyplot is a collection of command style functions that make Matplotlib work like MATLAB\n",
        "Each pyplot function makes some changes to a fgure"
      ],
      "metadata": {
        "id": "ypecwGdd5zwb"
      }
    },
    {
      "cell_type": "code",
      "source": [
        "import matplotlib.pyplot as plt"
      ],
      "metadata": {
        "id": "udvURJGx5zIL"
      },
      "execution_count": null,
      "outputs": []
    },
    {
      "cell_type": "code",
      "source": [
        "plt.plot([2, 4, 6, 4])\n",
        "plt.ylabel(\"numbers\")\n",
        "plt.xlabel('indices')  #if x are not mentioned then indices are plotted\n",
        "plt.title(\"My plot\")\n",
        "plt.show()"
      ],
      "metadata": {
        "colab": {
          "base_uri": "https://localhost:8080/",
          "height": 472
        },
        "id": "5jQ77T4_6ne5",
        "outputId": "b09bc249-ce03-4b24-be23-8165dc63aafb"
      },
      "execution_count": null,
      "outputs": [
        {
          "output_type": "display_data",
          "data": {
            "text/plain": [
              "<Figure size 640x480 with 1 Axes>"
            ],
            "image/png": "[encoded data removed]"
          },
          "metadata": {}
        }
      ]
    },
    {
      "cell_type": "code",
      "source": [
        "plt.plot([1, 2, 3, 4], [1, 4, 9, 16])\n",
        "plt.ylabel(\"sq\")\n",
        "plt.xlabel('num')\n",
        "plt.grid()\n",
        "plt.show()"
      ],
      "metadata": {
        "colab": {
          "base_uri": "https://localhost:8080/",
          "height": 449
        },
        "id": "PI1NR-DF7B81",
        "outputId": "5a2eb435-a5cf-47eb-efc8-ca7d0e2b1d17"
      },
      "execution_count": null,
      "outputs": [
        {
          "output_type": "display_data",
          "data": {
            "text/plain": [
              "<Figure size 640x480 with 1 Axes>"
            ],
            "image/png": "[encoded data removed]"
          },
          "metadata": {}
        }
      ]
    },
    {
      "cell_type": "code",
      "source": [
        "plt.plot([1, 2, 3, 4], [1, 4, 9, 16], 'ro')\n",
        "plt.grid()\n",
        "plt.show()"
      ],
      "metadata": {
        "colab": {
          "base_uri": "https://localhost:8080/",
          "height": 430
        },
        "id": "SFpIdlHK7o4N",
        "outputId": "9b4b46a6-701b-4bac-d63a-4f4c8209a60e"
      },
      "execution_count": null,
      "outputs": [
        {
          "output_type": "display_data",
          "data": {
            "text/plain": [
              "<Figure size 640x480 with 1 Axes>"
            ],
            "image/png": "[encoded data removed]"
          },
          "metadata": {}
        }
      ]
    },
    {
      "cell_type": "code",
      "source": [
        "import numpy as np\n",
        "t = np.arange(0, 5, 0.2)\n",
        "\n",
        "plt.plot(t, t**2, 'b--', label='^2') #lines\n",
        "plt.plot(t, t**2.2, 'rs', label='^2.2') #squres\n",
        "plt.plot(t, t**2.5, 'g^', label='^2.5') 3trainagles\n",
        "plt.grid()\n",
        "plt.legend()   #legend - scale/ understand the labels\n",
        "plt.show()"
      ],
      "metadata": {
        "colab": {
          "base_uri": "https://localhost:8080/",
          "height": 430
        },
        "id": "xiVIX5WO7zE4",
        "outputId": "d48804ac-61ce-438c-8901-b94a8b08dfb7"
      },
      "execution_count": null,
      "outputs": [
        {
          "output_type": "display_data",
          "data": {
            "text/plain": [
              "<Figure size 640x480 with 1 Axes>"
            ],
            "image/png": "[encoded data removed]"
          },
          "metadata": {}
        }
      ]
    },
    {
      "cell_type": "code",
      "source": [
        "x =[1, 2, 3, 4]\n",
        "y =[1, 4, 9, 16]\n",
        "plt.plot(x, y, linewidth=5.0)\n",
        "plt.legend()\n",
        "plt.show()"
      ],
      "metadata": {
        "colab": {
          "base_uri": "https://localhost:8080/",
          "height": 467
        },
        "id": "D8FIcZfx8jbZ",
        "outputId": "0bb1641c-99dc-4c43-abae-8d10f36d06aa"
      },
      "execution_count": null,
      "outputs": [
        {
          "output_type": "stream",
          "name": "stderr",
          "text": [
            "WARNING:matplotlib.legend:No artists with labels found to put in legend.  Note that artists whose label start with an underscore are ignored when legend() is called with no argument.\n"
          ]
        },
        {
          "output_type": "display_data",
          "data": {
            "text/plain": [
              "<Figure size 640x480 with 1 Axes>"
            ],
            "image/png": "[encoded data removed]"
          },
          "metadata": {}
        }
      ]
    },
    {
      "cell_type": "code",
      "source": [
        "x1 = [1,2, 3, 4]\n",
        "y1 = [1, 4, 9, 16]\n",
        "x2 = [1, 2, 3,4]\n",
        "y2 = [2, 4, 6, 8]\n",
        "lines = plt.plot(x1, y1, x2, y2)\n",
        "plt.setp(lines[0], color='r', linewidth=2.0)\n",
        "plt.setp(lines[1], 'color', 'g', 'linewidth', 2.0)\n",
        "plt.show()"
      ],
      "metadata": {
        "colab": {
          "base_uri": "https://localhost:8080/",
          "height": 430
        },
        "id": "68axJpWm8yCC",
        "outputId": "bc10314b-44ac-4b45-c71d-fc1aeb61dde7"
      },
      "execution_count": null,
      "outputs": [
        {
          "output_type": "display_data",
          "data": {
            "text/plain": [
              "<Figure size 640x480 with 1 Axes>"
            ],
            "image/png": "[encoded data removed]"
          },
          "metadata": {}
        }
      ]
    },
    {
      "cell_type": "code",
      "source": [
        "def f(t):\n",
        "  return np.exp(-t) * np.cos(2*np.pi*t)\n",
        "t1 = np.arange(0.0, 5.0, 1.0)\n",
        "t2 = np.arange(0, 5, 0.02)\n",
        "plt.figure(1)\n",
        "plt.subplot(211)\n",
        "plt.grid()\n",
        "plt.plot(t1, f(t1), 'b-')\n",
        "\n",
        "plt.subplot(212)   #2rows, 1 column and 2nd subplot\n",
        "plt.plot(t2, np.cos(2*np.pi*t2), 'r--')\n",
        "plt.show()"
      ],
      "metadata": {
        "colab": {
          "base_uri": "https://localhost:8080/",
          "height": 430
        },
        "id": "3mrv-N3K9jTu",
        "outputId": "aa8b6776-c363-4566-da47-b6d803b8cba6"
      },
      "execution_count": null,
      "outputs": [
        {
          "output_type": "display_data",
          "data": {
            "text/plain": [
              "<Figure size 640x480 with 2 Axes>"
            ],
            "image/png": "[encoded data removed]"
          },
          "metadata": {}
        }
      ]
    },
    {
      "cell_type": "code",
      "source": [
        "plt.figure(1)\n",
        "plt.subplot(211)\n",
        "plt.plot([1, 2, 3])\n",
        "plt.subplot(212)\n",
        "plt.plot([4, 5, 6])\n",
        "\n",
        "plt.figure(2)\n",
        "plt.plot([4, 5, 6])\n",
        "\n",
        "plt.figure(1)\n",
        "plt.subplot(211)\n",
        "plt.title(\"Easy as 1, 2, 3\")\n",
        "plt.show()"
      ],
      "metadata": {
        "colab": {
          "base_uri": "https://localhost:8080/",
          "height": 865
        },
        "id": "tlzZdrUz-gtp",
        "outputId": "0126b899-d71b-436b-bf36-0109079bd55a"
      },
      "execution_count": null,
      "outputs": [
        {
          "output_type": "display_data",
          "data": {
            "text/plain": [
              "<Figure size 640x480 with 1 Axes>"
            ],
            "image/png": "[encoded data removed]"
          },
          "metadata": {}
        },
        {
          "output_type": "display_data",
          "data": {
            "text/plain": [
              "<Figure size 640x480 with 2 Axes>"
            ],
            "image/png": "[encoded data removed]"
          },
          "metadata": {}
        }
      ]
    },
    {
      "cell_type": "markdown",
      "source": [
        "#Pandas\n",
        "\n",
        "module that makes data science easy and effective"
      ],
      "metadata": {
        "id": "Vp9vULfb_f45"
      }
    },
    {
      "cell_type": "code",
      "source": [
        "import pandas as pd\n",
        "df = pd.read_csv('/content/weatherHistory.csv')\n",
        "df"
      ],
      "metadata": {
        "colab": {
          "base_uri": "https://localhost:8080/",
          "height": 1000
        },
        "id": "REnBVaZY_fO6",
        "outputId": "9f6d9804-44b9-4556-aa56-bbeb6f0582e9"
      },
      "execution_count": null,
      "outputs": [
        {
          "output_type": "execute_result",
          "data": {
            "text/plain": [
              "                      Formatted Date        Summary Precip Type  \\\n",
              "0      2006-04-01 00:00:00.000 +0200  Partly Cloudy        rain   \n",
              "1      2006-04-01 01:00:00.000 +0200  Partly Cloudy        rain   \n",
              "2      2006-04-01 02:00:00.000 +0200  Mostly Cloudy        rain   \n",
              "3      2006-04-01 03:00:00.000 +0200  Partly Cloudy        rain   \n",
              "4      2006-04-01 04:00:00.000 +0200  Mostly Cloudy        rain   \n",
              "...                              ...            ...         ...   \n",
              "96448  2016-09-09 19:00:00.000 +0200  Partly Cloudy        rain   \n",
              "96449  2016-09-09 20:00:00.000 +0200  Partly Cloudy        rain   \n",
              "96450  2016-09-09 21:00:00.000 +0200  Partly Cloudy        rain   \n",
              "96451  2016-09-09 22:00:00.000 +0200  Partly Cloudy        rain   \n",
              "96452  2016-09-09 23:00:00.000 +0200  Partly Cloudy        rain   \n",
              "\n",
              "       Temperature (C)  Apparent Temperature (C)  Humidity  Wind Speed (km/h)  \\\n",
              "0             9.472222                  7.388889      0.89            14.1197   \n",
              "1             9.355556                  7.227778      0.86            14.2646   \n",
              "2             9.377778                  9.377778      0.89             3.9284   \n",
              "3             8.288889                  5.944444      0.83            14.1036   \n",
              "4             8.755556                  6.977778      0.83            11.0446   \n",
              "...                ...                       ...       ...                ...   \n",
              "96448        26.016667                 26.016667      0.43            10.9963   \n",
              "96449        24.583333                 24.583333      0.48            10.0947   \n",
              "96450        22.038889                 22.038889      0.56             8.9838   \n",
              "96451        21.522222                 21.522222      0.60            10.5294   \n",
              "96452        20.438889                 20.438889      0.61             5.8765   \n",
              "\n",
              "       Wind Bearing (degrees)  Visibility (km)  Loud Cover  \\\n",
              "0                       251.0          15.8263         0.0   \n",
              "1                       259.0          15.8263         0.0   \n",
              "2                       204.0          14.9569         0.0   \n",
              "3                       269.0          15.8263         0.0   \n",
              "4                       259.0          15.8263         0.0   \n",
              "...                       ...              ...         ...   \n",
              "96448                    31.0          16.1000         0.0   \n",
              "96449                    20.0          15.5526         0.0   \n",
              "96450                    30.0          16.1000         0.0   \n",
              "96451                    20.0          16.1000         0.0   \n",
              "96452                    39.0          15.5204         0.0   \n",
              "\n",
              "       Pressure (millibars)                           Daily Summary  \n",
              "0                   1015.13       Partly cloudy throughout the day.  \n",
              "1                   1015.63       Partly cloudy throughout the day.  \n",
              "2                   1015.94       Partly cloudy throughout the day.  \n",
              "3                   1016.41       Partly cloudy throughout the day.  \n",
              "4                   1016.51       Partly cloudy throughout the day.  \n",
              "...                     ...                                     ...  \n",
              "96448               1014.36  Partly cloudy starting in the morning.  \n",
              "96449               1015.16  Partly cloudy starting in the morning.  \n",
              "96450               1015.66  Partly cloudy starting in the morning.  \n",
              "96451               1015.95  Partly cloudy starting in the morning.  \n",
              "96452               1016.16  Partly cloudy starting in the morning.  \n",
              "\n",
              "[96453 rows x 12 columns]"
            ],
            "text/html": [
              "\n",
              "  <div id=\"df-4bad7c31-6d34-426e-828a-9f621ad2a10e\" class=\"colab-df-container\">\n",
              "    <div>\n",
              "<style scoped>\n",
              "    .dataframe tbody tr th:only-of-type {\n",
              "        vertical-align: middle;\n",
              "    }\n",
              "\n",
              "    .dataframe tbody tr th {\n",
              "        vertical-align: top;\n",
              "    }\n",
              "\n",
              "    .dataframe thead th {\n",
              "        text-align: right;\n",
              "    }\n",
              "</style>\n",
              "<table border=\"1\" class=\"dataframe\">\n",
              "  <thead>\n",
              "    <tr style=\"text-align: right;\">\n",
              "      <th></th>\n",
              "      <th>Formatted Date</th>\n",
              "      <th>Summary</th>\n",
              "      <th>Precip Type</th>\n",
              "      <th>Temperature (C)</th>\n",
              "      <th>Apparent Temperature (C)</th>\n",
              "      <th>Humidity</th>\n",
              "      <th>Wind Speed (km/h)</th>\n",
              "      <th>Wind Bearing (degrees)</th>\n",
              "      <th>Visibility (km)</th>\n",
              "      <th>Loud Cover</th>\n",
              "      <th>Pressure (millibars)</th>\n",
              "      <th>Daily Summary</th>\n",
              "    </tr>\n",
              "  </thead>\n",
              "  <tbody>\n",
              "    <tr>\n",
              "      <th>0</th>\n",
              "      <td>2006-04-01 00:00:00.000 +0200</td>\n",
              "      <td>Partly Cloudy</td>\n",
              "      <td>rain</td>\n",
              "      <td>9.472222</td>\n",
              "      <td>7.388889</td>\n",
              "      <td>0.89</td>\n",
              "      <td>14.1197</td>\n",
              "      <td>251.0</td>\n",
              "      <td>15.8263</td>\n",
              "      <td>0.0</td>\n",
              "      <td>1015.13</td>\n",
              "      <td>Partly cloudy throughout the day.</td>\n",
              "    </tr>\n",
              "    <tr>\n",
              "      <th>1</th>\n",
              "      <td>2006-04-01 01:00:00.000 +0200</td>\n",
              "      <td>Partly Cloudy</td>\n",
              "      <td>rain</td>\n",
              "      <td>9.355556</td>\n",
              "      <td>7.227778</td>\n",
              "      <td>0.86</td>\n",
              "      <td>14.2646</td>\n",
              "      <td>259.0</td>\n",
              "      <td>15.8263</td>\n",
              "      <td>0.0</td>\n",
              "      <td>1015.63</td>\n",
              "      <td>Partly cloudy throughout the day.</td>\n",
              "    </tr>\n",
              "    <tr>\n",
              "      <th>2</th>\n",
              "      <td>2006-04-01 02:00:00.000 +0200</td>\n",
              "      <td>Mostly Cloudy</td>\n",
              "      <td>rain</td>\n",
              "      <td>9.377778</td>\n",
              "      <td>9.377778</td>\n",
              "      <td>0.89</td>\n",
              "      <td>3.9284</td>\n",
              "      <td>204.0</td>\n",
              "      <td>14.9569</td>\n",
              "      <td>0.0</td>\n",
              "      <td>1015.94</td>\n",
              "      <td>Partly cloudy throughout the day.</td>\n",
              "    </tr>\n",
              "    <tr>\n",
              "      <th>3</th>\n",
              "      <td>2006-04-01 03:00:00.000 +0200</td>\n",
              "      <td>Partly Cloudy</td>\n",
              "      <td>rain</td>\n",
              "      <td>8.288889</td>\n",
              "      <td>5.944444</td>\n",
              "      <td>0.83</td>\n",
              "      <td>14.1036</td>\n",
              "      <td>269.0</td>\n",
              "      <td>15.8263</td>\n",
              "      <td>0.0</td>\n",
              "      <td>1016.41</td>\n",
              "      <td>Partly cloudy throughout the day.</td>\n",
              "    </tr>\n",
              "    <tr>\n",
              "      <th>4</th>\n",
              "      <td>2006-04-01 04:00:00.000 +0200</td>\n",
              "      <td>Mostly Cloudy</td>\n",
              "      <td>rain</td>\n",
              "      <td>8.755556</td>\n",
              "      <td>6.977778</td>\n",
              "      <td>0.83</td>\n",
              "      <td>11.0446</td>\n",
              "      <td>259.0</td>\n",
              "      <td>15.8263</td>\n",
              "      <td>0.0</td>\n",
              "      <td>1016.51</td>\n",
              "      <td>Partly cloudy throughout the day.</td>\n",
              "    </tr>\n",
              "    <tr>\n",
              "      <th>...</th>\n",
              "      <td>...</td>\n",
              "      <td>...</td>\n",
              "      <td>...</td>\n",
              "      <td>...</td>\n",
              "      <td>...</td>\n",
              "      <td>...</td>\n",
              "      <td>...</td>\n",
              "      <td>...</td>\n",
              "      <td>...</td>\n",
              "      <td>...</td>\n",
              "      <td>...</td>\n",
              "      <td>...</td>\n",
              "    </tr>\n",
              "    <tr>\n",
              "      <th>96448</th>\n",
              "      <td>2016-09-09 19:00:00.000 +0200</td>\n",
              "      <td>Partly Cloudy</td>\n",
              "      <td>rain</td>\n",
              "      <td>26.016667</td>\n",
              "      <td>26.016667</td>\n",
              "      <td>0.43</td>\n",
              "      <td>10.9963</td>\n",
              "      <td>31.0</td>\n",
              "      <td>16.1000</td>\n",
              "      <td>0.0</td>\n",
              "      <td>1014.36</td>\n",
              "      <td>Partly cloudy starting in the morning.</td>\n",
              "    </tr>\n",
              "    <tr>\n",
              "      <th>96449</th>\n",
              "      <td>2016-09-09 20:00:00.000 +0200</td>\n",
              "      <td>Partly Cloudy</td>\n",
              "      <td>rain</td>\n",
              "      <td>24.583333</td>\n",
              "      <td>24.583333</td>\n",
              "      <td>0.48</td>\n",
              "      <td>10.0947</td>\n",
              "      <td>20.0</td>\n",
              "      <td>15.5526</td>\n",
              "      <td>0.0</td>\n",
              "      <td>1015.16</td>\n",
              "      <td>Partly cloudy starting in the morning.</td>\n",
              "    </tr>\n",
              "    <tr>\n",
              "      <th>96450</th>\n",
              "      <td>2016-09-09 21:00:00.000 +0200</td>\n",
              "      <td>Partly Cloudy</td>\n",
              "      <td>rain</td>\n",
              "      <td>22.038889</td>\n",
              "      <td>22.038889</td>\n",
              "      <td>0.56</td>\n",
              "      <td>8.9838</td>\n",
              "      <td>30.0</td>\n",
              "      <td>16.1000</td>\n",
              "      <td>0.0</td>\n",
              "      <td>1015.66</td>\n",
              "      <td>Partly cloudy starting in the morning.</td>\n",
              "    </tr>\n",
              "    <tr>\n",
              "      <th>96451</th>\n",
              "      <td>2016-09-09 22:00:00.000 +0200</td>\n",
              "      <td>Partly Cloudy</td>\n",
              "      <td>rain</td>\n",
              "      <td>21.522222</td>\n",
              "      <td>21.522222</td>\n",
              "      <td>0.60</td>\n",
              "      <td>10.5294</td>\n",
              "      <td>20.0</td>\n",
              "      <td>16.1000</td>\n",
              "      <td>0.0</td>\n",
              "      <td>1015.95</td>\n",
              "      <td>Partly cloudy starting in the morning.</td>\n",
              "    </tr>\n",
              "    <tr>\n",
              "      <th>96452</th>\n",
              "      <td>2016-09-09 23:00:00.000 +0200</td>\n",
              "      <td>Partly Cloudy</td>\n",
              "      <td>rain</td>\n",
              "      <td>20.438889</td>\n",
              "      <td>20.438889</td>\n",
              "      <td>0.61</td>\n",
              "      <td>5.8765</td>\n",
              "      <td>39.0</td>\n",
              "      <td>15.5204</td>\n",
              "      <td>0.0</td>\n",
              "      <td>1016.16</td>\n",
              "      <td>Partly cloudy starting in the morning.</td>\n",
              "    </tr>\n",
              "  </tbody>\n",
              "</table>\n",
              "<p>96453 rows × 12 columns</p>\n",
              "</div>\n",
              "    <div class=\"colab-df-buttons\">\n",
              "\n",
              "  <div class=\"colab-df-container\">\n",
              "    <button class=\"colab-df-convert\" onclick=\"convertToInteractive('df-4bad7c31-6d34-426e-828a-9f621ad2a10e')\"\n",
              "            title=\"Convert this dataframe to an interactive table.\"\n",
              "            style=\"display:none;\">\n",
              "\n",
              "  <svg xmlns=\"http://www.w3.org/2000/svg\" height=\"24px\" viewBox=\"0 -960 960 960\">\n",
              "    <path d=\"M120-120v-720h720v720H120Zm60-500h600v-160H180v160Zm220 220h160v-160H400v160Zm0 220h160v-160H400v160ZM180-400h160v-160H180v160Zm440 0h160v-160H620v160ZM180-180h160v-160H180v160Zm440 0h160v-160H620v160Z\"/>\n",
              "  </svg>\n",
              "    </button>\n",
              "\n",
              "  <style>\n",
              "    .colab-df-container {\n",
              "      display:flex;\n",
              "      gap: 12px;\n",
              "    }\n",
              "\n",
              "    .colab-df-convert {\n",
              "      background-color: #E8F0FE;\n",
              "      border: none;\n",
              "      border-radius: 50%;\n",
              "      cursor: pointer;\n",
              "      display: none;\n",
              "      fill: #1967D2;\n",
              "      height: 32px;\n",
              "      padding: 0 0 0 0;\n",
              "      width: 32px;\n",
              "    }\n",
              "\n",
              "    .colab-df-convert:hover {\n",
              "      background-color: #E2EBFA;\n",
              "      box-shadow: 0px 1px 2px rgba(60, 64, 67, 0.3), 0px 1px 3px 1px rgba(60, 64, 67, 0.15);\n",
              "      fill: #174EA6;\n",
              "    }\n",
              "\n",
              "    .colab-df-buttons div {\n",
              "      margin-bottom: 4px;\n",
              "    }\n",
              "\n",
              "    [theme=dark] .colab-df-convert {\n",
              "      background-color: #3B4455;\n",
              "      fill: #D2E3FC;\n",
              "    }\n",
              "\n",
              "    [theme=dark] .colab-df-convert:hover {\n",
              "      background-color: #434B5C;\n",
              "      box-shadow: 0px 1px 3px 1px rgba(0, 0, 0, 0.15);\n",
              "      filter: drop-shadow(0px 1px 2px rgba(0, 0, 0, 0.3));\n",
              "      fill: #FFFFFF;\n",
              "    }\n",
              "  </style>\n",
              "\n",
              "    <script>\n",
              "      const buttonEl =\n",
              "        document.querySelector('#df-4bad7c31-6d34-426e-828a-9f621ad2a10e button.colab-df-convert');\n",
              "      buttonEl.style.display =\n",
              "        google.colab.kernel.accessAllowed ? 'block' : 'none';\n",
              "\n",
              "      async function convertToInteractive(key) {\n",
              "        const element = document.querySelector('#df-4bad7c31-6d34-426e-828a-9f621ad2a10e');\n",
              "        const dataTable =\n",
              "          await google.colab.kernel.invokeFunction('convertToInteractive',\n",
              "                                                    [key], {});\n",
              "        if (!dataTable) return;\n",
              "\n",
              "        const docLinkHtml = 'Like what you see? Visit the ' +\n",
              "          '<a target=\"_blank\" href=https://colab.research.google.com/notebooks/data_table.ipynb>data table notebook</a>'\n",
              "          + ' to learn more about interactive tables.';\n",
              "        element.innerHTML = '';\n",
              "        dataTable['output_type'] = 'display_data';\n",
              "        await google.colab.output.renderOutput(dataTable, element);\n",
              "        const docLink = document.createElement('div');\n",
              "        docLink.innerHTML = docLinkHtml;\n",
              "        element.appendChild(docLink);\n",
              "      }\n",
              "    </script>\n",
              "  </div>\n",
              "\n",
              "\n",
              "<div id=\"df-23afdf8b-07ee-4f43-a57f-472c42c3bb87\">\n",
              "  <button class=\"colab-df-quickchart\" onclick=\"quickchart('df-23afdf8b-07ee-4f43-a57f-472c42c3bb87')\"\n",
              "            title=\"Suggest charts\"\n",
              "            style=\"display:none;\">\n",
              "\n",
              "<svg xmlns=\"http://www.w3.org/2000/svg\" height=\"24px\"viewBox=\"0 0 24 24\"\n",
              "     width=\"24px\">\n",
              "    <g>\n",
              "        <path d=\"M19 3H5c-1.1 0-2 .9-2 2v14c0 1.1.9 2 2 2h14c1.1 0 2-.9 2-2V5c0-1.1-.9-2-2-2zM9 17H7v-7h2v7zm4 0h-2V7h2v10zm4 0h-2v-4h2v4z\"/>\n",
              "    </g>\n",
              "</svg>\n",
              "  </button>\n",
              "\n",
              "<style>\n",
              "  .colab-df-quickchart {\n",
              "      --bg-color: #E8F0FE;\n",
              "      --fill-color: #1967D2;\n",
              "      --hover-bg-color: #E2EBFA;\n",
              "      --hover-fill-color: #174EA6;\n",
              "      --disabled-fill-color: #AAA;\n",
              "      --disabled-bg-color: #DDD;\n",
              "  }\n",
              "\n",
              "  [theme=dark] .colab-df-quickchart {\n",
              "      --bg-color: #3B4455;\n",
              "      --fill-color: #D2E3FC;\n",
              "      --hover-bg-color: #434B5C;\n",
              "      --hover-fill-color: #FFFFFF;\n",
              "      --disabled-bg-color: #3B4455;\n",
              "      --disabled-fill-color: #666;\n",
              "  }\n",
              "\n",
              "  .colab-df-quickchart {\n",
              "    background-color: var(--bg-color);\n",
              "    border: none;\n",
              "    border-radius: 50%;\n",
              "    cursor: pointer;\n",
              "    display: none;\n",
              "    fill: var(--fill-color);\n",
              "    height: 32px;\n",
              "    padding: 0;\n",
              "    width: 32px;\n",
              "  }\n",
              "\n",
              "  .colab-df-quickchart:hover {\n",
              "    background-color: var(--hover-bg-color);\n",
              "    box-shadow: 0 1px 2px rgba(60, 64, 67, 0.3), 0 1px 3px 1px rgba(60, 64, 67, 0.15);\n",
              "    fill: var(--button-hover-fill-color);\n",
              "  }\n",
              "\n",
              "  .colab-df-quickchart-complete:disabled,\n",
              "  .colab-df-quickchart-complete:disabled:hover {\n",
              "    background-color: var(--disabled-bg-color);\n",
              "    fill: var(--disabled-fill-color);\n",
              "    box-shadow: none;\n",
              "  }\n",
              "\n",
              "  .colab-df-spinner {\n",
              "    border: 2px solid var(--fill-color);\n",
              "    border-color: transparent;\n",
              "    border-bottom-color: var(--fill-color);\n",
              "    animation:\n",
              "      spin 1s steps(1) infinite;\n",
              "  }\n",
              "\n",
              "  @keyframes spin {\n",
              "    0% {\n",
              "      border-color: transparent;\n",
              "      border-bottom-color: var(--fill-color);\n",
              "      border-left-color: var(--fill-color);\n",
              "    }\n",
              "    20% {\n",
              "      border-color: transparent;\n",
              "      border-left-color: var(--fill-color);\n",
              "      border-top-color: var(--fill-color);\n",
              "    }\n",
              "    30% {\n",
              "      border-color: transparent;\n",
              "      border-left-color: var(--fill-color);\n",
              "      border-top-color: var(--fill-color);\n",
              "      border-right-color: var(--fill-color);\n",
              "    }\n",
              "    40% {\n",
              "      border-color: transparent;\n",
              "      border-right-color: var(--fill-color);\n",
              "      border-top-color: var(--fill-color);\n",
              "    }\n",
              "    60% {\n",
              "      border-color: transparent;\n",
              "      border-right-color: var(--fill-color);\n",
              "    }\n",
              "    80% {\n",
              "      border-color: transparent;\n",
              "      border-right-color: var(--fill-color);\n",
              "      border-bottom-color: var(--fill-color);\n",
              "    }\n",
              "    90% {\n",
              "      border-color: transparent;\n",
              "      border-bottom-color: var(--fill-color);\n",
              "    }\n",
              "  }\n",
              "</style>\n",
              "\n",
              "  <script>\n",
              "    async function quickchart(key) {\n",
              "      const quickchartButtonEl =\n",
              "        document.querySelector('#' + key + ' button');\n",
              "      quickchartButtonEl.disabled = true;  // To prevent multiple clicks.\n",
              "      quickchartButtonEl.classList.add('colab-df-spinner');\n",
              "      try {\n",
              "        const charts = await google.colab.kernel.invokeFunction(\n",
              "            'suggestCharts', [key], {});\n",
              "      } catch (error) {\n",
              "        console.error('Error during call to suggestCharts:', error);\n",
              "      }\n",
              "      quickchartButtonEl.classList.remove('colab-df-spinner');\n",
              "      quickchartButtonEl.classList.add('colab-df-quickchart-complete');\n",
              "    }\n",
              "    (() => {\n",
              "      let quickchartButtonEl =\n",
              "        document.querySelector('#df-23afdf8b-07ee-4f43-a57f-472c42c3bb87 button');\n",
              "      quickchartButtonEl.style.display =\n",
              "        google.colab.kernel.accessAllowed ? 'block' : 'none';\n",
              "    })();\n",
              "  </script>\n",
              "</div>\n",
              "\n",
              "  <div id=\"id_99efaa51-8472-4dc1-8c57-99a536810435\">\n",
              "    <style>\n",
              "      .colab-df-generate {\n",
              "        background-color: #E8F0FE;\n",
              "        border: none;\n",
              "        border-radius: 50%;\n",
              "        cursor: pointer;\n",
              "        display: none;\n",
              "        fill: #1967D2;\n",
              "        height: 32px;\n",
              "        padding: 0 0 0 0;\n",
              "        width: 32px;\n",
              "      }\n",
              "\n",
              "      .colab-df-generate:hover {\n",
              "        background-color: #E2EBFA;\n",
              "        box-shadow: 0px 1px 2px rgba(60, 64, 67, 0.3), 0px 1px 3px 1px rgba(60, 64, 67, 0.15);\n",
              "        fill: #174EA6;\n",
              "      }\n",
              "\n",
              "      [theme=dark] .colab-df-generate {\n",
              "        background-color: #3B4455;\n",
              "        fill: #D2E3FC;\n",
              "      }\n",
              "\n",
              "      [theme=dark] .colab-df-generate:hover {\n",
              "        background-color: #434B5C;\n",
              "        box-shadow: 0px 1px 3px 1px rgba(0, 0, 0, 0.15);\n",
              "        filter: drop-shadow(0px 1px 2px rgba(0, 0, 0, 0.3));\n",
              "        fill: #FFFFFF;\n",
              "      }\n",
              "    </style>\n",
              "    <button class=\"colab-df-generate\" onclick=\"generateWithVariable('df')\"\n",
              "            title=\"Generate code using this dataframe.\"\n",
              "            style=\"display:none;\">\n",
              "\n",
              "  <svg xmlns=\"http://www.w3.org/2000/svg\" height=\"24px\"viewBox=\"0 0 24 24\"\n",
              "       width=\"24px\">\n",
              "    <path d=\"M7,19H8.4L18.45,9,17,7.55,7,17.6ZM5,21V16.75L18.45,3.32a2,2,0,0,1,2.83,0l1.4,1.43a1.91,1.91,0,0,1,.58,1.4,1.91,1.91,0,0,1-.58,1.4L9.25,21ZM18.45,9,17,7.55Zm-12,3A5.31,5.31,0,0,0,4.9,8.1,5.31,5.31,0,0,0,1,6.5,5.31,5.31,0,0,0,4.9,4.9,5.31,5.31,0,0,0,6.5,1,5.31,5.31,0,0,0,8.1,4.9,5.31,5.31,0,0,0,12,6.5,5.46,5.46,0,0,0,6.5,12Z\"/>\n",
              "  </svg>\n",
              "    </button>\n",
              "    <script>\n",
              "      (() => {\n",
              "      const buttonEl =\n",
              "        document.querySelector('#id_99efaa51-8472-4dc1-8c57-99a536810435 button.colab-df-generate');\n",
              "      buttonEl.style.display =\n",
              "        google.colab.kernel.accessAllowed ? 'block' : 'none';\n",
              "\n",
              "      buttonEl.onclick = () => {\n",
              "        google.colab.notebook.generateWithVariable('df');\n",
              "      }\n",
              "      })();\n",
              "    </script>\n",
              "  </div>\n",
              "\n",
              "    </div>\n",
              "  </div>\n"
            ]
          },
          "metadata": {},
          "execution_count": 24
        }
      ]
    },
    {
      "cell_type": "code",
      "source": [
        "df['Temperature (C)'].max()"
      ],
      "metadata": {
        "colab": {
          "base_uri": "https://localhost:8080/"
        },
        "id": "HNPrZZIsBWhF",
        "outputId": "ebb0c32a-d5dc-4052-e389-17ee187fe3df"
      },
      "execution_count": null,
      "outputs": [
        {
          "output_type": "execute_result",
          "data": {
            "text/plain": [
              "39.90555555555555"
            ]
          },
          "metadata": {},
          "execution_count": 19
        }
      ]
    },
    {
      "cell_type": "code",
      "source": [
        "df['Formatted Date'][ df['Precip Type'] == 'rain']"
      ],
      "metadata": {
        "colab": {
          "base_uri": "https://localhost:8080/"
        },
        "id": "njto30k3Bg67",
        "outputId": "d11a66e0-fedf-48a0-9df0-7afcce9289c7"
      },
      "execution_count": null,
      "outputs": [
        {
          "output_type": "execute_result",
          "data": {
            "text/plain": [
              "0        2006-04-01 00:00:00.000 +0200\n",
              "1        2006-04-01 01:00:00.000 +0200\n",
              "2        2006-04-01 02:00:00.000 +0200\n",
              "3        2006-04-01 03:00:00.000 +0200\n",
              "4        2006-04-01 04:00:00.000 +0200\n",
              "                     ...              \n",
              "96448    2016-09-09 19:00:00.000 +0200\n",
              "96449    2016-09-09 20:00:00.000 +0200\n",
              "96450    2016-09-09 21:00:00.000 +0200\n",
              "96451    2016-09-09 22:00:00.000 +0200\n",
              "96452    2016-09-09 23:00:00.000 +0200\n",
              "Name: Formatted Date, Length: 85224, dtype: object"
            ]
          },
          "metadata": {},
          "execution_count": 22
        }
      ]
    },
    {
      "cell_type": "code",
      "source": [
        "df['Wind Speed (km/h)'].mean()"
      ],
      "metadata": {
        "colab": {
          "base_uri": "https://localhost:8080/"
        },
        "id": "8HVMifRiB8We",
        "outputId": "e28d1564-2f03-4246-e0d2-218467dbc73f"
      },
      "execution_count": null,
      "outputs": [
        {
          "output_type": "execute_result",
          "data": {
            "text/plain": [
              "10.810640140793963"
            ]
          },
          "metadata": {},
          "execution_count": 25
        }
      ]
    },
    {
      "cell_type": "code",
      "source": [
        "df[2:5]"
      ],
      "metadata": {
        "colab": {
          "base_uri": "https://localhost:8080/",
          "height": 354
        },
        "id": "f4SuJcTXHMIz",
        "outputId": "509f12ab-4701-4acd-8b37-0a4c8cb89520"
      },
      "execution_count": null,
      "outputs": [
        {
          "output_type": "execute_result",
          "data": {
            "text/plain": [
              "                  Formatted Date        Summary Precip Type  Temperature (C)  \\\n",
              "2  2006-04-01 02:00:00.000 +0200  Mostly Cloudy        rain         9.377778   \n",
              "3  2006-04-01 03:00:00.000 +0200  Partly Cloudy        rain         8.288889   \n",
              "4  2006-04-01 04:00:00.000 +0200  Mostly Cloudy        rain         8.755556   \n",
              "\n",
              "   Apparent Temperature (C)  Humidity  Wind Speed (km/h)  \\\n",
              "2                  9.377778      0.89             3.9284   \n",
              "3                  5.944444      0.83            14.1036   \n",
              "4                  6.977778      0.83            11.0446   \n",
              "\n",
              "   Wind Bearing (degrees)  Visibility (km)  Loud Cover  Pressure (millibars)  \\\n",
              "2                   204.0          14.9569         0.0               1015.94   \n",
              "3                   269.0          15.8263         0.0               1016.41   \n",
              "4                   259.0          15.8263         0.0               1016.51   \n",
              "\n",
              "                       Daily Summary  \n",
              "2  Partly cloudy throughout the day.  \n",
              "3  Partly cloudy throughout the day.  \n",
              "4  Partly cloudy throughout the day.  "
            ],
            "text/html": [
              "\n",
              "  <div id=\"df-bb14e096-117e-4899-8a47-9b2eff38521f\" class=\"colab-df-container\">\n",
              "    <div>\n",
              "<style scoped>\n",
              "    .dataframe tbody tr th:only-of-type {\n",
              "        vertical-align: middle;\n",
              "    }\n",
              "\n",
              "    .dataframe tbody tr th {\n",
              "        vertical-align: top;\n",
              "    }\n",
              "\n",
              "    .dataframe thead th {\n",
              "        text-align: right;\n",
              "    }\n",
              "</style>\n",
              "<table border=\"1\" class=\"dataframe\">\n",
              "  <thead>\n",
              "    <tr style=\"text-align: right;\">\n",
              "      <th></th>\n",
              "      <th>Formatted Date</th>\n",
              "      <th>Summary</th>\n",
              "      <th>Precip Type</th>\n",
              "      <th>Temperature (C)</th>\n",
              "      <th>Apparent Temperature (C)</th>\n",
              "      <th>Humidity</th>\n",
              "      <th>Wind Speed (km/h)</th>\n",
              "      <th>Wind Bearing (degrees)</th>\n",
              "      <th>Visibility (km)</th>\n",
              "      <th>Loud Cover</th>\n",
              "      <th>Pressure (millibars)</th>\n",
              "      <th>Daily Summary</th>\n",
              "    </tr>\n",
              "  </thead>\n",
              "  <tbody>\n",
              "    <tr>\n",
              "      <th>2</th>\n",
              "      <td>2006-04-01 02:00:00.000 +0200</td>\n",
              "      <td>Mostly Cloudy</td>\n",
              "      <td>rain</td>\n",
              "      <td>9.377778</td>\n",
              "      <td>9.377778</td>\n",
              "      <td>0.89</td>\n",
              "      <td>3.9284</td>\n",
              "      <td>204.0</td>\n",
              "      <td>14.9569</td>\n",
              "      <td>0.0</td>\n",
              "      <td>1015.94</td>\n",
              "      <td>Partly cloudy throughout the day.</td>\n",
              "    </tr>\n",
              "    <tr>\n",
              "      <th>3</th>\n",
              "      <td>2006-04-01 03:00:00.000 +0200</td>\n",
              "      <td>Partly Cloudy</td>\n",
              "      <td>rain</td>\n",
              "      <td>8.288889</td>\n",
              "      <td>5.944444</td>\n",
              "      <td>0.83</td>\n",
              "      <td>14.1036</td>\n",
              "      <td>269.0</td>\n",
              "      <td>15.8263</td>\n",
              "      <td>0.0</td>\n",
              "      <td>1016.41</td>\n",
              "      <td>Partly cloudy throughout the day.</td>\n",
              "    </tr>\n",
              "    <tr>\n",
              "      <th>4</th>\n",
              "      <td>2006-04-01 04:00:00.000 +0200</td>\n",
              "      <td>Mostly Cloudy</td>\n",
              "      <td>rain</td>\n",
              "      <td>8.755556</td>\n",
              "      <td>6.977778</td>\n",
              "      <td>0.83</td>\n",
              "      <td>11.0446</td>\n",
              "      <td>259.0</td>\n",
              "      <td>15.8263</td>\n",
              "      <td>0.0</td>\n",
              "      <td>1016.51</td>\n",
              "      <td>Partly cloudy throughout the day.</td>\n",
              "    </tr>\n",
              "  </tbody>\n",
              "</table>\n",
              "</div>\n",
              "    <div class=\"colab-df-buttons\">\n",
              "\n",
              "  <div class=\"colab-df-container\">\n",
              "    <button class=\"colab-df-convert\" onclick=\"convertToInteractive('df-bb14e096-117e-4899-8a47-9b2eff38521f')\"\n",
              "            title=\"Convert this dataframe to an interactive table.\"\n",
              "            style=\"display:none;\">\n",
              "\n",
              "  <svg xmlns=\"http://www.w3.org/2000/svg\" height=\"24px\" viewBox=\"0 -960 960 960\">\n",
              "    <path d=\"M120-120v-720h720v720H120Zm60-500h600v-160H180v160Zm220 220h160v-160H400v160Zm0 220h160v-160H400v160ZM180-400h160v-160H180v160Zm440 0h160v-160H620v160ZM180-180h160v-160H180v160Zm440 0h160v-160H620v160Z\"/>\n",
              "  </svg>\n",
              "    </button>\n",
              "\n",
              "  <style>\n",
              "    .colab-df-container {\n",
              "      display:flex;\n",
              "      gap: 12px;\n",
              "    }\n",
              "\n",
              "    .colab-df-convert {\n",
              "      background-color: #E8F0FE;\n",
              "      border: none;\n",
              "      border-radius: 50%;\n",
              "      cursor: pointer;\n",
              "      display: none;\n",
              "      fill: #1967D2;\n",
              "      height: 32px;\n",
              "      padding: 0 0 0 0;\n",
              "      width: 32px;\n",
              "    }\n",
              "\n",
              "    .colab-df-convert:hover {\n",
              "      background-color: #E2EBFA;\n",
              "      box-shadow: 0px 1px 2px rgba(60, 64, 67, 0.3), 0px 1px 3px 1px rgba(60, 64, 67, 0.15);\n",
              "      fill: #174EA6;\n",
              "    }\n",
              "\n",
              "    .colab-df-buttons div {\n",
              "      margin-bottom: 4px;\n",
              "    }\n",
              "\n",
              "    [theme=dark] .colab-df-convert {\n",
              "      background-color: #3B4455;\n",
              "      fill: #D2E3FC;\n",
              "    }\n",
              "\n",
              "    [theme=dark] .colab-df-convert:hover {\n",
              "      background-color: #434B5C;\n",
              "      box-shadow: 0px 1px 3px 1px rgba(0, 0, 0, 0.15);\n",
              "      filter: drop-shadow(0px 1px 2px rgba(0, 0, 0, 0.3));\n",
              "      fill: #FFFFFF;\n",
              "    }\n",
              "  </style>\n",
              "\n",
              "    <script>\n",
              "      const buttonEl =\n",
              "        document.querySelector('#df-bb14e096-117e-4899-8a47-9b2eff38521f button.colab-df-convert');\n",
              "      buttonEl.style.display =\n",
              "        google.colab.kernel.accessAllowed ? 'block' : 'none';\n",
              "\n",
              "      async function convertToInteractive(key) {\n",
              "        const element = document.querySelector('#df-bb14e096-117e-4899-8a47-9b2eff38521f');\n",
              "        const dataTable =\n",
              "          await google.colab.kernel.invokeFunction('convertToInteractive',\n",
              "                                                    [key], {});\n",
              "        if (!dataTable) return;\n",
              "\n",
              "        const docLinkHtml = 'Like what you see? Visit the ' +\n",
              "          '<a target=\"_blank\" href=https://colab.research.google.com/notebooks/data_table.ipynb>data table notebook</a>'\n",
              "          + ' to learn more about interactive tables.';\n",
              "        element.innerHTML = '';\n",
              "        dataTable['output_type'] = 'display_data';\n",
              "        await google.colab.output.renderOutput(dataTable, element);\n",
              "        const docLink = document.createElement('div');\n",
              "        docLink.innerHTML = docLinkHtml;\n",
              "        element.appendChild(docLink);\n",
              "      }\n",
              "    </script>\n",
              "  </div>\n",
              "\n",
              "\n",
              "<div id=\"df-39d64eaa-c034-4d7a-8e48-dbc642e3e197\">\n",
              "  <button class=\"colab-df-quickchart\" onclick=\"quickchart('df-39d64eaa-c034-4d7a-8e48-dbc642e3e197')\"\n",
              "            title=\"Suggest charts\"\n",
              "            style=\"display:none;\">\n",
              "\n",
              "<svg xmlns=\"http://www.w3.org/2000/svg\" height=\"24px\"viewBox=\"0 0 24 24\"\n",
              "     width=\"24px\">\n",
              "    <g>\n",
              "        <path d=\"M19 3H5c-1.1 0-2 .9-2 2v14c0 1.1.9 2 2 2h14c1.1 0 2-.9 2-2V5c0-1.1-.9-2-2-2zM9 17H7v-7h2v7zm4 0h-2V7h2v10zm4 0h-2v-4h2v4z\"/>\n",
              "    </g>\n",
              "</svg>\n",
              "  </button>\n",
              "\n",
              "<style>\n",
              "  .colab-df-quickchart {\n",
              "      --bg-color: #E8F0FE;\n",
              "      --fill-color: #1967D2;\n",
              "      --hover-bg-color: #E2EBFA;\n",
              "      --hover-fill-color: #174EA6;\n",
              "      --disabled-fill-color: #AAA;\n",
              "      --disabled-bg-color: #DDD;\n",
              "  }\n",
              "\n",
              "  [theme=dark] .colab-df-quickchart {\n",
              "      --bg-color: #3B4455;\n",
              "      --fill-color: #D2E3FC;\n",
              "      --hover-bg-color: #434B5C;\n",
              "      --hover-fill-color: #FFFFFF;\n",
              "      --disabled-bg-color: #3B4455;\n",
              "      --disabled-fill-color: #666;\n",
              "  }\n",
              "\n",
              "  .colab-df-quickchart {\n",
              "    background-color: var(--bg-color);\n",
              "    border: none;\n",
              "    border-radius: 50%;\n",
              "    cursor: pointer;\n",
              "    display: none;\n",
              "    fill: var(--fill-color);\n",
              "    height: 32px;\n",
              "    padding: 0;\n",
              "    width: 32px;\n",
              "  }\n",
              "\n",
              "  .colab-df-quickchart:hover {\n",
              "    background-color: var(--hover-bg-color);\n",
              "    box-shadow: 0 1px 2px rgba(60, 64, 67, 0.3), 0 1px 3px 1px rgba(60, 64, 67, 0.15);\n",
              "    fill: var(--button-hover-fill-color);\n",
              "  }\n",
              "\n",
              "  .colab-df-quickchart-complete:disabled,\n",
              "  .colab-df-quickchart-complete:disabled:hover {\n",
              "    background-color: var(--disabled-bg-color);\n",
              "    fill: var(--disabled-fill-color);\n",
              "    box-shadow: none;\n",
              "  }\n",
              "\n",
              "  .colab-df-spinner {\n",
              "    border: 2px solid var(--fill-color);\n",
              "    border-color: transparent;\n",
              "    border-bottom-color: var(--fill-color);\n",
              "    animation:\n",
              "      spin 1s steps(1) infinite;\n",
              "  }\n",
              "\n",
              "  @keyframes spin {\n",
              "    0% {\n",
              "      border-color: transparent;\n",
              "      border-bottom-color: var(--fill-color);\n",
              "      border-left-color: var(--fill-color);\n",
              "    }\n",
              "    20% {\n",
              "      border-color: transparent;\n",
              "      border-left-color: var(--fill-color);\n",
              "      border-top-color: var(--fill-color);\n",
              "    }\n",
              "    30% {\n",
              "      border-color: transparent;\n",
              "      border-left-color: var(--fill-color);\n",
              "      border-top-color: var(--fill-color);\n",
              "      border-right-color: var(--fill-color);\n",
              "    }\n",
              "    40% {\n",
              "      border-color: transparent;\n",
              "      border-right-color: var(--fill-color);\n",
              "      border-top-color: var(--fill-color);\n",
              "    }\n",
              "    60% {\n",
              "      border-color: transparent;\n",
              "      border-right-color: var(--fill-color);\n",
              "    }\n",
              "    80% {\n",
              "      border-color: transparent;\n",
              "      border-right-color: var(--fill-color);\n",
              "      border-bottom-color: var(--fill-color);\n",
              "    }\n",
              "    90% {\n",
              "      border-color: transparent;\n",
              "      border-bottom-color: var(--fill-color);\n",
              "    }\n",
              "  }\n",
              "</style>\n",
              "\n",
              "  <script>\n",
              "    async function quickchart(key) {\n",
              "      const quickchartButtonEl =\n",
              "        document.querySelector('#' + key + ' button');\n",
              "      quickchartButtonEl.disabled = true;  // To prevent multiple clicks.\n",
              "      quickchartButtonEl.classList.add('colab-df-spinner');\n",
              "      try {\n",
              "        const charts = await google.colab.kernel.invokeFunction(\n",
              "            'suggestCharts', [key], {});\n",
              "      } catch (error) {\n",
              "        console.error('Error during call to suggestCharts:', error);\n",
              "      }\n",
              "      quickchartButtonEl.classList.remove('colab-df-spinner');\n",
              "      quickchartButtonEl.classList.add('colab-df-quickchart-complete');\n",
              "    }\n",
              "    (() => {\n",
              "      let quickchartButtonEl =\n",
              "        document.querySelector('#df-39d64eaa-c034-4d7a-8e48-dbc642e3e197 button');\n",
              "      quickchartButtonEl.style.display =\n",
              "        google.colab.kernel.accessAllowed ? 'block' : 'none';\n",
              "    })();\n",
              "  </script>\n",
              "</div>\n",
              "\n",
              "    </div>\n",
              "  </div>\n"
            ]
          },
          "metadata": {},
          "execution_count": 26
        }
      ]
    },
    {
      "cell_type": "code",
      "source": [
        "df.columns"
      ],
      "metadata": {
        "colab": {
          "base_uri": "https://localhost:8080/"
        },
        "id": "xgexpmkeHOW4",
        "outputId": "6b1af6ee-f9e5-4089-d234-1a4b4dced7bf"
      },
      "execution_count": null,
      "outputs": [
        {
          "output_type": "execute_result",
          "data": {
            "text/plain": [
              "Index(['Formatted Date', 'Summary', 'Precip Type', 'Temperature (C)',\n",
              "       'Apparent Temperature (C)', 'Humidity', 'Wind Speed (km/h)',\n",
              "       'Wind Bearing (degrees)', 'Visibility (km)', 'Loud Cover',\n",
              "       'Pressure (millibars)', 'Daily Summary'],\n",
              "      dtype='object')"
            ]
          },
          "metadata": {},
          "execution_count": 27
        }
      ]
    },
    {
      "cell_type": "code",
      "source": [
        "df.Summary"
      ],
      "metadata": {
        "colab": {
          "base_uri": "https://localhost:8080/"
        },
        "id": "2mJaoGe8HR_m",
        "outputId": "c32c2ca6-73d4-46d0-ef7e-fde02b5c123c"
      },
      "execution_count": null,
      "outputs": [
        {
          "output_type": "execute_result",
          "data": {
            "text/plain": [
              "0        Partly Cloudy\n",
              "1        Partly Cloudy\n",
              "2        Mostly Cloudy\n",
              "3        Partly Cloudy\n",
              "4        Mostly Cloudy\n",
              "             ...      \n",
              "96448    Partly Cloudy\n",
              "96449    Partly Cloudy\n",
              "96450    Partly Cloudy\n",
              "96451    Partly Cloudy\n",
              "96452    Partly Cloudy\n",
              "Name: Summary, Length: 96453, dtype: object"
            ]
          },
          "metadata": {},
          "execution_count": 28
        }
      ]
    },
    {
      "cell_type": "code",
      "source": [
        "df.describe()"
      ],
      "metadata": {
        "colab": {
          "base_uri": "https://localhost:8080/",
          "height": 355
        },
        "id": "zuZGdNgzHXYn",
        "outputId": "4228e51a-22dc-4f55-df8b-2495a56818ac"
      },
      "execution_count": null,
      "outputs": [
        {
          "output_type": "execute_result",
          "data": {
            "text/plain": [
              "       Temperature (C)  Apparent Temperature (C)      Humidity  \\\n",
              "count     96453.000000              96453.000000  96453.000000   \n",
              "mean         11.932678                 10.855029      0.734899   \n",
              "std           9.551546                 10.696847      0.195473   \n",
              "min         -21.822222                -27.716667      0.000000   \n",
              "25%           4.688889                  2.311111      0.600000   \n",
              "50%          12.000000                 12.000000      0.780000   \n",
              "75%          18.838889                 18.838889      0.890000   \n",
              "max          39.905556                 39.344444      1.000000   \n",
              "\n",
              "       Wind Speed (km/h)  Wind Bearing (degrees)  Visibility (km)  Loud Cover  \\\n",
              "count       96453.000000            96453.000000     96453.000000     96453.0   \n",
              "mean           10.810640              187.509232        10.347325         0.0   \n",
              "std             6.913571              107.383428         4.192123         0.0   \n",
              "min             0.000000                0.000000         0.000000         0.0   \n",
              "25%             5.828200              116.000000         8.339800         0.0   \n",
              "50%             9.965900              180.000000        10.046400         0.0   \n",
              "75%            14.135800              290.000000        14.812000         0.0   \n",
              "max            63.852600              359.000000        16.100000         0.0   \n",
              "\n",
              "       Pressure (millibars)  \n",
              "count          96453.000000  \n",
              "mean            1003.235956  \n",
              "std              116.969906  \n",
              "min                0.000000  \n",
              "25%             1011.900000  \n",
              "50%             1016.450000  \n",
              "75%             1021.090000  \n",
              "max             1046.380000  "
            ],
            "text/html": [
              "\n",
              "  <div id=\"df-e6dea33c-9c10-43d4-94e9-c50d5136df5d\" class=\"colab-df-container\">\n",
              "    <div>\n",
              "<style scoped>\n",
              "    .dataframe tbody tr th:only-of-type {\n",
              "        vertical-align: middle;\n",
              "    }\n",
              "\n",
              "    .dataframe tbody tr th {\n",
              "        vertical-align: top;\n",
              "    }\n",
              "\n",
              "    .dataframe thead th {\n",
              "        text-align: right;\n",
              "    }\n",
              "</style>\n",
              "<table border=\"1\" class=\"dataframe\">\n",
              "  <thead>\n",
              "    <tr style=\"text-align: right;\">\n",
              "      <th></th>\n",
              "      <th>Temperature (C)</th>\n",
              "      <th>Apparent Temperature (C)</th>\n",
              "      <th>Humidity</th>\n",
              "      <th>Wind Speed (km/h)</th>\n",
              "      <th>Wind Bearing (degrees)</th>\n",
              "      <th>Visibility (km)</th>\n",
              "      <th>Loud Cover</th>\n",
              "      <th>Pressure (millibars)</th>\n",
              "    </tr>\n",
              "  </thead>\n",
              "  <tbody>\n",
              "    <tr>\n",
              "      <th>count</th>\n",
              "      <td>96453.000000</td>\n",
              "      <td>96453.000000</td>\n",
              "      <td>96453.000000</td>\n",
              "      <td>96453.000000</td>\n",
              "      <td>96453.000000</td>\n",
              "      <td>96453.000000</td>\n",
              "      <td>96453.0</td>\n",
              "      <td>96453.000000</td>\n",
              "    </tr>\n",
              "    <tr>\n",
              "      <th>mean</th>\n",
              "      <td>11.932678</td>\n",
              "      <td>10.855029</td>\n",
              "      <td>0.734899</td>\n",
              "      <td>10.810640</td>\n",
              "      <td>187.509232</td>\n",
              "      <td>10.347325</td>\n",
              "      <td>0.0</td>\n",
              "      <td>1003.235956</td>\n",
              "    </tr>\n",
              "    <tr>\n",
              "      <th>std</th>\n",
              "      <td>9.551546</td>\n",
              "      <td>10.696847</td>\n",
              "      <td>0.195473</td>\n",
              "      <td>6.913571</td>\n",
              "      <td>107.383428</td>\n",
              "      <td>4.192123</td>\n",
              "      <td>0.0</td>\n",
              "      <td>116.969906</td>\n",
              "    </tr>\n",
              "    <tr>\n",
              "      <th>min</th>\n",
              "      <td>-21.822222</td>\n",
              "      <td>-27.716667</td>\n",
              "      <td>0.000000</td>\n",
              "      <td>0.000000</td>\n",
              "      <td>0.000000</td>\n",
              "      <td>0.000000</td>\n",
              "      <td>0.0</td>\n",
              "      <td>0.000000</td>\n",
              "    </tr>\n",
              "    <tr>\n",
              "      <th>25%</th>\n",
              "      <td>4.688889</td>\n",
              "      <td>2.311111</td>\n",
              "      <td>0.600000</td>\n",
              "      <td>5.828200</td>\n",
              "      <td>116.000000</td>\n",
              "      <td>8.339800</td>\n",
              "      <td>0.0</td>\n",
              "      <td>1011.900000</td>\n",
              "    </tr>\n",
              "    <tr>\n",
              "      <th>50%</th>\n",
              "      <td>12.000000</td>\n",
              "      <td>12.000000</td>\n",
              "      <td>0.780000</td>\n",
              "      <td>9.965900</td>\n",
              "      <td>180.000000</td>\n",
              "      <td>10.046400</td>\n",
              "      <td>0.0</td>\n",
              "      <td>1016.450000</td>\n",
              "    </tr>\n",
              "    <tr>\n",
              "      <th>75%</th>\n",
              "      <td>18.838889</td>\n",
              "      <td>18.838889</td>\n",
              "      <td>0.890000</td>\n",
              "      <td>14.135800</td>\n",
              "      <td>290.000000</td>\n",
              "      <td>14.812000</td>\n",
              "      <td>0.0</td>\n",
              "      <td>1021.090000</td>\n",
              "    </tr>\n",
              "    <tr>\n",
              "      <th>max</th>\n",
              "      <td>39.905556</td>\n",
              "      <td>39.344444</td>\n",
              "      <td>1.000000</td>\n",
              "      <td>63.852600</td>\n",
              "      <td>359.000000</td>\n",
              "      <td>16.100000</td>\n",
              "      <td>0.0</td>\n",
              "      <td>1046.380000</td>\n",
              "    </tr>\n",
              "  </tbody>\n",
              "</table>\n",
              "</div>\n",
              "    <div class=\"colab-df-buttons\">\n",
              "\n",
              "  <div class=\"colab-df-container\">\n",
              "    <button class=\"colab-df-convert\" onclick=\"convertToInteractive('df-e6dea33c-9c10-43d4-94e9-c50d5136df5d')\"\n",
              "            title=\"Convert this dataframe to an interactive table.\"\n",
              "            style=\"display:none;\">\n",
              "\n",
              "  <svg xmlns=\"http://www.w3.org/2000/svg\" height=\"24px\" viewBox=\"0 -960 960 960\">\n",
              "    <path d=\"M120-120v-720h720v720H120Zm60-500h600v-160H180v160Zm220 220h160v-160H400v160Zm0 220h160v-160H400v160ZM180-400h160v-160H180v160Zm440 0h160v-160H620v160ZM180-180h160v-160H180v160Zm440 0h160v-160H620v160Z\"/>\n",
              "  </svg>\n",
              "    </button>\n",
              "\n",
              "  <style>\n",
              "    .colab-df-container {\n",
              "      display:flex;\n",
              "      gap: 12px;\n",
              "    }\n",
              "\n",
              "    .colab-df-convert {\n",
              "      background-color: #E8F0FE;\n",
              "      border: none;\n",
              "      border-radius: 50%;\n",
              "      cursor: pointer;\n",
              "      display: none;\n",
              "      fill: #1967D2;\n",
              "      height: 32px;\n",
              "      padding: 0 0 0 0;\n",
              "      width: 32px;\n",
              "    }\n",
              "\n",
              "    .colab-df-convert:hover {\n",
              "      background-color: #E2EBFA;\n",
              "      box-shadow: 0px 1px 2px rgba(60, 64, 67, 0.3), 0px 1px 3px 1px rgba(60, 64, 67, 0.15);\n",
              "      fill: #174EA6;\n",
              "    }\n",
              "\n",
              "    .colab-df-buttons div {\n",
              "      margin-bottom: 4px;\n",
              "    }\n",
              "\n",
              "    [theme=dark] .colab-df-convert {\n",
              "      background-color: #3B4455;\n",
              "      fill: #D2E3FC;\n",
              "    }\n",
              "\n",
              "    [theme=dark] .colab-df-convert:hover {\n",
              "      background-color: #434B5C;\n",
              "      box-shadow: 0px 1px 3px 1px rgba(0, 0, 0, 0.15);\n",
              "      filter: drop-shadow(0px 1px 2px rgba(0, 0, 0, 0.3));\n",
              "      fill: #FFFFFF;\n",
              "    }\n",
              "  </style>\n",
              "\n",
              "    <script>\n",
              "      const buttonEl =\n",
              "        document.querySelector('#df-e6dea33c-9c10-43d4-94e9-c50d5136df5d button.colab-df-convert');\n",
              "      buttonEl.style.display =\n",
              "        google.colab.kernel.accessAllowed ? 'block' : 'none';\n",
              "\n",
              "      async function convertToInteractive(key) {\n",
              "        const element = document.querySelector('#df-e6dea33c-9c10-43d4-94e9-c50d5136df5d');\n",
              "        const dataTable =\n",
              "          await google.colab.kernel.invokeFunction('convertToInteractive',\n",
              "                                                    [key], {});\n",
              "        if (!dataTable) return;\n",
              "\n",
              "        const docLinkHtml = 'Like what you see? Visit the ' +\n",
              "          '<a target=\"_blank\" href=https://colab.research.google.com/notebooks/data_table.ipynb>data table notebook</a>'\n",
              "          + ' to learn more about interactive tables.';\n",
              "        element.innerHTML = '';\n",
              "        dataTable['output_type'] = 'display_data';\n",
              "        await google.colab.output.renderOutput(dataTable, element);\n",
              "        const docLink = document.createElement('div');\n",
              "        docLink.innerHTML = docLinkHtml;\n",
              "        element.appendChild(docLink);\n",
              "      }\n",
              "    </script>\n",
              "  </div>\n",
              "\n",
              "\n",
              "<div id=\"df-38dd34c3-c052-42bd-9893-46913eba7da7\">\n",
              "  <button class=\"colab-df-quickchart\" onclick=\"quickchart('df-38dd34c3-c052-42bd-9893-46913eba7da7')\"\n",
              "            title=\"Suggest charts\"\n",
              "            style=\"display:none;\">\n",
              "\n",
              "<svg xmlns=\"http://www.w3.org/2000/svg\" height=\"24px\"viewBox=\"0 0 24 24\"\n",
              "     width=\"24px\">\n",
              "    <g>\n",
              "        <path d=\"M19 3H5c-1.1 0-2 .9-2 2v14c0 1.1.9 2 2 2h14c1.1 0 2-.9 2-2V5c0-1.1-.9-2-2-2zM9 17H7v-7h2v7zm4 0h-2V7h2v10zm4 0h-2v-4h2v4z\"/>\n",
              "    </g>\n",
              "</svg>\n",
              "  </button>\n",
              "\n",
              "<style>\n",
              "  .colab-df-quickchart {\n",
              "      --bg-color: #E8F0FE;\n",
              "      --fill-color: #1967D2;\n",
              "      --hover-bg-color: #E2EBFA;\n",
              "      --hover-fill-color: #174EA6;\n",
              "      --disabled-fill-color: #AAA;\n",
              "      --disabled-bg-color: #DDD;\n",
              "  }\n",
              "\n",
              "  [theme=dark] .colab-df-quickchart {\n",
              "      --bg-color: #3B4455;\n",
              "      --fill-color: #D2E3FC;\n",
              "      --hover-bg-color: #434B5C;\n",
              "      --hover-fill-color: #FFFFFF;\n",
              "      --disabled-bg-color: #3B4455;\n",
              "      --disabled-fill-color: #666;\n",
              "  }\n",
              "\n",
              "  .colab-df-quickchart {\n",
              "    background-color: var(--bg-color);\n",
              "    border: none;\n",
              "    border-radius: 50%;\n",
              "    cursor: pointer;\n",
              "    display: none;\n",
              "    fill: var(--fill-color);\n",
              "    height: 32px;\n",
              "    padding: 0;\n",
              "    width: 32px;\n",
              "  }\n",
              "\n",
              "  .colab-df-quickchart:hover {\n",
              "    background-color: var(--hover-bg-color);\n",
              "    box-shadow: 0 1px 2px rgba(60, 64, 67, 0.3), 0 1px 3px 1px rgba(60, 64, 67, 0.15);\n",
              "    fill: var(--button-hover-fill-color);\n",
              "  }\n",
              "\n",
              "  .colab-df-quickchart-complete:disabled,\n",
              "  .colab-df-quickchart-complete:disabled:hover {\n",
              "    background-color: var(--disabled-bg-color);\n",
              "    fill: var(--disabled-fill-color);\n",
              "    box-shadow: none;\n",
              "  }\n",
              "\n",
              "  .colab-df-spinner {\n",
              "    border: 2px solid var(--fill-color);\n",
              "    border-color: transparent;\n",
              "    border-bottom-color: var(--fill-color);\n",
              "    animation:\n",
              "      spin 1s steps(1) infinite;\n",
              "  }\n",
              "\n",
              "  @keyframes spin {\n",
              "    0% {\n",
              "      border-color: transparent;\n",
              "      border-bottom-color: var(--fill-color);\n",
              "      border-left-color: var(--fill-color);\n",
              "    }\n",
              "    20% {\n",
              "      border-color: transparent;\n",
              "      border-left-color: var(--fill-color);\n",
              "      border-top-color: var(--fill-color);\n",
              "    }\n",
              "    30% {\n",
              "      border-color: transparent;\n",
              "      border-left-color: var(--fill-color);\n",
              "      border-top-color: var(--fill-color);\n",
              "      border-right-color: var(--fill-color);\n",
              "    }\n",
              "    40% {\n",
              "      border-color: transparent;\n",
              "      border-right-color: var(--fill-color);\n",
              "      border-top-color: var(--fill-color);\n",
              "    }\n",
              "    60% {\n",
              "      border-color: transparent;\n",
              "      border-right-color: var(--fill-color);\n",
              "    }\n",
              "    80% {\n",
              "      border-color: transparent;\n",
              "      border-right-color: var(--fill-color);\n",
              "      border-bottom-color: var(--fill-color);\n",
              "    }\n",
              "    90% {\n",
              "      border-color: transparent;\n",
              "      border-bottom-color: var(--fill-color);\n",
              "    }\n",
              "  }\n",
              "</style>\n",
              "\n",
              "  <script>\n",
              "    async function quickchart(key) {\n",
              "      const quickchartButtonEl =\n",
              "        document.querySelector('#' + key + ' button');\n",
              "      quickchartButtonEl.disabled = true;  // To prevent multiple clicks.\n",
              "      quickchartButtonEl.classList.add('colab-df-spinner');\n",
              "      try {\n",
              "        const charts = await google.colab.kernel.invokeFunction(\n",
              "            'suggestCharts', [key], {});\n",
              "      } catch (error) {\n",
              "        console.error('Error during call to suggestCharts:', error);\n",
              "      }\n",
              "      quickchartButtonEl.classList.remove('colab-df-spinner');\n",
              "      quickchartButtonEl.classList.add('colab-df-quickchart-complete');\n",
              "    }\n",
              "    (() => {\n",
              "      let quickchartButtonEl =\n",
              "        document.querySelector('#df-38dd34c3-c052-42bd-9893-46913eba7da7 button');\n",
              "      quickchartButtonEl.style.display =\n",
              "        google.colab.kernel.accessAllowed ? 'block' : 'none';\n",
              "    })();\n",
              "  </script>\n",
              "</div>\n",
              "\n",
              "    </div>\n",
              "  </div>\n"
            ]
          },
          "metadata": {},
          "execution_count": 29
        }
      ]
    },
    {
      "cell_type": "code",
      "source": [
        "df[df.Humidity == df.Humidity.max()]"
      ],
      "metadata": {
        "colab": {
          "base_uri": "https://localhost:8080/",
          "height": 999
        },
        "id": "i_zdt-7LHiVq",
        "outputId": "e199095e-9359-4da1-e69b-571b6fbefda9"
      },
      "execution_count": null,
      "outputs": [
        {
          "output_type": "execute_result",
          "data": {
            "text/plain": [
              "                      Formatted Date        Summary Precip Type  \\\n",
              "319    2006-04-21 07:00:00.000 +0200          Foggy        rain   \n",
              "342    2006-04-22 06:00:00.000 +0200          Foggy        rain   \n",
              "390    2006-04-24 06:00:00.000 +0200          Foggy        rain   \n",
              "535    2006-04-03 07:00:00.000 +0200          Clear        rain   \n",
              "536    2006-04-03 08:00:00.000 +0200          Clear        rain   \n",
              "...                              ...            ...         ...   \n",
              "95907  2016-09-16 06:00:00.000 +0200          Foggy        rain   \n",
              "96123  2016-09-24 06:00:00.000 +0200  Partly Cloudy        rain   \n",
              "96148  2016-09-25 07:00:00.000 +0200  Mostly Cloudy        rain   \n",
              "96363  2016-09-06 06:00:00.000 +0200  Mostly Cloudy        rain   \n",
              "96364  2016-09-06 07:00:00.000 +0200  Mostly Cloudy        rain   \n",
              "\n",
              "       Temperature (C)  Apparent Temperature (C)  Humidity  Wind Speed (km/h)  \\\n",
              "319          11.972222                 11.972222       1.0             9.6600   \n",
              "342           7.155556                  7.155556       1.0             1.8515   \n",
              "390           7.688889                  7.688889       1.0             0.0000   \n",
              "535           5.933333                  5.933333       1.0             0.1449   \n",
              "536          10.405556                 10.405556       1.0             0.7245   \n",
              "...                ...                       ...       ...                ...   \n",
              "95907        14.905556                 14.905556       1.0             7.5992   \n",
              "96123         7.594444                  7.594444       1.0             4.8300   \n",
              "96148         8.838889                  8.838889       1.0             4.5402   \n",
              "96363        12.338889                 12.338889       1.0             3.5581   \n",
              "96364        12.872222                 12.872222       1.0             4.5241   \n",
              "\n",
              "       Wind Bearing (degrees)  Visibility (km)  Loud Cover  \\\n",
              "319                      10.0           1.2558         0.0   \n",
              "342                     319.0           0.2898         0.0   \n",
              "390                       0.0           0.7406         0.0   \n",
              "535                     230.0           5.8443         0.0   \n",
              "536                      18.0           5.3935         0.0   \n",
              "...                       ...              ...         ...   \n",
              "95907                   169.0           1.6100         0.0   \n",
              "96123                   160.0           6.2951         0.0   \n",
              "96148                   349.0           6.1985         0.0   \n",
              "96363                   301.0           8.0500         0.0   \n",
              "96364                   339.0           9.9820         0.0   \n",
              "\n",
              "       Pressure (millibars)                                      Daily Summary  \n",
              "319                 1016.45                              Foggy in the morning.  \n",
              "342                 1017.15  Foggy starting overnight continuing until morn...  \n",
              "390                 1018.13                       Partly cloudy until evening.  \n",
              "535                 1014.55                         Partly cloudy until night.  \n",
              "536                 1014.91                         Partly cloudy until night.  \n",
              "...                     ...                                                ...  \n",
              "95907               1016.51           Partly cloudy starting in the afternoon.  \n",
              "96123               1026.93             Partly cloudy starting in the morning.  \n",
              "96148               1022.88                         Mostly cloudy until night.  \n",
              "96363               1014.45                  Mostly cloudy starting overnight.  \n",
              "96364               1014.84                  Mostly cloudy starting overnight.  \n",
              "\n",
              "[2890 rows x 12 columns]"
            ],
            "text/html": [
              "\n",
              "  <div id=\"df-f6c43255-da86-47cd-b513-65f1ecb961c8\" class=\"colab-df-container\">\n",
              "    <div>\n",
              "<style scoped>\n",
              "    .dataframe tbody tr th:only-of-type {\n",
              "        vertical-align: middle;\n",
              "    }\n",
              "\n",
              "    .dataframe tbody tr th {\n",
              "        vertical-align: top;\n",
              "    }\n",
              "\n",
              "    .dataframe thead th {\n",
              "        text-align: right;\n",
              "    }\n",
              "</style>\n",
              "<table border=\"1\" class=\"dataframe\">\n",
              "  <thead>\n",
              "    <tr style=\"text-align: right;\">\n",
              "      <th></th>\n",
              "      <th>Formatted Date</th>\n",
              "      <th>Summary</th>\n",
              "      <th>Precip Type</th>\n",
              "      <th>Temperature (C)</th>\n",
              "      <th>Apparent Temperature (C)</th>\n",
              "      <th>Humidity</th>\n",
              "      <th>Wind Speed (km/h)</th>\n",
              "      <th>Wind Bearing (degrees)</th>\n",
              "      <th>Visibility (km)</th>\n",
              "      <th>Loud Cover</th>\n",
              "      <th>Pressure (millibars)</th>\n",
              "      <th>Daily Summary</th>\n",
              "    </tr>\n",
              "  </thead>\n",
              "  <tbody>\n",
              "    <tr>\n",
              "      <th>319</th>\n",
              "      <td>2006-04-21 07:00:00.000 +0200</td>\n",
              "      <td>Foggy</td>\n",
              "      <td>rain</td>\n",
              "      <td>11.972222</td>\n",
              "      <td>11.972222</td>\n",
              "      <td>1.0</td>\n",
              "      <td>9.6600</td>\n",
              "      <td>10.0</td>\n",
              "      <td>1.2558</td>\n",
              "      <td>0.0</td>\n",
              "      <td>1016.45</td>\n",
              "      <td>Foggy in the morning.</td>\n",
              "    </tr>\n",
              "    <tr>\n",
              "      <th>342</th>\n",
              "      <td>2006-04-22 06:00:00.000 +0200</td>\n",
              "      <td>Foggy</td>\n",
              "      <td>rain</td>\n",
              "      <td>7.155556</td>\n",
              "      <td>7.155556</td>\n",
              "      <td>1.0</td>\n",
              "      <td>1.8515</td>\n",
              "      <td>319.0</td>\n",
              "      <td>0.2898</td>\n",
              "      <td>0.0</td>\n",
              "      <td>1017.15</td>\n",
              "      <td>Foggy starting overnight continuing until morn...</td>\n",
              "    </tr>\n",
              "    <tr>\n",
              "      <th>390</th>\n",
              "      <td>2006-04-24 06:00:00.000 +0200</td>\n",
              "      <td>Foggy</td>\n",
              "      <td>rain</td>\n",
              "      <td>7.688889</td>\n",
              "      <td>7.688889</td>\n",
              "      <td>1.0</td>\n",
              "      <td>0.0000</td>\n",
              "      <td>0.0</td>\n",
              "      <td>0.7406</td>\n",
              "      <td>0.0</td>\n",
              "      <td>1018.13</td>\n",
              "      <td>Partly cloudy until evening.</td>\n",
              "    </tr>\n",
              "    <tr>\n",
              "      <th>535</th>\n",
              "      <td>2006-04-03 07:00:00.000 +0200</td>\n",
              "      <td>Clear</td>\n",
              "      <td>rain</td>\n",
              "      <td>5.933333</td>\n",
              "      <td>5.933333</td>\n",
              "      <td>1.0</td>\n",
              "      <td>0.1449</td>\n",
              "      <td>230.0</td>\n",
              "      <td>5.8443</td>\n",
              "      <td>0.0</td>\n",
              "      <td>1014.55</td>\n",
              "      <td>Partly cloudy until night.</td>\n",
              "    </tr>\n",
              "    <tr>\n",
              "      <th>536</th>\n",
              "      <td>2006-04-03 08:00:00.000 +0200</td>\n",
              "      <td>Clear</td>\n",
              "      <td>rain</td>\n",
              "      <td>10.405556</td>\n",
              "      <td>10.405556</td>\n",
              "      <td>1.0</td>\n",
              "      <td>0.7245</td>\n",
              "      <td>18.0</td>\n",
              "      <td>5.3935</td>\n",
              "      <td>0.0</td>\n",
              "      <td>1014.91</td>\n",
              "      <td>Partly cloudy until night.</td>\n",
              "    </tr>\n",
              "    <tr>\n",
              "      <th>...</th>\n",
              "      <td>...</td>\n",
              "      <td>...</td>\n",
              "      <td>...</td>\n",
              "      <td>...</td>\n",
              "      <td>...</td>\n",
              "      <td>...</td>\n",
              "      <td>...</td>\n",
              "      <td>...</td>\n",
              "      <td>...</td>\n",
              "      <td>...</td>\n",
              "      <td>...</td>\n",
              "      <td>...</td>\n",
              "    </tr>\n",
              "    <tr>\n",
              "      <th>95907</th>\n",
              "      <td>2016-09-16 06:00:00.000 +0200</td>\n",
              "      <td>Foggy</td>\n",
              "      <td>rain</td>\n",
              "      <td>14.905556</td>\n",
              "      <td>14.905556</td>\n",
              "      <td>1.0</td>\n",
              "      <td>7.5992</td>\n",
              "      <td>169.0</td>\n",
              "      <td>1.6100</td>\n",
              "      <td>0.0</td>\n",
              "      <td>1016.51</td>\n",
              "      <td>Partly cloudy starting in the afternoon.</td>\n",
              "    </tr>\n",
              "    <tr>\n",
              "      <th>96123</th>\n",
              "      <td>2016-09-24 06:00:00.000 +0200</td>\n",
              "      <td>Partly Cloudy</td>\n",
              "      <td>rain</td>\n",
              "      <td>7.594444</td>\n",
              "      <td>7.594444</td>\n",
              "      <td>1.0</td>\n",
              "      <td>4.8300</td>\n",
              "      <td>160.0</td>\n",
              "      <td>6.2951</td>\n",
              "      <td>0.0</td>\n",
              "      <td>1026.93</td>\n",
              "      <td>Partly cloudy starting in the morning.</td>\n",
              "    </tr>\n",
              "    <tr>\n",
              "      <th>96148</th>\n",
              "      <td>2016-09-25 07:00:00.000 +0200</td>\n",
              "      <td>Mostly Cloudy</td>\n",
              "      <td>rain</td>\n",
              "      <td>8.838889</td>\n",
              "      <td>8.838889</td>\n",
              "      <td>1.0</td>\n",
              "      <td>4.5402</td>\n",
              "      <td>349.0</td>\n",
              "      <td>6.1985</td>\n",
              "      <td>0.0</td>\n",
              "      <td>1022.88</td>\n",
              "      <td>Mostly cloudy until night.</td>\n",
              "    </tr>\n",
              "    <tr>\n",
              "      <th>96363</th>\n",
              "      <td>2016-09-06 06:00:00.000 +0200</td>\n",
              "      <td>Mostly Cloudy</td>\n",
              "      <td>rain</td>\n",
              "      <td>12.338889</td>\n",
              "      <td>12.338889</td>\n",
              "      <td>1.0</td>\n",
              "      <td>3.5581</td>\n",
              "      <td>301.0</td>\n",
              "      <td>8.0500</td>\n",
              "      <td>0.0</td>\n",
              "      <td>1014.45</td>\n",
              "      <td>Mostly cloudy starting overnight.</td>\n",
              "    </tr>\n",
              "    <tr>\n",
              "      <th>96364</th>\n",
              "      <td>2016-09-06 07:00:00.000 +0200</td>\n",
              "      <td>Mostly Cloudy</td>\n",
              "      <td>rain</td>\n",
              "      <td>12.872222</td>\n",
              "      <td>12.872222</td>\n",
              "      <td>1.0</td>\n",
              "      <td>4.5241</td>\n",
              "      <td>339.0</td>\n",
              "      <td>9.9820</td>\n",
              "      <td>0.0</td>\n",
              "      <td>1014.84</td>\n",
              "      <td>Mostly cloudy starting overnight.</td>\n",
              "    </tr>\n",
              "  </tbody>\n",
              "</table>\n",
              "<p>2890 rows × 12 columns</p>\n",
              "</div>\n",
              "    <div class=\"colab-df-buttons\">\n",
              "\n",
              "  <div class=\"colab-df-container\">\n",
              "    <button class=\"colab-df-convert\" onclick=\"convertToInteractive('df-f6c43255-da86-47cd-b513-65f1ecb961c8')\"\n",
              "            title=\"Convert this dataframe to an interactive table.\"\n",
              "            style=\"display:none;\">\n",
              "\n",
              "  <svg xmlns=\"http://www.w3.org/2000/svg\" height=\"24px\" viewBox=\"0 -960 960 960\">\n",
              "    <path d=\"M120-120v-720h720v720H120Zm60-500h600v-160H180v160Zm220 220h160v-160H400v160Zm0 220h160v-160H400v160ZM180-400h160v-160H180v160Zm440 0h160v-160H620v160ZM180-180h160v-160H180v160Zm440 0h160v-160H620v160Z\"/>\n",
              "  </svg>\n",
              "    </button>\n",
              "\n",
              "  <style>\n",
              "    .colab-df-container {\n",
              "      display:flex;\n",
              "      gap: 12px;\n",
              "    }\n",
              "\n",
              "    .colab-df-convert {\n",
              "      background-color: #E8F0FE;\n",
              "      border: none;\n",
              "      border-radius: 50%;\n",
              "      cursor: pointer;\n",
              "      display: none;\n",
              "      fill: #1967D2;\n",
              "      height: 32px;\n",
              "      padding: 0 0 0 0;\n",
              "      width: 32px;\n",
              "    }\n",
              "\n",
              "    .colab-df-convert:hover {\n",
              "      background-color: #E2EBFA;\n",
              "      box-shadow: 0px 1px 2px rgba(60, 64, 67, 0.3), 0px 1px 3px 1px rgba(60, 64, 67, 0.15);\n",
              "      fill: #174EA6;\n",
              "    }\n",
              "\n",
              "    .colab-df-buttons div {\n",
              "      margin-bottom: 4px;\n",
              "    }\n",
              "\n",
              "    [theme=dark] .colab-df-convert {\n",
              "      background-color: #3B4455;\n",
              "      fill: #D2E3FC;\n",
              "    }\n",
              "\n",
              "    [theme=dark] .colab-df-convert:hover {\n",
              "      background-color: #434B5C;\n",
              "      box-shadow: 0px 1px 3px 1px rgba(0, 0, 0, 0.15);\n",
              "      filter: drop-shadow(0px 1px 2px rgba(0, 0, 0, 0.3));\n",
              "      fill: #FFFFFF;\n",
              "    }\n",
              "  </style>\n",
              "\n",
              "    <script>\n",
              "      const buttonEl =\n",
              "        document.querySelector('#df-f6c43255-da86-47cd-b513-65f1ecb961c8 button.colab-df-convert');\n",
              "      buttonEl.style.display =\n",
              "        google.colab.kernel.accessAllowed ? 'block' : 'none';\n",
              "\n",
              "      async function convertToInteractive(key) {\n",
              "        const element = document.querySelector('#df-f6c43255-da86-47cd-b513-65f1ecb961c8');\n",
              "        const dataTable =\n",
              "          await google.colab.kernel.invokeFunction('convertToInteractive',\n",
              "                                                    [key], {});\n",
              "        if (!dataTable) return;\n",
              "\n",
              "        const docLinkHtml = 'Like what you see? Visit the ' +\n",
              "          '<a target=\"_blank\" href=https://colab.research.google.com/notebooks/data_table.ipynb>data table notebook</a>'\n",
              "          + ' to learn more about interactive tables.';\n",
              "        element.innerHTML = '';\n",
              "        dataTable['output_type'] = 'display_data';\n",
              "        await google.colab.output.renderOutput(dataTable, element);\n",
              "        const docLink = document.createElement('div');\n",
              "        docLink.innerHTML = docLinkHtml;\n",
              "        element.appendChild(docLink);\n",
              "      }\n",
              "    </script>\n",
              "  </div>\n",
              "\n",
              "\n",
              "<div id=\"df-53c54075-f1fd-4272-a237-d6e2a5a24712\">\n",
              "  <button class=\"colab-df-quickchart\" onclick=\"quickchart('df-53c54075-f1fd-4272-a237-d6e2a5a24712')\"\n",
              "            title=\"Suggest charts\"\n",
              "            style=\"display:none;\">\n",
              "\n",
              "<svg xmlns=\"http://www.w3.org/2000/svg\" height=\"24px\"viewBox=\"0 0 24 24\"\n",
              "     width=\"24px\">\n",
              "    <g>\n",
              "        <path d=\"M19 3H5c-1.1 0-2 .9-2 2v14c0 1.1.9 2 2 2h14c1.1 0 2-.9 2-2V5c0-1.1-.9-2-2-2zM9 17H7v-7h2v7zm4 0h-2V7h2v10zm4 0h-2v-4h2v4z\"/>\n",
              "    </g>\n",
              "</svg>\n",
              "  </button>\n",
              "\n",
              "<style>\n",
              "  .colab-df-quickchart {\n",
              "      --bg-color: #E8F0FE;\n",
              "      --fill-color: #1967D2;\n",
              "      --hover-bg-color: #E2EBFA;\n",
              "      --hover-fill-color: #174EA6;\n",
              "      --disabled-fill-color: #AAA;\n",
              "      --disabled-bg-color: #DDD;\n",
              "  }\n",
              "\n",
              "  [theme=dark] .colab-df-quickchart {\n",
              "      --bg-color: #3B4455;\n",
              "      --fill-color: #D2E3FC;\n",
              "      --hover-bg-color: #434B5C;\n",
              "      --hover-fill-color: #FFFFFF;\n",
              "      --disabled-bg-color: #3B4455;\n",
              "      --disabled-fill-color: #666;\n",
              "  }\n",
              "\n",
              "  .colab-df-quickchart {\n",
              "    background-color: var(--bg-color);\n",
              "    border: none;\n",
              "    border-radius: 50%;\n",
              "    cursor: pointer;\n",
              "    display: none;\n",
              "    fill: var(--fill-color);\n",
              "    height: 32px;\n",
              "    padding: 0;\n",
              "    width: 32px;\n",
              "  }\n",
              "\n",
              "  .colab-df-quickchart:hover {\n",
              "    background-color: var(--hover-bg-color);\n",
              "    box-shadow: 0 1px 2px rgba(60, 64, 67, 0.3), 0 1px 3px 1px rgba(60, 64, 67, 0.15);\n",
              "    fill: var(--button-hover-fill-color);\n",
              "  }\n",
              "\n",
              "  .colab-df-quickchart-complete:disabled,\n",
              "  .colab-df-quickchart-complete:disabled:hover {\n",
              "    background-color: var(--disabled-bg-color);\n",
              "    fill: var(--disabled-fill-color);\n",
              "    box-shadow: none;\n",
              "  }\n",
              "\n",
              "  .colab-df-spinner {\n",
              "    border: 2px solid var(--fill-color);\n",
              "    border-color: transparent;\n",
              "    border-bottom-color: var(--fill-color);\n",
              "    animation:\n",
              "      spin 1s steps(1) infinite;\n",
              "  }\n",
              "\n",
              "  @keyframes spin {\n",
              "    0% {\n",
              "      border-color: transparent;\n",
              "      border-bottom-color: var(--fill-color);\n",
              "      border-left-color: var(--fill-color);\n",
              "    }\n",
              "    20% {\n",
              "      border-color: transparent;\n",
              "      border-left-color: var(--fill-color);\n",
              "      border-top-color: var(--fill-color);\n",
              "    }\n",
              "    30% {\n",
              "      border-color: transparent;\n",
              "      border-left-color: var(--fill-color);\n",
              "      border-top-color: var(--fill-color);\n",
              "      border-right-color: var(--fill-color);\n",
              "    }\n",
              "    40% {\n",
              "      border-color: transparent;\n",
              "      border-right-color: var(--fill-color);\n",
              "      border-top-color: var(--fill-color);\n",
              "    }\n",
              "    60% {\n",
              "      border-color: transparent;\n",
              "      border-right-color: var(--fill-color);\n",
              "    }\n",
              "    80% {\n",
              "      border-color: transparent;\n",
              "      border-right-color: var(--fill-color);\n",
              "      border-bottom-color: var(--fill-color);\n",
              "    }\n",
              "    90% {\n",
              "      border-color: transparent;\n",
              "      border-bottom-color: var(--fill-color);\n",
              "    }\n",
              "  }\n",
              "</style>\n",
              "\n",
              "  <script>\n",
              "    async function quickchart(key) {\n",
              "      const quickchartButtonEl =\n",
              "        document.querySelector('#' + key + ' button');\n",
              "      quickchartButtonEl.disabled = true;  // To prevent multiple clicks.\n",
              "      quickchartButtonEl.classList.add('colab-df-spinner');\n",
              "      try {\n",
              "        const charts = await google.colab.kernel.invokeFunction(\n",
              "            'suggestCharts', [key], {});\n",
              "      } catch (error) {\n",
              "        console.error('Error during call to suggestCharts:', error);\n",
              "      }\n",
              "      quickchartButtonEl.classList.remove('colab-df-spinner');\n",
              "      quickchartButtonEl.classList.add('colab-df-quickchart-complete');\n",
              "    }\n",
              "    (() => {\n",
              "      let quickchartButtonEl =\n",
              "        document.querySelector('#df-53c54075-f1fd-4272-a237-d6e2a5a24712 button');\n",
              "      quickchartButtonEl.style.display =\n",
              "        google.colab.kernel.accessAllowed ? 'block' : 'none';\n",
              "    })();\n",
              "  </script>\n",
              "</div>\n",
              "\n",
              "    </div>\n",
              "  </div>\n"
            ]
          },
          "metadata": {},
          "execution_count": 34
        }
      ]
    },
    {
      "cell_type": "code",
      "source": [
        "#excl to csv\n",
        "df = pd.read_excel(\"old.csv\")\n",
        "df.to_csv(\"new.csv\")"
      ],
      "metadata": {
        "id": "c-AiHRt7IcR4"
      },
      "execution_count": null,
      "outputs": []
    },
    {
      "cell_type": "code",
      "source": [
        "g = df.groupby('Summary')\n",
        "g"
      ],
      "metadata": {
        "colab": {
          "base_uri": "https://localhost:8080/"
        },
        "id": "RqZXPsRZIyAO",
        "outputId": "02da5503-c9e2-400f-e7cd-4714bddabc65"
      },
      "execution_count": null,
      "outputs": [
        {
          "output_type": "execute_result",
          "data": {
            "text/plain": [
              "<pandas.core.groupby.generic.DataFrameGroupBy object at 0x7f9f986fbf10>"
            ]
          },
          "metadata": {},
          "execution_count": 37
        }
      ]
    },
    {
      "cell_type": "code",
      "source": [
        "for i, i_df in g:\n",
        "  print(i)\n",
        "  print(i_df)"
      ],
      "metadata": {
        "colab": {
          "base_uri": "https://localhost:8080/"
        },
        "id": "3zGRL4O6JFv3",
        "outputId": "7c4be85c-afe2-436d-9554-ecbebcb18dc6"
      },
      "execution_count": null,
      "outputs": [
        {
          "output_type": "stream",
          "name": "stdout",
          "text": [
            "Breezy\n",
            "                      Formatted Date Summary Precip Type  Temperature (C)  \\\n",
            "7180   2006-11-05 05:00:00.000 +0100  Breezy        rain         6.088889   \n",
            "8268   2006-09-17 12:00:00.000 +0200  Breezy        rain        22.300000   \n",
            "11012  2007-02-01 20:00:00.000 +0100  Breezy        rain         6.083333   \n",
            "11918  2007-01-19 14:00:00.000 +0100  Breezy        rain         7.872222   \n",
            "11927  2007-01-19 23:00:00.000 +0100  Breezy        rain         8.311111   \n",
            "11952  2007-01-20 00:00:00.000 +0100  Breezy        rain         8.383333   \n",
            "11954  2007-01-20 02:00:00.000 +0100  Breezy        rain         9.400000   \n",
            "12121  2007-01-27 01:00:00.000 +0100  Breezy        snow        -1.805556   \n",
            "12143  2007-01-27 23:00:00.000 +0100  Breezy        snow        -1.161111   \n",
            "12144  2007-01-28 00:00:00.000 +0100  Breezy        snow        -1.161111   \n",
            "12239  2007-01-30 23:00:00.000 +0100  Breezy        rain         5.000000   \n",
            "12805  2007-07-24 13:00:00.000 +0200  Breezy        rain        37.588889   \n",
            "15410  2007-11-11 03:00:00.000 +0100  Breezy        rain         2.705556   \n",
            "20931  2008-01-28 03:00:00.000 +0100  Breezy        rain         3.905556   \n",
            "20932  2008-01-28 04:00:00.000 +0100  Breezy        rain         3.311111   \n",
            "22657  2008-03-01 01:00:00.000 +0100  Breezy        rain         8.238889   \n",
            "30183  2009-07-18 15:00:00.000 +0200  Breezy        rain        33.888889   \n",
            "31637  2009-03-18 05:00:00.000 +0100  Breezy        rain         3.888889   \n",
            "31778  2009-03-23 02:00:00.000 +0100  Breezy        rain         6.111111   \n",
            "31784  2009-03-23 08:00:00.000 +0100  Breezy        rain         7.777778   \n",
            "32038  2009-03-04 23:00:00.000 +0100  Breezy        rain         8.333333   \n",
            "32424  2009-05-02 01:00:00.000 +0200  Breezy        rain        11.666667   \n",
            "36579  2010-12-10 03:00:00.000 +0100  Breezy        rain         0.994444   \n",
            "36580  2010-12-10 04:00:00.000 +0100  Breezy        rain         0.505556   \n",
            "43947  2011-04-13 03:00:00.000 +0200  Breezy        rain        11.061111   \n",
            "45034  2011-08-27 10:00:00.000 +0200  Breezy        rain        27.777778   \n",
            "45035  2011-08-27 11:00:00.000 +0200  Breezy        rain        29.738889   \n",
            "53776  2012-08-26 16:00:00.000 +0200  Breezy        rain        30.900000   \n",
            "53777  2012-08-26 17:00:00.000 +0200  Breezy        rain        29.938889   \n",
            "55227  2012-02-25 03:00:00.000 +0100  Breezy        rain         6.666667   \n",
            "58293  2012-03-30 22:00:00.000 +0200  Breezy        rain         9.444444   \n",
            "63683  2013-02-12 11:00:00.000 +0100  Breezy        rain         2.700000   \n",
            "71915  2014-12-20 11:00:00.000 +0100  Breezy        rain        11.061111   \n",
            "71936  2014-12-21 08:00:00.000 +0100  Breezy        rain         5.000000   \n",
            "72116  2014-12-28 20:00:00.000 +0100  Breezy        snow        -1.111111   \n",
            "72117  2014-12-28 21:00:00.000 +0100  Breezy        snow        -1.111111   \n",
            "72119  2014-12-28 23:00:00.000 +0100  Breezy        snow        -2.172222   \n",
            "72120  2014-12-29 00:00:00.000 +0100  Breezy        snow        -2.222222   \n",
            "72122  2014-12-29 02:00:00.000 +0100  Breezy        snow        -2.222222   \n",
            "72123  2014-12-29 03:00:00.000 +0100  Breezy        snow        -2.222222   \n",
            "72125  2014-12-29 05:00:00.000 +0100  Breezy        snow        -2.777778   \n",
            "72126  2014-12-29 06:00:00.000 +0100  Breezy        snow        -2.777778   \n",
            "72131  2014-12-29 11:00:00.000 +0100  Breezy        snow        -2.700000   \n",
            "75956  2014-03-09 00:00:00.000 +0100  Breezy        rain         6.083333   \n",
            "75959  2014-03-09 03:00:00.000 +0100  Breezy        rain         3.911111   \n",
            "82398  2015-01-04 09:00:00.000 +0100  Breezy        rain         2.750000   \n",
            "82404  2015-01-04 15:00:00.000 +0100  Breezy        rain         4.950000   \n",
            "82406  2015-01-04 17:00:00.000 +0100  Breezy        rain         3.838889   \n",
            "82409  2015-01-04 20:00:00.000 +0100  Breezy        rain         2.750000   \n",
            "82410  2015-01-04 21:00:00.000 +0100  Breezy        rain         2.172222   \n",
            "82412  2015-01-04 23:00:00.000 +0100  Breezy        rain         2.072222   \n",
            "82422  2015-01-05 09:00:00.000 +0100  Breezy        rain         1.111111   \n",
            "87082  2015-09-14 13:00:00.000 +0200  Breezy        rain        27.172222   \n",
            "89023  2016-08-05 10:00:00.000 +0200  Breezy        rain        27.777778   \n",
            "\n",
            "       Apparent Temperature (C)  Humidity  Wind Speed (km/h)  \\\n",
            "7180                   1.572222      0.76            29.0444   \n",
            "8268                  22.300000      0.55            36.4504   \n",
            "11012                  1.488889      0.65            29.9138   \n",
            "11918                  3.516667      0.82            34.1803   \n",
            "11927                  4.288889      0.74            31.3950   \n",
            "11952                  4.538889      0.71            29.2376   \n",
            "11954                  5.738889      0.62            31.0086   \n",
            "12121                 -8.888889      0.72            30.7832   \n",
            "12143                 -8.161111      0.72            31.8780   \n",
            "12144                 -8.116667      0.69            31.4433   \n",
            "12239                 -0.016667      0.73            31.0086   \n",
            "12805                 35.700000      0.18            29.0122   \n",
            "15410                 -3.050000      0.76            31.3467   \n",
            "20931                 -1.755556      0.48            34.7116   \n",
            "20932                 -2.127778      0.50            29.9943   \n",
            "22657                  3.972222      0.60            34.5828   \n",
            "30183                 34.994444      0.39            28.9800   \n",
            "31637                 -1.433333      0.76            30.5900   \n",
            "31778                  1.605556      0.60            28.9800   \n",
            "31784                  3.305556      0.63            35.4200   \n",
            "32038                  4.494444      0.76            28.9800   \n",
            "32424                 11.666667      0.41            28.9800   \n",
            "36579                 -5.900000      0.73            38.2697   \n",
            "36580                 -6.538889      0.82            38.0121   \n",
            "43947                 11.061111      0.61            35.1302   \n",
            "45034                 27.494444      0.40            29.8816   \n",
            "45035                 28.994444      0.36            29.1571   \n",
            "53776                 29.927778      0.33            30.2841   \n",
            "53777                 29.100000      0.35            29.0122   \n",
            "55227                  2.327778      0.79            28.9800   \n",
            "58293                  5.716667      0.68            32.2000   \n",
            "63683                 -3.188889      0.70            32.8923   \n",
            "71915                 11.061111      0.56            33.8100   \n",
            "71936                  0.144444      0.70            29.1249   \n",
            "72116                 -8.088889      0.80            31.7653   \n",
            "72117                 -8.294444      0.80            33.8100   \n",
            "72119                 -9.794444      0.74            34.8243   \n",
            "72120                 -9.705556      0.74            33.2948   \n",
            "72122                 -9.705556      0.69            33.2948   \n",
            "72123                 -9.705556      0.68            33.2948   \n",
            "72125                -10.411111      0.67            33.0855   \n",
            "72126                -10.411111      0.62            33.0855   \n",
            "72131                -10.350000      0.53            33.4397   \n",
            "75956                  1.338889      0.76            31.8297   \n",
            "75959                 -1.394444      0.82            30.5095   \n",
            "82398                 -3.205556      0.77            33.8583   \n",
            "82404                 -0.327778      0.65            34.0354   \n",
            "82406                 -2.016667      0.64            36.9334   \n",
            "82409                 -3.338889      0.70            35.4200   \n",
            "82410                 -3.961111      0.72            33.7295   \n",
            "82412                 -4.172222      0.70            34.6150   \n",
            "82422                 -4.911111      0.64            29.1088   \n",
            "87082                 27.400000      0.47            28.9800   \n",
            "89023                 28.155556      0.49            32.1839   \n",
            "\n",
            "       Wind Bearing (degrees)  Visibility (km)  Loud Cover  \\\n",
            "7180                    289.0           6.3434         0.0   \n",
            "8268                    149.0           9.9820         0.0   \n",
            "11012                   318.0           9.9820         0.0   \n",
            "11918                   280.0          11.2700         0.0   \n",
            "11927                   309.0          15.8263         0.0   \n",
            "11952                   299.0          15.8263         0.0   \n",
            "11954                   309.0          15.8263         0.0   \n",
            "12121                   299.0          14.5866         0.0   \n",
            "12143                   290.0          15.8263         0.0   \n",
            "12144                   309.0          15.8263         0.0   \n",
            "12239                   308.0          15.8263         0.0   \n",
            "12805                   231.0           9.9820         0.0   \n",
            "15410                   300.0          15.8263         0.0   \n",
            "20931                   340.0          15.8263         0.0   \n",
            "20932                   339.0          15.3111         0.0   \n",
            "22657                   287.0          14.9569         0.0   \n",
            "30183                   140.0           9.9820         0.0   \n",
            "31637                   310.0           9.9820         0.0   \n",
            "31778                   320.0           9.9820         0.0   \n",
            "31784                   300.0           9.9820         0.0   \n",
            "32038                   150.0           0.0000         0.0   \n",
            "32424                    20.0          16.1000         0.0   \n",
            "36579                   289.0          15.8263         0.0   \n",
            "36580                   279.0          15.1823         0.0   \n",
            "43947                   300.0           9.9820         0.0   \n",
            "45034                   140.0           9.9820         0.0   \n",
            "45035                   148.0           9.9820         0.0   \n",
            "53776                   328.0          10.0464         0.0   \n",
            "53777                   320.0          10.4006         0.0   \n",
            "55227                   290.0           0.0000         0.0   \n",
            "58293                   280.0           0.0000         0.0   \n",
            "63683                   119.0          10.0464         0.0   \n",
            "71915                   320.0           9.9820         0.0   \n",
            "71936                   310.0           9.9820         0.0   \n",
            "72116                    11.0           7.2128         0.0   \n",
            "72117                    10.0           6.1180         0.0   \n",
            "72119                     0.0           4.9910         0.0   \n",
            "72120                     0.0           6.1180         0.0   \n",
            "72122                     0.0           6.1180         0.0   \n",
            "72123                     0.0           6.1180         0.0   \n",
            "72125                   350.0           8.0500         0.0   \n",
            "72126                   350.0           8.0500         0.0   \n",
            "72131                   330.0           0.0000         0.0   \n",
            "75956                    31.0          16.0517         0.0   \n",
            "75959                    21.0          15.8263         0.0   \n",
            "82398                   310.0           9.9820         0.0   \n",
            "82404                   310.0           9.9820         0.0   \n",
            "82406                   310.0           0.0000         0.0   \n",
            "82409                   300.0           0.0000         0.0   \n",
            "82410                   300.0           0.0000         0.0   \n",
            "82412                   310.0           0.0000         0.0   \n",
            "82422                   320.0           9.9820         0.0   \n",
            "87082                   160.0           0.0000         0.0   \n",
            "89023                   141.0          16.1000         0.0   \n",
            "\n",
            "       Pressure (millibars)                                      Daily Summary  \n",
            "7180                1021.45         Overcast until night and breezy overnight.  \n",
            "8268                   0.00           Mostly cloudy starting in the afternoon.  \n",
            "11012               1019.94  Partly cloudy starting overnight continuing un...  \n",
            "11918               1008.12  Breezy starting overnight continuing until aft...  \n",
            "11927               1015.53  Breezy starting overnight continuing until aft...  \n",
            "11952               1016.47  Mostly cloudy starting in the morning continui...  \n",
            "11954               1018.05  Mostly cloudy starting in the morning continui...  \n",
            "12121               1022.36  Partly cloudy starting in the afternoon contin...  \n",
            "12143               1020.53  Partly cloudy starting in the afternoon contin...  \n",
            "12144               1021.56             Mostly cloudy starting in the morning.  \n",
            "12239               1019.88                       Mostly cloudy until evening.  \n",
            "12805               1003.90         Breezy and partly cloudy in the afternoon.  \n",
            "15410               1009.36                Breezy and mostly cloudy overnight.  \n",
            "20931               1020.99  Breezy starting overnight continuing until mor...  \n",
            "20932               1022.74  Breezy starting overnight continuing until mor...  \n",
            "22657               1005.56                  Mostly cloudy starting overnight.  \n",
            "30183               1002.60  Mostly cloudy starting in the morning continui...  \n",
            "31637                  0.00  Partly cloudy starting overnight continuing un...  \n",
            "31778                  0.00  Breezy starting in the morning continuing unti...  \n",
            "31784                  0.00  Breezy starting in the morning continuing unti...  \n",
            "32038               1002.40  Foggy starting overnight continuing until morn...  \n",
            "32424               1014.30                  Partly cloudy starting overnight.  \n",
            "36579               1016.28  Partly cloudy starting in the morning continui...  \n",
            "36580               1016.42  Partly cloudy starting in the morning continui...  \n",
            "43947                  0.00  Breezy in the morning and mostly cloudy starti...  \n",
            "45034               1014.53  Breezy in the morning and partly cloudy starti...  \n",
            "45035               1014.47  Breezy in the morning and partly cloudy starti...  \n",
            "53776               1007.50  Breezy starting in the afternoon continuing un...  \n",
            "53777               1007.79  Breezy starting in the afternoon continuing un...  \n",
            "55227               1016.90  Partly cloudy until evening and breezy startin...  \n",
            "58293               1008.30  Mostly cloudy until evening and breezy startin...  \n",
            "63683               1011.00                         Mostly cloudy until night.  \n",
            "71915                  0.00                          Clear throughout the day.  \n",
            "71936                  0.00                            Windy in the afternoon.  \n",
            "72116                  0.00  Foggy starting in the morning continuing until...  \n",
            "72117                  0.00  Foggy starting in the morning continuing until...  \n",
            "72119                  0.00  Foggy starting in the morning continuing until...  \n",
            "72120                  0.00  Breezy starting overnight continuing until mor...  \n",
            "72122                  0.00  Breezy starting overnight continuing until mor...  \n",
            "72123                  0.00  Breezy starting overnight continuing until mor...  \n",
            "72125                  0.00  Breezy starting overnight continuing until mor...  \n",
            "72126                  0.00  Breezy starting overnight continuing until mor...  \n",
            "72131                  0.00  Breezy starting overnight continuing until mor...  \n",
            "75956               1029.95  Partly cloudy starting in the morning continui...  \n",
            "75959               1030.19  Partly cloudy starting in the morning continui...  \n",
            "82398                  0.00  Breezy starting in the morning continuing unti...  \n",
            "82404                  0.00  Breezy starting in the morning continuing unti...  \n",
            "82406                  0.00  Breezy starting in the morning continuing unti...  \n",
            "82409                  0.00  Breezy starting in the morning continuing unti...  \n",
            "82410                  0.00  Breezy starting in the morning continuing unti...  \n",
            "82412                  0.00  Breezy starting in the morning continuing unti...  \n",
            "82422                  0.00  Breezy in the morning and mostly cloudy starti...  \n",
            "87082                  0.00                          Clear throughout the day.  \n",
            "89023               1012.48           Partly cloudy starting in the afternoon.  \n",
            "Breezy and Dry\n",
            "                      Formatted Date         Summary Precip Type  \\\n",
            "57947  2012-03-18 11:00:00.000 +0100  Breezy and Dry        rain   \n",
            "\n",
            "       Temperature (C)  Apparent Temperature (C)  Humidity  Wind Speed (km/h)  \\\n",
            "57947        21.111111                 21.111111      0.26              33.81   \n",
            "\n",
            "       Wind Bearing (degrees)  Visibility (km)  Loud Cover  \\\n",
            "57947                   240.0            9.982         0.0   \n",
            "\n",
            "       Pressure (millibars)                             Daily Summary  \n",
            "57947                1021.6  Partly cloudy starting in the afternoon.  \n",
            "Breezy and Foggy\n",
            "                      Formatted Date           Summary Precip Type  \\\n",
            "5191   2006-03-13 07:00:00.000 +0100  Breezy and Foggy        snow   \n",
            "5192   2006-03-13 08:00:00.000 +0100  Breezy and Foggy        snow   \n",
            "5193   2006-03-13 09:00:00.000 +0100  Breezy and Foggy        snow   \n",
            "5194   2006-03-13 10:00:00.000 +0100  Breezy and Foggy        snow   \n",
            "5195   2006-03-13 11:00:00.000 +0100  Breezy and Foggy        snow   \n",
            "5196   2006-03-13 12:00:00.000 +0100  Breezy and Foggy        snow   \n",
            "5200   2006-03-13 16:00:00.000 +0100  Breezy and Foggy        snow   \n",
            "38501  2010-01-03 05:00:00.000 +0100  Breezy and Foggy        snow   \n",
            "41096  2010-05-16 09:00:00.000 +0200  Breezy and Foggy        rain   \n",
            "54782  2012-12-08 14:00:00.000 +0100  Breezy and Foggy        snow   \n",
            "54783  2012-12-08 15:00:00.000 +0100  Breezy and Foggy        snow   \n",
            "54784  2012-12-08 16:00:00.000 +0100  Breezy and Foggy        snow   \n",
            "54785  2012-12-08 17:00:00.000 +0100  Breezy and Foggy        snow   \n",
            "54786  2012-12-08 18:00:00.000 +0100  Breezy and Foggy        snow   \n",
            "54787  2012-12-08 19:00:00.000 +0100  Breezy and Foggy        snow   \n",
            "54789  2012-12-08 21:00:00.000 +0100  Breezy and Foggy        snow   \n",
            "54791  2012-12-08 23:00:00.000 +0100  Breezy and Foggy        snow   \n",
            "54792  2012-12-09 00:00:00.000 +0100  Breezy and Foggy        snow   \n",
            "54793  2012-12-09 01:00:00.000 +0100  Breezy and Foggy        snow   \n",
            "54794  2012-12-09 02:00:00.000 +0100  Breezy and Foggy        snow   \n",
            "54795  2012-12-09 03:00:00.000 +0100  Breezy and Foggy        snow   \n",
            "54796  2012-12-09 04:00:00.000 +0100  Breezy and Foggy        snow   \n",
            "54797  2012-12-09 05:00:00.000 +0100  Breezy and Foggy        snow   \n",
            "66621  2013-03-14 21:00:00.000 +0100  Breezy and Foggy        snow   \n",
            "66622  2013-03-14 22:00:00.000 +0100  Breezy and Foggy        snow   \n",
            "66623  2013-03-14 23:00:00.000 +0100  Breezy and Foggy        snow   \n",
            "66624  2013-03-15 00:00:00.000 +0100  Breezy and Foggy        snow   \n",
            "66822  2013-03-22 06:00:00.000 +0100  Breezy and Foggy        rain   \n",
            "66823  2013-03-22 07:00:00.000 +0100  Breezy and Foggy        rain   \n",
            "66824  2013-03-22 08:00:00.000 +0100  Breezy and Foggy        rain   \n",
            "66825  2013-03-22 09:00:00.000 +0100  Breezy and Foggy        rain   \n",
            "66826  2013-03-22 10:00:00.000 +0100  Breezy and Foggy        rain   \n",
            "67293  2013-05-11 22:00:00.000 +0200  Breezy and Foggy        rain   \n",
            "74905  2014-06-24 04:00:00.000 +0200  Breezy and Foggy        rain   \n",
            "81758  2015-02-08 17:00:00.000 +0100  Breezy and Foggy        snow   \n",
            "\n",
            "       Temperature (C)  Apparent Temperature (C)  Humidity  Wind Speed (km/h)  \\\n",
            "5191         -2.172222                -10.044444      0.90            37.4808   \n",
            "5192         -2.200000                -10.138889      0.89            38.0765   \n",
            "5193         -2.177778                 -9.977778      0.96            36.6275   \n",
            "5194         -2.105556                 -9.688889      0.96            34.6633   \n",
            "5195         -2.155556                -10.066667      0.96            37.9316   \n",
            "5196         -2.105556                 -9.705556      0.96            34.7921   \n",
            "5200         -1.077778                 -8.105556      0.93            32.3449   \n",
            "38501        -2.200000                 -9.333333      0.96            30.1070   \n",
            "41096         9.916667                  6.361111      0.94            31.7814   \n",
            "54782        -2.850000                -10.644444      0.92            34.4218   \n",
            "54783        -2.800000                -10.722222      0.91            35.8547   \n",
            "54784        -2.833333                -10.461111      0.93            32.8601   \n",
            "54785        -2.822222                -10.594444      0.91            34.2769   \n",
            "54786        -2.822222                -10.111111      0.98            29.8011   \n",
            "54787        -2.800000                -10.005556      0.92            29.1571   \n",
            "54789        -3.327778                -10.961111      0.95            31.4433   \n",
            "54791        -3.311111                -10.894444      0.91            31.1213   \n",
            "54792        -3.311111                -10.922222      0.91            31.3306   \n",
            "54793        -3.777778                -11.811111      0.94            33.8744   \n",
            "54794        -3.816667                -11.905556      0.94            34.2608   \n",
            "54795        -3.816667                -11.900000      0.93            34.1964   \n",
            "54796        -3.827778                -11.855556      0.94            33.6490   \n",
            "54797        -2.822222                -10.572222      0.83            34.0515   \n",
            "66621        -0.133333                 -6.722222      0.96            30.9764   \n",
            "66622        -0.638889                 -7.405556      0.99            31.1374   \n",
            "66623        -0.711111                 -7.800000      1.00            34.1642   \n",
            "66624        -0.711111                 -7.783333      1.00            33.9871   \n",
            "66822         0.022222                 -7.027778      0.99            36.2733   \n",
            "66823         0.116667                 -6.644444      0.97            33.4397   \n",
            "66824         0.072222                 -6.822222      0.98            34.7116   \n",
            "66825         0.161111                 -6.555556      0.98            33.1982   \n",
            "66826         0.355556                 -6.150000      0.96            31.6204   \n",
            "67293        17.616667                 17.616667      0.87            30.2841   \n",
            "74905        17.211111                 17.211111      0.92            32.4898   \n",
            "81758        -0.005556                 -6.977778      0.85            35.3395   \n",
            "\n",
            "       Wind Bearing (degrees)  Visibility (km)  Loud Cover  \\\n",
            "5191                     18.0           1.4651         0.0   \n",
            "5192                     20.0           0.3542         0.0   \n",
            "5193                     20.0           0.3542         0.0   \n",
            "5194                     10.0           0.9821         0.0   \n",
            "5195                     20.0           0.6601         0.0   \n",
            "5196                     20.0           0.6440         0.0   \n",
            "5200                     18.0           2.0125         0.0   \n",
            "38501                   311.0           2.5277         0.0   \n",
            "41096                   282.0           1.9320         0.0   \n",
            "54782                    21.0           1.5778         0.0   \n",
            "54783                    21.0           1.0626         0.0   \n",
            "54784                    22.0           1.0143         0.0   \n",
            "54785                    20.0           1.2719         0.0   \n",
            "54786                    11.0           1.7388         0.0   \n",
            "54787                    10.0           1.7871         0.0   \n",
            "54789                    10.0           1.8354         0.0   \n",
            "54791                     0.0           1.8354         0.0   \n",
            "54792                     0.0           1.8354         0.0   \n",
            "54793                     0.0           1.6744         0.0   \n",
            "54794                     0.0           2.3023         0.0   \n",
            "54795                   350.0           2.3023         0.0   \n",
            "54796                   351.0           2.3506         0.0   \n",
            "54797                   350.0           2.3023         0.0   \n",
            "66621                   340.0           2.4955         0.0   \n",
            "66622                   339.0           1.9320         0.0   \n",
            "66623                   339.0           1.7227         0.0   \n",
            "66624                   349.0           2.4955         0.0   \n",
            "66822                   300.0           1.8676         0.0   \n",
            "66823                   301.0           2.3506         0.0   \n",
            "66824                   300.0           0.7889         0.0   \n",
            "66825                   301.0           1.5939         0.0   \n",
            "66826                   295.0           2.3506         0.0   \n",
            "67293                   242.0           1.2236         0.0   \n",
            "74905                   310.0           0.6762         0.0   \n",
            "81758                   321.0           1.4490         0.0   \n",
            "\n",
            "       Pressure (millibars)                                      Daily Summary  \n",
            "5191                1014.15  Breezy starting overnight continuing until aft...  \n",
            "5192                1014.71  Breezy starting overnight continuing until aft...  \n",
            "5193                1015.00  Breezy starting overnight continuing until aft...  \n",
            "5194                1015.45  Breezy starting overnight continuing until aft...  \n",
            "5195                1015.48  Breezy starting overnight continuing until aft...  \n",
            "5196                1015.57  Breezy starting overnight continuing until aft...  \n",
            "5200                1015.85  Breezy starting overnight continuing until aft...  \n",
            "38501               1012.26  Foggy starting overnight continuing until afte...  \n",
            "41096                993.95  Foggy starting in the morning continuing until...  \n",
            "54782               1010.03  Foggy starting in the afternoon and breezy sta...  \n",
            "54783               1010.35  Foggy starting in the afternoon and breezy sta...  \n",
            "54784               1010.38  Foggy starting in the afternoon and breezy sta...  \n",
            "54785               1010.87  Foggy starting in the afternoon and breezy sta...  \n",
            "54786               1011.10  Foggy starting in the afternoon and breezy sta...  \n",
            "54787               1011.72  Foggy starting in the afternoon and breezy sta...  \n",
            "54789               1012.69  Foggy starting in the afternoon and breezy sta...  \n",
            "54791               1013.00  Foggy starting in the afternoon and breezy sta...  \n",
            "54792               1013.00                    Breezy and foggy until morning.  \n",
            "54793               1012.33                    Breezy and foggy until morning.  \n",
            "54794               1013.23                    Breezy and foggy until morning.  \n",
            "54795               1012.98                    Breezy and foggy until morning.  \n",
            "54796               1012.24                    Breezy and foggy until morning.  \n",
            "54797               1012.59                    Breezy and foggy until morning.  \n",
            "66621                989.47          Breezy and foggy starting in the evening.  \n",
            "66622                989.72          Breezy and foggy starting in the evening.  \n",
            "66623                990.14          Breezy and foggy starting in the evening.  \n",
            "66624                990.74                               Foggy until morning.  \n",
            "66822               1007.65     Breezy until evening and foggy in the morning.  \n",
            "66823               1007.86     Breezy until evening and foggy in the morning.  \n",
            "66824               1008.42     Breezy until evening and foggy in the morning.  \n",
            "66825               1008.91     Breezy until evening and foggy in the morning.  \n",
            "66826               1009.47     Breezy until evening and foggy in the morning.  \n",
            "67293               1009.11                         Partly cloudy until night.  \n",
            "74905               1013.81                  Mostly cloudy throughout the day.  \n",
            "81758               1008.46  Breezy starting in the afternoon continuing un...  \n",
            "Breezy and Mostly Cloudy\n",
            "                      Formatted Date                   Summary Precip Type  \\\n",
            "80     2006-04-12 08:00:00.000 +0200  Breezy and Mostly Cloudy        rain   \n",
            "81     2006-04-12 09:00:00.000 +0200  Breezy and Mostly Cloudy        rain   \n",
            "1312   2006-08-31 16:00:00.000 +0200  Breezy and Mostly Cloudy        rain   \n",
            "3233   2006-01-22 17:00:00.000 +0100  Breezy and Mostly Cloudy        snow   \n",
            "3235   2006-01-22 19:00:00.000 +0100  Breezy and Mostly Cloudy        snow   \n",
            "...                              ...                       ...         ...   \n",
            "92795  2016-03-01 14:00:00.000 +0100  Breezy and Mostly Cloudy        rain   \n",
            "93633  2016-05-13 13:00:00.000 +0200  Breezy and Mostly Cloudy        rain   \n",
            "93635  2016-05-13 15:00:00.000 +0200  Breezy and Mostly Cloudy        rain   \n",
            "93655  2016-05-14 11:00:00.000 +0200  Breezy and Mostly Cloudy        rain   \n",
            "95940  2016-09-17 15:00:00.000 +0200  Breezy and Mostly Cloudy        rain   \n",
            "\n",
            "       Temperature (C)  Apparent Temperature (C)  Humidity  Wind Speed (km/h)  \\\n",
            "80            6.144444                  1.494444      0.93            30.8637   \n",
            "81            7.133333                  2.688889      0.80            32.1678   \n",
            "1312         16.161111                 16.161111      0.77            36.3860   \n",
            "3233         -5.983333                -14.644444      0.69            33.2304   \n",
            "3235         -6.966667                -15.972222      0.74            33.4880   \n",
            "...                ...                       ...       ...                ...   \n",
            "92795         5.994444                  1.127778      0.77            32.9406   \n",
            "93633        21.022222                 21.022222      0.57            30.8315   \n",
            "93635        22.000000                 22.000000      0.50            33.9710   \n",
            "93655        16.161111                 16.161111      0.73            29.0766   \n",
            "95940        27.522222                 27.766667      0.48            29.4469   \n",
            "\n",
            "       Wind Bearing (degrees)  Visibility (km)  Loud Cover  \\\n",
            "80                      349.0          10.5455         0.0   \n",
            "81                      349.0          11.2056         0.0   \n",
            "1312                    309.0          11.2700         0.0   \n",
            "3233                     31.0          11.2700         0.0   \n",
            "3235                     29.0          11.0285         0.0   \n",
            "...                       ...              ...         ...   \n",
            "92795                   271.0           9.9820         0.0   \n",
            "93633                   221.0           9.9820         0.0   \n",
            "93635                   220.0           9.9820         0.0   \n",
            "93655                   245.0          10.1108         0.0   \n",
            "95940                   260.0           9.9820         0.0   \n",
            "\n",
            "       Pressure (millibars)                                      Daily Summary  \n",
            "80                  1004.10         Foggy overnight and breezy in the morning.  \n",
            "81                  1004.26         Foggy overnight and breezy in the morning.  \n",
            "1312                1017.18  Mostly cloudy until night and breezy in the af...  \n",
            "3233                1026.95  Mostly cloudy throughout the day and breezy in...  \n",
            "3235                1027.78  Mostly cloudy throughout the day and breezy in...  \n",
            "...                     ...                                                ...  \n",
            "92795               1012.49  Foggy starting overnight continuing until morn...  \n",
            "93633                998.07  Partly cloudy throughout the day and breezy in...  \n",
            "93635                997.59  Partly cloudy throughout the day and breezy in...  \n",
            "93655                999.97  Mostly cloudy throughout the day and breezy st...  \n",
            "95940               1008.80                  Partly cloudy throughout the day.  \n",
            "\n",
            "[516 rows x 12 columns]\n",
            "Breezy and Overcast\n",
            "                      Formatted Date              Summary Precip Type  \\\n",
            "1306   2006-08-31 10:00:00.000 +0200  Breezy and Overcast        rain   \n",
            "1311   2006-08-31 15:00:00.000 +0200  Breezy and Overcast        rain   \n",
            "1703   2006-12-18 23:00:00.000 +0100  Breezy and Overcast        rain   \n",
            "3129   2006-01-19 09:00:00.000 +0100  Breezy and Overcast        snow   \n",
            "3234   2006-01-22 18:00:00.000 +0100  Breezy and Overcast        snow   \n",
            "...                              ...                  ...         ...   \n",
            "93683  2016-05-15 15:00:00.000 +0200  Breezy and Overcast        rain   \n",
            "93685  2016-05-15 17:00:00.000 +0200  Breezy and Overcast        rain   \n",
            "94146  2016-05-04 22:00:00.000 +0200  Breezy and Overcast        rain   \n",
            "95612  2016-10-04 23:00:00.000 +0200  Breezy and Overcast        rain   \n",
            "96343  2016-09-05 10:00:00.000 +0200  Breezy and Overcast        rain   \n",
            "\n",
            "       Temperature (C)  Apparent Temperature (C)  Humidity  Wind Speed (km/h)  \\\n",
            "1306         15.944444                 15.944444      0.68            33.9066   \n",
            "1311         15.138889                 15.138889      0.82            30.5256   \n",
            "1703          3.288889                 -2.200000      0.83            30.4129   \n",
            "3129         -1.111111                 -7.844444      0.81            29.4630   \n",
            "3234         -7.044444                -15.694444      0.74            30.3968   \n",
            "...                ...                       ...       ...                ...   \n",
            "93683        12.105556                 12.105556      0.57            33.0855   \n",
            "93685         9.922222                  6.255556      0.67            33.5041   \n",
            "94146        13.750000                 13.750000      0.77            30.8476   \n",
            "95612        10.077778                 10.077778      0.81            29.1249   \n",
            "96343        17.616667                 17.616667      0.90            30.9764   \n",
            "\n",
            "       Wind Bearing (degrees)  Visibility (km)  Loud Cover  \\\n",
            "1306                    289.0          11.2700         0.0   \n",
            "1311                    299.0          11.2700         0.0   \n",
            "1703                     18.0           9.9820         0.0   \n",
            "3129                    321.0           7.9695         0.0   \n",
            "3234                     31.0          11.2056         0.0   \n",
            "...                       ...              ...         ...   \n",
            "93683                   330.0           9.9820         0.0   \n",
            "93685                   322.0          14.9569         0.0   \n",
            "94146                   320.0          10.2557         0.0   \n",
            "95612                     9.0          14.9569         0.0   \n",
            "96343                   330.0           9.8532         0.0   \n",
            "\n",
            "       Pressure (millibars)                                      Daily Summary  \n",
            "1306                1016.52  Mostly cloudy until night and breezy in the af...  \n",
            "1311                1017.35  Mostly cloudy until night and breezy in the af...  \n",
            "1703                1023.83  Foggy starting overnight continuing until morn...  \n",
            "3129                1016.64                  Mostly cloudy starting overnight.  \n",
            "3234                1027.58  Mostly cloudy throughout the day and breezy in...  \n",
            "...                     ...                                                ...  \n",
            "93683               1012.39                  Mostly cloudy throughout the day.  \n",
            "93685               1013.27                  Mostly cloudy throughout the day.  \n",
            "94146               1016.33                  Mostly cloudy throughout the day.  \n",
            "95612               1017.13                  Mostly cloudy throughout the day.  \n",
            "96343               1012.61                  Mostly cloudy throughout the day.  \n",
            "\n",
            "[528 rows x 12 columns]\n",
            "Breezy and Partly Cloudy\n",
            "                      Formatted Date                   Summary Precip Type  \\\n",
            "1032   2006-08-21 00:00:00.000 +0200  Breezy and Partly Cloudy        rain   \n",
            "5504   2006-03-25 08:00:00.000 +0100  Breezy and Partly Cloudy        rain   \n",
            "5602   2006-03-29 11:00:00.000 +0200  Breezy and Partly Cloudy        rain   \n",
            "5603   2006-03-29 12:00:00.000 +0200  Breezy and Partly Cloudy        rain   \n",
            "5607   2006-03-29 16:00:00.000 +0200  Breezy and Partly Cloudy        rain   \n",
            "...                              ...                       ...         ...   \n",
            "92910  2016-03-14 09:00:00.000 +0100  Breezy and Partly Cloudy        rain   \n",
            "92911  2016-03-14 10:00:00.000 +0100  Breezy and Partly Cloudy        rain   \n",
            "92912  2016-03-14 11:00:00.000 +0100  Breezy and Partly Cloudy        rain   \n",
            "93631  2016-05-13 11:00:00.000 +0200  Breezy and Partly Cloudy        rain   \n",
            "93634  2016-05-13 14:00:00.000 +0200  Breezy and Partly Cloudy        rain   \n",
            "\n",
            "       Temperature (C)  Apparent Temperature (C)  Humidity  Wind Speed (km/h)  \\\n",
            "1032         21.966667                 21.966667      0.72            30.8315   \n",
            "5504          3.866667                 -1.355556      0.70            29.3986   \n",
            "5602         12.044444                 12.044444      0.75            33.5524   \n",
            "5603         11.916667                 11.916667      0.67            34.5184   \n",
            "5607          9.950000                  5.933333      0.72            39.6865   \n",
            "...                ...                       ...       ...                ...   \n",
            "92910         6.111111                  1.311111      0.64            32.6347   \n",
            "92911         7.688889                  3.494444      0.61            31.0891   \n",
            "92912         7.800000                  3.527778      0.57            32.6025   \n",
            "93631        19.811111                 19.811111      0.57            31.2984   \n",
            "93634        21.911111                 21.911111      0.46            29.5596   \n",
            "\n",
            "       Wind Bearing (degrees)  Visibility (km)  Loud Cover  \\\n",
            "1032                    310.0          15.8263         0.0   \n",
            "5504                    160.0           9.9820         0.0   \n",
            "5602                    261.0          11.4471         0.0   \n",
            "5603                    261.0          11.2700         0.0   \n",
            "5607                    279.0          11.0446         0.0   \n",
            "...                       ...              ...         ...   \n",
            "92910                    31.0          16.1000         0.0   \n",
            "92911                    20.0          15.5526         0.0   \n",
            "92912                    30.0          15.8263         0.0   \n",
            "93631                   225.0          10.3523         0.0   \n",
            "93634                   225.0          10.5777         0.0   \n",
            "\n",
            "       Pressure (millibars)                                      Daily Summary  \n",
            "1032                1015.64                  Mostly cloudy starting overnight.  \n",
            "5504                1016.19                         Partly cloudy until night.  \n",
            "5602                1004.76  Partly cloudy throughout the day and breezy st...  \n",
            "5603                1005.64  Partly cloudy throughout the day and breezy st...  \n",
            "5607                1008.18  Partly cloudy throughout the day and breezy st...  \n",
            "...                     ...                                                ...  \n",
            "92910               1025.71  Partly cloudy until night and breezy in the mo...  \n",
            "92911               1025.60  Partly cloudy until night and breezy in the mo...  \n",
            "92912               1025.57  Partly cloudy until night and breezy in the mo...  \n",
            "93631                998.43  Partly cloudy throughout the day and breezy in...  \n",
            "93634                997.91  Partly cloudy throughout the day and breezy in...  \n",
            "\n",
            "[386 rows x 12 columns]\n",
            "Clear\n",
            "                      Formatted Date Summary Precip Type  Temperature (C)  \\\n",
            "223    2006-04-18 07:00:00.000 +0200   Clear        rain         8.688889   \n",
            "309    2006-04-20 21:00:00.000 +0200   Clear        rain        12.266667   \n",
            "337    2006-04-22 01:00:00.000 +0200   Clear        rain         9.355556   \n",
            "338    2006-04-22 02:00:00.000 +0200   Clear        rain         9.861111   \n",
            "357    2006-04-22 21:00:00.000 +0200   Clear        rain        12.494444   \n",
            "...                              ...     ...         ...              ...   \n",
            "96432  2016-09-09 03:00:00.000 +0200   Clear        rain        15.594444   \n",
            "96433  2016-09-09 04:00:00.000 +0200   Clear        rain        15.011111   \n",
            "96434  2016-09-09 05:00:00.000 +0200   Clear        rain        15.016667   \n",
            "96435  2016-09-09 06:00:00.000 +0200   Clear        rain        13.872222   \n",
            "96436  2016-09-09 07:00:00.000 +0200   Clear        rain        16.072222   \n",
            "\n",
            "       Apparent Temperature (C)  Humidity  Wind Speed (km/h)  \\\n",
            "223                    8.688889      0.93             1.4329   \n",
            "309                   12.266667      0.99             8.0500   \n",
            "337                    8.633333      0.96             6.4239   \n",
            "338                    9.861111      0.96             3.2361   \n",
            "357                   12.494444      0.91             3.9445   \n",
            "...                         ...       ...                ...   \n",
            "96432                 15.594444      0.87             3.2844   \n",
            "96433                 15.011111      0.93             3.2039   \n",
            "96434                 15.016667      0.90             2.7048   \n",
            "96435                 13.872222      0.93             4.7495   \n",
            "96436                 16.072222      0.88             2.7853   \n",
            "\n",
            "       Wind Bearing (degrees)  Visibility (km)  Loud Cover  \\\n",
            "223                     290.0           5.8443         0.0   \n",
            "309                     320.0           6.1985         0.0   \n",
            "337                     321.0           3.3649         0.0   \n",
            "338                     319.0           4.4597         0.0   \n",
            "357                     197.0           9.9820         0.0   \n",
            "...                       ...              ...         ...   \n",
            "96432                    41.0          15.4399         0.0   \n",
            "96433                   341.0          15.8263         0.0   \n",
            "96434                   359.0          14.9569         0.0   \n",
            "96435                     0.0          15.8263         0.0   \n",
            "96436                    12.0          15.7297         0.0   \n",
            "\n",
            "       Pressure (millibars)                                      Daily Summary  \n",
            "223                 1012.96                         Partly cloudy until night.  \n",
            "309                 1015.76  Foggy starting overnight continuing until morn...  \n",
            "337                 1017.56  Foggy starting overnight continuing until morn...  \n",
            "338                 1016.16  Foggy starting overnight continuing until morn...  \n",
            "357                 1015.51  Foggy starting overnight continuing until morn...  \n",
            "...                     ...                                                ...  \n",
            "96432               1014.52             Partly cloudy starting in the morning.  \n",
            "96433               1014.37             Partly cloudy starting in the morning.  \n",
            "96434               1014.55             Partly cloudy starting in the morning.  \n",
            "96435               1014.66             Partly cloudy starting in the morning.  \n",
            "96436               1015.25             Partly cloudy starting in the morning.  \n",
            "\n",
            "[10890 rows x 12 columns]\n",
            "Dangerously Windy and Partly Cloudy\n",
            "                      Formatted Date                              Summary  \\\n",
            "12181  2007-01-29 13:00:00.000 +0100  Dangerously Windy and Partly Cloudy   \n",
            "\n",
            "      Precip Type  Temperature (C)  Apparent Temperature (C)  Humidity  \\\n",
            "12181        rain         8.944444                  3.483333      0.49   \n",
            "\n",
            "       Wind Speed (km/h)  Wind Bearing (degrees)  Visibility (km)  Loud Cover  \\\n",
            "12181            63.8526                   307.0          11.4471         0.0   \n",
            "\n",
            "       Pressure (millibars)                                      Daily Summary  \n",
            "12181               1009.05  Mostly cloudy throughout the day and windy sta...  \n",
            "Drizzle\n",
            "                      Formatted Date  Summary Precip Type  Temperature (C)  \\\n",
            "52690  2012-04-12 10:00:00.000 +0200  Drizzle        rain        14.716667   \n",
            "52741  2012-04-14 13:00:00.000 +0200  Drizzle        rain        12.922222   \n",
            "52743  2012-04-14 15:00:00.000 +0200  Drizzle        rain        13.833333   \n",
            "52816  2012-04-17 16:00:00.000 +0200  Drizzle        rain         7.805556   \n",
            "58911  2012-05-26 16:00:00.000 +0200  Drizzle        rain        17.844444   \n",
            "95063  2016-10-12 03:00:00.000 +0200  Drizzle        rain         8.211111   \n",
            "95064  2016-10-12 04:00:00.000 +0200  Drizzle        rain         8.127778   \n",
            "95065  2016-10-12 05:00:00.000 +0200  Drizzle        rain         8.083333   \n",
            "95066  2016-10-12 06:00:00.000 +0200  Drizzle        rain         8.266667   \n",
            "95067  2016-10-12 07:00:00.000 +0200  Drizzle        rain         8.250000   \n",
            "95083  2016-10-12 23:00:00.000 +0200  Drizzle        rain         7.844444   \n",
            "95151  2016-10-15 19:00:00.000 +0200  Drizzle        rain        13.244444   \n",
            "95152  2016-10-15 20:00:00.000 +0200  Drizzle        rain        12.683333   \n",
            "95153  2016-10-15 21:00:00.000 +0200  Drizzle        rain        12.205556   \n",
            "95154  2016-10-15 22:00:00.000 +0200  Drizzle        rain        12.005556   \n",
            "95155  2016-10-15 23:00:00.000 +0200  Drizzle        rain        11.761111   \n",
            "95156  2016-10-16 00:00:00.000 +0200  Drizzle        rain        11.544444   \n",
            "95157  2016-10-16 01:00:00.000 +0200  Drizzle        rain        11.416667   \n",
            "95158  2016-10-16 02:00:00.000 +0200  Drizzle        rain        11.394444   \n",
            "95159  2016-10-16 03:00:00.000 +0200  Drizzle        rain        11.283333   \n",
            "95160  2016-10-16 04:00:00.000 +0200  Drizzle        rain        10.911111   \n",
            "95161  2016-10-16 05:00:00.000 +0200  Drizzle        rain        10.816667   \n",
            "95162  2016-10-16 06:00:00.000 +0200  Drizzle        rain        10.994444   \n",
            "95163  2016-10-16 07:00:00.000 +0200  Drizzle        rain        10.972222   \n",
            "95164  2016-10-16 08:00:00.000 +0200  Drizzle        rain        11.100000   \n",
            "95165  2016-10-16 09:00:00.000 +0200  Drizzle        rain        11.411111   \n",
            "95166  2016-10-16 10:00:00.000 +0200  Drizzle        rain        12.350000   \n",
            "95167  2016-10-16 11:00:00.000 +0200  Drizzle        rain        12.972222   \n",
            "95299  2016-10-20 23:00:00.000 +0200  Drizzle        rain        10.022222   \n",
            "95300  2016-10-21 00:00:00.000 +0200  Drizzle        rain         9.494444   \n",
            "95301  2016-10-21 01:00:00.000 +0200  Drizzle        rain         9.122222   \n",
            "95303  2016-10-21 03:00:00.000 +0200  Drizzle        rain         8.338889   \n",
            "95304  2016-10-21 04:00:00.000 +0200  Drizzle        rain         8.050000   \n",
            "95305  2016-10-21 05:00:00.000 +0200  Drizzle        rain         8.038889   \n",
            "95306  2016-10-21 06:00:00.000 +0200  Drizzle        rain         8.333333   \n",
            "95307  2016-10-21 07:00:00.000 +0200  Drizzle        rain         8.555556   \n",
            "95333  2016-10-22 09:00:00.000 +0200  Drizzle        rain         8.033333   \n",
            "95433  2016-10-26 13:00:00.000 +0200  Drizzle        rain        14.900000   \n",
            "95434  2016-10-26 14:00:00.000 +0200  Drizzle        rain        15.194444   \n",
            "\n",
            "       Apparent Temperature (C)  Humidity  Wind Speed (km/h)  \\\n",
            "52690                 14.716667      0.59            24.7940   \n",
            "52741                 12.922222      0.89             7.4865   \n",
            "52743                 13.833333      0.78             8.7101   \n",
            "52816                  5.155556      0.90            15.4882   \n",
            "58911                 17.844444      0.58            14.4256   \n",
            "95063                  6.422222      0.94            10.4650   \n",
            "95064                  6.261111      0.94            10.8192   \n",
            "95065                  5.966667      0.94            12.2360   \n",
            "95066                  6.138889      0.93            12.5580   \n",
            "95067                  5.705556      0.93            15.5204   \n",
            "95083                  4.938889      0.88            17.6295   \n",
            "95151                 13.244444      0.80             8.1788   \n",
            "95152                 12.683333      0.82             9.9498   \n",
            "95153                 12.205556      0.85            10.7387   \n",
            "95154                 12.005556      0.86            10.8836   \n",
            "95155                 11.761111      0.86            10.8836   \n",
            "95156                 11.544444      0.86             7.3577   \n",
            "95157                 11.416667      0.89             4.4114   \n",
            "95158                 11.394444      0.89             5.6028   \n",
            "95159                 11.283333      0.90             3.4132   \n",
            "95160                 10.911111      0.91             3.5420   \n",
            "95161                 10.816667      0.91             4.5724   \n",
            "95162                 10.994444      0.91             2.0286   \n",
            "95163                 10.972222      0.91             2.2701   \n",
            "95164                 11.100000      0.93             1.7388   \n",
            "95165                 11.411111      0.93             2.4633   \n",
            "95166                 12.350000      0.88             3.4937   \n",
            "95167                 12.972222      0.87             5.2164   \n",
            "95299                 10.022222      0.82            19.2556   \n",
            "95300                  7.216667      0.84            15.7458   \n",
            "95301                  7.000000      0.84            13.8782   \n",
            "95303                  6.588889      0.89            10.4006   \n",
            "95304                  6.061111      0.92            11.4149   \n",
            "95305                  6.200000      0.93            10.5616   \n",
            "95306                  6.133333      0.91            13.1537   \n",
            "95307                  6.400000      0.91            13.1859   \n",
            "95333                  5.766667      0.88            13.1698   \n",
            "95433                 14.900000      0.83            17.5329   \n",
            "95434                 15.194444      0.80            18.7243   \n",
            "\n",
            "       Wind Bearing (degrees)  Visibility (km)  Loud Cover  \\\n",
            "52690                   248.0          11.1090         0.0   \n",
            "52741                     5.0          11.1090         0.0   \n",
            "52743                    16.0           8.2110         0.0   \n",
            "52816                     6.0          10.6743         0.0   \n",
            "58911                     8.0          11.1573         0.0   \n",
            "95063                   348.0           2.9624         0.0   \n",
            "95064                   355.0           2.9463         0.0   \n",
            "95065                   345.0           3.4937         0.0   \n",
            "95066                   343.0           3.0107         0.0   \n",
            "95067                   344.0           2.9463         0.0   \n",
            "95083                   293.0          11.6886         0.0   \n",
            "95151                   123.0           8.0500         0.0   \n",
            "95152                   120.0           9.9820         0.0   \n",
            "95153                   139.0           9.9820         0.0   \n",
            "95154                   127.0          15.7297         0.0   \n",
            "95155                   130.0          14.7637         0.0   \n",
            "95156                   151.0          15.5043         0.0   \n",
            "95157                   137.0           9.6761         0.0   \n",
            "95158                   136.0           8.1466         0.0   \n",
            "95159                   143.0           4.9105         0.0   \n",
            "95160                   150.0           3.9767         0.0   \n",
            "95161                   154.0           4.8300         0.0   \n",
            "95162                   179.0           4.8300         0.0   \n",
            "95163                   187.0           4.3631         0.0   \n",
            "95164                   295.0           2.9946         0.0   \n",
            "95165                   296.0           2.8980         0.0   \n",
            "95166                   318.0           2.0769         0.0   \n",
            "95167                   333.0           2.2540         0.0   \n",
            "95299                   153.0          14.7959         0.0   \n",
            "95300                   152.0          15.6492         0.0   \n",
            "95301                   160.0          15.6009         0.0   \n",
            "95303                   157.0          15.5526         0.0   \n",
            "95304                   142.0          11.7047         0.0   \n",
            "95305                   140.0           9.7566         0.0   \n",
            "95306                   138.0           9.7083         0.0   \n",
            "95307                   137.0           9.6761         0.0   \n",
            "95333                   291.0           8.0017         0.0   \n",
            "95433                     8.0           0.0000         0.0   \n",
            "95434                     8.0           0.0000         0.0   \n",
            "\n",
            "       Pressure (millibars)                             Daily Summary  \n",
            "52690               1002.78                Light rain in the morning.  \n",
            "52741                995.15                 Light rain until morning.  \n",
            "52743                994.50                 Light rain until morning.  \n",
            "52816               1007.18  Light rain in the morning and afternoon.  \n",
            "58911               1016.86         Partly cloudy throughout the day.  \n",
            "95063               1009.77            Light rain starting overnight.  \n",
            "95064               1009.42            Light rain starting overnight.  \n",
            "95065               1009.01            Light rain starting overnight.  \n",
            "95066               1008.69            Light rain starting overnight.  \n",
            "95067               1008.40            Light rain starting overnight.  \n",
            "95083               1014.20            Light rain starting overnight.  \n",
            "95151               1018.63          Drizzle starting in the evening.  \n",
            "95152               1018.28          Drizzle starting in the evening.  \n",
            "95153               1018.57          Drizzle starting in the evening.  \n",
            "95154               1018.44          Drizzle starting in the evening.  \n",
            "95155               1018.10          Drizzle starting in the evening.  \n",
            "95156               1018.53                    Drizzle until morning.  \n",
            "95157               1018.73                    Drizzle until morning.  \n",
            "95158               1018.81                    Drizzle until morning.  \n",
            "95159               1018.67                    Drizzle until morning.  \n",
            "95160               1018.83                    Drizzle until morning.  \n",
            "95161               1018.92                    Drizzle until morning.  \n",
            "95162               1019.14                    Drizzle until morning.  \n",
            "95163               1019.26                    Drizzle until morning.  \n",
            "95164               1019.61                    Drizzle until morning.  \n",
            "95165               1019.95                    Drizzle until morning.  \n",
            "95166               1020.29                    Drizzle until morning.  \n",
            "95167               1020.68                    Drizzle until morning.  \n",
            "95299               1015.83         Mostly cloudy throughout the day.  \n",
            "95300               1015.75                  Rain throughout the day.  \n",
            "95301               1015.79                  Rain throughout the day.  \n",
            "95303               1015.52                  Rain throughout the day.  \n",
            "95304               1015.03                  Rain throughout the day.  \n",
            "95305               1014.86                  Rain throughout the day.  \n",
            "95306               1014.46                  Rain throughout the day.  \n",
            "95307               1014.38                  Rain throughout the day.  \n",
            "95333               1016.63                       Rain until morning.  \n",
            "95433               1022.19                     Rain until afternoon.  \n",
            "95434               1022.49                     Rain until afternoon.  \n",
            "Dry\n",
            "                      Formatted Date Summary Precip Type  Temperature (C)  \\\n",
            "12706  2007-07-20 10:00:00.000 +0200     Dry        rain        34.055556   \n",
            "12707  2007-07-20 11:00:00.000 +0200     Dry        rain        35.944444   \n",
            "12714  2007-07-20 18:00:00.000 +0200     Dry        rain        37.894444   \n",
            "12715  2007-07-20 19:00:00.000 +0200     Dry        rain        36.272222   \n",
            "12754  2007-07-22 10:00:00.000 +0200     Dry        rain        34.955556   \n",
            "12755  2007-07-22 11:00:00.000 +0200     Dry        rain        36.633333   \n",
            "12756  2007-07-22 12:00:00.000 +0200     Dry        rain        37.711111   \n",
            "12757  2007-07-22 13:00:00.000 +0200     Dry        rain        38.750000   \n",
            "12802  2007-07-24 10:00:00.000 +0200     Dry        rain        33.750000   \n",
            "12803  2007-07-24 11:00:00.000 +0200     Dry        rain        36.577778   \n",
            "12804  2007-07-24 12:00:00.000 +0200     Dry        rain        37.566667   \n",
            "12850  2007-07-26 10:00:00.000 +0200     Dry        rain        25.044444   \n",
            "12875  2007-07-27 11:00:00.000 +0200     Dry        rain        28.838889   \n",
            "12876  2007-07-27 12:00:00.000 +0200     Dry        rain        29.977778   \n",
            "26250  2008-09-06 18:00:00.000 +0200     Dry        rain        33.838889   \n",
            "26268  2008-09-07 12:00:00.000 +0200     Dry        rain        33.961111   \n",
            "26271  2008-09-07 15:00:00.000 +0200     Dry        rain        37.150000   \n",
            "27013  2009-04-08 13:00:00.000 +0200     Dry        rain        23.888889   \n",
            "27371  2009-08-21 11:00:00.000 +0200     Dry        rain        28.750000   \n",
            "53626  2012-08-20 10:00:00.000 +0200     Dry        rain        30.000000   \n",
            "53748  2012-08-25 12:00:00.000 +0200     Dry        rain        34.788889   \n",
            "57923  2012-03-17 11:00:00.000 +0100     Dry        rain        20.000000   \n",
            "57924  2012-03-17 12:00:00.000 +0100     Dry        rain        21.111111   \n",
            "57925  2012-03-17 13:00:00.000 +0100     Dry        rain        21.822222   \n",
            "57926  2012-03-17 14:00:00.000 +0100     Dry        rain        22.222222   \n",
            "57927  2012-03-17 15:00:00.000 +0100     Dry        rain        22.777778   \n",
            "57928  2012-03-17 16:00:00.000 +0100     Dry        rain        21.961111   \n",
            "57929  2012-03-17 17:00:00.000 +0100     Dry        rain        20.000000   \n",
            "57948  2012-03-18 12:00:00.000 +0100     Dry        rain        22.222222   \n",
            "58047  2012-03-21 15:00:00.000 +0100     Dry        rain        20.000000   \n",
            "58094  2012-03-23 14:00:00.000 +0100     Dry        rain        22.222222   \n",
            "58140  2012-03-25 13:00:00.000 +0200     Dry        rain        21.111111   \n",
            "58141  2012-03-25 14:00:00.000 +0200     Dry        rain        22.050000   \n",
            "70098  2013-09-07 18:00:00.000 +0200     Dry        rain        24.994444   \n",
            "\n",
            "       Apparent Temperature (C)  Humidity  Wind Speed (km/h)  \\\n",
            "12706                 33.005556      0.28            13.8138   \n",
            "12707                 34.927778      0.25            13.1054   \n",
            "12714                 35.761111      0.16             9.6922   \n",
            "12715                 34.772222      0.22             8.1144   \n",
            "12754                 34.166667      0.28            14.4417   \n",
            "12755                 35.077778      0.21            20.0606   \n",
            "12756                 35.605556      0.16            25.1643   \n",
            "12757                 36.622222      0.15            21.8799   \n",
            "12802                 32.538889      0.27            17.0821   \n",
            "12803                 35.738889      0.25            15.6331   \n",
            "12804                 35.677778      0.18            21.8477   \n",
            "12850                 25.044444      0.28            10.8031   \n",
            "12875                 27.444444      0.24             7.6314   \n",
            "12876                 28.261111      0.21             8.9033   \n",
            "26250                 32.127778      0.23            12.8317   \n",
            "26268                 32.888889      0.28            14.5061   \n",
            "26271                 35.444444      0.19            20.2699   \n",
            "27013                 23.888889      0.22            16.1000   \n",
            "27371                 27.577778      0.28             8.1144   \n",
            "53626                 28.677778      0.29             4.4919   \n",
            "53748                 33.555556      0.25            12.2843   \n",
            "57923                 20.000000      0.26            14.4900   \n",
            "57924                 21.111111      0.21            12.8800   \n",
            "57925                 21.822222      0.23            16.7601   \n",
            "57926                 22.222222      0.21            20.9300   \n",
            "57927                 22.777778      0.18            17.7100   \n",
            "57928                 21.961111      0.19            15.9229   \n",
            "57929                 20.000000      0.24            12.8800   \n",
            "57948                 22.222222      0.25            27.3700   \n",
            "58047                 20.000000      0.21            14.4900   \n",
            "58094                 22.222222      0.19             9.6600   \n",
            "58140                 21.111111      0.29            12.8800   \n",
            "58141                 22.050000      0.25            16.7118   \n",
            "70098                 24.994444      0.24            10.8192   \n",
            "\n",
            "       Wind Bearing (degrees)  Visibility (km)  Loud Cover  \\\n",
            "12706                   179.0           9.9820         0.0   \n",
            "12707                   168.0          10.3523         0.0   \n",
            "12714                   179.0           9.9820         0.0   \n",
            "12715                   170.0           9.9820         0.0   \n",
            "12754                   248.0           9.9820         0.0   \n",
            "12755                   223.0          10.3523         0.0   \n",
            "12756                   220.0           9.9820         0.0   \n",
            "12757                   230.0           9.9820         0.0   \n",
            "12802                   251.0           9.9820         0.0   \n",
            "12803                   231.0          10.3523         0.0   \n",
            "12804                   222.0           9.9820         0.0   \n",
            "12850                   352.0           9.9820         0.0   \n",
            "12875                    28.0          10.3523         0.0   \n",
            "12876                   358.0           9.9820         0.0   \n",
            "26250                   211.0           9.9820         0.0   \n",
            "26268                   220.0           9.9820         0.0   \n",
            "26271                   249.0           9.9820         0.0   \n",
            "27013                   180.0           9.9820         0.0   \n",
            "27371                    74.0          10.3684         0.0   \n",
            "53626                   355.0           9.9820         0.0   \n",
            "53748                   261.0           9.9820         0.0   \n",
            "57923                   200.0           9.9820         0.0   \n",
            "57924                   230.0           9.9820         0.0   \n",
            "57925                   205.0          10.3684         0.0   \n",
            "57926                   200.0           9.9820         0.0   \n",
            "57927                   200.0           9.9820         0.0   \n",
            "57928                   209.0          10.3684         0.0   \n",
            "57929                   190.0           9.9820         0.0   \n",
            "57948                   220.0           9.9820         0.0   \n",
            "58047                   320.0           9.9820         0.0   \n",
            "58094                   300.0           9.9820         0.0   \n",
            "58140                   310.0           9.9820         0.0   \n",
            "58141                   288.0          10.3684         0.0   \n",
            "70098                   349.0          16.1000         0.0   \n",
            "\n",
            "       Pressure (millibars)                                      Daily Summary  \n",
            "12706               1014.03  Partly cloudy starting in the afternoon contin...  \n",
            "12707               1013.94  Partly cloudy starting in the afternoon contin...  \n",
            "12714               1011.52  Partly cloudy starting in the afternoon contin...  \n",
            "12715               1011.54  Partly cloudy starting in the afternoon contin...  \n",
            "12754               1009.20           Partly cloudy starting in the afternoon.  \n",
            "12755               1009.35           Partly cloudy starting in the afternoon.  \n",
            "12756               1008.96           Partly cloudy starting in the afternoon.  \n",
            "12757               1008.74           Partly cloudy starting in the afternoon.  \n",
            "12802               1004.78         Breezy and partly cloudy in the afternoon.  \n",
            "12803               1004.60         Breezy and partly cloudy in the afternoon.  \n",
            "12804               1004.20         Breezy and partly cloudy in the afternoon.  \n",
            "12850               1018.31                          Clear throughout the day.  \n",
            "12875               1015.99                      Partly cloudy in the morning.  \n",
            "12876               1015.87                      Partly cloudy in the morning.  \n",
            "26250               1010.51                     Partly cloudy until afternoon.  \n",
            "26268               1011.62           Partly cloudy starting in the afternoon.  \n",
            "26271               1010.55           Partly cloudy starting in the afternoon.  \n",
            "27013               1016.60                         Partly cloudy until night.  \n",
            "27371               1021.08                      Partly cloudy in the evening.  \n",
            "53626               1022.68                          Clear throughout the day.  \n",
            "53748               1011.12  Partly cloudy starting in the afternoon contin...  \n",
            "57923               1025.20                      Partly cloudy in the morning.  \n",
            "57924               1024.60                      Partly cloudy in the morning.  \n",
            "57925               1023.80                      Partly cloudy in the morning.  \n",
            "57926               1022.80                      Partly cloudy in the morning.  \n",
            "57927               1022.00                      Partly cloudy in the morning.  \n",
            "57928               1021.39                      Partly cloudy in the morning.  \n",
            "57929               1021.10                      Partly cloudy in the morning.  \n",
            "57948               1021.20           Partly cloudy starting in the afternoon.  \n",
            "58047               1032.20                          Clear throughout the day.  \n",
            "58094               1024.70  Partly cloudy starting in the morning continui...  \n",
            "58140               1022.20  Partly cloudy starting in the afternoon contin...  \n",
            "58141               1021.63  Partly cloudy starting in the afternoon contin...  \n",
            "70098               1019.31                          Clear throughout the day.  \n",
            "Dry and Mostly Cloudy\n",
            "                      Formatted Date                Summary Precip Type  \\\n",
            "53918  2012-08-31 14:00:00.000 +0200  Dry and Mostly Cloudy        rain   \n",
            "53920  2012-08-31 16:00:00.000 +0200  Dry and Mostly Cloudy        rain   \n",
            "53922  2012-08-31 18:00:00.000 +0200  Dry and Mostly Cloudy        rain   \n",
            "53923  2012-08-31 19:00:00.000 +0200  Dry and Mostly Cloudy        rain   \n",
            "53924  2012-08-31 20:00:00.000 +0200  Dry and Mostly Cloudy        rain   \n",
            "57952  2012-03-18 16:00:00.000 +0100  Dry and Mostly Cloudy        rain   \n",
            "57953  2012-03-18 17:00:00.000 +0100  Dry and Mostly Cloudy        rain   \n",
            "58118  2012-03-24 14:00:00.000 +0100  Dry and Mostly Cloudy        rain   \n",
            "60566  2012-10-05 14:00:00.000 +0200  Dry and Mostly Cloudy        rain   \n",
            "60567  2012-10-05 15:00:00.000 +0200  Dry and Mostly Cloudy        rain   \n",
            "60568  2012-10-05 16:00:00.000 +0200  Dry and Mostly Cloudy        rain   \n",
            "60762  2012-09-12 18:00:00.000 +0200  Dry and Mostly Cloudy        rain   \n",
            "61141  2012-09-27 13:00:00.000 +0200  Dry and Mostly Cloudy        rain   \n",
            "61142  2012-09-27 14:00:00.000 +0200  Dry and Mostly Cloudy        rain   \n",
            "\n",
            "       Temperature (C)  Apparent Temperature (C)  Humidity  Wind Speed (km/h)  \\\n",
            "53918        33.672222                 31.388889      0.17            19.8352   \n",
            "53920        33.905556                 31.611111      0.17            21.6706   \n",
            "53922        32.216667                 30.216667      0.21            20.0606   \n",
            "53923        29.972222                 28.355556      0.24            13.6689   \n",
            "53924        27.300000                 26.527778      0.28            12.1072   \n",
            "57952        22.188889                 22.188889      0.23            15.2628   \n",
            "57953        21.111111                 21.111111      0.26             4.8300   \n",
            "58118        22.222222                 22.222222      0.25             8.0500   \n",
            "60566        20.072222                 20.072222      0.27             9.1287   \n",
            "60567        21.016667                 21.016667      0.26             4.7334   \n",
            "60568        20.994444                 20.994444      0.25             7.9534   \n",
            "60762        27.244444                 26.427778      0.26            14.1680   \n",
            "61141        32.016667                 30.638889      0.28            17.7422   \n",
            "61142        31.805556                 30.238889      0.26            22.1375   \n",
            "\n",
            "       Wind Bearing (degrees)  Visibility (km)  Loud Cover  \\\n",
            "53918                   149.0          10.3523         0.0   \n",
            "53920                   141.0           9.9820         0.0   \n",
            "53922                   130.0           9.9820         0.0   \n",
            "53923                   120.0           9.9820         0.0   \n",
            "53924                   131.0          10.3523         0.0   \n",
            "57952                   238.0          10.3684         0.0   \n",
            "57953                   290.0           9.9820         0.0   \n",
            "58118                    30.0           9.9820         0.0   \n",
            "60566                   306.0          10.3523         0.0   \n",
            "60567                   247.0           9.9820         0.0   \n",
            "60568                   279.0           9.9820         0.0   \n",
            "60762                   150.0           9.9820         0.0   \n",
            "61141                   201.0           9.9820         0.0   \n",
            "61142                   217.0          10.3523         0.0   \n",
            "\n",
            "       Pressure (millibars)                                      Daily Summary  \n",
            "53918               1011.83                  Partly cloudy throughout the day.  \n",
            "53920               1010.68                  Partly cloudy throughout the day.  \n",
            "53922               1010.56                  Partly cloudy throughout the day.  \n",
            "53923               1010.57                  Partly cloudy throughout the day.  \n",
            "53924               1011.14                  Partly cloudy throughout the day.  \n",
            "57952               1018.89           Partly cloudy starting in the afternoon.  \n",
            "57953               1018.50           Partly cloudy starting in the afternoon.  \n",
            "58118               1022.00  Partly cloudy starting overnight continuing un...  \n",
            "60566               1021.37                  Mostly cloudy throughout the day.  \n",
            "60567               1020.94                  Mostly cloudy throughout the day.  \n",
            "60568               1020.82                  Mostly cloudy throughout the day.  \n",
            "60762               1007.16  Partly cloudy starting in the morning continui...  \n",
            "61141               1011.98                         Partly cloudy until night.  \n",
            "61142               1011.77                         Partly cloudy until night.  \n",
            "Dry and Partly Cloudy\n",
            "                      Formatted Date                Summary Precip Type  \\\n",
            "9157   2007-04-23 13:00:00.000 +0200  Dry and Partly Cloudy        rain   \n",
            "9160   2007-04-23 16:00:00.000 +0200  Dry and Partly Cloudy        rain   \n",
            "9161   2007-04-23 17:00:00.000 +0200  Dry and Partly Cloudy        rain   \n",
            "9162   2007-04-23 18:00:00.000 +0200  Dry and Partly Cloudy        rain   \n",
            "12738  2007-07-21 18:00:00.000 +0200  Dry and Partly Cloudy        rain   \n",
            "...                              ...                    ...         ...   \n",
            "75586  2014-03-22 13:00:00.000 +0100  Dry and Partly Cloudy        rain   \n",
            "75587  2014-03-22 14:00:00.000 +0100  Dry and Partly Cloudy        rain   \n",
            "75588  2014-03-22 15:00:00.000 +0100  Dry and Partly Cloudy        rain   \n",
            "79664  2015-08-10 11:00:00.000 +0200  Dry and Partly Cloudy        rain   \n",
            "79665  2015-08-10 12:00:00.000 +0200  Dry and Partly Cloudy        rain   \n",
            "\n",
            "       Temperature (C)  Apparent Temperature (C)  Humidity  Wind Speed (km/h)  \\\n",
            "9157         20.072222                 20.072222      0.17             2.8014   \n",
            "9160         21.205556                 21.205556      0.15             5.2969   \n",
            "9161         21.244444                 21.244444      0.15             2.5921   \n",
            "9162         20.161111                 20.161111      0.18             3.6708   \n",
            "12738        37.800000                 35.672222      0.16             9.3863   \n",
            "...                ...                       ...       ...                ...   \n",
            "75586        22.344444                 22.344444      0.27            29.7528   \n",
            "75587        22.150000                 22.150000      0.27            26.6616   \n",
            "75588        22.172222                 22.172222      0.27            24.9389   \n",
            "79664        31.955556                 30.266667      0.25             9.4990   \n",
            "79665        32.733333                 30.794444      0.22             9.1448   \n",
            "\n",
            "       Wind Bearing (degrees)  Visibility (km)  Loud Cover  \\\n",
            "9157                    310.0           9.9820         0.0   \n",
            "9160                    128.0           9.9820         0.0   \n",
            "9161                    198.0          10.3523         0.0   \n",
            "9162                    172.0           9.9820         0.0   \n",
            "12738                   297.0           9.9820         0.0   \n",
            "...                       ...              ...         ...   \n",
            "75586                   193.0          10.5777         0.0   \n",
            "75587                   220.0          16.1000         0.0   \n",
            "75588                   229.0          16.1000         0.0   \n",
            "79664                   172.0          15.5526         0.0   \n",
            "79665                   157.0          16.1000         0.0   \n",
            "\n",
            "       Pressure (millibars)                                      Daily Summary  \n",
            "9157                1025.13  Partly cloudy starting in the morning continui...  \n",
            "9160                1022.73  Partly cloudy starting in the morning continui...  \n",
            "9161                1022.38  Partly cloudy starting in the morning continui...  \n",
            "9162                1021.70  Partly cloudy starting in the morning continui...  \n",
            "12738               1009.89  Partly cloudy starting in the morning continui...  \n",
            "...                     ...                                                ...  \n",
            "75586               1012.54                  Partly cloudy starting overnight.  \n",
            "75587               1011.46                  Partly cloudy starting overnight.  \n",
            "75588               1010.95                  Partly cloudy starting overnight.  \n",
            "79664               1014.81                  Partly cloudy throughout the day.  \n",
            "79665               1014.48                  Partly cloudy throughout the day.  \n",
            "\n",
            "[86 rows x 12 columns]\n",
            "Foggy\n",
            "                      Formatted Date Summary Precip Type  Temperature (C)  \\\n",
            "66     2006-04-11 18:00:00.000 +0200   Foggy        rain        10.911111   \n",
            "67     2006-04-11 19:00:00.000 +0200   Foggy        rain         8.800000   \n",
            "72     2006-04-12 00:00:00.000 +0200   Foggy        rain         8.200000   \n",
            "73     2006-04-12 01:00:00.000 +0200   Foggy        rain         8.177778   \n",
            "126    2006-04-14 06:00:00.000 +0200   Foggy        rain         5.211111   \n",
            "...                              ...     ...         ...              ...   \n",
            "95858  2016-09-14 05:00:00.000 +0200   Foggy        rain        13.144444   \n",
            "95859  2016-09-14 06:00:00.000 +0200   Foggy        rain        13.822222   \n",
            "95860  2016-09-14 07:00:00.000 +0200   Foggy        rain        13.872222   \n",
            "95907  2016-09-16 06:00:00.000 +0200   Foggy        rain        14.905556   \n",
            "96228  2016-09-28 15:00:00.000 +0200   Foggy        rain        22.800000   \n",
            "\n",
            "       Apparent Temperature (C)  Humidity  Wind Speed (km/h)  \\\n",
            "66                    10.911111      0.86            22.3951   \n",
            "67                     5.294444      0.99            26.5006   \n",
            "72                     5.072222      0.96            20.4470   \n",
            "73                     4.372222      0.93            27.8691   \n",
            "126                    5.211111      0.92             4.7656   \n",
            "...                         ...       ...                ...   \n",
            "95858                 13.144444      0.99             3.2039   \n",
            "95859                 13.822222      0.94             4.8300   \n",
            "95860                 13.872222      0.94             3.2039   \n",
            "95907                 14.905556      1.00             7.5992   \n",
            "96228                 22.800000      0.32            10.9158   \n",
            "\n",
            "       Wind Bearing (degrees)  Visibility (km)  Loud Cover  \\\n",
            "66                      311.0           2.6565         0.0   \n",
            "67                      339.0           2.6565         0.0   \n",
            "72                      341.0           3.1073         0.0   \n",
            "73                       19.0           3.2039         0.0   \n",
            "126                     178.0           1.2236         0.0   \n",
            "...                       ...              ...         ...   \n",
            "95858                     2.0           2.2218         0.0   \n",
            "95859                    10.0           1.9642         0.0   \n",
            "95860                   321.0           1.9803         0.0   \n",
            "95907                   169.0           1.6100         0.0   \n",
            "96228                   231.0           0.7245         0.0   \n",
            "\n",
            "       Pressure (millibars)                               Daily Summary  \n",
            "66                  1004.61                       Foggy in the evening.  \n",
            "67                  1004.99                       Foggy in the evening.  \n",
            "72                  1004.80  Foggy overnight and breezy in the morning.  \n",
            "73                  1004.89  Foggy overnight and breezy in the morning.  \n",
            "126                 1013.40           Mostly cloudy throughout the day.  \n",
            "...                     ...                                         ...  \n",
            "95858               1015.33                       Foggy in the morning.  \n",
            "95859               1015.44                       Foggy in the morning.  \n",
            "95860               1015.64                       Foggy in the morning.  \n",
            "95907               1016.51    Partly cloudy starting in the afternoon.  \n",
            "96228               1027.69    Partly cloudy starting in the afternoon.  \n",
            "\n",
            "[7148 rows x 12 columns]\n",
            "Humid and Mostly Cloudy\n",
            "                      Formatted Date                  Summary Precip Type  \\\n",
            "1334   2006-08-04 14:00:00.000 +0200  Humid and Mostly Cloudy        rain   \n",
            "3636   2006-07-01 12:00:00.000 +0200  Humid and Mostly Cloudy        rain   \n",
            "3638   2006-07-01 14:00:00.000 +0200  Humid and Mostly Cloudy        rain   \n",
            "3905   2006-07-02 17:00:00.000 +0200  Humid and Mostly Cloudy        rain   \n",
            "3907   2006-07-02 19:00:00.000 +0200  Humid and Mostly Cloudy        rain   \n",
            "4888   2006-06-29 16:00:00.000 +0200  Humid and Mostly Cloudy        rain   \n",
            "22552  2008-06-05 16:00:00.000 +0200  Humid and Mostly Cloudy        rain   \n",
            "29970  2009-07-01 18:00:00.000 +0200  Humid and Mostly Cloudy        rain   \n",
            "30187  2009-07-18 19:00:00.000 +0200  Humid and Mostly Cloudy        rain   \n",
            "36302  2010-08-28 14:00:00.000 +0200  Humid and Mostly Cloudy        rain   \n",
            "36470  2010-08-06 14:00:00.000 +0200  Humid and Mostly Cloudy        rain   \n",
            "39107  2010-07-24 11:00:00.000 +0200  Humid and Mostly Cloudy        rain   \n",
            "39109  2010-07-24 13:00:00.000 +0200  Humid and Mostly Cloudy        rain   \n",
            "39258  2010-07-03 18:00:00.000 +0200  Humid and Mostly Cloudy        rain   \n",
            "39307  2010-07-31 19:00:00.000 +0200  Humid and Mostly Cloudy        rain   \n",
            "39684  2010-06-18 12:00:00.000 +0200  Humid and Mostly Cloudy        rain   \n",
            "43818  2010-09-08 18:00:00.000 +0200  Humid and Mostly Cloudy        rain   \n",
            "56655  2012-07-24 15:00:00.000 +0200  Humid and Mostly Cloudy        rain   \n",
            "56656  2012-07-24 16:00:00.000 +0200  Humid and Mostly Cloudy        rain   \n",
            "56657  2012-07-24 17:00:00.000 +0200  Humid and Mostly Cloudy        rain   \n",
            "62560  2013-08-26 16:00:00.000 +0200  Humid and Mostly Cloudy        rain   \n",
            "62608  2013-08-28 16:00:00.000 +0200  Humid and Mostly Cloudy        rain   \n",
            "62609  2013-08-28 17:00:00.000 +0200  Humid and Mostly Cloudy        rain   \n",
            "62610  2013-08-28 18:00:00.000 +0200  Humid and Mostly Cloudy        rain   \n",
            "65709  2013-07-07 21:00:00.000 +0200  Humid and Mostly Cloudy        rain   \n",
            "66158  2013-06-24 14:00:00.000 +0200  Humid and Mostly Cloudy        rain   \n",
            "66159  2013-06-24 15:00:00.000 +0200  Humid and Mostly Cloudy        rain   \n",
            "67887  2013-05-06 16:00:00.000 +0200  Humid and Mostly Cloudy        rain   \n",
            "71154  2014-08-02 18:00:00.000 +0200  Humid and Mostly Cloudy        rain   \n",
            "71514  2014-08-05 18:00:00.000 +0200  Humid and Mostly Cloudy        rain   \n",
            "71515  2014-08-05 19:00:00.000 +0200  Humid and Mostly Cloudy        rain   \n",
            "74484  2014-07-08 15:00:00.000 +0200  Humid and Mostly Cloudy        rain   \n",
            "88596  2016-08-17 15:00:00.000 +0200  Humid and Mostly Cloudy        rain   \n",
            "91763  2016-07-26 14:00:00.000 +0200  Humid and Mostly Cloudy        rain   \n",
            "91764  2016-07-26 15:00:00.000 +0200  Humid and Mostly Cloudy        rain   \n",
            "91765  2016-07-26 16:00:00.000 +0200  Humid and Mostly Cloudy        rain   \n",
            "91766  2016-07-26 17:00:00.000 +0200  Humid and Mostly Cloudy        rain   \n",
            "91767  2016-07-26 18:00:00.000 +0200  Humid and Mostly Cloudy        rain   \n",
            "91770  2016-07-26 21:00:00.000 +0200  Humid and Mostly Cloudy        rain   \n",
            "92150  2016-06-12 17:00:00.000 +0200  Humid and Mostly Cloudy        rain   \n",
            "\n",
            "       Temperature (C)  Apparent Temperature (C)  Humidity  Wind Speed (km/h)  \\\n",
            "1334         20.894444                 20.894444      0.82             8.8711   \n",
            "3636         20.094444                 20.094444      0.86            12.1072   \n",
            "3638         20.266667                 20.266667      0.83             7.6636   \n",
            "3905         21.194444                 21.194444      0.86            11.2539   \n",
            "3907         20.050000                 20.050000      0.87             5.0876   \n",
            "4888         20.072222                 20.072222      0.87            19.4005   \n",
            "22552        20.261111                 20.261111      0.85             1.2236   \n",
            "29970        20.000000                 20.000000      0.87             4.8300   \n",
            "30187        20.000000                 20.000000      0.87            25.7600   \n",
            "36302        20.205556                 20.205556      0.83             9.3541   \n",
            "36470        23.111111                 23.111111      0.94             3.8962   \n",
            "39107        20.500000                 20.500000      0.96            22.7976   \n",
            "39109        23.033333                 23.033333      0.82            16.2288   \n",
            "39258        21.311111                 21.311111      0.86            26.9514   \n",
            "39307        22.222222                 22.222222      0.86            10.4328   \n",
            "39684        20.011111                 20.011111      0.87            12.1555   \n",
            "43818        20.827778                 20.827778      0.87            12.5580   \n",
            "56655        21.183333                 21.183333      0.81            16.5830   \n",
            "56656        20.211111                 20.211111      0.86            17.1787   \n",
            "56657        20.427778                 20.427778      0.83            21.8960   \n",
            "62560        21.105556                 21.105556      0.92             4.6851   \n",
            "62608        20.044444                 20.044444      0.86            10.5938   \n",
            "62609        20.077778                 20.077778      0.87             7.4865   \n",
            "62610        20.044444                 20.044444      0.86             4.3792   \n",
            "65709        21.277778                 21.277778      0.97             4.7334   \n",
            "66158        21.788889                 21.788889      0.94            10.5616   \n",
            "66159        20.377778                 20.377778      0.91             9.0643   \n",
            "67887        22.683333                 22.683333      0.83            12.3648   \n",
            "71154        20.327778                 20.327778      0.83             9.0804   \n",
            "71514        20.555556                 20.555556      0.85            21.8316   \n",
            "71515        20.250000                 20.250000      0.86             3.7835   \n",
            "74484        22.388889                 22.388889      0.80             8.7423   \n",
            "88596        21.072222                 21.072222      0.81             2.3184   \n",
            "91763        21.366667                 21.366667      0.87             1.8193   \n",
            "91764        21.355556                 21.355556      0.91             8.8711   \n",
            "91765        21.327778                 21.327778      0.92             3.8479   \n",
            "91766        21.683333                 21.683333      0.95             0.9821   \n",
            "91767        21.405556                 21.405556      0.97             0.4508   \n",
            "91770        20.088889                 20.088889      0.99             0.0000   \n",
            "92150        20.355556                 20.355556      0.84            10.5294   \n",
            "\n",
            "       Wind Bearing (degrees)  Visibility (km)  Loud Cover  \\\n",
            "1334                    342.0          11.3183         0.0   \n",
            "3636                    242.0          11.2700         0.0   \n",
            "3638                    243.0          11.4471         0.0   \n",
            "3905                     44.0          10.8997         0.0   \n",
            "3907                     91.0          11.2700         0.0   \n",
            "4888                     61.0          11.1251         0.0   \n",
            "22552                    17.0           6.3434         0.0   \n",
            "29970                   230.0          11.2700         0.0   \n",
            "30187                   300.0          11.2700         0.0   \n",
            "36302                   320.0          11.4471         0.0   \n",
            "36470                    71.0           7.0518         0.0   \n",
            "39107                   333.0          11.4471         0.0   \n",
            "39109                   330.0          11.2700         0.0   \n",
            "39258                    62.0           8.1949         0.0   \n",
            "39307                    24.0           8.1949         0.0   \n",
            "39684                    71.0          11.1251         0.0   \n",
            "43818                    21.0          11.1251         0.0   \n",
            "56655                    70.0           7.2772         0.0   \n",
            "56656                    70.0           7.2772         0.0   \n",
            "56657                    71.0           5.9731         0.0   \n",
            "62560                   342.0           9.7083         0.0   \n",
            "62608                    10.0           9.9820         0.0   \n",
            "62609                    11.0           9.9820         0.0   \n",
            "62610                    19.0           9.9820         0.0   \n",
            "65709                   316.0           9.9820         0.0   \n",
            "66158                   223.0           7.2611         0.0   \n",
            "66159                    47.0          11.2700         0.0   \n",
            "67887                    41.0          10.0464         0.0   \n",
            "71154                   318.0           8.1305         0.0   \n",
            "71514                    88.0           6.2951         0.0   \n",
            "71515                   105.0           9.9015         0.0   \n",
            "74484                    39.0          15.8263         0.0   \n",
            "88596                   325.0           9.9820         0.0   \n",
            "91763                   270.0          10.1591         0.0   \n",
            "91764                    37.0           9.7566         0.0   \n",
            "91765                   334.0           9.9820         0.0   \n",
            "91766                   336.0          10.3523         0.0   \n",
            "91767                   220.0           9.9820         0.0   \n",
            "91770                     0.0           4.5724         0.0   \n",
            "92150                    43.0           9.5634         0.0   \n",
            "\n",
            "       Pressure (millibars)                                      Daily Summary  \n",
            "1334                1005.05                         Mostly cloudy until night.  \n",
            "3636                1017.99                  Mostly cloudy throughout the day.  \n",
            "3638                1018.06                  Mostly cloudy throughout the day.  \n",
            "3905                1018.15                  Mostly cloudy throughout the day.  \n",
            "3907                1018.81                  Mostly cloudy throughout the day.  \n",
            "4888                1017.95  Mostly cloudy starting overnight continuing un...  \n",
            "22552               1008.18                  Mostly cloudy throughout the day.  \n",
            "29970               1017.10                  Partly cloudy throughout the day.  \n",
            "30187               1005.40  Mostly cloudy starting in the morning continui...  \n",
            "36302               1008.86                  Mostly cloudy throughout the day.  \n",
            "36470               1008.80                  Partly cloudy throughout the day.  \n",
            "39107               1007.54                  Partly cloudy throughout the day.  \n",
            "39109               1007.39                  Partly cloudy throughout the day.  \n",
            "39258               1013.68                         Partly cloudy until night.  \n",
            "39307               1014.33                  Mostly cloudy throughout the day.  \n",
            "39684               1010.03                  Partly cloudy throughout the day.  \n",
            "43818               1011.11  Foggy starting overnight continuing until morn...  \n",
            "56655               1018.57                  Mostly cloudy throughout the day.  \n",
            "56656               1018.01                  Mostly cloudy throughout the day.  \n",
            "56657               1017.44                  Mostly cloudy throughout the day.  \n",
            "62560               1011.34                  Mostly cloudy throughout the day.  \n",
            "62608               1011.13                  Mostly cloudy throughout the day.  \n",
            "62609               1011.15                  Mostly cloudy throughout the day.  \n",
            "62610               1011.03                  Mostly cloudy throughout the day.  \n",
            "65709               1022.04                  Partly cloudy throughout the day.  \n",
            "66158               1007.80                  Partly cloudy throughout the day.  \n",
            "66159               1008.30                  Partly cloudy throughout the day.  \n",
            "67887               1017.32                  Mostly cloudy throughout the day.  \n",
            "71154               1011.64  Partly cloudy starting in the morning continui...  \n",
            "71514               1009.37                  Partly cloudy throughout the day.  \n",
            "71515               1009.93                  Partly cloudy throughout the day.  \n",
            "74484               1008.66                  Mostly cloudy starting overnight.  \n",
            "88596               1010.61                         Mostly cloudy until night.  \n",
            "91763               1016.05                                   Foggy overnight.  \n",
            "91764               1016.30                                   Foggy overnight.  \n",
            "91765               1015.62                                   Foggy overnight.  \n",
            "91766               1016.02                                   Foggy overnight.  \n",
            "91767               1015.11                                   Foggy overnight.  \n",
            "91770               1015.90                                   Foggy overnight.  \n",
            "92150               1007.72                  Mostly cloudy throughout the day.  \n",
            "Humid and Overcast\n",
            "                      Formatted Date             Summary Precip Type  \\\n",
            "36469  2010-08-06 13:00:00.000 +0200  Humid and Overcast        rain   \n",
            "56654  2012-07-24 14:00:00.000 +0200  Humid and Overcast        rain   \n",
            "62559  2013-08-26 15:00:00.000 +0200  Humid and Overcast        rain   \n",
            "67886  2013-05-06 15:00:00.000 +0200  Humid and Overcast        rain   \n",
            "74241  2014-07-27 12:00:00.000 +0200  Humid and Overcast        rain   \n",
            "91762  2016-07-26 13:00:00.000 +0200  Humid and Overcast        rain   \n",
            "92319  2016-06-19 18:00:00.000 +0200  Humid and Overcast        rain   \n",
            "\n",
            "       Temperature (C)  Apparent Temperature (C)  Humidity  Wind Speed (km/h)  \\\n",
            "36469        24.055556                 24.055556      0.89            10.0786   \n",
            "56654        21.266667                 21.266667      0.87             7.1645   \n",
            "62559        22.150000                 22.150000      0.87             9.5151   \n",
            "67886        21.200000                 21.200000      0.91            10.1430   \n",
            "74241        20.294444                 20.294444      0.85             1.7227   \n",
            "91762        21.533333                 21.533333      0.86            19.4327   \n",
            "92319        20.105556                 20.105556      0.92            10.1269   \n",
            "\n",
            "       Wind Bearing (degrees)  Visibility (km)  Loud Cover  \\\n",
            "36469                   170.0           6.1663         0.0   \n",
            "56654                    64.0          11.0768         0.0   \n",
            "62559                    20.0           6.8264         0.0   \n",
            "67886                    44.0          11.2056         0.0   \n",
            "74241                   227.0           9.9820         0.0   \n",
            "91762                   221.0           9.9820         0.0   \n",
            "92319                   226.0           8.1305         0.0   \n",
            "\n",
            "       Pressure (millibars)                      Daily Summary  \n",
            "36469               1008.56  Partly cloudy throughout the day.  \n",
            "56654               1019.54  Mostly cloudy throughout the day.  \n",
            "62559               1011.33  Mostly cloudy throughout the day.  \n",
            "67886               1018.57  Mostly cloudy throughout the day.  \n",
            "74241               1014.46  Mostly cloudy throughout the day.  \n",
            "91762               1016.18                   Foggy overnight.  \n",
            "92319               1013.21  Mostly cloudy throughout the day.  \n",
            "Humid and Partly Cloudy\n",
            "                      Formatted Date                  Summary Precip Type  \\\n",
            "3903   2006-07-02 15:00:00.000 +0200  Humid and Partly Cloudy        rain   \n",
            "3904   2006-07-02 16:00:00.000 +0200  Humid and Partly Cloudy        rain   \n",
            "4938   2006-06-30 18:00:00.000 +0200  Humid and Partly Cloudy        rain   \n",
            "22551  2008-06-05 15:00:00.000 +0200  Humid and Partly Cloudy        rain   \n",
            "27712  2009-08-06 16:00:00.000 +0200  Humid and Partly Cloudy        rain   \n",
            "29971  2009-07-01 19:00:00.000 +0200  Humid and Partly Cloudy        rain   \n",
            "31264  2009-06-30 16:00:00.000 +0200  Humid and Partly Cloudy        rain   \n",
            "39111  2010-07-24 15:00:00.000 +0200  Humid and Partly Cloudy        rain   \n",
            "39184  2010-07-27 16:00:00.000 +0200  Humid and Partly Cloudy        rain   \n",
            "39354  2010-07-05 18:00:00.000 +0200  Humid and Partly Cloudy        rain   \n",
            "39685  2010-06-18 13:00:00.000 +0200  Humid and Partly Cloudy        rain   \n",
            "39690  2010-06-18 18:00:00.000 +0200  Humid and Partly Cloudy        rain   \n",
            "44847  2011-08-02 15:00:00.000 +0200  Humid and Partly Cloudy        rain   \n",
            "48783  2011-06-30 15:00:00.000 +0200  Humid and Partly Cloudy        rain   \n",
            "48785  2011-06-30 17:00:00.000 +0200  Humid and Partly Cloudy        rain   \n",
            "62563  2013-08-26 19:00:00.000 +0200  Humid and Partly Cloudy        rain   \n",
            "66160  2013-06-24 16:00:00.000 +0200  Humid and Partly Cloudy        rain   \n",
            "\n",
            "       Temperature (C)  Apparent Temperature (C)  Humidity  Wind Speed (km/h)  \\\n",
            "3903         22.661111                 22.661111      0.84            15.5204   \n",
            "3904         21.227778                 21.227778      0.86            13.9426   \n",
            "4938         21.388889                 21.388889      0.85            15.5365   \n",
            "22551        20.166667                 20.166667      0.83            10.1752   \n",
            "27712        22.222222                 22.222222      0.81             4.8300   \n",
            "29971        21.111111                 21.111111      0.87             4.8300   \n",
            "31264        22.222222                 22.222222      0.81             4.8300   \n",
            "39111        21.322222                 21.322222      0.91            16.2932   \n",
            "39184        20.905556                 20.905556      0.80             7.6153   \n",
            "39354        21.405556                 21.405556      0.85             7.6636   \n",
            "39685        20.055556                 20.055556      0.84            19.7547   \n",
            "39690        21.183333                 21.183333      0.86            14.0553   \n",
            "44847        22.400000                 22.400000      0.85             8.3881   \n",
            "48783        22.355556                 22.355556      0.80             2.5277   \n",
            "48785        21.427778                 21.427778      0.89             8.3881   \n",
            "62563        21.038889                 21.038889      0.87             4.5080   \n",
            "66160        23.566667                 23.566667      0.89            10.0947   \n",
            "\n",
            "       Wind Bearing (degrees)  Visibility (km)  Loud Cover  \\\n",
            "3903                      1.0          11.1251         0.0   \n",
            "3904                     66.0          11.2700         0.0   \n",
            "4938                    337.0          11.2700         0.0   \n",
            "22551                   274.0          11.2700         0.0   \n",
            "27712                   320.0          11.2700         0.0   \n",
            "29971                    60.0           6.1180         0.0   \n",
            "31264                   180.0          11.2700         0.0   \n",
            "39111                   327.0          11.2700         0.0   \n",
            "39184                   269.0          11.2700         0.0   \n",
            "39354                   261.0          11.2700         0.0   \n",
            "39685                    81.0          11.1251         0.0   \n",
            "39690                   101.0          11.2700         0.0   \n",
            "44847                   339.0          11.2700         0.0   \n",
            "48783                    17.0          10.8997         0.0   \n",
            "48785                   269.0           7.9212         0.0   \n",
            "62563                   261.0           9.6117         0.0   \n",
            "66160                   265.0          11.2700         0.0   \n",
            "\n",
            "       Pressure (millibars)                                      Daily Summary  \n",
            "3903                1017.99                  Mostly cloudy throughout the day.  \n",
            "3904                1017.79                  Mostly cloudy throughout the day.  \n",
            "4938                1017.58                  Partly cloudy throughout the day.  \n",
            "22551               1008.21                  Mostly cloudy throughout the day.  \n",
            "27712               1014.90  Mostly cloudy starting overnight continuing un...  \n",
            "29971               1016.10                  Partly cloudy throughout the day.  \n",
            "31264               1015.10                         Partly cloudy until night.  \n",
            "39111               1006.84                  Partly cloudy throughout the day.  \n",
            "39184               1011.39                  Mostly cloudy throughout the day.  \n",
            "39354               1012.90             Partly cloudy starting in the morning.  \n",
            "39685               1009.46                  Partly cloudy throughout the day.  \n",
            "39690               1005.55                  Partly cloudy throughout the day.  \n",
            "44847               1016.20                         Partly cloudy until night.  \n",
            "48783               1007.47                  Partly cloudy starting overnight.  \n",
            "48785               1006.66                  Partly cloudy starting overnight.  \n",
            "62563               1011.43                  Mostly cloudy throughout the day.  \n",
            "66160               1007.99                  Partly cloudy throughout the day.  \n",
            "Light Rain\n",
            "                      Formatted Date     Summary Precip Type  Temperature (C)  \\\n",
            "52689  2012-04-12 09:00:00.000 +0200  Light Rain        rain        12.011111   \n",
            "52728  2012-04-14 00:00:00.000 +0200  Light Rain        rain        12.611111   \n",
            "52729  2012-04-14 01:00:00.000 +0200  Light Rain        rain        11.155556   \n",
            "52731  2012-04-14 03:00:00.000 +0200  Light Rain        rain         9.627778   \n",
            "52732  2012-04-14 04:00:00.000 +0200  Light Rain        rain         9.588889   \n",
            "...                              ...         ...         ...              ...   \n",
            "95422  2016-10-26 02:00:00.000 +0200  Light Rain        rain        11.683333   \n",
            "95423  2016-10-26 03:00:00.000 +0200  Light Rain        rain        11.238889   \n",
            "95430  2016-10-26 10:00:00.000 +0200  Light Rain        rain        12.288889   \n",
            "95431  2016-10-26 11:00:00.000 +0200  Light Rain        rain        13.255556   \n",
            "95432  2016-10-26 12:00:00.000 +0200  Light Rain        rain        14.183333   \n",
            "\n",
            "       Apparent Temperature (C)  Humidity  Wind Speed (km/h)  \\\n",
            "52689                 12.011111      0.75            12.1716   \n",
            "52728                 12.611111      0.62             5.2647   \n",
            "52729                 11.155556      0.85             3.5420   \n",
            "52731                  8.111111      0.94            10.5294   \n",
            "52732                  8.050000      0.94            10.6099   \n",
            "...                         ...       ...                ...   \n",
            "95422                 11.683333      0.90            10.8836   \n",
            "95423                 11.238889      0.91             9.5795   \n",
            "95430                 12.288889      0.92             7.4060   \n",
            "95431                 13.255556      0.90            11.6564   \n",
            "95432                 14.183333      0.86            15.1340   \n",
            "\n",
            "       Wind Bearing (degrees)  Visibility (km)  Loud Cover  \\\n",
            "52689                   230.0           11.109         0.0   \n",
            "52728                    55.0           16.100         0.0   \n",
            "52729                   149.0           16.100         0.0   \n",
            "52731                    14.0           16.100         0.0   \n",
            "52732                    31.0           16.100         0.0   \n",
            "...                       ...              ...         ...   \n",
            "95422                   157.0            0.000         0.0   \n",
            "95423                   153.0            0.000         0.0   \n",
            "95430                     8.0            0.000         0.0   \n",
            "95431                     9.0            0.000         0.0   \n",
            "95432                     9.0            0.000         0.0   \n",
            "\n",
            "       Pressure (millibars)               Daily Summary  \n",
            "52689               1002.70  Light rain in the morning.  \n",
            "52728                999.78   Light rain until morning.  \n",
            "52729                999.72   Light rain until morning.  \n",
            "52731                998.15   Light rain until morning.  \n",
            "52732                997.64   Light rain until morning.  \n",
            "...                     ...                         ...  \n",
            "95422               1020.30       Rain until afternoon.  \n",
            "95423               1019.79       Rain until afternoon.  \n",
            "95430               1020.90       Rain until afternoon.  \n",
            "95431               1021.49       Rain until afternoon.  \n",
            "95432               1021.88       Rain until afternoon.  \n",
            "\n",
            "[63 rows x 12 columns]\n",
            "Mostly Cloudy\n",
            "                      Formatted Date        Summary Precip Type  \\\n",
            "2      2006-04-01 02:00:00.000 +0200  Mostly Cloudy        rain   \n",
            "4      2006-04-01 04:00:00.000 +0200  Mostly Cloudy        rain   \n",
            "17     2006-04-01 17:00:00.000 +0200  Mostly Cloudy        rain   \n",
            "18     2006-04-01 18:00:00.000 +0200  Mostly Cloudy        rain   \n",
            "19     2006-04-01 19:00:00.000 +0200  Mostly Cloudy        rain   \n",
            "...                              ...            ...         ...   \n",
            "96412  2016-09-08 07:00:00.000 +0200  Mostly Cloudy        rain   \n",
            "96413  2016-09-08 08:00:00.000 +0200  Mostly Cloudy        rain   \n",
            "96415  2016-09-08 10:00:00.000 +0200  Mostly Cloudy        rain   \n",
            "96416  2016-09-08 11:00:00.000 +0200  Mostly Cloudy        rain   \n",
            "96426  2016-09-08 21:00:00.000 +0200  Mostly Cloudy        rain   \n",
            "\n",
            "       Temperature (C)  Apparent Temperature (C)  Humidity  Wind Speed (km/h)  \\\n",
            "2             9.377778                  9.377778      0.89             3.9284   \n",
            "4             8.755556                  6.977778      0.83            11.0446   \n",
            "17           15.550000                 15.550000      0.63            11.1573   \n",
            "18           14.255556                 14.255556      0.69             8.5169   \n",
            "19           13.144444                 13.144444      0.70             7.6314   \n",
            "...                ...                       ...       ...                ...   \n",
            "96412        17.616667                 17.616667      0.85             3.4454   \n",
            "96413        18.927778                 18.927778      0.78             7.8085   \n",
            "96415        24.883333                 24.883333      0.55             3.2683   \n",
            "96416        27.611111                 27.655556      0.45             7.4060   \n",
            "96426        21.016667                 21.016667      0.64             3.2200   \n",
            "\n",
            "       Wind Bearing (degrees)  Visibility (km)  Loud Cover  \\\n",
            "2                       204.0          14.9569         0.0   \n",
            "4                       259.0          15.8263         0.0   \n",
            "17                      230.0          11.4471         0.0   \n",
            "18                      163.0          11.2056         0.0   \n",
            "19                      139.0          11.2056         0.0   \n",
            "...                       ...              ...         ...   \n",
            "96412                    30.0          15.7297         0.0   \n",
            "96413                    33.0          15.2628         0.0   \n",
            "96415                   134.0          16.1000         0.0   \n",
            "96416                    57.0          15.5526         0.0   \n",
            "96426                   340.0          16.1000         0.0   \n",
            "\n",
            "       Pressure (millibars)                      Daily Summary  \n",
            "2                   1015.94  Partly cloudy throughout the day.  \n",
            "4                   1016.51  Partly cloudy throughout the day.  \n",
            "17                  1016.17  Partly cloudy throughout the day.  \n",
            "18                  1015.82  Partly cloudy throughout the day.  \n",
            "19                  1015.83  Partly cloudy throughout the day.  \n",
            "...                     ...                                ...  \n",
            "96412               1017.55  Partly cloudy starting overnight.  \n",
            "96413               1017.47  Partly cloudy starting overnight.  \n",
            "96415               1017.43  Partly cloudy starting overnight.  \n",
            "96416               1017.11  Partly cloudy starting overnight.  \n",
            "96426               1014.73  Partly cloudy starting overnight.  \n",
            "\n",
            "[28094 rows x 12 columns]\n",
            "Overcast\n",
            "                      Formatted Date   Summary Precip Type  Temperature (C)  \\\n",
            "46     2006-04-10 22:00:00.000 +0200  Overcast        rain        14.422222   \n",
            "47     2006-04-10 23:00:00.000 +0200  Overcast        rain        14.255556   \n",
            "48     2006-04-11 00:00:00.000 +0200  Overcast        rain        13.772222   \n",
            "49     2006-04-11 01:00:00.000 +0200  Overcast        rain        13.283333   \n",
            "50     2006-04-11 02:00:00.000 +0200  Overcast        rain         8.633333   \n",
            "...                              ...       ...         ...              ...   \n",
            "96346  2016-09-05 13:00:00.000 +0200  Overcast        rain        16.183333   \n",
            "96347  2016-09-05 14:00:00.000 +0200  Overcast        rain        17.044444   \n",
            "96348  2016-09-05 15:00:00.000 +0200  Overcast        rain        17.177778   \n",
            "96381  2016-09-07 00:00:00.000 +0200  Overcast        rain        17.222222   \n",
            "96382  2016-09-07 01:00:00.000 +0200  Overcast        rain        17.222222   \n",
            "\n",
            "       Apparent Temperature (C)  Humidity  Wind Speed (km/h)  \\\n",
            "46                    14.422222      0.58            20.0123   \n",
            "47                    14.255556      0.59            16.5025   \n",
            "48                    13.772222      0.60            17.0982   \n",
            "49                    13.283333      0.63            14.3612   \n",
            "50                     5.466667      0.87            22.0409   \n",
            "...                         ...       ...                ...   \n",
            "96346                 16.183333      0.93            20.1733   \n",
            "96347                 17.044444      0.93            16.6152   \n",
            "96348                 17.177778      0.93            12.5419   \n",
            "96381                 17.222222      0.90            10.9158   \n",
            "96382                 17.222222      0.90            11.0768   \n",
            "\n",
            "       Wind Bearing (degrees)  Visibility (km)  Loud Cover  \\\n",
            "46                      159.0          15.8263         0.0   \n",
            "47                      168.0          14.9569         0.0   \n",
            "48                      160.0          15.8263         0.0   \n",
            "49                      160.0          15.8263         0.0   \n",
            "50                       32.0           6.6976         0.0   \n",
            "...                       ...              ...         ...   \n",
            "96346                   329.0           5.2164         0.0   \n",
            "96347                   322.0           9.9820         0.0   \n",
            "96348                   319.0           9.9820         0.0   \n",
            "96381                   351.0          16.1000         0.0   \n",
            "96382                   352.0          16.1000         0.0   \n",
            "\n",
            "       Pressure (millibars)                      Daily Summary  \n",
            "46                  1007.85  Mostly cloudy throughout the day.  \n",
            "47                  1007.89  Mostly cloudy throughout the day.  \n",
            "48                  1007.36              Foggy in the evening.  \n",
            "49                  1007.26              Foggy in the evening.  \n",
            "50                  1005.10              Foggy in the evening.  \n",
            "...                     ...                                ...  \n",
            "96346               1012.99  Mostly cloudy throughout the day.  \n",
            "96347               1013.10  Mostly cloudy throughout the day.  \n",
            "96348               1013.05  Mostly cloudy throughout the day.  \n",
            "96381               1021.77  Partly cloudy throughout the day.  \n",
            "96382               1021.87  Partly cloudy throughout the day.  \n",
            "\n",
            "[16597 rows x 12 columns]\n",
            "Partly Cloudy\n",
            "                      Formatted Date        Summary Precip Type  \\\n",
            "0      2006-04-01 00:00:00.000 +0200  Partly Cloudy        rain   \n",
            "1      2006-04-01 01:00:00.000 +0200  Partly Cloudy        rain   \n",
            "3      2006-04-01 03:00:00.000 +0200  Partly Cloudy        rain   \n",
            "5      2006-04-01 05:00:00.000 +0200  Partly Cloudy        rain   \n",
            "6      2006-04-01 06:00:00.000 +0200  Partly Cloudy        rain   \n",
            "...                              ...            ...         ...   \n",
            "96448  2016-09-09 19:00:00.000 +0200  Partly Cloudy        rain   \n",
            "96449  2016-09-09 20:00:00.000 +0200  Partly Cloudy        rain   \n",
            "96450  2016-09-09 21:00:00.000 +0200  Partly Cloudy        rain   \n",
            "96451  2016-09-09 22:00:00.000 +0200  Partly Cloudy        rain   \n",
            "96452  2016-09-09 23:00:00.000 +0200  Partly Cloudy        rain   \n",
            "\n",
            "       Temperature (C)  Apparent Temperature (C)  Humidity  Wind Speed (km/h)  \\\n",
            "0             9.472222                  7.388889      0.89            14.1197   \n",
            "1             9.355556                  7.227778      0.86            14.2646   \n",
            "3             8.288889                  5.944444      0.83            14.1036   \n",
            "5             9.222222                  7.111111      0.85            13.9587   \n",
            "6             7.733333                  5.522222      0.95            12.3648   \n",
            "...                ...                       ...       ...                ...   \n",
            "96448        26.016667                 26.016667      0.43            10.9963   \n",
            "96449        24.583333                 24.583333      0.48            10.0947   \n",
            "96450        22.038889                 22.038889      0.56             8.9838   \n",
            "96451        21.522222                 21.522222      0.60            10.5294   \n",
            "96452        20.438889                 20.438889      0.61             5.8765   \n",
            "\n",
            "       Wind Bearing (degrees)  Visibility (km)  Loud Cover  \\\n",
            "0                       251.0          15.8263         0.0   \n",
            "1                       259.0          15.8263         0.0   \n",
            "3                       269.0          15.8263         0.0   \n",
            "5                       258.0          14.9569         0.0   \n",
            "6                       259.0           9.9820         0.0   \n",
            "...                       ...              ...         ...   \n",
            "96448                    31.0          16.1000         0.0   \n",
            "96449                    20.0          15.5526         0.0   \n",
            "96450                    30.0          16.1000         0.0   \n",
            "96451                    20.0          16.1000         0.0   \n",
            "96452                    39.0          15.5204         0.0   \n",
            "\n",
            "       Pressure (millibars)                           Daily Summary  \n",
            "0                   1015.13       Partly cloudy throughout the day.  \n",
            "1                   1015.63       Partly cloudy throughout the day.  \n",
            "3                   1016.41       Partly cloudy throughout the day.  \n",
            "5                   1016.66       Partly cloudy throughout the day.  \n",
            "6                   1016.72       Partly cloudy throughout the day.  \n",
            "...                     ...                                     ...  \n",
            "96448               1014.36  Partly cloudy starting in the morning.  \n",
            "96449               1015.16  Partly cloudy starting in the morning.  \n",
            "96450               1015.66  Partly cloudy starting in the morning.  \n",
            "96451               1015.95  Partly cloudy starting in the morning.  \n",
            "96452               1016.16  Partly cloudy starting in the morning.  \n",
            "\n",
            "[31733 rows x 12 columns]\n",
            "Rain\n",
            "                      Formatted Date Summary Precip Type  Temperature (C)  \\\n",
            "95323  2016-10-21 23:00:00.000 +0200    Rain        rain         9.738889   \n",
            "95324  2016-10-22 00:00:00.000 +0200    Rain        rain         9.288889   \n",
            "95325  2016-10-22 01:00:00.000 +0200    Rain        rain         8.738889   \n",
            "95326  2016-10-22 02:00:00.000 +0200    Rain        rain         8.205556   \n",
            "95424  2016-10-26 04:00:00.000 +0200    Rain        rain        10.844444   \n",
            "95425  2016-10-26 05:00:00.000 +0200    Rain        rain        10.561111   \n",
            "95426  2016-10-26 06:00:00.000 +0200    Rain        rain        10.488889   \n",
            "95427  2016-10-26 07:00:00.000 +0200    Rain        rain        10.633333   \n",
            "95428  2016-10-26 08:00:00.000 +0200    Rain        rain        10.961111   \n",
            "95429  2016-10-26 09:00:00.000 +0200    Rain        rain        11.500000   \n",
            "\n",
            "       Apparent Temperature (C)  Humidity  Wind Speed (km/h)  \\\n",
            "95323                  9.738889      0.96             4.2826   \n",
            "95324                  8.244444      0.95             7.7280   \n",
            "95325                  6.994444      0.95            10.8192   \n",
            "95326                  6.105556      0.95            12.2843   \n",
            "95424                 10.844444      0.93             7.3899   \n",
            "95425                 10.561111      0.94             5.2647   \n",
            "95426                 10.488889      0.95             3.0912   \n",
            "95427                 10.633333      0.95             0.9821   \n",
            "95428                 10.961111      0.95             1.9320   \n",
            "95429                 11.500000      0.94             4.2021   \n",
            "\n",
            "       Wind Bearing (degrees)  Visibility (km)  Loud Cover  \\\n",
            "95323                   286.0           4.6529         0.0   \n",
            "95324                   314.0           4.4919         0.0   \n",
            "95325                   316.0           3.1395         0.0   \n",
            "95326                   314.0           5.5062         0.0   \n",
            "95424                   150.0           0.0000         0.0   \n",
            "95425                   146.0           0.0000         0.0   \n",
            "95426                   137.0           0.0000         0.0   \n",
            "95427                    99.0           0.0000         0.0   \n",
            "95428                   355.0           0.0000         0.0   \n",
            "95429                     1.0           0.0000         0.0   \n",
            "\n",
            "       Pressure (millibars)             Daily Summary  \n",
            "95323               1014.10  Rain throughout the day.  \n",
            "95324               1014.09       Rain until morning.  \n",
            "95325               1014.12       Rain until morning.  \n",
            "95326               1014.19       Rain until morning.  \n",
            "95424               1019.30     Rain until afternoon.  \n",
            "95425               1019.04     Rain until afternoon.  \n",
            "95426               1019.06     Rain until afternoon.  \n",
            "95427               1019.32     Rain until afternoon.  \n",
            "95428               1019.72     Rain until afternoon.  \n",
            "95429               1020.24     Rain until afternoon.  \n",
            "Windy\n",
            "                      Formatted Date Summary Precip Type  Temperature (C)  \\\n",
            "20930  2008-01-28 02:00:00.000 +0100   Windy        rain         4.994444   \n",
            "31640  2009-03-18 08:00:00.000 +0100   Windy        rain         6.111111   \n",
            "31644  2009-03-18 12:00:00.000 +0100   Windy        rain        10.000000   \n",
            "43944  2011-04-13 00:00:00.000 +0200   Windy        rain        12.172222   \n",
            "71942  2014-12-21 14:00:00.000 +0100   Windy        rain         7.222222   \n",
            "82400  2015-01-04 11:00:00.000 +0100   Windy        rain         3.938889   \n",
            "82401  2015-01-04 12:00:00.000 +0100   Windy        rain         5.000000   \n",
            "82403  2015-01-04 14:00:00.000 +0100   Windy        rain         5.000000   \n",
            "\n",
            "       Apparent Temperature (C)  Humidity  Wind Speed (km/h)  \\\n",
            "20930                 -0.866667      0.45            42.5362   \n",
            "31640                  0.483333      0.60            45.0800   \n",
            "31644                  5.733333      0.41            45.0800   \n",
            "43944                 12.172222      0.57            41.1999   \n",
            "71942                  2.261111      0.55            40.2983   \n",
            "82400                 -2.255556      0.70            42.0854   \n",
            "82401                 -0.727778      0.65            40.5398   \n",
            "82403                 -0.727778      0.65            40.5076   \n",
            "\n",
            "       Wind Bearing (degrees)  Visibility (km)  Loud Cover  \\\n",
            "20930                   340.0          15.8263         0.0   \n",
            "31640                   320.0           9.9820         0.0   \n",
            "31644                   330.0           9.9820         0.0   \n",
            "43944                   319.0           9.9820         0.0   \n",
            "71942                   310.0           9.9820         0.0   \n",
            "82400                   310.0           9.9820         0.0   \n",
            "82401                   310.0           9.9820         0.0   \n",
            "82403                   319.0           9.9820         0.0   \n",
            "\n",
            "       Pressure (millibars)                                      Daily Summary  \n",
            "20930               1019.01  Breezy starting overnight continuing until mor...  \n",
            "31640                  0.00  Partly cloudy starting overnight continuing un...  \n",
            "31644                  0.00  Partly cloudy starting overnight continuing un...  \n",
            "43944                  0.00  Breezy in the morning and mostly cloudy starti...  \n",
            "71942                  0.00                            Windy in the afternoon.  \n",
            "82400                  0.00  Breezy starting in the morning continuing unti...  \n",
            "82401                  0.00  Breezy starting in the morning continuing unti...  \n",
            "82403                  0.00  Breezy starting in the morning continuing unti...  \n",
            "Windy and Dry\n",
            "                      Formatted Date        Summary Precip Type  \\\n",
            "53124  2012-04-29 12:00:00.000 +0200  Windy and Dry        rain   \n",
            "\n",
            "       Temperature (C)  Apparent Temperature (C)  Humidity  Wind Speed (km/h)  \\\n",
            "53124        27.222222                 26.344444      0.24              40.25   \n",
            "\n",
            "       Wind Bearing (degrees)  Visibility (km)  Loud Cover  \\\n",
            "53124                   150.0            9.982         0.0   \n",
            "\n",
            "       Pressure (millibars)                                      Daily Summary  \n",
            "53124                1020.2  Partly cloudy starting in the morning continui...  \n",
            "Windy and Foggy\n",
            "                      Formatted Date          Summary Precip Type  \\\n",
            "4338   2006-07-08 18:00:00.000 +0200  Windy and Foggy        rain   \n",
            "5190   2006-03-13 06:00:00.000 +0100  Windy and Foggy        snow   \n",
            "67437  2013-05-17 22:00:00.000 +0200  Windy and Foggy        rain   \n",
            "84861  2015-05-14 01:00:00.000 +0200  Windy and Foggy        rain   \n",
            "\n",
            "       Temperature (C)  Apparent Temperature (C)  Humidity  Wind Speed (km/h)  \\\n",
            "4338         19.633333                 19.633333      0.76            45.9333   \n",
            "5190         -2.150000                -10.577778      0.95            43.8564   \n",
            "67437        14.927778                 14.927778      0.96            40.3144   \n",
            "84861        15.094444                 15.094444      0.93            46.6095   \n",
            "\n",
            "       Wind Bearing (degrees)  Visibility (km)  Loud Cover  \\\n",
            "4338                     90.0           2.3506         0.0   \n",
            "5190                     20.0           1.3685         0.0   \n",
            "67437                   231.0           3.1395         0.0   \n",
            "84861                   279.0           0.7567         0.0   \n",
            "\n",
            "       Pressure (millibars)                                      Daily Summary  \n",
            "4338                1014.92  Partly cloudy starting in the afternoon contin...  \n",
            "5190                1013.71  Breezy starting overnight continuing until aft...  \n",
            "67437               1007.60                  Mostly cloudy throughout the day.  \n",
            "84861               1011.67                  Mostly cloudy throughout the day.  \n",
            "Windy and Mostly Cloudy\n",
            "                      Formatted Date                  Summary Precip Type  \\\n",
            "11005  2007-02-01 13:00:00.000 +0100  Windy and Mostly Cloudy        rain   \n",
            "11909  2007-01-19 05:00:00.000 +0100  Windy and Mostly Cloudy        rain   \n",
            "12180  2007-01-29 12:00:00.000 +0100  Windy and Mostly Cloudy        rain   \n",
            "20913  2008-01-27 09:00:00.000 +0100  Windy and Mostly Cloudy        rain   \n",
            "20914  2008-01-27 10:00:00.000 +0100  Windy and Mostly Cloudy        rain   \n",
            "20917  2008-01-27 13:00:00.000 +0100  Windy and Mostly Cloudy        rain   \n",
            "20926  2008-01-27 22:00:00.000 +0100  Windy and Mostly Cloudy        rain   \n",
            "27800  2009-12-01 08:00:00.000 +0100  Windy and Mostly Cloudy        rain   \n",
            "27801  2009-12-01 09:00:00.000 +0100  Windy and Mostly Cloudy        rain   \n",
            "31645  2009-03-18 13:00:00.000 +0100  Windy and Mostly Cloudy        rain   \n",
            "31788  2009-03-23 12:00:00.000 +0100  Windy and Mostly Cloudy        rain   \n",
            "32058  2009-03-05 19:00:00.000 +0100  Windy and Mostly Cloudy        rain   \n",
            "32122  2009-03-08 11:00:00.000 +0100  Windy and Mostly Cloudy        rain   \n",
            "43143  2010-09-01 15:00:00.000 +0200  Windy and Mostly Cloudy        rain   \n",
            "43942  2011-04-12 22:00:00.000 +0200  Windy and Mostly Cloudy        rain   \n",
            "44536  2011-04-08 16:00:00.000 +0200  Windy and Mostly Cloudy        rain   \n",
            "44551  2011-04-09 07:00:00.000 +0200  Windy and Mostly Cloudy        rain   \n",
            "44552  2011-04-09 08:00:00.000 +0200  Windy and Mostly Cloudy        rain   \n",
            "46138  2011-02-12 10:00:00.000 +0100  Windy and Mostly Cloudy        rain   \n",
            "49139  2011-03-17 11:00:00.000 +0100  Windy and Mostly Cloudy        rain   \n",
            "49140  2011-03-17 12:00:00.000 +0100  Windy and Mostly Cloudy        rain   \n",
            "57786  2012-03-11 18:00:00.000 +0100  Windy and Mostly Cloudy        rain   \n",
            "58287  2012-03-30 16:00:00.000 +0200  Windy and Mostly Cloudy        rain   \n",
            "58559  2012-05-13 00:00:00.000 +0200  Windy and Mostly Cloudy        rain   \n",
            "60396  2012-10-27 13:00:00.000 +0200  Windy and Mostly Cloudy        rain   \n",
            "64883  2013-01-04 11:00:00.000 +0100  Windy and Mostly Cloudy        rain   \n",
            "64884  2013-01-04 12:00:00.000 +0100  Windy and Mostly Cloudy        rain   \n",
            "75417  2014-03-16 12:00:00.000 +0100  Windy and Mostly Cloudy        rain   \n",
            "75427  2014-03-16 22:00:00.000 +0100  Windy and Mostly Cloudy        rain   \n",
            "75428  2014-03-16 23:00:00.000 +0100  Windy and Mostly Cloudy        rain   \n",
            "75440  2014-03-17 11:00:00.000 +0100  Windy and Mostly Cloudy        rain   \n",
            "79448  2015-04-03 11:00:00.000 +0200  Windy and Mostly Cloudy        rain   \n",
            "82355  2015-01-30 14:00:00.000 +0100  Windy and Mostly Cloudy        rain   \n",
            "82356  2015-01-30 15:00:00.000 +0100  Windy and Mostly Cloudy        rain   \n",
            "85409  2015-05-06 21:00:00.000 +0200  Windy and Mostly Cloudy        rain   \n",
            "\n",
            "       Temperature (C)  Apparent Temperature (C)  Humidity  Wind Speed (km/h)  \\\n",
            "11005        10.050000                 10.050000      0.53            47.2857   \n",
            "11909        13.700000                 13.700000      0.65            46.8349   \n",
            "12180         8.861111                  3.805556      0.54            53.1944   \n",
            "20913         7.572222                  2.400000      0.68            46.0782   \n",
            "20914         7.238889                  2.127778      0.69            42.9387   \n",
            "20917         7.333333                  2.300000      0.65            42.1659   \n",
            "20926         7.772222                  2.905556      0.64            41.7151   \n",
            "27800        12.777778                 12.777778      0.64            40.2500   \n",
            "27801        12.777778                 12.777778      0.69            41.8600   \n",
            "31645         9.811111                  5.722222      0.34            40.2500   \n",
            "31788        12.222222                 12.222222      0.43            41.8600   \n",
            "32058         9.950000                  5.877778      0.77            40.8296   \n",
            "32122         7.777778                  3.005556      0.63            40.2500   \n",
            "43143        17.172222                 17.172222      0.63            43.9369   \n",
            "43942        12.750000                 12.750000      0.68            42.0854   \n",
            "44536        17.216667                 17.216667      0.29            43.8725   \n",
            "44551        14.905556                 14.905556      0.44            43.7115   \n",
            "44552        14.961111                 14.961111      0.42            40.9584   \n",
            "46138         7.122222                  1.966667      0.60            43.0031   \n",
            "49139        16.044444                 16.044444      0.72            43.2607   \n",
            "49140        17.061111                 17.061111      0.68            43.7920   \n",
            "57786         3.888889                 -2.522222      0.89            45.0800   \n",
            "58287        12.222222                 12.222222      0.37            41.8600   \n",
            "58559        15.555556                 15.555556      0.72            40.2500   \n",
            "60396        17.172222                 17.172222      0.63            42.9226   \n",
            "64883         9.905556                  5.722222      0.71            42.6811   \n",
            "64884         9.927778                  5.872222      0.71            40.4593   \n",
            "75417        11.222222                 11.222222      0.54            42.5201   \n",
            "75427        14.527778                 14.527778      0.52            42.6650   \n",
            "75428        14.350000                 14.350000      0.54            41.9566   \n",
            "75440        17.216667                 17.216667      0.38            45.0961   \n",
            "79448         7.638889                  2.744444      0.50            41.4736   \n",
            "82355         7.822222                  2.816667      0.68            44.5648   \n",
            "82356         7.777778                  2.844444      0.69            43.0353   \n",
            "85409        19.905556                 19.905556      0.78            44.4199   \n",
            "\n",
            "       Wind Bearing (degrees)  Visibility (km)  Loud Cover  \\\n",
            "11005                   308.0          11.0768         0.0   \n",
            "11909                   260.0          11.0446         0.0   \n",
            "12180                   299.0          11.2700         0.0   \n",
            "20913                   309.0          11.2700         0.0   \n",
            "20914                   310.0          11.4471         0.0   \n",
            "20917                   310.0          11.4471         0.0   \n",
            "20926                   319.0          15.0052         0.0   \n",
            "27800                   150.0           9.9820         0.0   \n",
            "27801                   150.0           9.9820         0.0   \n",
            "31645                   312.0          10.3684         0.0   \n",
            "31788                   290.0          11.2700         0.0   \n",
            "32058                   149.0           9.9820         0.0   \n",
            "32122                   320.0          11.2700         0.0   \n",
            "43143                   300.0          11.2700         0.0   \n",
            "43942                   310.0          10.0464         0.0   \n",
            "44536                   310.0           9.9820         0.0   \n",
            "44551                   310.0          11.2056         0.0   \n",
            "44552                   312.0          11.0285         0.0   \n",
            "46138                   311.0          10.3523         0.0   \n",
            "49139                   160.0           9.9820         0.0   \n",
            "49140                   170.0          10.0464         0.0   \n",
            "57786                    40.0          11.2700         0.0   \n",
            "58287                   290.0           9.9820         0.0   \n",
            "58559                   320.0           9.9820         0.0   \n",
            "60396                   160.0          10.0464         0.0   \n",
            "64883                   290.0          11.2700         0.0   \n",
            "64884                   300.0          11.2700         0.0   \n",
            "75417                   269.0           9.9820         0.0   \n",
            "75427                   299.0          14.9569         0.0   \n",
            "75428                   300.0          15.8263         0.0   \n",
            "75440                   309.0          16.1000         0.0   \n",
            "79448                   312.0          10.3523         0.0   \n",
            "82355                   140.0          10.2557         0.0   \n",
            "82356                   141.0           9.9820         0.0   \n",
            "85409                   311.0           9.9820         0.0   \n",
            "\n",
            "       Pressure (millibars)                                      Daily Summary  \n",
            "11005               1015.30  Partly cloudy starting overnight continuing un...  \n",
            "11909                999.56  Breezy starting overnight continuing until aft...  \n",
            "12180               1008.71  Mostly cloudy throughout the day and windy sta...  \n",
            "20913               1018.80  Mostly cloudy throughout the day and windy sta...  \n",
            "20914               1018.86  Mostly cloudy throughout the day and windy sta...  \n",
            "20917               1017.91  Mostly cloudy throughout the day and windy sta...  \n",
            "20926               1014.83  Mostly cloudy throughout the day and windy sta...  \n",
            "27800               1004.70  Mostly cloudy throughout the day and breezy st...  \n",
            "27801               1004.40  Mostly cloudy throughout the day and breezy st...  \n",
            "31645               1019.40  Partly cloudy starting overnight continuing un...  \n",
            "31788               1009.30  Breezy starting in the morning continuing unti...  \n",
            "32058                985.57  Mostly cloudy until night and breezy starting ...  \n",
            "32122               1006.60  Mostly cloudy until evening and breezy startin...  \n",
            "43143               1008.64  Mostly cloudy throughout the day and breezy st...  \n",
            "43942                  0.00  Mostly cloudy until night and breezy starting ...  \n",
            "44536               1012.92  Mostly cloudy until night and breezy starting ...  \n",
            "44551               1008.07  Partly cloudy starting overnight continuing un...  \n",
            "44552               1009.41  Partly cloudy starting overnight continuing un...  \n",
            "46138               1012.85  Mostly cloudy until evening and breezy startin...  \n",
            "49139               1004.18  Mostly cloudy throughout the day and breezy st...  \n",
            "49140               1004.20  Mostly cloudy throughout the day and breezy st...  \n",
            "57786               1015.90  Mostly cloudy starting in the morning and bree...  \n",
            "58287               1006.70  Mostly cloudy until evening and breezy startin...  \n",
            "58559               1019.10  Breezy overnight and overcast throughout the day.  \n",
            "60396                991.74  Mostly cloudy starting overnight and breezy st...  \n",
            "64883               1024.60  Mostly cloudy throughout the day and breezy st...  \n",
            "64884               1024.50  Mostly cloudy throughout the day and breezy st...  \n",
            "75417               1009.55  Mostly cloudy throughout the day and breezy in...  \n",
            "75427               1010.41  Mostly cloudy throughout the day and breezy in...  \n",
            "75428               1010.95  Mostly cloudy throughout the day and breezy in...  \n",
            "75440               1016.16  Partly cloudy throughout the day and windy sta...  \n",
            "79448               1017.03  Partly cloudy until evening and breezy startin...  \n",
            "82355                977.27  Mostly cloudy throughout the day and breezy st...  \n",
            "82356                976.61  Mostly cloudy throughout the day and breezy st...  \n",
            "85409               1009.15                  Mostly cloudy throughout the day.  \n",
            "Windy and Overcast\n",
            "                      Formatted Date             Summary Precip Type  \\\n",
            "5183   2006-03-12 23:00:00.000 +0100  Windy and Overcast        rain   \n",
            "5184   2006-03-13 00:00:00.000 +0100  Windy and Overcast        rain   \n",
            "5187   2006-03-13 03:00:00.000 +0100  Windy and Overcast        snow   \n",
            "5189   2006-03-13 05:00:00.000 +0100  Windy and Overcast        snow   \n",
            "11906  2007-01-19 02:00:00.000 +0100  Windy and Overcast        rain   \n",
            "20915  2008-01-27 11:00:00.000 +0100  Windy and Overcast        rain   \n",
            "20916  2008-01-27 12:00:00.000 +0100  Windy and Overcast        rain   \n",
            "21101  2008-01-06 05:00:00.000 +0100  Windy and Overcast        snow   \n",
            "27798  2009-12-01 06:00:00.000 +0100  Windy and Overcast        rain   \n",
            "28137  2009-12-22 09:00:00.000 +0100  Windy and Overcast        rain   \n",
            "31787  2009-03-23 11:00:00.000 +0100  Windy and Overcast        rain   \n",
            "33722  2009-10-13 03:00:00.000 +0200  Windy and Overcast        rain   \n",
            "33723  2009-10-13 04:00:00.000 +0200  Windy and Overcast        rain   \n",
            "33725  2009-10-13 06:00:00.000 +0200  Windy and Overcast        rain   \n",
            "33726  2009-10-13 07:00:00.000 +0200  Windy and Overcast        rain   \n",
            "33729  2009-10-13 10:00:00.000 +0200  Windy and Overcast        rain   \n",
            "33731  2009-10-13 12:00:00.000 +0200  Windy and Overcast        rain   \n",
            "37284  2010-12-09 12:00:00.000 +0100  Windy and Overcast        rain   \n",
            "37286  2010-12-09 14:00:00.000 +0100  Windy and Overcast        rain   \n",
            "37758  2010-02-27 06:00:00.000 +0100  Windy and Overcast        rain   \n",
            "37759  2010-02-27 07:00:00.000 +0100  Windy and Overcast        rain   \n",
            "37760  2010-02-27 08:00:00.000 +0100  Windy and Overcast        rain   \n",
            "37761  2010-02-27 09:00:00.000 +0100  Windy and Overcast        rain   \n",
            "41120  2010-05-17 09:00:00.000 +0200  Windy and Overcast        rain   \n",
            "41126  2010-05-17 15:00:00.000 +0200  Windy and Overcast        rain   \n",
            "44529  2011-04-08 09:00:00.000 +0200  Windy and Overcast        rain   \n",
            "44530  2011-04-08 10:00:00.000 +0200  Windy and Overcast        rain   \n",
            "44531  2011-04-08 11:00:00.000 +0200  Windy and Overcast        rain   \n",
            "44532  2011-04-08 12:00:00.000 +0200  Windy and Overcast        rain   \n",
            "44533  2011-04-08 13:00:00.000 +0200  Windy and Overcast        rain   \n",
            "44534  2011-04-08 14:00:00.000 +0200  Windy and Overcast        rain   \n",
            "58238  2012-03-29 15:00:00.000 +0200  Windy and Overcast        rain   \n",
            "59217  2012-11-01 10:00:00.000 +0100  Windy and Overcast        rain   \n",
            "63987  2013-02-24 03:00:00.000 +0100  Windy and Overcast        rain   \n",
            "64410  2013-01-14 18:00:00.000 +0100  Windy and Overcast        rain   \n",
            "66717  2013-03-18 21:00:00.000 +0100  Windy and Overcast        rain   \n",
            "66718  2013-03-18 22:00:00.000 +0100  Windy and Overcast        rain   \n",
            "66816  2013-03-22 00:00:00.000 +0100  Windy and Overcast        rain   \n",
            "75398  2014-03-15 17:00:00.000 +0100  Windy and Overcast        rain   \n",
            "75400  2014-03-15 19:00:00.000 +0100  Windy and Overcast        rain   \n",
            "77786  2014-10-22 06:00:00.000 +0200  Windy and Overcast        rain   \n",
            "79194  2015-04-02 21:00:00.000 +0200  Windy and Overcast        rain   \n",
            "79818  2015-08-16 21:00:00.000 +0200  Windy and Overcast        rain   \n",
            "82361  2015-01-30 20:00:00.000 +0100  Windy and Overcast        rain   \n",
            "82362  2015-01-30 21:00:00.000 +0100  Windy and Overcast        rain   \n",
            "\n",
            "       Temperature (C)  Apparent Temperature (C)  Humidity  Wind Speed (km/h)  \\\n",
            "5183          0.511111                 -7.116667      0.66            45.5308   \n",
            "5184          0.027778                 -7.550000      0.72            42.6328   \n",
            "5187         -0.066667                 -7.844444      0.69            44.8868   \n",
            "5189         -1.644444                 -9.777778      0.87            42.4718   \n",
            "11906        11.661111                 11.661111      0.66            42.5362   \n",
            "20915         7.172222                  1.605556      0.70            50.9726   \n",
            "20916         7.216667                  1.972222      0.65            45.1283   \n",
            "21101        -2.266667                -10.644444      0.81            42.7938   \n",
            "27798        12.777778                 12.777778      0.64            40.2500   \n",
            "28137         2.222222                 -4.772222      0.72            45.0800   \n",
            "31787        10.000000                  5.977778      0.50            40.2500   \n",
            "33722         8.333333                  3.744444      0.93            40.2500   \n",
            "33723         8.333333                  3.566667      0.93            43.4700   \n",
            "33725         7.777778                  2.911111      0.89            41.8600   \n",
            "33726         7.222222                  1.983333      0.93            45.0800   \n",
            "33729         6.111111                  0.483333      0.86            45.0800   \n",
            "33731         7.222222                  2.261111      0.79            40.2500   \n",
            "37284         5.833333                  0.372222      0.86            40.7974   \n",
            "37286         2.177778                 -4.866667      0.92            45.6274   \n",
            "37758         4.977778                 -0.811111      0.87            41.2965   \n",
            "37759         4.061111                 -2.183333      0.90            43.4539   \n",
            "37760         3.961111                 -2.494444      0.89            46.2070   \n",
            "37761         5.022222                 -0.766667      0.86            41.5219   \n",
            "41120         9.911111                  5.788889      0.86            41.5380   \n",
            "41126         9.983333                  5.750000      0.77            44.1462   \n",
            "44529        13.816667                 13.816667      0.33            43.4861   \n",
            "44530        13.816667                 13.816667      0.29            41.9244   \n",
            "44531        14.988889                 14.988889      0.29            45.9172   \n",
            "44532        16.016667                 16.016667      0.27            49.3948   \n",
            "44533        16.038889                 16.038889      0.23            45.6274   \n",
            "44534        16.200000                 16.200000      0.27            45.1283   \n",
            "58238        18.888889                 18.888889      0.19            41.8600   \n",
            "59217        11.755556                 11.755556      0.82            41.0228   \n",
            "63987         7.105556                  1.927778      0.80            43.2929   \n",
            "64410         4.861111                 -1.116667      0.72            43.6954   \n",
            "66717         4.400000                 -1.588889      0.86            41.3770   \n",
            "66718         4.938889                 -0.922222      0.83            42.2303   \n",
            "66816         2.244444                 -4.422222      0.91            40.6042   \n",
            "75398        13.783333                 13.783333      0.40            54.8849   \n",
            "75400         6.672222                  1.372222      0.80            42.7616   \n",
            "77786         9.955556                  5.883333      0.93            40.9262   \n",
            "79194         7.038889                  2.005556      0.73            40.3788   \n",
            "79818        21.305556                 21.305556      0.86            40.8296   \n",
            "82361         7.366667                  2.361111      0.73            41.7795   \n",
            "82362         7.250000                  2.205556      0.75            41.7956   \n",
            "\n",
            "       Wind Bearing (degrees)  Visibility (km)  Loud Cover  \\\n",
            "5183                     20.0          11.9784         0.0   \n",
            "5184                     20.0          12.0428         0.0   \n",
            "5187                     29.0          14.9569         0.0   \n",
            "5189                     20.0           3.2844         0.0   \n",
            "11906                   220.0          15.8263         0.0   \n",
            "20915                   310.0          11.2700         0.0   \n",
            "20916                   310.0          11.2700         0.0   \n",
            "21101                   160.0          10.0464         0.0   \n",
            "27798                   160.0           9.9820         0.0   \n",
            "28137                   150.0          11.2700         0.0   \n",
            "31787                   300.0          11.2700         0.0   \n",
            "33722                   340.0           4.0250         0.0   \n",
            "33723                   330.0           4.0250         0.0   \n",
            "33725                   330.0           4.5080         0.0   \n",
            "33726                   330.0           6.1180         0.0   \n",
            "33729                   320.0           7.0840         0.0   \n",
            "33731                   310.0           7.0840         0.0   \n",
            "37284                   310.0          11.2700         0.0   \n",
            "37286                   310.0          11.1251         0.0   \n",
            "37758                   311.0           6.3434         0.0   \n",
            "37759                   320.0           8.7745         0.0   \n",
            "37760                   320.0           8.0500         0.0   \n",
            "37761                   312.0           8.0500         0.0   \n",
            "41120                   311.0          11.2700         0.0   \n",
            "41126                   311.0          11.2700         0.0   \n",
            "44529                   310.0           9.9820         0.0   \n",
            "44530                   300.0          16.1000         0.0   \n",
            "44531                   303.0          10.3523         0.0   \n",
            "44532                   300.0           9.9820         0.0   \n",
            "44533                   310.0           9.9820         0.0   \n",
            "44534                   303.0          10.3523         0.0   \n",
            "58238                   300.0          11.2700         0.0   \n",
            "59217                   131.0           9.8371         0.0   \n",
            "63987                   130.0          11.2056         0.0   \n",
            "64410                   140.0           9.9015         0.0   \n",
            "66717                   140.0          14.8120         0.0   \n",
            "66718                   140.0          14.8764         0.0   \n",
            "66816                   300.0          11.0446         0.0   \n",
            "75398                   320.0           6.2951         0.0   \n",
            "75400                   339.0           9.9820         0.0   \n",
            "77786                   311.0           4.1699         0.0   \n",
            "79194                   263.0          10.2557         0.0   \n",
            "79818                   200.0           4.2987         0.0   \n",
            "82361                   140.0           9.7083         0.0   \n",
            "82362                   150.0          14.6832         0.0   \n",
            "\n",
            "       Pressure (millibars)                                      Daily Summary  \n",
            "5183                1012.71  Foggy in the morning and breezy starting in th...  \n",
            "5184                1012.80  Breezy starting overnight continuing until aft...  \n",
            "5187                1012.93  Breezy starting overnight continuing until aft...  \n",
            "5189                1013.42  Breezy starting overnight continuing until aft...  \n",
            "11906               1002.33  Breezy starting overnight continuing until aft...  \n",
            "20915               1018.86  Mostly cloudy throughout the day and windy sta...  \n",
            "20916               1018.55  Mostly cloudy throughout the day and windy sta...  \n",
            "21101               1021.37  Overcast throughout the day and breezy startin...  \n",
            "27798               1004.70  Mostly cloudy throughout the day and breezy st...  \n",
            "28137               1010.70  Mostly cloudy throughout the day and breezy in...  \n",
            "31787               1010.00  Breezy starting in the morning continuing unti...  \n",
            "33722               1000.80  Breezy until afternoon and mostly cloudy throu...  \n",
            "33723               1001.40  Breezy until afternoon and mostly cloudy throu...  \n",
            "33725               1001.10  Breezy until afternoon and mostly cloudy throu...  \n",
            "33726               1001.70  Breezy until afternoon and mostly cloudy throu...  \n",
            "33729               1004.30  Breezy until afternoon and mostly cloudy throu...  \n",
            "33731               1005.40  Breezy until afternoon and mostly cloudy throu...  \n",
            "37284               1006.16  Mostly cloudy starting overnight continuing un...  \n",
            "37286               1008.02  Mostly cloudy starting overnight continuing un...  \n",
            "37758               1001.03  Mostly cloudy until evening and windy starting...  \n",
            "37759               1002.68  Mostly cloudy until evening and windy starting...  \n",
            "37760               1003.68  Mostly cloudy until evening and windy starting...  \n",
            "37761               1004.40  Mostly cloudy until evening and windy starting...  \n",
            "41120               1004.52  Overcast throughout the day and breezy startin...  \n",
            "41126               1008.38  Overcast throughout the day and breezy startin...  \n",
            "44529               1012.73  Mostly cloudy until night and breezy starting ...  \n",
            "44530               1013.83  Mostly cloudy until night and breezy starting ...  \n",
            "44531               1013.95  Mostly cloudy until night and breezy starting ...  \n",
            "44532               1014.29  Mostly cloudy until night and breezy starting ...  \n",
            "44533               1014.44  Mostly cloudy until night and breezy starting ...  \n",
            "44534               1013.79  Mostly cloudy until night and breezy starting ...  \n",
            "58238               1009.00  Mostly cloudy starting overnight and breezy st...  \n",
            "59217               1000.23  Mostly cloudy throughout the day and breezy st...  \n",
            "63987               1008.54  Mostly cloudy throughout the day and breezy st...  \n",
            "64410               1012.35  Mostly cloudy throughout the day and breezy in...  \n",
            "66717                997.35  Mostly cloudy throughout the day and breezy st...  \n",
            "66718                996.66  Mostly cloudy throughout the day and breezy st...  \n",
            "66816               1007.62     Breezy until evening and foggy in the morning.  \n",
            "75398               1007.27  Mostly cloudy starting in the morning and wind...  \n",
            "75400               1012.04  Mostly cloudy starting in the morning and wind...  \n",
            "77786               1000.05  Mostly cloudy throughout the day and breezy in...  \n",
            "79194               1009.17  Mostly cloudy throughout the day and breezy st...  \n",
            "79818               1006.52                  Partly cloudy throughout the day.  \n",
            "82361                974.52  Mostly cloudy throughout the day and breezy st...  \n",
            "82362                973.78  Mostly cloudy throughout the day and breezy st...  \n",
            "Windy and Partly Cloudy\n",
            "                      Formatted Date                  Summary Precip Type  \\\n",
            "5608   2006-03-29 17:00:00.000 +0200  Windy and Partly Cloudy        rain   \n",
            "5609   2006-03-29 18:00:00.000 +0200  Windy and Partly Cloudy        rain   \n",
            "11001  2007-02-01 09:00:00.000 +0100  Windy and Partly Cloudy        rain   \n",
            "11002  2007-02-01 10:00:00.000 +0100  Windy and Partly Cloudy        rain   \n",
            "11003  2007-02-01 11:00:00.000 +0100  Windy and Partly Cloudy        rain   \n",
            "...                              ...                      ...         ...   \n",
            "79567  2015-04-07 10:00:00.000 +0200  Windy and Partly Cloudy        rain   \n",
            "84535  2015-03-03 11:00:00.000 +0100  Windy and Partly Cloudy        rain   \n",
            "84536  2015-03-03 12:00:00.000 +0100  Windy and Partly Cloudy        rain   \n",
            "84537  2015-03-03 13:00:00.000 +0100  Windy and Partly Cloudy        rain   \n",
            "84780  2015-05-10 16:00:00.000 +0200  Windy and Partly Cloudy        rain   \n",
            "\n",
            "       Temperature (C)  Apparent Temperature (C)  Humidity  Wind Speed (km/h)  \\\n",
            "5608         12.100000                 12.100000      0.57            41.6990   \n",
            "5609         11.083333                 11.083333      0.62            43.6310   \n",
            "11001         7.733333                  2.938889      0.71            40.2983   \n",
            "11002         8.833333                  4.033333      0.65            47.5272   \n",
            "11003         8.933333                  4.327778      0.63            44.3877   \n",
            "...                ...                       ...       ...                ...   \n",
            "79567         7.827778                  3.050000      0.49            40.5559   \n",
            "84535         7.800000                  2.738889      0.49            45.5308   \n",
            "84536         7.822222                  2.855556      0.52            43.8403   \n",
            "84537         8.877778                  4.438889      0.46            40.8779   \n",
            "84780        22.705556                 22.705556      0.32            40.9101   \n",
            "\n",
            "       Wind Bearing (degrees)  Visibility (km)  Loud Cover  \\\n",
            "5608                    279.0          11.4471         0.0   \n",
            "5609                    280.0          11.2700         0.0   \n",
            "11001                   298.0          11.2700         0.0   \n",
            "11002                   299.0          11.4471         0.0   \n",
            "11003                   299.0          11.2700         0.0   \n",
            "...                       ...              ...         ...   \n",
            "79567                    20.0          10.2557         0.0   \n",
            "84535                   309.0           9.9820         0.0   \n",
            "84536                   300.0          10.2557         0.0   \n",
            "84537                   312.0          10.5777         0.0   \n",
            "84780                   310.0          16.1000         0.0   \n",
            "\n",
            "       Pressure (millibars)                                      Daily Summary  \n",
            "5608                1008.47  Partly cloudy throughout the day and breezy st...  \n",
            "5609                1008.52  Partly cloudy throughout the day and breezy st...  \n",
            "11001               1014.19  Partly cloudy starting overnight continuing un...  \n",
            "11002               1014.40  Partly cloudy starting overnight continuing un...  \n",
            "11003               1014.83  Partly cloudy starting overnight continuing un...  \n",
            "...                     ...                                                ...  \n",
            "79567               1023.74  Mostly cloudy throughout the day and breezy st...  \n",
            "84535               1022.16  Partly cloudy until evening and breezy startin...  \n",
            "84536               1022.82  Partly cloudy until evening and breezy startin...  \n",
            "84537               1022.84  Partly cloudy until evening and breezy startin...  \n",
            "84780               1018.12  Mostly cloudy until night and breezy starting ...  \n",
            "\n",
            "[67 rows x 12 columns]\n"
          ]
        }
      ]
    },
    {
      "cell_type": "code",
      "source": [
        "g.get_group('Clear')"
      ],
      "metadata": {
        "colab": {
          "base_uri": "https://localhost:8080/",
          "height": 1000
        },
        "id": "GpJxd2WYJiLc",
        "outputId": "72c632ed-d4a8-4679-d5f3-a7947ac6e43e"
      },
      "execution_count": null,
      "outputs": [
        {
          "output_type": "execute_result",
          "data": {
            "text/plain": [
              "                      Formatted Date Summary Precip Type  Temperature (C)  \\\n",
              "223    2006-04-18 07:00:00.000 +0200   Clear        rain         8.688889   \n",
              "309    2006-04-20 21:00:00.000 +0200   Clear        rain        12.266667   \n",
              "337    2006-04-22 01:00:00.000 +0200   Clear        rain         9.355556   \n",
              "338    2006-04-22 02:00:00.000 +0200   Clear        rain         9.861111   \n",
              "357    2006-04-22 21:00:00.000 +0200   Clear        rain        12.494444   \n",
              "...                              ...     ...         ...              ...   \n",
              "96432  2016-09-09 03:00:00.000 +0200   Clear        rain        15.594444   \n",
              "96433  2016-09-09 04:00:00.000 +0200   Clear        rain        15.011111   \n",
              "96434  2016-09-09 05:00:00.000 +0200   Clear        rain        15.016667   \n",
              "96435  2016-09-09 06:00:00.000 +0200   Clear        rain        13.872222   \n",
              "96436  2016-09-09 07:00:00.000 +0200   Clear        rain        16.072222   \n",
              "\n",
              "       Apparent Temperature (C)  Humidity  Wind Speed (km/h)  \\\n",
              "223                    8.688889      0.93             1.4329   \n",
              "309                   12.266667      0.99             8.0500   \n",
              "337                    8.633333      0.96             6.4239   \n",
              "338                    9.861111      0.96             3.2361   \n",
              "357                   12.494444      0.91             3.9445   \n",
              "...                         ...       ...                ...   \n",
              "96432                 15.594444      0.87             3.2844   \n",
              "96433                 15.011111      0.93             3.2039   \n",
              "96434                 15.016667      0.90             2.7048   \n",
              "96435                 13.872222      0.93             4.7495   \n",
              "96436                 16.072222      0.88             2.7853   \n",
              "\n",
              "       Wind Bearing (degrees)  Visibility (km)  Loud Cover  \\\n",
              "223                     290.0           5.8443         0.0   \n",
              "309                     320.0           6.1985         0.0   \n",
              "337                     321.0           3.3649         0.0   \n",
              "338                     319.0           4.4597         0.0   \n",
              "357                     197.0           9.9820         0.0   \n",
              "...                       ...              ...         ...   \n",
              "96432                    41.0          15.4399         0.0   \n",
              "96433                   341.0          15.8263         0.0   \n",
              "96434                   359.0          14.9569         0.0   \n",
              "96435                     0.0          15.8263         0.0   \n",
              "96436                    12.0          15.7297         0.0   \n",
              "\n",
              "       Pressure (millibars)                                      Daily Summary  \n",
              "223                 1012.96                         Partly cloudy until night.  \n",
              "309                 1015.76  Foggy starting overnight continuing until morn...  \n",
              "337                 1017.56  Foggy starting overnight continuing until morn...  \n",
              "338                 1016.16  Foggy starting overnight continuing until morn...  \n",
              "357                 1015.51  Foggy starting overnight continuing until morn...  \n",
              "...                     ...                                                ...  \n",
              "96432               1014.52             Partly cloudy starting in the morning.  \n",
              "96433               1014.37             Partly cloudy starting in the morning.  \n",
              "96434               1014.55             Partly cloudy starting in the morning.  \n",
              "96435               1014.66             Partly cloudy starting in the morning.  \n",
              "96436               1015.25             Partly cloudy starting in the morning.  \n",
              "\n",
              "[10890 rows x 12 columns]"
            ],
            "text/html": [
              "\n",
              "  <div id=\"df-9d26ec66-157c-4f23-bcbc-c5f4fac4df1e\" class=\"colab-df-container\">\n",
              "    <div>\n",
              "<style scoped>\n",
              "    .dataframe tbody tr th:only-of-type {\n",
              "        vertical-align: middle;\n",
              "    }\n",
              "\n",
              "    .dataframe tbody tr th {\n",
              "        vertical-align: top;\n",
              "    }\n",
              "\n",
              "    .dataframe thead th {\n",
              "        text-align: right;\n",
              "    }\n",
              "</style>\n",
              "<table border=\"1\" class=\"dataframe\">\n",
              "  <thead>\n",
              "    <tr style=\"text-align: right;\">\n",
              "      <th></th>\n",
              "      <th>Formatted Date</th>\n",
              "      <th>Summary</th>\n",
              "      <th>Precip Type</th>\n",
              "      <th>Temperature (C)</th>\n",
              "      <th>Apparent Temperature (C)</th>\n",
              "      <th>Humidity</th>\n",
              "      <th>Wind Speed (km/h)</th>\n",
              "      <th>Wind Bearing (degrees)</th>\n",
              "      <th>Visibility (km)</th>\n",
              "      <th>Loud Cover</th>\n",
              "      <th>Pressure (millibars)</th>\n",
              "      <th>Daily Summary</th>\n",
              "    </tr>\n",
              "  </thead>\n",
              "  <tbody>\n",
              "    <tr>\n",
              "      <th>223</th>\n",
              "      <td>2006-04-18 07:00:00.000 +0200</td>\n",
              "      <td>Clear</td>\n",
              "      <td>rain</td>\n",
              "      <td>8.688889</td>\n",
              "      <td>8.688889</td>\n",
              "      <td>0.93</td>\n",
              "      <td>1.4329</td>\n",
              "      <td>290.0</td>\n",
              "      <td>5.8443</td>\n",
              "      <td>0.0</td>\n",
              "      <td>1012.96</td>\n",
              "      <td>Partly cloudy until night.</td>\n",
              "    </tr>\n",
              "    <tr>\n",
              "      <th>309</th>\n",
              "      <td>2006-04-20 21:00:00.000 +0200</td>\n",
              "      <td>Clear</td>\n",
              "      <td>rain</td>\n",
              "      <td>12.266667</td>\n",
              "      <td>12.266667</td>\n",
              "      <td>0.99</td>\n",
              "      <td>8.0500</td>\n",
              "      <td>320.0</td>\n",
              "      <td>6.1985</td>\n",
              "      <td>0.0</td>\n",
              "      <td>1015.76</td>\n",
              "      <td>Foggy starting overnight continuing until morn...</td>\n",
              "    </tr>\n",
              "    <tr>\n",
              "      <th>337</th>\n",
              "      <td>2006-04-22 01:00:00.000 +0200</td>\n",
              "      <td>Clear</td>\n",
              "      <td>rain</td>\n",
              "      <td>9.355556</td>\n",
              "      <td>8.633333</td>\n",
              "      <td>0.96</td>\n",
              "      <td>6.4239</td>\n",
              "      <td>321.0</td>\n",
              "      <td>3.3649</td>\n",
              "      <td>0.0</td>\n",
              "      <td>1017.56</td>\n",
              "      <td>Foggy starting overnight continuing until morn...</td>\n",
              "    </tr>\n",
              "    <tr>\n",
              "      <th>338</th>\n",
              "      <td>2006-04-22 02:00:00.000 +0200</td>\n",
              "      <td>Clear</td>\n",
              "      <td>rain</td>\n",
              "      <td>9.861111</td>\n",
              "      <td>9.861111</td>\n",
              "      <td>0.96</td>\n",
              "      <td>3.2361</td>\n",
              "      <td>319.0</td>\n",
              "      <td>4.4597</td>\n",
              "      <td>0.0</td>\n",
              "      <td>1016.16</td>\n",
              "      <td>Foggy starting overnight continuing until morn...</td>\n",
              "    </tr>\n",
              "    <tr>\n",
              "      <th>357</th>\n",
              "      <td>2006-04-22 21:00:00.000 +0200</td>\n",
              "      <td>Clear</td>\n",
              "      <td>rain</td>\n",
              "      <td>12.494444</td>\n",
              "      <td>12.494444</td>\n",
              "      <td>0.91</td>\n",
              "      <td>3.9445</td>\n",
              "      <td>197.0</td>\n",
              "      <td>9.9820</td>\n",
              "      <td>0.0</td>\n",
              "      <td>1015.51</td>\n",
              "      <td>Foggy starting overnight continuing until morn...</td>\n",
              "    </tr>\n",
              "    <tr>\n",
              "      <th>...</th>\n",
              "      <td>...</td>\n",
              "      <td>...</td>\n",
              "      <td>...</td>\n",
              "      <td>...</td>\n",
              "      <td>...</td>\n",
              "      <td>...</td>\n",
              "      <td>...</td>\n",
              "      <td>...</td>\n",
              "      <td>...</td>\n",
              "      <td>...</td>\n",
              "      <td>...</td>\n",
              "      <td>...</td>\n",
              "    </tr>\n",
              "    <tr>\n",
              "      <th>96432</th>\n",
              "      <td>2016-09-09 03:00:00.000 +0200</td>\n",
              "      <td>Clear</td>\n",
              "      <td>rain</td>\n",
              "      <td>15.594444</td>\n",
              "      <td>15.594444</td>\n",
              "      <td>0.87</td>\n",
              "      <td>3.2844</td>\n",
              "      <td>41.0</td>\n",
              "      <td>15.4399</td>\n",
              "      <td>0.0</td>\n",
              "      <td>1014.52</td>\n",
              "      <td>Partly cloudy starting in the morning.</td>\n",
              "    </tr>\n",
              "    <tr>\n",
              "      <th>96433</th>\n",
              "      <td>2016-09-09 04:00:00.000 +0200</td>\n",
              "      <td>Clear</td>\n",
              "      <td>rain</td>\n",
              "      <td>15.011111</td>\n",
              "      <td>15.011111</td>\n",
              "      <td>0.93</td>\n",
              "      <td>3.2039</td>\n",
              "      <td>341.0</td>\n",
              "      <td>15.8263</td>\n",
              "      <td>0.0</td>\n",
              "      <td>1014.37</td>\n",
              "      <td>Partly cloudy starting in the morning.</td>\n",
              "    </tr>\n",
              "    <tr>\n",
              "      <th>96434</th>\n",
              "      <td>2016-09-09 05:00:00.000 +0200</td>\n",
              "      <td>Clear</td>\n",
              "      <td>rain</td>\n",
              "      <td>15.016667</td>\n",
              "      <td>15.016667</td>\n",
              "      <td>0.90</td>\n",
              "      <td>2.7048</td>\n",
              "      <td>359.0</td>\n",
              "      <td>14.9569</td>\n",
              "      <td>0.0</td>\n",
              "      <td>1014.55</td>\n",
              "      <td>Partly cloudy starting in the morning.</td>\n",
              "    </tr>\n",
              "    <tr>\n",
              "      <th>96435</th>\n",
              "      <td>2016-09-09 06:00:00.000 +0200</td>\n",
              "      <td>Clear</td>\n",
              "      <td>rain</td>\n",
              "      <td>13.872222</td>\n",
              "      <td>13.872222</td>\n",
              "      <td>0.93</td>\n",
              "      <td>4.7495</td>\n",
              "      <td>0.0</td>\n",
              "      <td>15.8263</td>\n",
              "      <td>0.0</td>\n",
              "      <td>1014.66</td>\n",
              "      <td>Partly cloudy starting in the morning.</td>\n",
              "    </tr>\n",
              "    <tr>\n",
              "      <th>96436</th>\n",
              "      <td>2016-09-09 07:00:00.000 +0200</td>\n",
              "      <td>Clear</td>\n",
              "      <td>rain</td>\n",
              "      <td>16.072222</td>\n",
              "      <td>16.072222</td>\n",
              "      <td>0.88</td>\n",
              "      <td>2.7853</td>\n",
              "      <td>12.0</td>\n",
              "      <td>15.7297</td>\n",
              "      <td>0.0</td>\n",
              "      <td>1015.25</td>\n",
              "      <td>Partly cloudy starting in the morning.</td>\n",
              "    </tr>\n",
              "  </tbody>\n",
              "</table>\n",
              "<p>10890 rows × 12 columns</p>\n",
              "</div>\n",
              "    <div class=\"colab-df-buttons\">\n",
              "\n",
              "  <div class=\"colab-df-container\">\n",
              "    <button class=\"colab-df-convert\" onclick=\"convertToInteractive('df-9d26ec66-157c-4f23-bcbc-c5f4fac4df1e')\"\n",
              "            title=\"Convert this dataframe to an interactive table.\"\n",
              "            style=\"display:none;\">\n",
              "\n",
              "  <svg xmlns=\"http://www.w3.org/2000/svg\" height=\"24px\" viewBox=\"0 -960 960 960\">\n",
              "    <path d=\"M120-120v-720h720v720H120Zm60-500h600v-160H180v160Zm220 220h160v-160H400v160Zm0 220h160v-160H400v160ZM180-400h160v-160H180v160Zm440 0h160v-160H620v160ZM180-180h160v-160H180v160Zm440 0h160v-160H620v160Z\"/>\n",
              "  </svg>\n",
              "    </button>\n",
              "\n",
              "  <style>\n",
              "    .colab-df-container {\n",
              "      display:flex;\n",
              "      gap: 12px;\n",
              "    }\n",
              "\n",
              "    .colab-df-convert {\n",
              "      background-color: #E8F0FE;\n",
              "      border: none;\n",
              "      border-radius: 50%;\n",
              "      cursor: pointer;\n",
              "      display: none;\n",
              "      fill: #1967D2;\n",
              "      height: 32px;\n",
              "      padding: 0 0 0 0;\n",
              "      width: 32px;\n",
              "    }\n",
              "\n",
              "    .colab-df-convert:hover {\n",
              "      background-color: #E2EBFA;\n",
              "      box-shadow: 0px 1px 2px rgba(60, 64, 67, 0.3), 0px 1px 3px 1px rgba(60, 64, 67, 0.15);\n",
              "      fill: #174EA6;\n",
              "    }\n",
              "\n",
              "    .colab-df-buttons div {\n",
              "      margin-bottom: 4px;\n",
              "    }\n",
              "\n",
              "    [theme=dark] .colab-df-convert {\n",
              "      background-color: #3B4455;\n",
              "      fill: #D2E3FC;\n",
              "    }\n",
              "\n",
              "    [theme=dark] .colab-df-convert:hover {\n",
              "      background-color: #434B5C;\n",
              "      box-shadow: 0px 1px 3px 1px rgba(0, 0, 0, 0.15);\n",
              "      filter: drop-shadow(0px 1px 2px rgba(0, 0, 0, 0.3));\n",
              "      fill: #FFFFFF;\n",
              "    }\n",
              "  </style>\n",
              "\n",
              "    <script>\n",
              "      const buttonEl =\n",
              "        document.querySelector('#df-9d26ec66-157c-4f23-bcbc-c5f4fac4df1e button.colab-df-convert');\n",
              "      buttonEl.style.display =\n",
              "        google.colab.kernel.accessAllowed ? 'block' : 'none';\n",
              "\n",
              "      async function convertToInteractive(key) {\n",
              "        const element = document.querySelector('#df-9d26ec66-157c-4f23-bcbc-c5f4fac4df1e');\n",
              "        const dataTable =\n",
              "          await google.colab.kernel.invokeFunction('convertToInteractive',\n",
              "                                                    [key], {});\n",
              "        if (!dataTable) return;\n",
              "\n",
              "        const docLinkHtml = 'Like what you see? Visit the ' +\n",
              "          '<a target=\"_blank\" href=https://colab.research.google.com/notebooks/data_table.ipynb>data table notebook</a>'\n",
              "          + ' to learn more about interactive tables.';\n",
              "        element.innerHTML = '';\n",
              "        dataTable['output_type'] = 'display_data';\n",
              "        await google.colab.output.renderOutput(dataTable, element);\n",
              "        const docLink = document.createElement('div');\n",
              "        docLink.innerHTML = docLinkHtml;\n",
              "        element.appendChild(docLink);\n",
              "      }\n",
              "    </script>\n",
              "  </div>\n",
              "\n",
              "\n",
              "<div id=\"df-3c14d660-225a-46e1-b711-c01734a58ca2\">\n",
              "  <button class=\"colab-df-quickchart\" onclick=\"quickchart('df-3c14d660-225a-46e1-b711-c01734a58ca2')\"\n",
              "            title=\"Suggest charts\"\n",
              "            style=\"display:none;\">\n",
              "\n",
              "<svg xmlns=\"http://www.w3.org/2000/svg\" height=\"24px\"viewBox=\"0 0 24 24\"\n",
              "     width=\"24px\">\n",
              "    <g>\n",
              "        <path d=\"M19 3H5c-1.1 0-2 .9-2 2v14c0 1.1.9 2 2 2h14c1.1 0 2-.9 2-2V5c0-1.1-.9-2-2-2zM9 17H7v-7h2v7zm4 0h-2V7h2v10zm4 0h-2v-4h2v4z\"/>\n",
              "    </g>\n",
              "</svg>\n",
              "  </button>\n",
              "\n",
              "<style>\n",
              "  .colab-df-quickchart {\n",
              "      --bg-color: #E8F0FE;\n",
              "      --fill-color: #1967D2;\n",
              "      --hover-bg-color: #E2EBFA;\n",
              "      --hover-fill-color: #174EA6;\n",
              "      --disabled-fill-color: #AAA;\n",
              "      --disabled-bg-color: #DDD;\n",
              "  }\n",
              "\n",
              "  [theme=dark] .colab-df-quickchart {\n",
              "      --bg-color: #3B4455;\n",
              "      --fill-color: #D2E3FC;\n",
              "      --hover-bg-color: #434B5C;\n",
              "      --hover-fill-color: #FFFFFF;\n",
              "      --disabled-bg-color: #3B4455;\n",
              "      --disabled-fill-color: #666;\n",
              "  }\n",
              "\n",
              "  .colab-df-quickchart {\n",
              "    background-color: var(--bg-color);\n",
              "    border: none;\n",
              "    border-radius: 50%;\n",
              "    cursor: pointer;\n",
              "    display: none;\n",
              "    fill: var(--fill-color);\n",
              "    height: 32px;\n",
              "    padding: 0;\n",
              "    width: 32px;\n",
              "  }\n",
              "\n",
              "  .colab-df-quickchart:hover {\n",
              "    background-color: var(--hover-bg-color);\n",
              "    box-shadow: 0 1px 2px rgba(60, 64, 67, 0.3), 0 1px 3px 1px rgba(60, 64, 67, 0.15);\n",
              "    fill: var(--button-hover-fill-color);\n",
              "  }\n",
              "\n",
              "  .colab-df-quickchart-complete:disabled,\n",
              "  .colab-df-quickchart-complete:disabled:hover {\n",
              "    background-color: var(--disabled-bg-color);\n",
              "    fill: var(--disabled-fill-color);\n",
              "    box-shadow: none;\n",
              "  }\n",
              "\n",
              "  .colab-df-spinner {\n",
              "    border: 2px solid var(--fill-color);\n",
              "    border-color: transparent;\n",
              "    border-bottom-color: var(--fill-color);\n",
              "    animation:\n",
              "      spin 1s steps(1) infinite;\n",
              "  }\n",
              "\n",
              "  @keyframes spin {\n",
              "    0% {\n",
              "      border-color: transparent;\n",
              "      border-bottom-color: var(--fill-color);\n",
              "      border-left-color: var(--fill-color);\n",
              "    }\n",
              "    20% {\n",
              "      border-color: transparent;\n",
              "      border-left-color: var(--fill-color);\n",
              "      border-top-color: var(--fill-color);\n",
              "    }\n",
              "    30% {\n",
              "      border-color: transparent;\n",
              "      border-left-color: var(--fill-color);\n",
              "      border-top-color: var(--fill-color);\n",
              "      border-right-color: var(--fill-color);\n",
              "    }\n",
              "    40% {\n",
              "      border-color: transparent;\n",
              "      border-right-color: var(--fill-color);\n",
              "      border-top-color: var(--fill-color);\n",
              "    }\n",
              "    60% {\n",
              "      border-color: transparent;\n",
              "      border-right-color: var(--fill-color);\n",
              "    }\n",
              "    80% {\n",
              "      border-color: transparent;\n",
              "      border-right-color: var(--fill-color);\n",
              "      border-bottom-color: var(--fill-color);\n",
              "    }\n",
              "    90% {\n",
              "      border-color: transparent;\n",
              "      border-bottom-color: var(--fill-color);\n",
              "    }\n",
              "  }\n",
              "</style>\n",
              "\n",
              "  <script>\n",
              "    async function quickchart(key) {\n",
              "      const quickchartButtonEl =\n",
              "        document.querySelector('#' + key + ' button');\n",
              "      quickchartButtonEl.disabled = true;  // To prevent multiple clicks.\n",
              "      quickchartButtonEl.classList.add('colab-df-spinner');\n",
              "      try {\n",
              "        const charts = await google.colab.kernel.invokeFunction(\n",
              "            'suggestCharts', [key], {});\n",
              "      } catch (error) {\n",
              "        console.error('Error during call to suggestCharts:', error);\n",
              "      }\n",
              "      quickchartButtonEl.classList.remove('colab-df-spinner');\n",
              "      quickchartButtonEl.classList.add('colab-df-quickchart-complete');\n",
              "    }\n",
              "    (() => {\n",
              "      let quickchartButtonEl =\n",
              "        document.querySelector('#df-3c14d660-225a-46e1-b711-c01734a58ca2 button');\n",
              "      quickchartButtonEl.style.display =\n",
              "        google.colab.kernel.accessAllowed ? 'block' : 'none';\n",
              "    })();\n",
              "  </script>\n",
              "</div>\n",
              "\n",
              "    </div>\n",
              "  </div>\n"
            ]
          },
          "metadata": {},
          "execution_count": 39
        }
      ]
    },
    {
      "cell_type": "code",
      "source": [
        "print(g.max())"
      ],
      "metadata": {
        "colab": {
          "base_uri": "https://localhost:8080/"
        },
        "id": "D9-g1gY4Jo63",
        "outputId": "5139c26f-1eb2-4cd6-dfe6-c42692114e28"
      },
      "execution_count": null,
      "outputs": [
        {
          "output_type": "stream",
          "name": "stdout",
          "text": [
            "                                                    Formatted Date  \\\n",
            "Summary                                                              \n",
            "Breezy                               2016-08-05 10:00:00.000 +0200   \n",
            "Breezy and Dry                       2012-03-18 11:00:00.000 +0100   \n",
            "Breezy and Foggy                     2015-02-08 17:00:00.000 +0100   \n",
            "Breezy and Mostly Cloudy             2016-09-17 15:00:00.000 +0200   \n",
            "Breezy and Overcast                  2016-10-04 23:00:00.000 +0200   \n",
            "Breezy and Partly Cloudy             2016-08-10 19:00:00.000 +0200   \n",
            "Clear                                2016-11-02 23:00:00.000 +0100   \n",
            "Dangerously Windy and Partly Cloudy  2007-01-29 13:00:00.000 +0100   \n",
            "Drizzle                              2016-10-26 14:00:00.000 +0200   \n",
            "Dry                                  2013-09-07 18:00:00.000 +0200   \n",
            "Dry and Mostly Cloudy                2012-10-05 16:00:00.000 +0200   \n",
            "Dry and Partly Cloudy                2015-08-10 12:00:00.000 +0200   \n",
            "Foggy                                2016-10-24 08:00:00.000 +0200   \n",
            "Humid and Mostly Cloudy              2016-08-17 15:00:00.000 +0200   \n",
            "Humid and Overcast                   2016-07-26 13:00:00.000 +0200   \n",
            "Humid and Partly Cloudy              2013-08-26 19:00:00.000 +0200   \n",
            "Light Rain                           2016-10-26 12:00:00.000 +0200   \n",
            "Mostly Cloudy                        2016-12-31 23:00:00.000 +0100   \n",
            "Overcast                             2016-10-29 14:00:00.000 +0200   \n",
            "Partly Cloudy                        2016-12-07 03:00:00.000 +0100   \n",
            "Rain                                 2016-10-26 09:00:00.000 +0200   \n",
            "Windy                                2015-01-04 14:00:00.000 +0100   \n",
            "Windy and Dry                        2012-04-29 12:00:00.000 +0200   \n",
            "Windy and Foggy                      2015-05-14 01:00:00.000 +0200   \n",
            "Windy and Mostly Cloudy              2015-05-06 21:00:00.000 +0200   \n",
            "Windy and Overcast                   2015-08-16 21:00:00.000 +0200   \n",
            "Windy and Partly Cloudy              2015-05-10 16:00:00.000 +0200   \n",
            "\n",
            "                                     Temperature (C)  \\\n",
            "Summary                                                \n",
            "Breezy                                     37.588889   \n",
            "Breezy and Dry                             21.111111   \n",
            "Breezy and Foggy                           17.616667   \n",
            "Breezy and Mostly Cloudy                   27.522222   \n",
            "Breezy and Overcast                        22.433333   \n",
            "Breezy and Partly Cloudy                   38.438889   \n",
            "Clear                                      39.905556   \n",
            "Dangerously Windy and Partly Cloudy         8.944444   \n",
            "Drizzle                                    17.844444   \n",
            "Dry                                        38.750000   \n",
            "Dry and Mostly Cloudy                      33.905556   \n",
            "Dry and Partly Cloudy                      37.800000   \n",
            "Foggy                                      23.661111   \n",
            "Humid and Mostly Cloudy                    23.111111   \n",
            "Humid and Overcast                         24.055556   \n",
            "Humid and Partly Cloudy                    23.566667   \n",
            "Light Rain                                 16.011111   \n",
            "Mostly Cloudy                              37.155556   \n",
            "Overcast                                   33.644444   \n",
            "Partly Cloudy                              39.588889   \n",
            "Rain                                       11.500000   \n",
            "Windy                                      12.172222   \n",
            "Windy and Dry                              27.222222   \n",
            "Windy and Foggy                            19.633333   \n",
            "Windy and Mostly Cloudy                    19.905556   \n",
            "Windy and Overcast                         21.305556   \n",
            "Windy and Partly Cloudy                    22.705556   \n",
            "\n",
            "                                     Apparent Temperature (C)  Humidity  \\\n",
            "Summary                                                                   \n",
            "Breezy                                              35.700000      0.82   \n",
            "Breezy and Dry                                      21.111111      0.26   \n",
            "Breezy and Foggy                                    17.616667      1.00   \n",
            "Breezy and Mostly Cloudy                            27.766667      0.93   \n",
            "Breezy and Overcast                                 22.433333      1.00   \n",
            "Breezy and Partly Cloudy                            36.922222      0.93   \n",
            "Clear                                               38.661111      1.00   \n",
            "Dangerously Windy and Partly Cloudy                  3.483333      0.49   \n",
            "Drizzle                                             17.844444      0.94   \n",
            "Dry                                                 36.622222      0.29   \n",
            "Dry and Mostly Cloudy                               31.611111      0.28   \n",
            "Dry and Partly Cloudy                               35.672222      0.29   \n",
            "Foggy                                               23.661111      1.00   \n",
            "Humid and Mostly Cloudy                             23.111111      0.99   \n",
            "Humid and Overcast                                  24.055556      0.92   \n",
            "Humid and Partly Cloudy                             23.566667      0.91   \n",
            "Light Rain                                          16.011111      0.96   \n",
            "Mostly Cloudy                                       38.116667      1.00   \n",
            "Overcast                                            32.250000      1.00   \n",
            "Partly Cloudy                                       39.344444      1.00   \n",
            "Rain                                                11.500000      0.96   \n",
            "Windy                                               12.172222      0.70   \n",
            "Windy and Dry                                       26.344444      0.24   \n",
            "Windy and Foggy                                     19.633333      0.96   \n",
            "Windy and Mostly Cloudy                             19.905556      0.89   \n",
            "Windy and Overcast                                  21.305556      0.93   \n",
            "Windy and Partly Cloudy                             22.705556      0.82   \n",
            "\n",
            "                                     Wind Speed (km/h)  \\\n",
            "Summary                                                  \n",
            "Breezy                                         38.2697   \n",
            "Breezy and Dry                                 33.8100   \n",
            "Breezy and Foggy                               38.0765   \n",
            "Breezy and Mostly Cloudy                       40.1373   \n",
            "Breezy and Overcast                            40.1212   \n",
            "Breezy and Partly Cloudy                       40.1373   \n",
            "Clear                                          29.7850   \n",
            "Dangerously Windy and Partly Cloudy            63.8526   \n",
            "Drizzle                                        24.7940   \n",
            "Dry                                            27.3700   \n",
            "Dry and Mostly Cloudy                          22.1375   \n",
            "Dry and Partly Cloudy                          29.7528   \n",
            "Foggy                                          31.8780   \n",
            "Humid and Mostly Cloudy                        26.9514   \n",
            "Humid and Overcast                             19.4327   \n",
            "Humid and Partly Cloudy                        19.7547   \n",
            "Light Rain                                     27.2734   \n",
            "Mostly Cloudy                                  32.8279   \n",
            "Overcast                                       32.7957   \n",
            "Partly Cloudy                                  32.7957   \n",
            "Rain                                           12.2843   \n",
            "Windy                                          45.0800   \n",
            "Windy and Dry                                  40.2500   \n",
            "Windy and Foggy                                46.6095   \n",
            "Windy and Mostly Cloudy                        53.1944   \n",
            "Windy and Overcast                             54.8849   \n",
            "Windy and Partly Cloudy                        55.9314   \n",
            "\n",
            "                                     Wind Bearing (degrees)  Visibility (km)  \\\n",
            "Summary                                                                        \n",
            "Breezy                                                350.0          16.1000   \n",
            "Breezy and Dry                                        240.0           9.9820   \n",
            "Breezy and Foggy                                      351.0           2.5277   \n",
            "Breezy and Mostly Cloudy                              350.0          16.1000   \n",
            "Breezy and Overcast                                   359.0          16.1000   \n",
            "Breezy and Partly Cloudy                              350.0          16.1000   \n",
            "Clear                                                 359.0          16.1000   \n",
            "Dangerously Windy and Partly Cloudy                   307.0          11.4471   \n",
            "Drizzle                                               355.0          15.7297   \n",
            "Dry                                                   358.0          16.1000   \n",
            "Dry and Mostly Cloudy                                 306.0          10.3684   \n",
            "Dry and Partly Cloudy                                 358.0          16.1000   \n",
            "Foggy                                                 359.0           3.2039   \n",
            "Humid and Mostly Cloudy                               342.0          15.8263   \n",
            "Humid and Overcast                                    227.0          11.2056   \n",
            "Humid and Partly Cloudy                               339.0          11.2700   \n",
            "Light Rain                                            345.0          16.1000   \n",
            "Mostly Cloudy                                         359.0          16.1000   \n",
            "Overcast                                              359.0          16.1000   \n",
            "Partly Cloudy                                         359.0          16.1000   \n",
            "Rain                                                  355.0           5.5062   \n",
            "Windy                                                 340.0          15.8263   \n",
            "Windy and Dry                                         150.0           9.9820   \n",
            "Windy and Foggy                                       279.0           3.1395   \n",
            "Windy and Mostly Cloudy                               320.0          16.1000   \n",
            "Windy and Overcast                                    340.0          16.1000   \n",
            "Windy and Partly Cloudy                               330.0          16.1000   \n",
            "\n",
            "                                     Loud Cover  Pressure (millibars)  \\\n",
            "Summary                                                                 \n",
            "Breezy                                      0.0               1030.19   \n",
            "Breezy and Dry                              0.0               1021.60   \n",
            "Breezy and Foggy                            0.0               1015.85   \n",
            "Breezy and Mostly Cloudy                    0.0               1037.14   \n",
            "Breezy and Overcast                         0.0               1034.98   \n",
            "Breezy and Partly Cloudy                    0.0               1041.25   \n",
            "Clear                                       0.0               1046.38   \n",
            "Dangerously Windy and Partly Cloudy         0.0               1009.05   \n",
            "Drizzle                                     0.0               1022.49   \n",
            "Dry                                         0.0               1032.20   \n",
            "Dry and Mostly Cloudy                       0.0               1022.00   \n",
            "Dry and Partly Cloudy                       0.0               1031.30   \n",
            "Foggy                                       0.0               1042.20   \n",
            "Humid and Mostly Cloudy                     0.0               1022.04   \n",
            "Humid and Overcast                          0.0               1019.54   \n",
            "Humid and Partly Cloudy                     0.0               1017.99   \n",
            "Light Rain                                  0.0               1021.88   \n",
            "Mostly Cloudy                               0.0               1042.31   \n",
            "Overcast                                    0.0               1045.38   \n",
            "Partly Cloudy                               0.0               1046.06   \n",
            "Rain                                        0.0               1020.24   \n",
            "Windy                                       0.0               1019.01   \n",
            "Windy and Dry                               0.0               1020.20   \n",
            "Windy and Foggy                             0.0               1014.92   \n",
            "Windy and Mostly Cloudy                     0.0               1024.60   \n",
            "Windy and Overcast                          0.0               1021.37   \n",
            "Windy and Partly Cloudy                     0.0               1026.19   \n",
            "\n",
            "                                                                         Daily Summary  \n",
            "Summary                                                                                 \n",
            "Breezy                                                         Windy in the afternoon.  \n",
            "Breezy and Dry                                Partly cloudy starting in the afternoon.  \n",
            "Breezy and Foggy                                            Partly cloudy until night.  \n",
            "Breezy and Mostly Cloudy                                    Partly cloudy until night.  \n",
            "Breezy and Overcast                  Partly cloudy until night and breezy starting ...  \n",
            "Breezy and Partly Cloudy                                    Partly cloudy until night.  \n",
            "Clear                                                          Windy in the afternoon.  \n",
            "Dangerously Windy and Partly Cloudy  Mostly cloudy throughout the day and windy sta...  \n",
            "Drizzle                                                            Rain until morning.  \n",
            "Dry                                                         Partly cloudy until night.  \n",
            "Dry and Mostly Cloudy                                       Partly cloudy until night.  \n",
            "Dry and Partly Cloudy                                       Partly cloudy until night.  \n",
            "Foggy                                                       Partly cloudy until night.  \n",
            "Humid and Mostly Cloudy                                     Partly cloudy until night.  \n",
            "Humid and Overcast                                   Partly cloudy throughout the day.  \n",
            "Humid and Partly Cloudy                                     Partly cloudy until night.  \n",
            "Light Rain                                                         Rain until morning.  \n",
            "Mostly Cloudy                                                  Windy in the afternoon.  \n",
            "Overcast                                                       Windy in the afternoon.  \n",
            "Partly Cloudy                                                  Windy in the afternoon.  \n",
            "Rain                                                               Rain until morning.  \n",
            "Windy                                                          Windy in the afternoon.  \n",
            "Windy and Dry                        Partly cloudy starting in the morning continui...  \n",
            "Windy and Foggy                      Partly cloudy starting in the afternoon contin...  \n",
            "Windy and Mostly Cloudy              Partly cloudy until evening and breezy startin...  \n",
            "Windy and Overcast                                   Partly cloudy throughout the day.  \n",
            "Windy and Partly Cloudy                                        Windy in the afternoon.  \n"
          ]
        },
        {
          "output_type": "stream",
          "name": "stderr",
          "text": [
            "<ipython-input-40-9741bc4f4a9d>:1: FutureWarning: Dropping invalid columns in DataFrameGroupBy.max is deprecated. In a future version, a TypeError will be raised. Before calling .max, select only columns which should be valid for the function.\n",
            "  print(g.max())\n"
          ]
        }
      ]
    },
    {
      "cell_type": "code",
      "source": [
        "g.mean()"
      ],
      "metadata": {
        "colab": {
          "base_uri": "https://localhost:8080/",
          "height": 1000
        },
        "id": "js1YlvgeJuve",
        "outputId": "1da1bb2e-5eec-42c3-ceff-b24801bedc8a"
      },
      "execution_count": null,
      "outputs": [
        {
          "output_type": "stream",
          "name": "stderr",
          "text": [
            "<ipython-input-41-c79523bc0c66>:1: FutureWarning: The default value of numeric_only in DataFrameGroupBy.mean is deprecated. In a future version, numeric_only will default to False. Either specify numeric_only or select only columns which should be valid for the function.\n",
            "  g.mean()\n"
          ]
        },
        {
          "output_type": "execute_result",
          "data": {
            "text/plain": [
              "                                     Temperature (C)  \\\n",
              "Summary                                                \n",
              "Breezy                                      7.922016   \n",
              "Breezy and Dry                             21.111111   \n",
              "Breezy and Foggy                           -0.510317   \n",
              "Breezy and Mostly Cloudy                   11.093411   \n",
              "Breezy and Overcast                         7.241614   \n",
              "Breezy and Partly Cloudy                   12.492761   \n",
              "Clear                                      11.925109   \n",
              "Dangerously Windy and Partly Cloudy         8.944444   \n",
              "Drizzle                                    10.847578   \n",
              "Dry                                        29.083660   \n",
              "Dry and Mostly Cloudy                      26.838492   \n",
              "Dry and Partly Cloudy                      26.605749   \n",
              "Foggy                                       1.464035   \n",
              "Humid and Mostly Cloudy                    20.886389   \n",
              "Humid and Overcast                         21.515079   \n",
              "Humid and Partly Cloudy                    21.568301   \n",
              "Light Rain                                 10.021517   \n",
              "Mostly Cloudy                              12.629334   \n",
              "Overcast                                    7.516502   \n",
              "Partly Cloudy                              16.024782   \n",
              "Rain                                       10.096111   \n",
              "Windy                                       6.804861   \n",
              "Windy and Dry                              27.222222   \n",
              "Windy and Foggy                            11.876389   \n",
              "Windy and Mostly Cloudy                    11.834603   \n",
              "Windy and Overcast                          7.932963   \n",
              "Windy and Partly Cloudy                     9.968076   \n",
              "\n",
              "                                     Apparent Temperature (C)  Humidity  \\\n",
              "Summary                                                                   \n",
              "Breezy                                               3.387654  0.637778   \n",
              "Breezy and Dry                                      21.111111  0.260000   \n",
              "Breezy and Foggy                                    -7.403492  0.938571   \n",
              "Breezy and Mostly Cloudy                             8.680588  0.637054   \n",
              "Breezy and Overcast                                  3.492235  0.763144   \n",
              "Breezy and Partly Cloudy                             9.989349  0.545803   \n",
              "Clear                                               11.040338  0.729708   \n",
              "Dangerously Windy and Partly Cloudy                  3.483333  0.490000   \n",
              "Drizzle                                             10.011681  0.867949   \n",
              "Dry                                                 28.273529  0.230294   \n",
              "Dry and Mostly Cloudy                               25.929365  0.242143   \n",
              "Dry and Partly Cloudy                               25.982235  0.240814   \n",
              "Foggy                                               -0.210419  0.950765   \n",
              "Humid and Mostly Cloudy                             20.886389  0.874250   \n",
              "Humid and Overcast                                  21.515079  0.881429   \n",
              "Humid and Partly Cloudy                             21.568301  0.848824   \n",
              "Light Rain                                           8.560317  0.888095   \n",
              "Mostly Cloudy                                       11.624994  0.725069   \n",
              "Overcast                                             5.789636  0.837232   \n",
              "Partly Cloudy                                       15.394033  0.648571   \n",
              "Rain                                                 9.607222  0.947000   \n",
              "Windy                                                2.009028  0.572500   \n",
              "Windy and Dry                                       26.344444  0.240000   \n",
              "Windy and Foggy                                      9.769444  0.900000   \n",
              "Windy and Mostly Cloudy                              9.754286  0.600000   \n",
              "Windy and Overcast                                   3.696543  0.708667   \n",
              "Windy and Partly Cloudy                              6.551244  0.528806   \n",
              "\n",
              "                                     Wind Speed (km/h)  \\\n",
              "Summary                                                  \n",
              "Breezy                                       32.143948   \n",
              "Breezy and Dry                               33.810000   \n",
              "Breezy and Foggy                             33.477880   \n",
              "Breezy and Mostly Cloudy                     33.386345   \n",
              "Breezy and Overcast                          33.037566   \n",
              "Breezy and Partly Cloudy                     33.532796   \n",
              "Clear                                         8.141352   \n",
              "Dangerously Windy and Partly Cloudy          63.852600   \n",
              "Drizzle                                      10.356428   \n",
              "Dry                                          14.713979   \n",
              "Dry and Mostly Cloudy                        13.667750   \n",
              "Dry and Partly Cloudy                        12.304519   \n",
              "Foggy                                         7.171649   \n",
              "Humid and Mostly Cloudy                      10.058877   \n",
              "Humid and Overcast                            9.740500   \n",
              "Humid and Partly Cloudy                       9.938435   \n",
              "Light Rain                                   14.673489   \n",
              "Mostly Cloudy                                11.418404   \n",
              "Overcast                                     12.027738   \n",
              "Partly Cloudy                                10.115130   \n",
              "Rain                                          5.797610   \n",
              "Windy                                        42.165900   \n",
              "Windy and Dry                                40.250000   \n",
              "Windy and Foggy                              44.178400   \n",
              "Windy and Mostly Cloudy                      43.117640   \n",
              "Windy and Overcast                           43.378409   \n",
              "Windy and Partly Cloudy                      44.610937   \n",
              "\n",
              "                                     Wind Bearing (degrees)  Visibility (km)  \\\n",
              "Summary                                                                        \n",
              "Breezy                                           233.018519         9.577115   \n",
              "Breezy and Dry                                   240.000000         9.982000   \n",
              "Breezy and Foggy                                 160.628571         1.621960   \n",
              "Breezy and Mostly Cloudy                         227.639535        11.478302   \n",
              "Breezy and Overcast                              213.526515        11.067012   \n",
              "Breezy and Partly Cloudy                         259.282383        11.326058   \n",
              "Clear                                            179.180257        11.441788   \n",
              "Dangerously Windy and Partly Cloudy              307.000000        11.447100   \n",
              "Drizzle                                          177.307692         8.069815   \n",
              "Dry                                              230.294118        10.250965   \n",
              "Dry and Mostly Cloudy                            187.785714        10.115400   \n",
              "Dry and Partly Cloudy                            224.465116        10.987501   \n",
              "Foggy                                            168.668439         1.551411   \n",
              "Humid and Mostly Cloudy                          153.425000         9.732852   \n",
              "Humid and Overcast                               138.857143         9.052800   \n",
              "Humid and Partly Cloudy                          201.647059        10.633576   \n",
              "Light Rain                                       180.761905         6.657989   \n",
              "Mostly Cloudy                                    192.049299        11.117234   \n",
              "Overcast                                         183.532747         9.275112   \n",
              "Partly Cloudy                                    190.161094        11.811517   \n",
              "Rain                                             211.800000         1.779050   \n",
              "Windy                                            319.750000        10.712537   \n",
              "Windy and Dry                                    150.000000         9.982000   \n",
              "Windy and Foggy                                  155.000000         1.903825   \n",
              "Windy and Mostly Cloudy                          261.428571        11.159600   \n",
              "Windy and Overcast                               244.311111         9.806331   \n",
              "Windy and Partly Cloudy                          295.119403        11.484106   \n",
              "\n",
              "                                     Loud Cover  Pressure (millibars)  \n",
              "Summary                                                                \n",
              "Breezy                                      0.0            563.917593  \n",
              "Breezy and Dry                              0.0           1021.600000  \n",
              "Breezy and Foggy                            0.0           1008.934000  \n",
              "Breezy and Mostly Cloudy                    0.0           1000.622984  \n",
              "Breezy and Overcast                         0.0           1002.114924  \n",
              "Breezy and Partly Cloudy                    0.0            996.398212  \n",
              "Clear                                       0.0            951.763532  \n",
              "Dangerously Windy and Partly Cloudy         0.0           1009.050000  \n",
              "Drizzle                                     0.0           1014.931538  \n",
              "Dry                                         0.0           1016.391765  \n",
              "Dry and Mostly Cloudy                       0.0           1014.872143  \n",
              "Dry and Partly Cloudy                       0.0           1017.242558  \n",
              "Foggy                                       0.0           1007.475207  \n",
              "Humid and Mostly Cloudy                     0.0           1012.887250  \n",
              "Humid and Overcast                          0.0           1014.550000  \n",
              "Humid and Partly Cloudy                     0.0           1011.974118  \n",
              "Light Rain                                  0.0           1011.054762  \n",
              "Mostly Cloudy                               0.0           1010.840591  \n",
              "Overcast                                    0.0           1005.632402  \n",
              "Partly Cloudy                               0.0           1013.079063  \n",
              "Rain                                        0.0           1017.318000  \n",
              "Windy                                       0.0            127.376250  \n",
              "Windy and Dry                               0.0           1020.200000  \n",
              "Windy and Foggy                             0.0           1011.975000  \n",
              "Windy and Mostly Cloudy                     0.0            979.825143  \n",
              "Windy and Overcast                          0.0           1006.446000  \n",
              "Windy and Partly Cloudy                     0.0            953.291194  "
            ],
            "text/html": [
              "\n",
              "  <div id=\"df-e474fc8a-8d7f-49bc-a89b-00d4e1487c49\" class=\"colab-df-container\">\n",
              "    <div>\n",
              "<style scoped>\n",
              "    .dataframe tbody tr th:only-of-type {\n",
              "        vertical-align: middle;\n",
              "    }\n",
              "\n",
              "    .dataframe tbody tr th {\n",
              "        vertical-align: top;\n",
              "    }\n",
              "\n",
              "    .dataframe thead th {\n",
              "        text-align: right;\n",
              "    }\n",
              "</style>\n",
              "<table border=\"1\" class=\"dataframe\">\n",
              "  <thead>\n",
              "    <tr style=\"text-align: right;\">\n",
              "      <th></th>\n",
              "      <th>Temperature (C)</th>\n",
              "      <th>Apparent Temperature (C)</th>\n",
              "      <th>Humidity</th>\n",
              "      <th>Wind Speed (km/h)</th>\n",
              "      <th>Wind Bearing (degrees)</th>\n",
              "      <th>Visibility (km)</th>\n",
              "      <th>Loud Cover</th>\n",
              "      <th>Pressure (millibars)</th>\n",
              "    </tr>\n",
              "    <tr>\n",
              "      <th>Summary</th>\n",
              "      <th></th>\n",
              "      <th></th>\n",
              "      <th></th>\n",
              "      <th></th>\n",
              "      <th></th>\n",
              "      <th></th>\n",
              "      <th></th>\n",
              "      <th></th>\n",
              "    </tr>\n",
              "  </thead>\n",
              "  <tbody>\n",
              "    <tr>\n",
              "      <th>Breezy</th>\n",
              "      <td>7.922016</td>\n",
              "      <td>3.387654</td>\n",
              "      <td>0.637778</td>\n",
              "      <td>32.143948</td>\n",
              "      <td>233.018519</td>\n",
              "      <td>9.577115</td>\n",
              "      <td>0.0</td>\n",
              "      <td>563.917593</td>\n",
              "    </tr>\n",
              "    <tr>\n",
              "      <th>Breezy and Dry</th>\n",
              "      <td>21.111111</td>\n",
              "      <td>21.111111</td>\n",
              "      <td>0.260000</td>\n",
              "      <td>33.810000</td>\n",
              "      <td>240.000000</td>\n",
              "      <td>9.982000</td>\n",
              "      <td>0.0</td>\n",
              "      <td>1021.600000</td>\n",
              "    </tr>\n",
              "    <tr>\n",
              "      <th>Breezy and Foggy</th>\n",
              "      <td>-0.510317</td>\n",
              "      <td>-7.403492</td>\n",
              "      <td>0.938571</td>\n",
              "      <td>33.477880</td>\n",
              "      <td>160.628571</td>\n",
              "      <td>1.621960</td>\n",
              "      <td>0.0</td>\n",
              "      <td>1008.934000</td>\n",
              "    </tr>\n",
              "    <tr>\n",
              "      <th>Breezy and Mostly Cloudy</th>\n",
              "      <td>11.093411</td>\n",
              "      <td>8.680588</td>\n",
              "      <td>0.637054</td>\n",
              "      <td>33.386345</td>\n",
              "      <td>227.639535</td>\n",
              "      <td>11.478302</td>\n",
              "      <td>0.0</td>\n",
              "      <td>1000.622984</td>\n",
              "    </tr>\n",
              "    <tr>\n",
              "      <th>Breezy and Overcast</th>\n",
              "      <td>7.241614</td>\n",
              "      <td>3.492235</td>\n",
              "      <td>0.763144</td>\n",
              "      <td>33.037566</td>\n",
              "      <td>213.526515</td>\n",
              "      <td>11.067012</td>\n",
              "      <td>0.0</td>\n",
              "      <td>1002.114924</td>\n",
              "    </tr>\n",
              "    <tr>\n",
              "      <th>Breezy and Partly Cloudy</th>\n",
              "      <td>12.492761</td>\n",
              "      <td>9.989349</td>\n",
              "      <td>0.545803</td>\n",
              "      <td>33.532796</td>\n",
              "      <td>259.282383</td>\n",
              "      <td>11.326058</td>\n",
              "      <td>0.0</td>\n",
              "      <td>996.398212</td>\n",
              "    </tr>\n",
              "    <tr>\n",
              "      <th>Clear</th>\n",
              "      <td>11.925109</td>\n",
              "      <td>11.040338</td>\n",
              "      <td>0.729708</td>\n",
              "      <td>8.141352</td>\n",
              "      <td>179.180257</td>\n",
              "      <td>11.441788</td>\n",
              "      <td>0.0</td>\n",
              "      <td>951.763532</td>\n",
              "    </tr>\n",
              "    <tr>\n",
              "      <th>Dangerously Windy and Partly Cloudy</th>\n",
              "      <td>8.944444</td>\n",
              "      <td>3.483333</td>\n",
              "      <td>0.490000</td>\n",
              "      <td>63.852600</td>\n",
              "      <td>307.000000</td>\n",
              "      <td>11.447100</td>\n",
              "      <td>0.0</td>\n",
              "      <td>1009.050000</td>\n",
              "    </tr>\n",
              "    <tr>\n",
              "      <th>Drizzle</th>\n",
              "      <td>10.847578</td>\n",
              "      <td>10.011681</td>\n",
              "      <td>0.867949</td>\n",
              "      <td>10.356428</td>\n",
              "      <td>177.307692</td>\n",
              "      <td>8.069815</td>\n",
              "      <td>0.0</td>\n",
              "      <td>1014.931538</td>\n",
              "    </tr>\n",
              "    <tr>\n",
              "      <th>Dry</th>\n",
              "      <td>29.083660</td>\n",
              "      <td>28.273529</td>\n",
              "      <td>0.230294</td>\n",
              "      <td>14.713979</td>\n",
              "      <td>230.294118</td>\n",
              "      <td>10.250965</td>\n",
              "      <td>0.0</td>\n",
              "      <td>1016.391765</td>\n",
              "    </tr>\n",
              "    <tr>\n",
              "      <th>Dry and Mostly Cloudy</th>\n",
              "      <td>26.838492</td>\n",
              "      <td>25.929365</td>\n",
              "      <td>0.242143</td>\n",
              "      <td>13.667750</td>\n",
              "      <td>187.785714</td>\n",
              "      <td>10.115400</td>\n",
              "      <td>0.0</td>\n",
              "      <td>1014.872143</td>\n",
              "    </tr>\n",
              "    <tr>\n",
              "      <th>Dry and Partly Cloudy</th>\n",
              "      <td>26.605749</td>\n",
              "      <td>25.982235</td>\n",
              "      <td>0.240814</td>\n",
              "      <td>12.304519</td>\n",
              "      <td>224.465116</td>\n",
              "      <td>10.987501</td>\n",
              "      <td>0.0</td>\n",
              "      <td>1017.242558</td>\n",
              "    </tr>\n",
              "    <tr>\n",
              "      <th>Foggy</th>\n",
              "      <td>1.464035</td>\n",
              "      <td>-0.210419</td>\n",
              "      <td>0.950765</td>\n",
              "      <td>7.171649</td>\n",
              "      <td>168.668439</td>\n",
              "      <td>1.551411</td>\n",
              "      <td>0.0</td>\n",
              "      <td>1007.475207</td>\n",
              "    </tr>\n",
              "    <tr>\n",
              "      <th>Humid and Mostly Cloudy</th>\n",
              "      <td>20.886389</td>\n",
              "      <td>20.886389</td>\n",
              "      <td>0.874250</td>\n",
              "      <td>10.058877</td>\n",
              "      <td>153.425000</td>\n",
              "      <td>9.732852</td>\n",
              "      <td>0.0</td>\n",
              "      <td>1012.887250</td>\n",
              "    </tr>\n",
              "    <tr>\n",
              "      <th>Humid and Overcast</th>\n",
              "      <td>21.515079</td>\n",
              "      <td>21.515079</td>\n",
              "      <td>0.881429</td>\n",
              "      <td>9.740500</td>\n",
              "      <td>138.857143</td>\n",
              "      <td>9.052800</td>\n",
              "      <td>0.0</td>\n",
              "      <td>1014.550000</td>\n",
              "    </tr>\n",
              "    <tr>\n",
              "      <th>Humid and Partly Cloudy</th>\n",
              "      <td>21.568301</td>\n",
              "      <td>21.568301</td>\n",
              "      <td>0.848824</td>\n",
              "      <td>9.938435</td>\n",
              "      <td>201.647059</td>\n",
              "      <td>10.633576</td>\n",
              "      <td>0.0</td>\n",
              "      <td>1011.974118</td>\n",
              "    </tr>\n",
              "    <tr>\n",
              "      <th>Light Rain</th>\n",
              "      <td>10.021517</td>\n",
              "      <td>8.560317</td>\n",
              "      <td>0.888095</td>\n",
              "      <td>14.673489</td>\n",
              "      <td>180.761905</td>\n",
              "      <td>6.657989</td>\n",
              "      <td>0.0</td>\n",
              "      <td>1011.054762</td>\n",
              "    </tr>\n",
              "    <tr>\n",
              "      <th>Mostly Cloudy</th>\n",
              "      <td>12.629334</td>\n",
              "      <td>11.624994</td>\n",
              "      <td>0.725069</td>\n",
              "      <td>11.418404</td>\n",
              "      <td>192.049299</td>\n",
              "      <td>11.117234</td>\n",
              "      <td>0.0</td>\n",
              "      <td>1010.840591</td>\n",
              "    </tr>\n",
              "    <tr>\n",
              "      <th>Overcast</th>\n",
              "      <td>7.516502</td>\n",
              "      <td>5.789636</td>\n",
              "      <td>0.837232</td>\n",
              "      <td>12.027738</td>\n",
              "      <td>183.532747</td>\n",
              "      <td>9.275112</td>\n",
              "      <td>0.0</td>\n",
              "      <td>1005.632402</td>\n",
              "    </tr>\n",
              "    <tr>\n",
              "      <th>Partly Cloudy</th>\n",
              "      <td>16.024782</td>\n",
              "      <td>15.394033</td>\n",
              "      <td>0.648571</td>\n",
              "      <td>10.115130</td>\n",
              "      <td>190.161094</td>\n",
              "      <td>11.811517</td>\n",
              "      <td>0.0</td>\n",
              "      <td>1013.079063</td>\n",
              "    </tr>\n",
              "    <tr>\n",
              "      <th>Rain</th>\n",
              "      <td>10.096111</td>\n",
              "      <td>9.607222</td>\n",
              "      <td>0.947000</td>\n",
              "      <td>5.797610</td>\n",
              "      <td>211.800000</td>\n",
              "      <td>1.779050</td>\n",
              "      <td>0.0</td>\n",
              "      <td>1017.318000</td>\n",
              "    </tr>\n",
              "    <tr>\n",
              "      <th>Windy</th>\n",
              "      <td>6.804861</td>\n",
              "      <td>2.009028</td>\n",
              "      <td>0.572500</td>\n",
              "      <td>42.165900</td>\n",
              "      <td>319.750000</td>\n",
              "      <td>10.712537</td>\n",
              "      <td>0.0</td>\n",
              "      <td>127.376250</td>\n",
              "    </tr>\n",
              "    <tr>\n",
              "      <th>Windy and Dry</th>\n",
              "      <td>27.222222</td>\n",
              "      <td>26.344444</td>\n",
              "      <td>0.240000</td>\n",
              "      <td>40.250000</td>\n",
              "      <td>150.000000</td>\n",
              "      <td>9.982000</td>\n",
              "      <td>0.0</td>\n",
              "      <td>1020.200000</td>\n",
              "    </tr>\n",
              "    <tr>\n",
              "      <th>Windy and Foggy</th>\n",
              "      <td>11.876389</td>\n",
              "      <td>9.769444</td>\n",
              "      <td>0.900000</td>\n",
              "      <td>44.178400</td>\n",
              "      <td>155.000000</td>\n",
              "      <td>1.903825</td>\n",
              "      <td>0.0</td>\n",
              "      <td>1011.975000</td>\n",
              "    </tr>\n",
              "    <tr>\n",
              "      <th>Windy and Mostly Cloudy</th>\n",
              "      <td>11.834603</td>\n",
              "      <td>9.754286</td>\n",
              "      <td>0.600000</td>\n",
              "      <td>43.117640</td>\n",
              "      <td>261.428571</td>\n",
              "      <td>11.159600</td>\n",
              "      <td>0.0</td>\n",
              "      <td>979.825143</td>\n",
              "    </tr>\n",
              "    <tr>\n",
              "      <th>Windy and Overcast</th>\n",
              "      <td>7.932963</td>\n",
              "      <td>3.696543</td>\n",
              "      <td>0.708667</td>\n",
              "      <td>43.378409</td>\n",
              "      <td>244.311111</td>\n",
              "      <td>9.806331</td>\n",
              "      <td>0.0</td>\n",
              "      <td>1006.446000</td>\n",
              "    </tr>\n",
              "    <tr>\n",
              "      <th>Windy and Partly Cloudy</th>\n",
              "      <td>9.968076</td>\n",
              "      <td>6.551244</td>\n",
              "      <td>0.528806</td>\n",
              "      <td>44.610937</td>\n",
              "      <td>295.119403</td>\n",
              "      <td>11.484106</td>\n",
              "      <td>0.0</td>\n",
              "      <td>953.291194</td>\n",
              "    </tr>\n",
              "  </tbody>\n",
              "</table>\n",
              "</div>\n",
              "    <div class=\"colab-df-buttons\">\n",
              "\n",
              "  <div class=\"colab-df-container\">\n",
              "    <button class=\"colab-df-convert\" onclick=\"convertToInteractive('df-e474fc8a-8d7f-49bc-a89b-00d4e1487c49')\"\n",
              "            title=\"Convert this dataframe to an interactive table.\"\n",
              "            style=\"display:none;\">\n",
              "\n",
              "  <svg xmlns=\"http://www.w3.org/2000/svg\" height=\"24px\" viewBox=\"0 -960 960 960\">\n",
              "    <path d=\"M120-120v-720h720v720H120Zm60-500h600v-160H180v160Zm220 220h160v-160H400v160Zm0 220h160v-160H400v160ZM180-400h160v-160H180v160Zm440 0h160v-160H620v160ZM180-180h160v-160H180v160Zm440 0h160v-160H620v160Z\"/>\n",
              "  </svg>\n",
              "    </button>\n",
              "\n",
              "  <style>\n",
              "    .colab-df-container {\n",
              "      display:flex;\n",
              "      gap: 12px;\n",
              "    }\n",
              "\n",
              "    .colab-df-convert {\n",
              "      background-color: #E8F0FE;\n",
              "      border: none;\n",
              "      border-radius: 50%;\n",
              "      cursor: pointer;\n",
              "      display: none;\n",
              "      fill: #1967D2;\n",
              "      height: 32px;\n",
              "      padding: 0 0 0 0;\n",
              "      width: 32px;\n",
              "    }\n",
              "\n",
              "    .colab-df-convert:hover {\n",
              "      background-color: #E2EBFA;\n",
              "      box-shadow: 0px 1px 2px rgba(60, 64, 67, 0.3), 0px 1px 3px 1px rgba(60, 64, 67, 0.15);\n",
              "      fill: #174EA6;\n",
              "    }\n",
              "\n",
              "    .colab-df-buttons div {\n",
              "      margin-bottom: 4px;\n",
              "    }\n",
              "\n",
              "    [theme=dark] .colab-df-convert {\n",
              "      background-color: #3B4455;\n",
              "      fill: #D2E3FC;\n",
              "    }\n",
              "\n",
              "    [theme=dark] .colab-df-convert:hover {\n",
              "      background-color: #434B5C;\n",
              "      box-shadow: 0px 1px 3px 1px rgba(0, 0, 0, 0.15);\n",
              "      filter: drop-shadow(0px 1px 2px rgba(0, 0, 0, 0.3));\n",
              "      fill: #FFFFFF;\n",
              "    }\n",
              "  </style>\n",
              "\n",
              "    <script>\n",
              "      const buttonEl =\n",
              "        document.querySelector('#df-e474fc8a-8d7f-49bc-a89b-00d4e1487c49 button.colab-df-convert');\n",
              "      buttonEl.style.display =\n",
              "        google.colab.kernel.accessAllowed ? 'block' : 'none';\n",
              "\n",
              "      async function convertToInteractive(key) {\n",
              "        const element = document.querySelector('#df-e474fc8a-8d7f-49bc-a89b-00d4e1487c49');\n",
              "        const dataTable =\n",
              "          await google.colab.kernel.invokeFunction('convertToInteractive',\n",
              "                                                    [key], {});\n",
              "        if (!dataTable) return;\n",
              "\n",
              "        const docLinkHtml = 'Like what you see? Visit the ' +\n",
              "          '<a target=\"_blank\" href=https://colab.research.google.com/notebooks/data_table.ipynb>data table notebook</a>'\n",
              "          + ' to learn more about interactive tables.';\n",
              "        element.innerHTML = '';\n",
              "        dataTable['output_type'] = 'display_data';\n",
              "        await google.colab.output.renderOutput(dataTable, element);\n",
              "        const docLink = document.createElement('div');\n",
              "        docLink.innerHTML = docLinkHtml;\n",
              "        element.appendChild(docLink);\n",
              "      }\n",
              "    </script>\n",
              "  </div>\n",
              "\n",
              "\n",
              "<div id=\"df-01e9721a-bf90-45a8-9627-c1773fe1726e\">\n",
              "  <button class=\"colab-df-quickchart\" onclick=\"quickchart('df-01e9721a-bf90-45a8-9627-c1773fe1726e')\"\n",
              "            title=\"Suggest charts\"\n",
              "            style=\"display:none;\">\n",
              "\n",
              "<svg xmlns=\"http://www.w3.org/2000/svg\" height=\"24px\"viewBox=\"0 0 24 24\"\n",
              "     width=\"24px\">\n",
              "    <g>\n",
              "        <path d=\"M19 3H5c-1.1 0-2 .9-2 2v14c0 1.1.9 2 2 2h14c1.1 0 2-.9 2-2V5c0-1.1-.9-2-2-2zM9 17H7v-7h2v7zm4 0h-2V7h2v10zm4 0h-2v-4h2v4z\"/>\n",
              "    </g>\n",
              "</svg>\n",
              "  </button>\n",
              "\n",
              "<style>\n",
              "  .colab-df-quickchart {\n",
              "      --bg-color: #E8F0FE;\n",
              "      --fill-color: #1967D2;\n",
              "      --hover-bg-color: #E2EBFA;\n",
              "      --hover-fill-color: #174EA6;\n",
              "      --disabled-fill-color: #AAA;\n",
              "      --disabled-bg-color: #DDD;\n",
              "  }\n",
              "\n",
              "  [theme=dark] .colab-df-quickchart {\n",
              "      --bg-color: #3B4455;\n",
              "      --fill-color: #D2E3FC;\n",
              "      --hover-bg-color: #434B5C;\n",
              "      --hover-fill-color: #FFFFFF;\n",
              "      --disabled-bg-color: #3B4455;\n",
              "      --disabled-fill-color: #666;\n",
              "  }\n",
              "\n",
              "  .colab-df-quickchart {\n",
              "    background-color: var(--bg-color);\n",
              "    border: none;\n",
              "    border-radius: 50%;\n",
              "    cursor: pointer;\n",
              "    display: none;\n",
              "    fill: var(--fill-color);\n",
              "    height: 32px;\n",
              "    padding: 0;\n",
              "    width: 32px;\n",
              "  }\n",
              "\n",
              "  .colab-df-quickchart:hover {\n",
              "    background-color: var(--hover-bg-color);\n",
              "    box-shadow: 0 1px 2px rgba(60, 64, 67, 0.3), 0 1px 3px 1px rgba(60, 64, 67, 0.15);\n",
              "    fill: var(--button-hover-fill-color);\n",
              "  }\n",
              "\n",
              "  .colab-df-quickchart-complete:disabled,\n",
              "  .colab-df-quickchart-complete:disabled:hover {\n",
              "    background-color: var(--disabled-bg-color);\n",
              "    fill: var(--disabled-fill-color);\n",
              "    box-shadow: none;\n",
              "  }\n",
              "\n",
              "  .colab-df-spinner {\n",
              "    border: 2px solid var(--fill-color);\n",
              "    border-color: transparent;\n",
              "    border-bottom-color: var(--fill-color);\n",
              "    animation:\n",
              "      spin 1s steps(1) infinite;\n",
              "  }\n",
              "\n",
              "  @keyframes spin {\n",
              "    0% {\n",
              "      border-color: transparent;\n",
              "      border-bottom-color: var(--fill-color);\n",
              "      border-left-color: var(--fill-color);\n",
              "    }\n",
              "    20% {\n",
              "      border-color: transparent;\n",
              "      border-left-color: var(--fill-color);\n",
              "      border-top-color: var(--fill-color);\n",
              "    }\n",
              "    30% {\n",
              "      border-color: transparent;\n",
              "      border-left-color: var(--fill-color);\n",
              "      border-top-color: var(--fill-color);\n",
              "      border-right-color: var(--fill-color);\n",
              "    }\n",
              "    40% {\n",
              "      border-color: transparent;\n",
              "      border-right-color: var(--fill-color);\n",
              "      border-top-color: var(--fill-color);\n",
              "    }\n",
              "    60% {\n",
              "      border-color: transparent;\n",
              "      border-right-color: var(--fill-color);\n",
              "    }\n",
              "    80% {\n",
              "      border-color: transparent;\n",
              "      border-right-color: var(--fill-color);\n",
              "      border-bottom-color: var(--fill-color);\n",
              "    }\n",
              "    90% {\n",
              "      border-color: transparent;\n",
              "      border-bottom-color: var(--fill-color);\n",
              "    }\n",
              "  }\n",
              "</style>\n",
              "\n",
              "  <script>\n",
              "    async function quickchart(key) {\n",
              "      const quickchartButtonEl =\n",
              "        document.querySelector('#' + key + ' button');\n",
              "      quickchartButtonEl.disabled = true;  // To prevent multiple clicks.\n",
              "      quickchartButtonEl.classList.add('colab-df-spinner');\n",
              "      try {\n",
              "        const charts = await google.colab.kernel.invokeFunction(\n",
              "            'suggestCharts', [key], {});\n",
              "      } catch (error) {\n",
              "        console.error('Error during call to suggestCharts:', error);\n",
              "      }\n",
              "      quickchartButtonEl.classList.remove('colab-df-spinner');\n",
              "      quickchartButtonEl.classList.add('colab-df-quickchart-complete');\n",
              "    }\n",
              "    (() => {\n",
              "      let quickchartButtonEl =\n",
              "        document.querySelector('#df-01e9721a-bf90-45a8-9627-c1773fe1726e button');\n",
              "      quickchartButtonEl.style.display =\n",
              "        google.colab.kernel.accessAllowed ? 'block' : 'none';\n",
              "    })();\n",
              "  </script>\n",
              "</div>\n",
              "\n",
              "    </div>\n",
              "  </div>\n"
            ]
          },
          "metadata": {},
          "execution_count": 41
        }
      ]
    },
    {
      "cell_type": "code",
      "source": [
        "g.describe()"
      ],
      "metadata": {
        "colab": {
          "base_uri": "https://localhost:8080/",
          "height": 1000
        },
        "id": "_pxI6Cr_J1l3",
        "outputId": "11a3a4c5-1522-4a9c-f339-d6799f89a16d"
      },
      "execution_count": null,
      "outputs": [
        {
          "output_type": "execute_result",
          "data": {
            "text/plain": [
              "                                    Temperature (C)                        \\\n",
              "                                              count       mean        std   \n",
              "Summary                                                                     \n",
              "Breezy                                         54.0   7.922016  10.706180   \n",
              "Breezy and Dry                                  1.0  21.111111        NaN   \n",
              "Breezy and Foggy                               35.0  -0.510317   5.081695   \n",
              "Breezy and Mostly Cloudy                      516.0  11.093411   6.683639   \n",
              "Breezy and Overcast                           528.0   7.241614   5.592556   \n",
              "Breezy and Partly Cloudy                      386.0  12.492761   8.140788   \n",
              "Clear                                       10890.0  11.925109  10.018959   \n",
              "Dangerously Windy and Partly Cloudy             1.0   8.944444        NaN   \n",
              "Drizzle                                        39.0  10.847578   2.485500   \n",
              "Dry                                            34.0  29.083660   6.797474   \n",
              "Dry and Mostly Cloudy                          14.0  26.838492   5.383821   \n",
              "Dry and Partly Cloudy                          86.0  26.605749   5.634725   \n",
              "Foggy                                        7148.0   1.464035   5.756860   \n",
              "Humid and Mostly Cloudy                        40.0  20.886389   0.880749   \n",
              "Humid and Overcast                              7.0  21.515079   1.322571   \n",
              "Humid and Partly Cloudy                        17.0  21.568301   0.899273   \n",
              "Light Rain                                     63.0  10.021517   2.063951   \n",
              "Mostly Cloudy                               28094.0  12.629334   8.454565   \n",
              "Overcast                                    16597.0   7.516502   7.112253   \n",
              "Partly Cloudy                               31733.0  16.024782   9.447221   \n",
              "Rain                                           10.0  10.096111   1.061116   \n",
              "Windy                                           8.0   6.804861   2.870525   \n",
              "Windy and Dry                                   1.0  27.222222        NaN   \n",
              "Windy and Foggy                                 4.0  11.876389   9.601677   \n",
              "Windy and Mostly Cloudy                        35.0  11.834603   3.961356   \n",
              "Windy and Overcast                             45.0   7.932963   5.411017   \n",
              "Windy and Partly Cloudy                        67.0   9.968076   4.522439   \n",
              "\n",
              "                                                                      \\\n",
              "                                           min        25%        50%   \n",
              "Summary                                                                \n",
              "Breezy                               -2.777778   1.023611   4.975000   \n",
              "Breezy and Dry                       21.111111  21.111111  21.111111   \n",
              "Breezy and Foggy                     -3.827778  -2.827778  -2.172222   \n",
              "Breezy and Mostly Cloudy             -6.966667   7.131944  10.475000   \n",
              "Breezy and Overcast                 -11.533333   3.287500   7.777778   \n",
              "Breezy and Partly Cloudy             -5.050000   6.161111  10.669444   \n",
              "Clear                               -20.000000   4.400000  12.222222   \n",
              "Dangerously Windy and Partly Cloudy   8.944444   8.944444   8.944444   \n",
              "Drizzle                               7.805556   8.300000  10.994444   \n",
              "Dry                                  20.000000  22.222222  29.408333   \n",
              "Dry and Mostly Cloudy                20.072222  21.380556  27.272222   \n",
              "Dry and Partly Cloudy                20.000000  22.155556  23.888889   \n",
              "Foggy                               -21.822222  -2.150000   1.094444   \n",
              "Humid and Mostly Cloudy              20.000000  20.177778  20.527778   \n",
              "Humid and Overcast                   20.105556  20.747222  21.266667   \n",
              "Humid and Partly Cloudy              20.055556  21.111111  21.388889   \n",
              "Light Rain                            6.811111   8.463889   9.633333   \n",
              "Mostly Cloudy                       -16.894444   6.133333  12.733333   \n",
              "Overcast                            -16.111111   2.227778   7.250000   \n",
              "Partly Cloudy                       -20.555556   9.116667  16.994444   \n",
              "Rain                                  8.205556   9.401389  10.525000   \n",
              "Windy                                 3.938889   4.998611   5.555556   \n",
              "Windy and Dry                        27.222222  27.222222  27.222222   \n",
              "Windy and Foggy                      -2.150000  10.658333  15.011111   \n",
              "Windy and Mostly Cloudy               3.888889   7.800000  12.222222   \n",
              "Windy and Overcast                   -2.266667   4.861111   7.222222   \n",
              "Windy and Partly Cloudy               1.111111   7.283333   8.833333   \n",
              "\n",
              "                                                           \\\n",
              "                                           75%        max   \n",
              "Summary                                                     \n",
              "Breezy                                9.145833  37.588889   \n",
              "Breezy and Dry                       21.111111  21.111111   \n",
              "Breezy and Foggy                     -0.069444  17.616667   \n",
              "Breezy and Mostly Cloudy             15.038889  27.522222   \n",
              "Breezy and Overcast                  10.994444  22.433333   \n",
              "Breezy and Partly Cloudy             18.888889  38.438889   \n",
              "Clear                                18.827778  39.905556   \n",
              "Dangerously Windy and Partly Cloudy   8.944444   8.944444   \n",
              "Drizzle                              12.277778  17.844444   \n",
              "Dry                                  35.697222  38.750000   \n",
              "Dry and Mostly Cloudy                31.963889  33.905556   \n",
              "Dry and Partly Cloudy                31.722222  37.800000   \n",
              "Foggy                                 5.044444  23.661111   \n",
              "Humid and Mostly Cloudy              21.334722  23.111111   \n",
              "Humid and Overcast                   21.841667  24.055556   \n",
              "Humid and Partly Cloudy              22.222222  23.566667   \n",
              "Light Rain                           11.613889  16.011111   \n",
              "Mostly Cloudy                        18.866667  37.155556   \n",
              "Overcast                             12.727778  33.644444   \n",
              "Partly Cloudy                        22.800000  39.588889   \n",
              "Rain                                 10.791667  11.500000   \n",
              "Windy                                 7.916667  12.172222   \n",
              "Windy and Dry                        27.222222  27.222222   \n",
              "Windy and Foggy                      16.229167  19.633333   \n",
              "Windy and Mostly Cloudy              14.933333  19.905556   \n",
              "Windy and Overcast                   11.661111  21.305556   \n",
              "Windy and Partly Cloudy              11.675000  22.705556   \n",
              "\n",
              "                                    Apparent Temperature (C)             ...  \\\n",
              "                                                       count       mean  ...   \n",
              "Summary                                                                  ...   \n",
              "Breezy                                                  54.0   3.387654  ...   \n",
              "Breezy and Dry                                           1.0  21.111111  ...   \n",
              "Breezy and Foggy                                        35.0  -7.403492  ...   \n",
              "Breezy and Mostly Cloudy                               516.0   8.680588  ...   \n",
              "Breezy and Overcast                                    528.0   3.492235  ...   \n",
              "Breezy and Partly Cloudy                               386.0   9.989349  ...   \n",
              "Clear                                                10890.0  11.040338  ...   \n",
              "Dangerously Windy and Partly Cloudy                      1.0   3.483333  ...   \n",
              "Drizzle                                                 39.0  10.011681  ...   \n",
              "Dry                                                     34.0  28.273529  ...   \n",
              "Dry and Mostly Cloudy                                   14.0  25.929365  ...   \n",
              "Dry and Partly Cloudy                                   86.0  25.982235  ...   \n",
              "Foggy                                                 7148.0  -0.210419  ...   \n",
              "Humid and Mostly Cloudy                                 40.0  20.886389  ...   \n",
              "Humid and Overcast                                       7.0  21.515079  ...   \n",
              "Humid and Partly Cloudy                                 17.0  21.568301  ...   \n",
              "Light Rain                                              63.0   8.560317  ...   \n",
              "Mostly Cloudy                                        28094.0  11.624994  ...   \n",
              "Overcast                                             16597.0   5.789636  ...   \n",
              "Partly Cloudy                                        31733.0  15.394033  ...   \n",
              "Rain                                                    10.0   9.607222  ...   \n",
              "Windy                                                    8.0   2.009028  ...   \n",
              "Windy and Dry                                            1.0  26.344444  ...   \n",
              "Windy and Foggy                                          4.0   9.769444  ...   \n",
              "Windy and Mostly Cloudy                                 35.0   9.754286  ...   \n",
              "Windy and Overcast                                      45.0   3.696543  ...   \n",
              "Windy and Partly Cloudy                                 67.0   6.551244  ...   \n",
              "\n",
              "                                    Loud Cover      Pressure (millibars)  \\\n",
              "                                           75%  max                count   \n",
              "Summary                                                                    \n",
              "Breezy                                     0.0  0.0                 54.0   \n",
              "Breezy and Dry                             0.0  0.0                  1.0   \n",
              "Breezy and Foggy                           0.0  0.0                 35.0   \n",
              "Breezy and Mostly Cloudy                   0.0  0.0                516.0   \n",
              "Breezy and Overcast                        0.0  0.0                528.0   \n",
              "Breezy and Partly Cloudy                   0.0  0.0                386.0   \n",
              "Clear                                      0.0  0.0              10890.0   \n",
              "Dangerously Windy and Partly Cloudy        0.0  0.0                  1.0   \n",
              "Drizzle                                    0.0  0.0                 39.0   \n",
              "Dry                                        0.0  0.0                 34.0   \n",
              "Dry and Mostly Cloudy                      0.0  0.0                 14.0   \n",
              "Dry and Partly Cloudy                      0.0  0.0                 86.0   \n",
              "Foggy                                      0.0  0.0               7148.0   \n",
              "Humid and Mostly Cloudy                    0.0  0.0                 40.0   \n",
              "Humid and Overcast                         0.0  0.0                  7.0   \n",
              "Humid and Partly Cloudy                    0.0  0.0                 17.0   \n",
              "Light Rain                                 0.0  0.0                 63.0   \n",
              "Mostly Cloudy                              0.0  0.0              28094.0   \n",
              "Overcast                                   0.0  0.0              16597.0   \n",
              "Partly Cloudy                              0.0  0.0              31733.0   \n",
              "Rain                                       0.0  0.0                 10.0   \n",
              "Windy                                      0.0  0.0                  8.0   \n",
              "Windy and Dry                              0.0  0.0                  1.0   \n",
              "Windy and Foggy                            0.0  0.0                  4.0   \n",
              "Windy and Mostly Cloudy                    0.0  0.0                 35.0   \n",
              "Windy and Overcast                         0.0  0.0                 45.0   \n",
              "Windy and Partly Cloudy                    0.0  0.0                 67.0   \n",
              "\n",
              "                                                                       \\\n",
              "                                            mean         std      min   \n",
              "Summary                                                                 \n",
              "Breezy                                563.917593  509.148361     0.00   \n",
              "Breezy and Dry                       1021.600000         NaN  1021.60   \n",
              "Breezy and Foggy                     1008.934000    7.876054   989.47   \n",
              "Breezy and Mostly Cloudy             1000.622984   99.480492     0.00   \n",
              "Breezy and Overcast                  1002.114924   76.385036     0.00   \n",
              "Breezy and Partly Cloudy              996.398212  135.779438     0.00   \n",
              "Clear                                 951.763532  254.840427     0.00   \n",
              "Dangerously Windy and Partly Cloudy  1009.050000         NaN  1009.05   \n",
              "Drizzle                              1014.931538    6.495985   994.50   \n",
              "Dry                                  1016.391765    6.990636  1004.20   \n",
              "Dry and Mostly Cloudy                1014.872143    5.187666  1007.16   \n",
              "Dry and Partly Cloudy                1017.242558    6.612013  1000.16   \n",
              "Foggy                                1007.475207  119.192486     0.00   \n",
              "Humid and Mostly Cloudy              1012.887250    4.447109  1005.05   \n",
              "Humid and Overcast                   1014.550000    3.910874  1008.56   \n",
              "Humid and Partly Cloudy              1011.974118    4.392228  1005.55   \n",
              "Light Rain                           1011.054762    6.916287   994.29   \n",
              "Mostly Cloudy                        1010.840591   70.340172     0.00   \n",
              "Overcast                             1005.632402   98.062341     0.00   \n",
              "Partly Cloudy                        1013.079063   63.256975     0.00   \n",
              "Rain                                 1017.318000    2.769496  1014.09   \n",
              "Windy                                 127.376250  360.274441     0.00   \n",
              "Windy and Dry                        1020.200000         NaN  1020.20   \n",
              "Windy and Foggy                      1011.975000    3.210239  1007.60   \n",
              "Windy and Mostly Cloudy               979.825143  170.864578     0.00   \n",
              "Windy and Overcast                   1006.446000    9.150844   973.78   \n",
              "Windy and Partly Cloudy               953.291194  242.115080     0.00   \n",
              "\n",
              "                                                                              \n",
              "                                           25%       50%        75%      max  \n",
              "Summary                                                                       \n",
              "Breezy                                  0.0000  1004.730  1016.3850  1030.19  \n",
              "Breezy and Dry                       1021.6000  1021.600  1021.6000  1021.60  \n",
              "Breezy and Foggy                     1008.6850  1011.720  1013.1150  1015.85  \n",
              "Breezy and Mostly Cloudy             1004.8875  1010.830  1016.7825  1037.14  \n",
              "Breezy and Overcast                  1002.5375  1007.895  1013.2000  1034.98  \n",
              "Breezy and Partly Cloudy             1009.6750  1015.240  1019.0775  1041.25  \n",
              "Clear                                1014.5525  1018.510  1023.4000  1046.38  \n",
              "Dangerously Windy and Partly Cloudy  1009.0500  1009.050  1009.0500  1009.05  \n",
              "Drizzle                              1014.2900  1016.860  1018.8200  1022.49  \n",
              "Dry                                  1010.6925  1016.295  1021.9075  1032.20  \n",
              "Dry and Mostly Cloudy                1010.7950  1011.905  1020.3375  1022.00  \n",
              "Dry and Partly Cloudy                1012.6000  1018.250  1021.6250  1031.30  \n",
              "Foggy                                1014.7800  1022.030  1028.4700  1042.20  \n",
              "Humid and Mostly Cloudy              1008.8450  1011.490  1017.1550  1022.04  \n",
              "Humid and Overcast                   1012.2700  1014.460  1017.3750  1019.54  \n",
              "Humid and Partly Cloudy              1007.9900  1011.430  1016.1000  1017.99  \n",
              "Light Rain                           1007.7600  1013.400  1014.4850  1021.88  \n",
              "Mostly Cloudy                        1011.2800  1015.680  1019.9200  1042.31  \n",
              "Overcast                             1009.1400  1014.480  1020.3500  1045.38  \n",
              "Partly Cloudy                        1012.9800  1016.610  1020.5100  1046.06  \n",
              "Rain                                 1014.1375  1019.050  1019.3150  1020.24  \n",
              "Windy                                   0.0000     0.000     0.0000  1019.01  \n",
              "Windy and Dry                        1020.2000  1020.200  1020.2000  1020.20  \n",
              "Windy and Foggy                      1010.6525  1012.690  1014.0125  1014.92  \n",
              "Windy and Mostly Cloudy              1004.5500  1009.410  1016.0300  1024.60  \n",
              "Windy and Overcast                   1002.3300  1007.620  1012.7300  1021.37  \n",
              "Windy and Partly Cloudy              1009.4200  1014.800  1017.5750  1026.19  \n",
              "\n",
              "[27 rows x 64 columns]"
            ],
            "text/html": [
              "\n",
              "  <div id=\"df-86cceea4-560c-4313-9c8b-0d154e474c9f\" class=\"colab-df-container\">\n",
              "    <div>\n",
              "<style scoped>\n",
              "    .dataframe tbody tr th:only-of-type {\n",
              "        vertical-align: middle;\n",
              "    }\n",
              "\n",
              "    .dataframe tbody tr th {\n",
              "        vertical-align: top;\n",
              "    }\n",
              "\n",
              "    .dataframe thead tr th {\n",
              "        text-align: left;\n",
              "    }\n",
              "\n",
              "    .dataframe thead tr:last-of-type th {\n",
              "        text-align: right;\n",
              "    }\n",
              "</style>\n",
              "<table border=\"1\" class=\"dataframe\">\n",
              "  <thead>\n",
              "    <tr>\n",
              "      <th></th>\n",
              "      <th colspan=\"8\" halign=\"left\">Temperature (C)</th>\n",
              "      <th colspan=\"2\" halign=\"left\">Apparent Temperature (C)</th>\n",
              "      <th>...</th>\n",
              "      <th colspan=\"2\" halign=\"left\">Loud Cover</th>\n",
              "      <th colspan=\"8\" halign=\"left\">Pressure (millibars)</th>\n",
              "    </tr>\n",
              "    <tr>\n",
              "      <th></th>\n",
              "      <th>count</th>\n",
              "      <th>mean</th>\n",
              "      <th>std</th>\n",
              "      <th>min</th>\n",
              "      <th>25%</th>\n",
              "      <th>50%</th>\n",
              "      <th>75%</th>\n",
              "      <th>max</th>\n",
              "      <th>count</th>\n",
              "      <th>mean</th>\n",
              "      <th>...</th>\n",
              "      <th>75%</th>\n",
              "      <th>max</th>\n",
              "      <th>count</th>\n",
              "      <th>mean</th>\n",
              "      <th>std</th>\n",
              "      <th>min</th>\n",
              "      <th>25%</th>\n",
              "      <th>50%</th>\n",
              "      <th>75%</th>\n",
              "      <th>max</th>\n",
              "    </tr>\n",
              "    <tr>\n",
              "      <th>Summary</th>\n",
              "      <th></th>\n",
              "      <th></th>\n",
              "      <th></th>\n",
              "      <th></th>\n",
              "      <th></th>\n",
              "      <th></th>\n",
              "      <th></th>\n",
              "      <th></th>\n",
              "      <th></th>\n",
              "      <th></th>\n",
              "      <th></th>\n",
              "      <th></th>\n",
              "      <th></th>\n",
              "      <th></th>\n",
              "      <th></th>\n",
              "      <th></th>\n",
              "      <th></th>\n",
              "      <th></th>\n",
              "      <th></th>\n",
              "      <th></th>\n",
              "      <th></th>\n",
              "    </tr>\n",
              "  </thead>\n",
              "  <tbody>\n",
              "    <tr>\n",
              "      <th>Breezy</th>\n",
              "      <td>54.0</td>\n",
              "      <td>7.922016</td>\n",
              "      <td>10.706180</td>\n",
              "      <td>-2.777778</td>\n",
              "      <td>1.023611</td>\n",
              "      <td>4.975000</td>\n",
              "      <td>9.145833</td>\n",
              "      <td>37.588889</td>\n",
              "      <td>54.0</td>\n",
              "      <td>3.387654</td>\n",
              "      <td>...</td>\n",
              "      <td>0.0</td>\n",
              "      <td>0.0</td>\n",
              "      <td>54.0</td>\n",
              "      <td>563.917593</td>\n",
              "      <td>509.148361</td>\n",
              "      <td>0.00</td>\n",
              "      <td>0.0000</td>\n",
              "      <td>1004.730</td>\n",
              "      <td>1016.3850</td>\n",
              "      <td>1030.19</td>\n",
              "    </tr>\n",
              "    <tr>\n",
              "      <th>Breezy and Dry</th>\n",
              "      <td>1.0</td>\n",
              "      <td>21.111111</td>\n",
              "      <td>NaN</td>\n",
              "      <td>21.111111</td>\n",
              "      <td>21.111111</td>\n",
              "      <td>21.111111</td>\n",
              "      <td>21.111111</td>\n",
              "      <td>21.111111</td>\n",
              "      <td>1.0</td>\n",
              "      <td>21.111111</td>\n",
              "      <td>...</td>\n",
              "      <td>0.0</td>\n",
              "      <td>0.0</td>\n",
              "      <td>1.0</td>\n",
              "      <td>1021.600000</td>\n",
              "      <td>NaN</td>\n",
              "      <td>1021.60</td>\n",
              "      <td>1021.6000</td>\n",
              "      <td>1021.600</td>\n",
              "      <td>1021.6000</td>\n",
              "      <td>1021.60</td>\n",
              "    </tr>\n",
              "    <tr>\n",
              "      <th>Breezy and Foggy</th>\n",
              "      <td>35.0</td>\n",
              "      <td>-0.510317</td>\n",
              "      <td>5.081695</td>\n",
              "      <td>-3.827778</td>\n",
              "      <td>-2.827778</td>\n",
              "      <td>-2.172222</td>\n",
              "      <td>-0.069444</td>\n",
              "      <td>17.616667</td>\n",
              "      <td>35.0</td>\n",
              "      <td>-7.403492</td>\n",
              "      <td>...</td>\n",
              "      <td>0.0</td>\n",
              "      <td>0.0</td>\n",
              "      <td>35.0</td>\n",
              "      <td>1008.934000</td>\n",
              "      <td>7.876054</td>\n",
              "      <td>989.47</td>\n",
              "      <td>1008.6850</td>\n",
              "      <td>1011.720</td>\n",
              "      <td>1013.1150</td>\n",
              "      <td>1015.85</td>\n",
              "    </tr>\n",
              "    <tr>\n",
              "      <th>Breezy and Mostly Cloudy</th>\n",
              "      <td>516.0</td>\n",
              "      <td>11.093411</td>\n",
              "      <td>6.683639</td>\n",
              "      <td>-6.966667</td>\n",
              "      <td>7.131944</td>\n",
              "      <td>10.475000</td>\n",
              "      <td>15.038889</td>\n",
              "      <td>27.522222</td>\n",
              "      <td>516.0</td>\n",
              "      <td>8.680588</td>\n",
              "      <td>...</td>\n",
              "      <td>0.0</td>\n",
              "      <td>0.0</td>\n",
              "      <td>516.0</td>\n",
              "      <td>1000.622984</td>\n",
              "      <td>99.480492</td>\n",
              "      <td>0.00</td>\n",
              "      <td>1004.8875</td>\n",
              "      <td>1010.830</td>\n",
              "      <td>1016.7825</td>\n",
              "      <td>1037.14</td>\n",
              "    </tr>\n",
              "    <tr>\n",
              "      <th>Breezy and Overcast</th>\n",
              "      <td>528.0</td>\n",
              "      <td>7.241614</td>\n",
              "      <td>5.592556</td>\n",
              "      <td>-11.533333</td>\n",
              "      <td>3.287500</td>\n",
              "      <td>7.777778</td>\n",
              "      <td>10.994444</td>\n",
              "      <td>22.433333</td>\n",
              "      <td>528.0</td>\n",
              "      <td>3.492235</td>\n",
              "      <td>...</td>\n",
              "      <td>0.0</td>\n",
              "      <td>0.0</td>\n",
              "      <td>528.0</td>\n",
              "      <td>1002.114924</td>\n",
              "      <td>76.385036</td>\n",
              "      <td>0.00</td>\n",
              "      <td>1002.5375</td>\n",
              "      <td>1007.895</td>\n",
              "      <td>1013.2000</td>\n",
              "      <td>1034.98</td>\n",
              "    </tr>\n",
              "    <tr>\n",
              "      <th>Breezy and Partly Cloudy</th>\n",
              "      <td>386.0</td>\n",
              "      <td>12.492761</td>\n",
              "      <td>8.140788</td>\n",
              "      <td>-5.050000</td>\n",
              "      <td>6.161111</td>\n",
              "      <td>10.669444</td>\n",
              "      <td>18.888889</td>\n",
              "      <td>38.438889</td>\n",
              "      <td>386.0</td>\n",
              "      <td>9.989349</td>\n",
              "      <td>...</td>\n",
              "      <td>0.0</td>\n",
              "      <td>0.0</td>\n",
              "      <td>386.0</td>\n",
              "      <td>996.398212</td>\n",
              "      <td>135.779438</td>\n",
              "      <td>0.00</td>\n",
              "      <td>1009.6750</td>\n",
              "      <td>1015.240</td>\n",
              "      <td>1019.0775</td>\n",
              "      <td>1041.25</td>\n",
              "    </tr>\n",
              "    <tr>\n",
              "      <th>Clear</th>\n",
              "      <td>10890.0</td>\n",
              "      <td>11.925109</td>\n",
              "      <td>10.018959</td>\n",
              "      <td>-20.000000</td>\n",
              "      <td>4.400000</td>\n",
              "      <td>12.222222</td>\n",
              "      <td>18.827778</td>\n",
              "      <td>39.905556</td>\n",
              "      <td>10890.0</td>\n",
              "      <td>11.040338</td>\n",
              "      <td>...</td>\n",
              "      <td>0.0</td>\n",
              "      <td>0.0</td>\n",
              "      <td>10890.0</td>\n",
              "      <td>951.763532</td>\n",
              "      <td>254.840427</td>\n",
              "      <td>0.00</td>\n",
              "      <td>1014.5525</td>\n",
              "      <td>1018.510</td>\n",
              "      <td>1023.4000</td>\n",
              "      <td>1046.38</td>\n",
              "    </tr>\n",
              "    <tr>\n",
              "      <th>Dangerously Windy and Partly Cloudy</th>\n",
              "      <td>1.0</td>\n",
              "      <td>8.944444</td>\n",
              "      <td>NaN</td>\n",
              "      <td>8.944444</td>\n",
              "      <td>8.944444</td>\n",
              "      <td>8.944444</td>\n",
              "      <td>8.944444</td>\n",
              "      <td>8.944444</td>\n",
              "      <td>1.0</td>\n",
              "      <td>3.483333</td>\n",
              "      <td>...</td>\n",
              "      <td>0.0</td>\n",
              "      <td>0.0</td>\n",
              "      <td>1.0</td>\n",
              "      <td>1009.050000</td>\n",
              "      <td>NaN</td>\n",
              "      <td>1009.05</td>\n",
              "      <td>1009.0500</td>\n",
              "      <td>1009.050</td>\n",
              "      <td>1009.0500</td>\n",
              "      <td>1009.05</td>\n",
              "    </tr>\n",
              "    <tr>\n",
              "      <th>Drizzle</th>\n",
              "      <td>39.0</td>\n",
              "      <td>10.847578</td>\n",
              "      <td>2.485500</td>\n",
              "      <td>7.805556</td>\n",
              "      <td>8.300000</td>\n",
              "      <td>10.994444</td>\n",
              "      <td>12.277778</td>\n",
              "      <td>17.844444</td>\n",
              "      <td>39.0</td>\n",
              "      <td>10.011681</td>\n",
              "      <td>...</td>\n",
              "      <td>0.0</td>\n",
              "      <td>0.0</td>\n",
              "      <td>39.0</td>\n",
              "      <td>1014.931538</td>\n",
              "      <td>6.495985</td>\n",
              "      <td>994.50</td>\n",
              "      <td>1014.2900</td>\n",
              "      <td>1016.860</td>\n",
              "      <td>1018.8200</td>\n",
              "      <td>1022.49</td>\n",
              "    </tr>\n",
              "    <tr>\n",
              "      <th>Dry</th>\n",
              "      <td>34.0</td>\n",
              "      <td>29.083660</td>\n",
              "      <td>6.797474</td>\n",
              "      <td>20.000000</td>\n",
              "      <td>22.222222</td>\n",
              "      <td>29.408333</td>\n",
              "      <td>35.697222</td>\n",
              "      <td>38.750000</td>\n",
              "      <td>34.0</td>\n",
              "      <td>28.273529</td>\n",
              "      <td>...</td>\n",
              "      <td>0.0</td>\n",
              "      <td>0.0</td>\n",
              "      <td>34.0</td>\n",
              "      <td>1016.391765</td>\n",
              "      <td>6.990636</td>\n",
              "      <td>1004.20</td>\n",
              "      <td>1010.6925</td>\n",
              "      <td>1016.295</td>\n",
              "      <td>1021.9075</td>\n",
              "      <td>1032.20</td>\n",
              "    </tr>\n",
              "    <tr>\n",
              "      <th>Dry and Mostly Cloudy</th>\n",
              "      <td>14.0</td>\n",
              "      <td>26.838492</td>\n",
              "      <td>5.383821</td>\n",
              "      <td>20.072222</td>\n",
              "      <td>21.380556</td>\n",
              "      <td>27.272222</td>\n",
              "      <td>31.963889</td>\n",
              "      <td>33.905556</td>\n",
              "      <td>14.0</td>\n",
              "      <td>25.929365</td>\n",
              "      <td>...</td>\n",
              "      <td>0.0</td>\n",
              "      <td>0.0</td>\n",
              "      <td>14.0</td>\n",
              "      <td>1014.872143</td>\n",
              "      <td>5.187666</td>\n",
              "      <td>1007.16</td>\n",
              "      <td>1010.7950</td>\n",
              "      <td>1011.905</td>\n",
              "      <td>1020.3375</td>\n",
              "      <td>1022.00</td>\n",
              "    </tr>\n",
              "    <tr>\n",
              "      <th>Dry and Partly Cloudy</th>\n",
              "      <td>86.0</td>\n",
              "      <td>26.605749</td>\n",
              "      <td>5.634725</td>\n",
              "      <td>20.000000</td>\n",
              "      <td>22.155556</td>\n",
              "      <td>23.888889</td>\n",
              "      <td>31.722222</td>\n",
              "      <td>37.800000</td>\n",
              "      <td>86.0</td>\n",
              "      <td>25.982235</td>\n",
              "      <td>...</td>\n",
              "      <td>0.0</td>\n",
              "      <td>0.0</td>\n",
              "      <td>86.0</td>\n",
              "      <td>1017.242558</td>\n",
              "      <td>6.612013</td>\n",
              "      <td>1000.16</td>\n",
              "      <td>1012.6000</td>\n",
              "      <td>1018.250</td>\n",
              "      <td>1021.6250</td>\n",
              "      <td>1031.30</td>\n",
              "    </tr>\n",
              "    <tr>\n",
              "      <th>Foggy</th>\n",
              "      <td>7148.0</td>\n",
              "      <td>1.464035</td>\n",
              "      <td>5.756860</td>\n",
              "      <td>-21.822222</td>\n",
              "      <td>-2.150000</td>\n",
              "      <td>1.094444</td>\n",
              "      <td>5.044444</td>\n",
              "      <td>23.661111</td>\n",
              "      <td>7148.0</td>\n",
              "      <td>-0.210419</td>\n",
              "      <td>...</td>\n",
              "      <td>0.0</td>\n",
              "      <td>0.0</td>\n",
              "      <td>7148.0</td>\n",
              "      <td>1007.475207</td>\n",
              "      <td>119.192486</td>\n",
              "      <td>0.00</td>\n",
              "      <td>1014.7800</td>\n",
              "      <td>1022.030</td>\n",
              "      <td>1028.4700</td>\n",
              "      <td>1042.20</td>\n",
              "    </tr>\n",
              "    <tr>\n",
              "      <th>Humid and Mostly Cloudy</th>\n",
              "      <td>40.0</td>\n",
              "      <td>20.886389</td>\n",
              "      <td>0.880749</td>\n",
              "      <td>20.000000</td>\n",
              "      <td>20.177778</td>\n",
              "      <td>20.527778</td>\n",
              "      <td>21.334722</td>\n",
              "      <td>23.111111</td>\n",
              "      <td>40.0</td>\n",
              "      <td>20.886389</td>\n",
              "      <td>...</td>\n",
              "      <td>0.0</td>\n",
              "      <td>0.0</td>\n",
              "      <td>40.0</td>\n",
              "      <td>1012.887250</td>\n",
              "      <td>4.447109</td>\n",
              "      <td>1005.05</td>\n",
              "      <td>1008.8450</td>\n",
              "      <td>1011.490</td>\n",
              "      <td>1017.1550</td>\n",
              "      <td>1022.04</td>\n",
              "    </tr>\n",
              "    <tr>\n",
              "      <th>Humid and Overcast</th>\n",
              "      <td>7.0</td>\n",
              "      <td>21.515079</td>\n",
              "      <td>1.322571</td>\n",
              "      <td>20.105556</td>\n",
              "      <td>20.747222</td>\n",
              "      <td>21.266667</td>\n",
              "      <td>21.841667</td>\n",
              "      <td>24.055556</td>\n",
              "      <td>7.0</td>\n",
              "      <td>21.515079</td>\n",
              "      <td>...</td>\n",
              "      <td>0.0</td>\n",
              "      <td>0.0</td>\n",
              "      <td>7.0</td>\n",
              "      <td>1014.550000</td>\n",
              "      <td>3.910874</td>\n",
              "      <td>1008.56</td>\n",
              "      <td>1012.2700</td>\n",
              "      <td>1014.460</td>\n",
              "      <td>1017.3750</td>\n",
              "      <td>1019.54</td>\n",
              "    </tr>\n",
              "    <tr>\n",
              "      <th>Humid and Partly Cloudy</th>\n",
              "      <td>17.0</td>\n",
              "      <td>21.568301</td>\n",
              "      <td>0.899273</td>\n",
              "      <td>20.055556</td>\n",
              "      <td>21.111111</td>\n",
              "      <td>21.388889</td>\n",
              "      <td>22.222222</td>\n",
              "      <td>23.566667</td>\n",
              "      <td>17.0</td>\n",
              "      <td>21.568301</td>\n",
              "      <td>...</td>\n",
              "      <td>0.0</td>\n",
              "      <td>0.0</td>\n",
              "      <td>17.0</td>\n",
              "      <td>1011.974118</td>\n",
              "      <td>4.392228</td>\n",
              "      <td>1005.55</td>\n",
              "      <td>1007.9900</td>\n",
              "      <td>1011.430</td>\n",
              "      <td>1016.1000</td>\n",
              "      <td>1017.99</td>\n",
              "    </tr>\n",
              "    <tr>\n",
              "      <th>Light Rain</th>\n",
              "      <td>63.0</td>\n",
              "      <td>10.021517</td>\n",
              "      <td>2.063951</td>\n",
              "      <td>6.811111</td>\n",
              "      <td>8.463889</td>\n",
              "      <td>9.633333</td>\n",
              "      <td>11.613889</td>\n",
              "      <td>16.011111</td>\n",
              "      <td>63.0</td>\n",
              "      <td>8.560317</td>\n",
              "      <td>...</td>\n",
              "      <td>0.0</td>\n",
              "      <td>0.0</td>\n",
              "      <td>63.0</td>\n",
              "      <td>1011.054762</td>\n",
              "      <td>6.916287</td>\n",
              "      <td>994.29</td>\n",
              "      <td>1007.7600</td>\n",
              "      <td>1013.400</td>\n",
              "      <td>1014.4850</td>\n",
              "      <td>1021.88</td>\n",
              "    </tr>\n",
              "    <tr>\n",
              "      <th>Mostly Cloudy</th>\n",
              "      <td>28094.0</td>\n",
              "      <td>12.629334</td>\n",
              "      <td>8.454565</td>\n",
              "      <td>-16.894444</td>\n",
              "      <td>6.133333</td>\n",
              "      <td>12.733333</td>\n",
              "      <td>18.866667</td>\n",
              "      <td>37.155556</td>\n",
              "      <td>28094.0</td>\n",
              "      <td>11.624994</td>\n",
              "      <td>...</td>\n",
              "      <td>0.0</td>\n",
              "      <td>0.0</td>\n",
              "      <td>28094.0</td>\n",
              "      <td>1010.840591</td>\n",
              "      <td>70.340172</td>\n",
              "      <td>0.00</td>\n",
              "      <td>1011.2800</td>\n",
              "      <td>1015.680</td>\n",
              "      <td>1019.9200</td>\n",
              "      <td>1042.31</td>\n",
              "    </tr>\n",
              "    <tr>\n",
              "      <th>Overcast</th>\n",
              "      <td>16597.0</td>\n",
              "      <td>7.516502</td>\n",
              "      <td>7.112253</td>\n",
              "      <td>-16.111111</td>\n",
              "      <td>2.227778</td>\n",
              "      <td>7.250000</td>\n",
              "      <td>12.727778</td>\n",
              "      <td>33.644444</td>\n",
              "      <td>16597.0</td>\n",
              "      <td>5.789636</td>\n",
              "      <td>...</td>\n",
              "      <td>0.0</td>\n",
              "      <td>0.0</td>\n",
              "      <td>16597.0</td>\n",
              "      <td>1005.632402</td>\n",
              "      <td>98.062341</td>\n",
              "      <td>0.00</td>\n",
              "      <td>1009.1400</td>\n",
              "      <td>1014.480</td>\n",
              "      <td>1020.3500</td>\n",
              "      <td>1045.38</td>\n",
              "    </tr>\n",
              "    <tr>\n",
              "      <th>Partly Cloudy</th>\n",
              "      <td>31733.0</td>\n",
              "      <td>16.024782</td>\n",
              "      <td>9.447221</td>\n",
              "      <td>-20.555556</td>\n",
              "      <td>9.116667</td>\n",
              "      <td>16.994444</td>\n",
              "      <td>22.800000</td>\n",
              "      <td>39.588889</td>\n",
              "      <td>31733.0</td>\n",
              "      <td>15.394033</td>\n",
              "      <td>...</td>\n",
              "      <td>0.0</td>\n",
              "      <td>0.0</td>\n",
              "      <td>31733.0</td>\n",
              "      <td>1013.079063</td>\n",
              "      <td>63.256975</td>\n",
              "      <td>0.00</td>\n",
              "      <td>1012.9800</td>\n",
              "      <td>1016.610</td>\n",
              "      <td>1020.5100</td>\n",
              "      <td>1046.06</td>\n",
              "    </tr>\n",
              "    <tr>\n",
              "      <th>Rain</th>\n",
              "      <td>10.0</td>\n",
              "      <td>10.096111</td>\n",
              "      <td>1.061116</td>\n",
              "      <td>8.205556</td>\n",
              "      <td>9.401389</td>\n",
              "      <td>10.525000</td>\n",
              "      <td>10.791667</td>\n",
              "      <td>11.500000</td>\n",
              "      <td>10.0</td>\n",
              "      <td>9.607222</td>\n",
              "      <td>...</td>\n",
              "      <td>0.0</td>\n",
              "      <td>0.0</td>\n",
              "      <td>10.0</td>\n",
              "      <td>1017.318000</td>\n",
              "      <td>2.769496</td>\n",
              "      <td>1014.09</td>\n",
              "      <td>1014.1375</td>\n",
              "      <td>1019.050</td>\n",
              "      <td>1019.3150</td>\n",
              "      <td>1020.24</td>\n",
              "    </tr>\n",
              "    <tr>\n",
              "      <th>Windy</th>\n",
              "      <td>8.0</td>\n",
              "      <td>6.804861</td>\n",
              "      <td>2.870525</td>\n",
              "      <td>3.938889</td>\n",
              "      <td>4.998611</td>\n",
              "      <td>5.555556</td>\n",
              "      <td>7.916667</td>\n",
              "      <td>12.172222</td>\n",
              "      <td>8.0</td>\n",
              "      <td>2.009028</td>\n",
              "      <td>...</td>\n",
              "      <td>0.0</td>\n",
              "      <td>0.0</td>\n",
              "      <td>8.0</td>\n",
              "      <td>127.376250</td>\n",
              "      <td>360.274441</td>\n",
              "      <td>0.00</td>\n",
              "      <td>0.0000</td>\n",
              "      <td>0.000</td>\n",
              "      <td>0.0000</td>\n",
              "      <td>1019.01</td>\n",
              "    </tr>\n",
              "    <tr>\n",
              "      <th>Windy and Dry</th>\n",
              "      <td>1.0</td>\n",
              "      <td>27.222222</td>\n",
              "      <td>NaN</td>\n",
              "      <td>27.222222</td>\n",
              "      <td>27.222222</td>\n",
              "      <td>27.222222</td>\n",
              "      <td>27.222222</td>\n",
              "      <td>27.222222</td>\n",
              "      <td>1.0</td>\n",
              "      <td>26.344444</td>\n",
              "      <td>...</td>\n",
              "      <td>0.0</td>\n",
              "      <td>0.0</td>\n",
              "      <td>1.0</td>\n",
              "      <td>1020.200000</td>\n",
              "      <td>NaN</td>\n",
              "      <td>1020.20</td>\n",
              "      <td>1020.2000</td>\n",
              "      <td>1020.200</td>\n",
              "      <td>1020.2000</td>\n",
              "      <td>1020.20</td>\n",
              "    </tr>\n",
              "    <tr>\n",
              "      <th>Windy and Foggy</th>\n",
              "      <td>4.0</td>\n",
              "      <td>11.876389</td>\n",
              "      <td>9.601677</td>\n",
              "      <td>-2.150000</td>\n",
              "      <td>10.658333</td>\n",
              "      <td>15.011111</td>\n",
              "      <td>16.229167</td>\n",
              "      <td>19.633333</td>\n",
              "      <td>4.0</td>\n",
              "      <td>9.769444</td>\n",
              "      <td>...</td>\n",
              "      <td>0.0</td>\n",
              "      <td>0.0</td>\n",
              "      <td>4.0</td>\n",
              "      <td>1011.975000</td>\n",
              "      <td>3.210239</td>\n",
              "      <td>1007.60</td>\n",
              "      <td>1010.6525</td>\n",
              "      <td>1012.690</td>\n",
              "      <td>1014.0125</td>\n",
              "      <td>1014.92</td>\n",
              "    </tr>\n",
              "    <tr>\n",
              "      <th>Windy and Mostly Cloudy</th>\n",
              "      <td>35.0</td>\n",
              "      <td>11.834603</td>\n",
              "      <td>3.961356</td>\n",
              "      <td>3.888889</td>\n",
              "      <td>7.800000</td>\n",
              "      <td>12.222222</td>\n",
              "      <td>14.933333</td>\n",
              "      <td>19.905556</td>\n",
              "      <td>35.0</td>\n",
              "      <td>9.754286</td>\n",
              "      <td>...</td>\n",
              "      <td>0.0</td>\n",
              "      <td>0.0</td>\n",
              "      <td>35.0</td>\n",
              "      <td>979.825143</td>\n",
              "      <td>170.864578</td>\n",
              "      <td>0.00</td>\n",
              "      <td>1004.5500</td>\n",
              "      <td>1009.410</td>\n",
              "      <td>1016.0300</td>\n",
              "      <td>1024.60</td>\n",
              "    </tr>\n",
              "    <tr>\n",
              "      <th>Windy and Overcast</th>\n",
              "      <td>45.0</td>\n",
              "      <td>7.932963</td>\n",
              "      <td>5.411017</td>\n",
              "      <td>-2.266667</td>\n",
              "      <td>4.861111</td>\n",
              "      <td>7.222222</td>\n",
              "      <td>11.661111</td>\n",
              "      <td>21.305556</td>\n",
              "      <td>45.0</td>\n",
              "      <td>3.696543</td>\n",
              "      <td>...</td>\n",
              "      <td>0.0</td>\n",
              "      <td>0.0</td>\n",
              "      <td>45.0</td>\n",
              "      <td>1006.446000</td>\n",
              "      <td>9.150844</td>\n",
              "      <td>973.78</td>\n",
              "      <td>1002.3300</td>\n",
              "      <td>1007.620</td>\n",
              "      <td>1012.7300</td>\n",
              "      <td>1021.37</td>\n",
              "    </tr>\n",
              "    <tr>\n",
              "      <th>Windy and Partly Cloudy</th>\n",
              "      <td>67.0</td>\n",
              "      <td>9.968076</td>\n",
              "      <td>4.522439</td>\n",
              "      <td>1.111111</td>\n",
              "      <td>7.283333</td>\n",
              "      <td>8.833333</td>\n",
              "      <td>11.675000</td>\n",
              "      <td>22.705556</td>\n",
              "      <td>67.0</td>\n",
              "      <td>6.551244</td>\n",
              "      <td>...</td>\n",
              "      <td>0.0</td>\n",
              "      <td>0.0</td>\n",
              "      <td>67.0</td>\n",
              "      <td>953.291194</td>\n",
              "      <td>242.115080</td>\n",
              "      <td>0.00</td>\n",
              "      <td>1009.4200</td>\n",
              "      <td>1014.800</td>\n",
              "      <td>1017.5750</td>\n",
              "      <td>1026.19</td>\n",
              "    </tr>\n",
              "  </tbody>\n",
              "</table>\n",
              "<p>27 rows × 64 columns</p>\n",
              "</div>\n",
              "    <div class=\"colab-df-buttons\">\n",
              "\n",
              "  <div class=\"colab-df-container\">\n",
              "    <button class=\"colab-df-convert\" onclick=\"convertToInteractive('df-86cceea4-560c-4313-9c8b-0d154e474c9f')\"\n",
              "            title=\"Convert this dataframe to an interactive table.\"\n",
              "            style=\"display:none;\">\n",
              "\n",
              "  <svg xmlns=\"http://www.w3.org/2000/svg\" height=\"24px\" viewBox=\"0 -960 960 960\">\n",
              "    <path d=\"M120-120v-720h720v720H120Zm60-500h600v-160H180v160Zm220 220h160v-160H400v160Zm0 220h160v-160H400v160ZM180-400h160v-160H180v160Zm440 0h160v-160H620v160ZM180-180h160v-160H180v160Zm440 0h160v-160H620v160Z\"/>\n",
              "  </svg>\n",
              "    </button>\n",
              "\n",
              "  <style>\n",
              "    .colab-df-container {\n",
              "      display:flex;\n",
              "      gap: 12px;\n",
              "    }\n",
              "\n",
              "    .colab-df-convert {\n",
              "      background-color: #E8F0FE;\n",
              "      border: none;\n",
              "      border-radius: 50%;\n",
              "      cursor: pointer;\n",
              "      display: none;\n",
              "      fill: #1967D2;\n",
              "      height: 32px;\n",
              "      padding: 0 0 0 0;\n",
              "      width: 32px;\n",
              "    }\n",
              "\n",
              "    .colab-df-convert:hover {\n",
              "      background-color: #E2EBFA;\n",
              "      box-shadow: 0px 1px 2px rgba(60, 64, 67, 0.3), 0px 1px 3px 1px rgba(60, 64, 67, 0.15);\n",
              "      fill: #174EA6;\n",
              "    }\n",
              "\n",
              "    .colab-df-buttons div {\n",
              "      margin-bottom: 4px;\n",
              "    }\n",
              "\n",
              "    [theme=dark] .colab-df-convert {\n",
              "      background-color: #3B4455;\n",
              "      fill: #D2E3FC;\n",
              "    }\n",
              "\n",
              "    [theme=dark] .colab-df-convert:hover {\n",
              "      background-color: #434B5C;\n",
              "      box-shadow: 0px 1px 3px 1px rgba(0, 0, 0, 0.15);\n",
              "      filter: drop-shadow(0px 1px 2px rgba(0, 0, 0, 0.3));\n",
              "      fill: #FFFFFF;\n",
              "    }\n",
              "  </style>\n",
              "\n",
              "    <script>\n",
              "      const buttonEl =\n",
              "        document.querySelector('#df-86cceea4-560c-4313-9c8b-0d154e474c9f button.colab-df-convert');\n",
              "      buttonEl.style.display =\n",
              "        google.colab.kernel.accessAllowed ? 'block' : 'none';\n",
              "\n",
              "      async function convertToInteractive(key) {\n",
              "        const element = document.querySelector('#df-86cceea4-560c-4313-9c8b-0d154e474c9f');\n",
              "        const dataTable =\n",
              "          await google.colab.kernel.invokeFunction('convertToInteractive',\n",
              "                                                    [key], {});\n",
              "        if (!dataTable) return;\n",
              "\n",
              "        const docLinkHtml = 'Like what you see? Visit the ' +\n",
              "          '<a target=\"_blank\" href=https://colab.research.google.com/notebooks/data_table.ipynb>data table notebook</a>'\n",
              "          + ' to learn more about interactive tables.';\n",
              "        element.innerHTML = '';\n",
              "        dataTable['output_type'] = 'display_data';\n",
              "        await google.colab.output.renderOutput(dataTable, element);\n",
              "        const docLink = document.createElement('div');\n",
              "        docLink.innerHTML = docLinkHtml;\n",
              "        element.appendChild(docLink);\n",
              "      }\n",
              "    </script>\n",
              "  </div>\n",
              "\n",
              "\n",
              "<div id=\"df-b40e0a68-ae1e-42c4-bdda-304aa7d28457\">\n",
              "  <button class=\"colab-df-quickchart\" onclick=\"quickchart('df-b40e0a68-ae1e-42c4-bdda-304aa7d28457')\"\n",
              "            title=\"Suggest charts\"\n",
              "            style=\"display:none;\">\n",
              "\n",
              "<svg xmlns=\"http://www.w3.org/2000/svg\" height=\"24px\"viewBox=\"0 0 24 24\"\n",
              "     width=\"24px\">\n",
              "    <g>\n",
              "        <path d=\"M19 3H5c-1.1 0-2 .9-2 2v14c0 1.1.9 2 2 2h14c1.1 0 2-.9 2-2V5c0-1.1-.9-2-2-2zM9 17H7v-7h2v7zm4 0h-2V7h2v10zm4 0h-2v-4h2v4z\"/>\n",
              "    </g>\n",
              "</svg>\n",
              "  </button>\n",
              "\n",
              "<style>\n",
              "  .colab-df-quickchart {\n",
              "      --bg-color: #E8F0FE;\n",
              "      --fill-color: #1967D2;\n",
              "      --hover-bg-color: #E2EBFA;\n",
              "      --hover-fill-color: #174EA6;\n",
              "      --disabled-fill-color: #AAA;\n",
              "      --disabled-bg-color: #DDD;\n",
              "  }\n",
              "\n",
              "  [theme=dark] .colab-df-quickchart {\n",
              "      --bg-color: #3B4455;\n",
              "      --fill-color: #D2E3FC;\n",
              "      --hover-bg-color: #434B5C;\n",
              "      --hover-fill-color: #FFFFFF;\n",
              "      --disabled-bg-color: #3B4455;\n",
              "      --disabled-fill-color: #666;\n",
              "  }\n",
              "\n",
              "  .colab-df-quickchart {\n",
              "    background-color: var(--bg-color);\n",
              "    border: none;\n",
              "    border-radius: 50%;\n",
              "    cursor: pointer;\n",
              "    display: none;\n",
              "    fill: var(--fill-color);\n",
              "    height: 32px;\n",
              "    padding: 0;\n",
              "    width: 32px;\n",
              "  }\n",
              "\n",
              "  .colab-df-quickchart:hover {\n",
              "    background-color: var(--hover-bg-color);\n",
              "    box-shadow: 0 1px 2px rgba(60, 64, 67, 0.3), 0 1px 3px 1px rgba(60, 64, 67, 0.15);\n",
              "    fill: var(--button-hover-fill-color);\n",
              "  }\n",
              "\n",
              "  .colab-df-quickchart-complete:disabled,\n",
              "  .colab-df-quickchart-complete:disabled:hover {\n",
              "    background-color: var(--disabled-bg-color);\n",
              "    fill: var(--disabled-fill-color);\n",
              "    box-shadow: none;\n",
              "  }\n",
              "\n",
              "  .colab-df-spinner {\n",
              "    border: 2px solid var(--fill-color);\n",
              "    border-color: transparent;\n",
              "    border-bottom-color: var(--fill-color);\n",
              "    animation:\n",
              "      spin 1s steps(1) infinite;\n",
              "  }\n",
              "\n",
              "  @keyframes spin {\n",
              "    0% {\n",
              "      border-color: transparent;\n",
              "      border-bottom-color: var(--fill-color);\n",
              "      border-left-color: var(--fill-color);\n",
              "    }\n",
              "    20% {\n",
              "      border-color: transparent;\n",
              "      border-left-color: var(--fill-color);\n",
              "      border-top-color: var(--fill-color);\n",
              "    }\n",
              "    30% {\n",
              "      border-color: transparent;\n",
              "      border-left-color: var(--fill-color);\n",
              "      border-top-color: var(--fill-color);\n",
              "      border-right-color: var(--fill-color);\n",
              "    }\n",
              "    40% {\n",
              "      border-color: transparent;\n",
              "      border-right-color: var(--fill-color);\n",
              "      border-top-color: var(--fill-color);\n",
              "    }\n",
              "    60% {\n",
              "      border-color: transparent;\n",
              "      border-right-color: var(--fill-color);\n",
              "    }\n",
              "    80% {\n",
              "      border-color: transparent;\n",
              "      border-right-color: var(--fill-color);\n",
              "      border-bottom-color: var(--fill-color);\n",
              "    }\n",
              "    90% {\n",
              "      border-color: transparent;\n",
              "      border-bottom-color: var(--fill-color);\n",
              "    }\n",
              "  }\n",
              "</style>\n",
              "\n",
              "  <script>\n",
              "    async function quickchart(key) {\n",
              "      const quickchartButtonEl =\n",
              "        document.querySelector('#' + key + ' button');\n",
              "      quickchartButtonEl.disabled = true;  // To prevent multiple clicks.\n",
              "      quickchartButtonEl.classList.add('colab-df-spinner');\n",
              "      try {\n",
              "        const charts = await google.colab.kernel.invokeFunction(\n",
              "            'suggestCharts', [key], {});\n",
              "      } catch (error) {\n",
              "        console.error('Error during call to suggestCharts:', error);\n",
              "      }\n",
              "      quickchartButtonEl.classList.remove('colab-df-spinner');\n",
              "      quickchartButtonEl.classList.add('colab-df-quickchart-complete');\n",
              "    }\n",
              "    (() => {\n",
              "      let quickchartButtonEl =\n",
              "        document.querySelector('#df-b40e0a68-ae1e-42c4-bdda-304aa7d28457 button');\n",
              "      quickchartButtonEl.style.display =\n",
              "        google.colab.kernel.accessAllowed ? 'block' : 'none';\n",
              "    })();\n",
              "  </script>\n",
              "</div>\n",
              "\n",
              "    </div>\n",
              "  </div>\n"
            ]
          },
          "metadata": {},
          "execution_count": 42
        }
      ]
    },
    {
      "cell_type": "code",
      "source": [
        "df =pd.concat([india, us])  #combines 2 dataframes"
      ],
      "metadata": {
        "id": "WNCeldQVJ4lx"
      },
      "execution_count": null,
      "outputs": []
    },
    {
      "cell_type": "code",
      "source": [
        "df=pd.merge(a, b, on='city', how='outer')"
      ],
      "metadata": {
        "id": "y1dM9a_4KxpT"
      },
      "execution_count": null,
      "outputs": []
    },
    {
      "cell_type": "code",
      "source": [
        "df = pd.DataFrame([1, 2, 3, 4, 5, 6,7, 8, 9], index=[2, 12, 181, 199, 23, 54, 96, 77, 45])\n",
        "df"
      ],
      "metadata": {
        "colab": {
          "base_uri": "https://localhost:8080/",
          "height": 331
        },
        "id": "yCdeLfqbK8ZO",
        "outputId": "d4aa666c-2916-40b2-e26e-ebec72261852"
      },
      "execution_count": null,
      "outputs": [
        {
          "output_type": "execute_result",
          "data": {
            "text/plain": [
              "     0\n",
              "2    1\n",
              "12   2\n",
              "181  3\n",
              "199  4\n",
              "23   5\n",
              "54   6\n",
              "96   7\n",
              "77   8\n",
              "45   9"
            ],
            "text/html": [
              "\n",
              "  <div id=\"df-89422d37-7946-4168-a537-0343b8b8529a\" class=\"colab-df-container\">\n",
              "    <div>\n",
              "<style scoped>\n",
              "    .dataframe tbody tr th:only-of-type {\n",
              "        vertical-align: middle;\n",
              "    }\n",
              "\n",
              "    .dataframe tbody tr th {\n",
              "        vertical-align: top;\n",
              "    }\n",
              "\n",
              "    .dataframe thead th {\n",
              "        text-align: right;\n",
              "    }\n",
              "</style>\n",
              "<table border=\"1\" class=\"dataframe\">\n",
              "  <thead>\n",
              "    <tr style=\"text-align: right;\">\n",
              "      <th></th>\n",
              "      <th>0</th>\n",
              "    </tr>\n",
              "  </thead>\n",
              "  <tbody>\n",
              "    <tr>\n",
              "      <th>2</th>\n",
              "      <td>1</td>\n",
              "    </tr>\n",
              "    <tr>\n",
              "      <th>12</th>\n",
              "      <td>2</td>\n",
              "    </tr>\n",
              "    <tr>\n",
              "      <th>181</th>\n",
              "      <td>3</td>\n",
              "    </tr>\n",
              "    <tr>\n",
              "      <th>199</th>\n",
              "      <td>4</td>\n",
              "    </tr>\n",
              "    <tr>\n",
              "      <th>23</th>\n",
              "      <td>5</td>\n",
              "    </tr>\n",
              "    <tr>\n",
              "      <th>54</th>\n",
              "      <td>6</td>\n",
              "    </tr>\n",
              "    <tr>\n",
              "      <th>96</th>\n",
              "      <td>7</td>\n",
              "    </tr>\n",
              "    <tr>\n",
              "      <th>77</th>\n",
              "      <td>8</td>\n",
              "    </tr>\n",
              "    <tr>\n",
              "      <th>45</th>\n",
              "      <td>9</td>\n",
              "    </tr>\n",
              "  </tbody>\n",
              "</table>\n",
              "</div>\n",
              "    <div class=\"colab-df-buttons\">\n",
              "\n",
              "  <div class=\"colab-df-container\">\n",
              "    <button class=\"colab-df-convert\" onclick=\"convertToInteractive('df-89422d37-7946-4168-a537-0343b8b8529a')\"\n",
              "            title=\"Convert this dataframe to an interactive table.\"\n",
              "            style=\"display:none;\">\n",
              "\n",
              "  <svg xmlns=\"http://www.w3.org/2000/svg\" height=\"24px\" viewBox=\"0 -960 960 960\">\n",
              "    <path d=\"M120-120v-720h720v720H120Zm60-500h600v-160H180v160Zm220 220h160v-160H400v160Zm0 220h160v-160H400v160ZM180-400h160v-160H180v160Zm440 0h160v-160H620v160ZM180-180h160v-160H180v160Zm440 0h160v-160H620v160Z\"/>\n",
              "  </svg>\n",
              "    </button>\n",
              "\n",
              "  <style>\n",
              "    .colab-df-container {\n",
              "      display:flex;\n",
              "      gap: 12px;\n",
              "    }\n",
              "\n",
              "    .colab-df-convert {\n",
              "      background-color: #E8F0FE;\n",
              "      border: none;\n",
              "      border-radius: 50%;\n",
              "      cursor: pointer;\n",
              "      display: none;\n",
              "      fill: #1967D2;\n",
              "      height: 32px;\n",
              "      padding: 0 0 0 0;\n",
              "      width: 32px;\n",
              "    }\n",
              "\n",
              "    .colab-df-convert:hover {\n",
              "      background-color: #E2EBFA;\n",
              "      box-shadow: 0px 1px 2px rgba(60, 64, 67, 0.3), 0px 1px 3px 1px rgba(60, 64, 67, 0.15);\n",
              "      fill: #174EA6;\n",
              "    }\n",
              "\n",
              "    .colab-df-buttons div {\n",
              "      margin-bottom: 4px;\n",
              "    }\n",
              "\n",
              "    [theme=dark] .colab-df-convert {\n",
              "      background-color: #3B4455;\n",
              "      fill: #D2E3FC;\n",
              "    }\n",
              "\n",
              "    [theme=dark] .colab-df-convert:hover {\n",
              "      background-color: #434B5C;\n",
              "      box-shadow: 0px 1px 3px 1px rgba(0, 0, 0, 0.15);\n",
              "      filter: drop-shadow(0px 1px 2px rgba(0, 0, 0, 0.3));\n",
              "      fill: #FFFFFF;\n",
              "    }\n",
              "  </style>\n",
              "\n",
              "    <script>\n",
              "      const buttonEl =\n",
              "        document.querySelector('#df-89422d37-7946-4168-a537-0343b8b8529a button.colab-df-convert');\n",
              "      buttonEl.style.display =\n",
              "        google.colab.kernel.accessAllowed ? 'block' : 'none';\n",
              "\n",
              "      async function convertToInteractive(key) {\n",
              "        const element = document.querySelector('#df-89422d37-7946-4168-a537-0343b8b8529a');\n",
              "        const dataTable =\n",
              "          await google.colab.kernel.invokeFunction('convertToInteractive',\n",
              "                                                    [key], {});\n",
              "        if (!dataTable) return;\n",
              "\n",
              "        const docLinkHtml = 'Like what you see? Visit the ' +\n",
              "          '<a target=\"_blank\" href=https://colab.research.google.com/notebooks/data_table.ipynb>data table notebook</a>'\n",
              "          + ' to learn more about interactive tables.';\n",
              "        element.innerHTML = '';\n",
              "        dataTable['output_type'] = 'display_data';\n",
              "        await google.colab.output.renderOutput(dataTable, element);\n",
              "        const docLink = document.createElement('div');\n",
              "        docLink.innerHTML = docLinkHtml;\n",
              "        element.appendChild(docLink);\n",
              "      }\n",
              "    </script>\n",
              "  </div>\n",
              "\n",
              "\n",
              "<div id=\"df-ab02e239-d8e6-4c2e-b587-4655ef45168e\">\n",
              "  <button class=\"colab-df-quickchart\" onclick=\"quickchart('df-ab02e239-d8e6-4c2e-b587-4655ef45168e')\"\n",
              "            title=\"Suggest charts\"\n",
              "            style=\"display:none;\">\n",
              "\n",
              "<svg xmlns=\"http://www.w3.org/2000/svg\" height=\"24px\"viewBox=\"0 0 24 24\"\n",
              "     width=\"24px\">\n",
              "    <g>\n",
              "        <path d=\"M19 3H5c-1.1 0-2 .9-2 2v14c0 1.1.9 2 2 2h14c1.1 0 2-.9 2-2V5c0-1.1-.9-2-2-2zM9 17H7v-7h2v7zm4 0h-2V7h2v10zm4 0h-2v-4h2v4z\"/>\n",
              "    </g>\n",
              "</svg>\n",
              "  </button>\n",
              "\n",
              "<style>\n",
              "  .colab-df-quickchart {\n",
              "      --bg-color: #E8F0FE;\n",
              "      --fill-color: #1967D2;\n",
              "      --hover-bg-color: #E2EBFA;\n",
              "      --hover-fill-color: #174EA6;\n",
              "      --disabled-fill-color: #AAA;\n",
              "      --disabled-bg-color: #DDD;\n",
              "  }\n",
              "\n",
              "  [theme=dark] .colab-df-quickchart {\n",
              "      --bg-color: #3B4455;\n",
              "      --fill-color: #D2E3FC;\n",
              "      --hover-bg-color: #434B5C;\n",
              "      --hover-fill-color: #FFFFFF;\n",
              "      --disabled-bg-color: #3B4455;\n",
              "      --disabled-fill-color: #666;\n",
              "  }\n",
              "\n",
              "  .colab-df-quickchart {\n",
              "    background-color: var(--bg-color);\n",
              "    border: none;\n",
              "    border-radius: 50%;\n",
              "    cursor: pointer;\n",
              "    display: none;\n",
              "    fill: var(--fill-color);\n",
              "    height: 32px;\n",
              "    padding: 0;\n",
              "    width: 32px;\n",
              "  }\n",
              "\n",
              "  .colab-df-quickchart:hover {\n",
              "    background-color: var(--hover-bg-color);\n",
              "    box-shadow: 0 1px 2px rgba(60, 64, 67, 0.3), 0 1px 3px 1px rgba(60, 64, 67, 0.15);\n",
              "    fill: var(--button-hover-fill-color);\n",
              "  }\n",
              "\n",
              "  .colab-df-quickchart-complete:disabled,\n",
              "  .colab-df-quickchart-complete:disabled:hover {\n",
              "    background-color: var(--disabled-bg-color);\n",
              "    fill: var(--disabled-fill-color);\n",
              "    box-shadow: none;\n",
              "  }\n",
              "\n",
              "  .colab-df-spinner {\n",
              "    border: 2px solid var(--fill-color);\n",
              "    border-color: transparent;\n",
              "    border-bottom-color: var(--fill-color);\n",
              "    animation:\n",
              "      spin 1s steps(1) infinite;\n",
              "  }\n",
              "\n",
              "  @keyframes spin {\n",
              "    0% {\n",
              "      border-color: transparent;\n",
              "      border-bottom-color: var(--fill-color);\n",
              "      border-left-color: var(--fill-color);\n",
              "    }\n",
              "    20% {\n",
              "      border-color: transparent;\n",
              "      border-left-color: var(--fill-color);\n",
              "      border-top-color: var(--fill-color);\n",
              "    }\n",
              "    30% {\n",
              "      border-color: transparent;\n",
              "      border-left-color: var(--fill-color);\n",
              "      border-top-color: var(--fill-color);\n",
              "      border-right-color: var(--fill-color);\n",
              "    }\n",
              "    40% {\n",
              "      border-color: transparent;\n",
              "      border-right-color: var(--fill-color);\n",
              "      border-top-color: var(--fill-color);\n",
              "    }\n",
              "    60% {\n",
              "      border-color: transparent;\n",
              "      border-right-color: var(--fill-color);\n",
              "    }\n",
              "    80% {\n",
              "      border-color: transparent;\n",
              "      border-right-color: var(--fill-color);\n",
              "      border-bottom-color: var(--fill-color);\n",
              "    }\n",
              "    90% {\n",
              "      border-color: transparent;\n",
              "      border-bottom-color: var(--fill-color);\n",
              "    }\n",
              "  }\n",
              "</style>\n",
              "\n",
              "  <script>\n",
              "    async function quickchart(key) {\n",
              "      const quickchartButtonEl =\n",
              "        document.querySelector('#' + key + ' button');\n",
              "      quickchartButtonEl.disabled = true;  // To prevent multiple clicks.\n",
              "      quickchartButtonEl.classList.add('colab-df-spinner');\n",
              "      try {\n",
              "        const charts = await google.colab.kernel.invokeFunction(\n",
              "            'suggestCharts', [key], {});\n",
              "      } catch (error) {\n",
              "        console.error('Error during call to suggestCharts:', error);\n",
              "      }\n",
              "      quickchartButtonEl.classList.remove('colab-df-spinner');\n",
              "      quickchartButtonEl.classList.add('colab-df-quickchart-complete');\n",
              "    }\n",
              "    (() => {\n",
              "      let quickchartButtonEl =\n",
              "        document.querySelector('#df-ab02e239-d8e6-4c2e-b587-4655ef45168e button');\n",
              "      quickchartButtonEl.style.display =\n",
              "        google.colab.kernel.accessAllowed ? 'block' : 'none';\n",
              "    })();\n",
              "  </script>\n",
              "</div>\n",
              "\n",
              "  <div id=\"id_8c125db8-8e00-4403-a160-2a8e75e98680\">\n",
              "    <style>\n",
              "      .colab-df-generate {\n",
              "        background-color: #E8F0FE;\n",
              "        border: none;\n",
              "        border-radius: 50%;\n",
              "        cursor: pointer;\n",
              "        display: none;\n",
              "        fill: #1967D2;\n",
              "        height: 32px;\n",
              "        padding: 0 0 0 0;\n",
              "        width: 32px;\n",
              "      }\n",
              "\n",
              "      .colab-df-generate:hover {\n",
              "        background-color: #E2EBFA;\n",
              "        box-shadow: 0px 1px 2px rgba(60, 64, 67, 0.3), 0px 1px 3px 1px rgba(60, 64, 67, 0.15);\n",
              "        fill: #174EA6;\n",
              "      }\n",
              "\n",
              "      [theme=dark] .colab-df-generate {\n",
              "        background-color: #3B4455;\n",
              "        fill: #D2E3FC;\n",
              "      }\n",
              "\n",
              "      [theme=dark] .colab-df-generate:hover {\n",
              "        background-color: #434B5C;\n",
              "        box-shadow: 0px 1px 3px 1px rgba(0, 0, 0, 0.15);\n",
              "        filter: drop-shadow(0px 1px 2px rgba(0, 0, 0, 0.3));\n",
              "        fill: #FFFFFF;\n",
              "      }\n",
              "    </style>\n",
              "    <button class=\"colab-df-generate\" onclick=\"generateWithVariable('df')\"\n",
              "            title=\"Generate code using this dataframe.\"\n",
              "            style=\"display:none;\">\n",
              "\n",
              "  <svg xmlns=\"http://www.w3.org/2000/svg\" height=\"24px\"viewBox=\"0 0 24 24\"\n",
              "       width=\"24px\">\n",
              "    <path d=\"M7,19H8.4L18.45,9,17,7.55,7,17.6ZM5,21V16.75L18.45,3.32a2,2,0,0,1,2.83,0l1.4,1.43a1.91,1.91,0,0,1,.58,1.4,1.91,1.91,0,0,1-.58,1.4L9.25,21ZM18.45,9,17,7.55Zm-12,3A5.31,5.31,0,0,0,4.9,8.1,5.31,5.31,0,0,0,1,6.5,5.31,5.31,0,0,0,4.9,4.9,5.31,5.31,0,0,0,6.5,1,5.31,5.31,0,0,0,8.1,4.9,5.31,5.31,0,0,0,12,6.5,5.46,5.46,0,0,0,6.5,12Z\"/>\n",
              "  </svg>\n",
              "    </button>\n",
              "    <script>\n",
              "      (() => {\n",
              "      const buttonEl =\n",
              "        document.querySelector('#id_8c125db8-8e00-4403-a160-2a8e75e98680 button.colab-df-generate');\n",
              "      buttonEl.style.display =\n",
              "        google.colab.kernel.accessAllowed ? 'block' : 'none';\n",
              "\n",
              "      buttonEl.onclick = () => {\n",
              "        google.colab.notebook.generateWithVariable('df');\n",
              "      }\n",
              "      })();\n",
              "    </script>\n",
              "  </div>\n",
              "\n",
              "    </div>\n",
              "  </div>\n"
            ]
          },
          "metadata": {},
          "execution_count": 43
        }
      ]
    },
    {
      "cell_type": "code",
      "source": [
        "df.loc[23] #return value"
      ],
      "metadata": {
        "colab": {
          "base_uri": "https://localhost:8080/"
        },
        "id": "YxG-4I-FLQqU",
        "outputId": "b9e82941-b7f4-4e5f-d0d6-9efc8d40fc7d"
      },
      "execution_count": null,
      "outputs": [
        {
          "output_type": "execute_result",
          "data": {
            "text/plain": [
              "0    5\n",
              "Name: 23, dtype: int64"
            ]
          },
          "metadata": {},
          "execution_count": 48
        }
      ]
    },
    {
      "cell_type": "code",
      "source": [
        "df.iloc[2]  #returns index value"
      ],
      "metadata": {
        "colab": {
          "base_uri": "https://localhost:8080/"
        },
        "id": "mg9-U63kLs3c",
        "outputId": "8694e300-b1ed-42c6-cefa-ca8dc5c89b81"
      },
      "execution_count": null,
      "outputs": [
        {
          "output_type": "execute_result",
          "data": {
            "text/plain": [
              "0    3\n",
              "Name: 181, dtype: int64"
            ]
          },
          "metadata": {},
          "execution_count": 49
        }
      ]
    },
    {
      "cell_type": "code",
      "source": [
        "df.loc[:23]"
      ],
      "metadata": {
        "colab": {
          "base_uri": "https://localhost:8080/",
          "height": 206
        },
        "id": "-f2Kh_ixL28V",
        "outputId": "335dd7ca-59b4-4586-fb0c-e37ab09bc4a6"
      },
      "execution_count": null,
      "outputs": [
        {
          "output_type": "execute_result",
          "data": {
            "text/plain": [
              "     0\n",
              "2    1\n",
              "12   2\n",
              "181  3\n",
              "199  4\n",
              "23   5"
            ],
            "text/html": [
              "\n",
              "  <div id=\"df-812a13f1-52c3-442c-a564-f02007eae54a\" class=\"colab-df-container\">\n",
              "    <div>\n",
              "<style scoped>\n",
              "    .dataframe tbody tr th:only-of-type {\n",
              "        vertical-align: middle;\n",
              "    }\n",
              "\n",
              "    .dataframe tbody tr th {\n",
              "        vertical-align: top;\n",
              "    }\n",
              "\n",
              "    .dataframe thead th {\n",
              "        text-align: right;\n",
              "    }\n",
              "</style>\n",
              "<table border=\"1\" class=\"dataframe\">\n",
              "  <thead>\n",
              "    <tr style=\"text-align: right;\">\n",
              "      <th></th>\n",
              "      <th>0</th>\n",
              "    </tr>\n",
              "  </thead>\n",
              "  <tbody>\n",
              "    <tr>\n",
              "      <th>2</th>\n",
              "      <td>1</td>\n",
              "    </tr>\n",
              "    <tr>\n",
              "      <th>12</th>\n",
              "      <td>2</td>\n",
              "    </tr>\n",
              "    <tr>\n",
              "      <th>181</th>\n",
              "      <td>3</td>\n",
              "    </tr>\n",
              "    <tr>\n",
              "      <th>199</th>\n",
              "      <td>4</td>\n",
              "    </tr>\n",
              "    <tr>\n",
              "      <th>23</th>\n",
              "      <td>5</td>\n",
              "    </tr>\n",
              "  </tbody>\n",
              "</table>\n",
              "</div>\n",
              "    <div class=\"colab-df-buttons\">\n",
              "\n",
              "  <div class=\"colab-df-container\">\n",
              "    <button class=\"colab-df-convert\" onclick=\"convertToInteractive('df-812a13f1-52c3-442c-a564-f02007eae54a')\"\n",
              "            title=\"Convert this dataframe to an interactive table.\"\n",
              "            style=\"display:none;\">\n",
              "\n",
              "  <svg xmlns=\"http://www.w3.org/2000/svg\" height=\"24px\" viewBox=\"0 -960 960 960\">\n",
              "    <path d=\"M120-120v-720h720v720H120Zm60-500h600v-160H180v160Zm220 220h160v-160H400v160Zm0 220h160v-160H400v160ZM180-400h160v-160H180v160Zm440 0h160v-160H620v160ZM180-180h160v-160H180v160Zm440 0h160v-160H620v160Z\"/>\n",
              "  </svg>\n",
              "    </button>\n",
              "\n",
              "  <style>\n",
              "    .colab-df-container {\n",
              "      display:flex;\n",
              "      gap: 12px;\n",
              "    }\n",
              "\n",
              "    .colab-df-convert {\n",
              "      background-color: #E8F0FE;\n",
              "      border: none;\n",
              "      border-radius: 50%;\n",
              "      cursor: pointer;\n",
              "      display: none;\n",
              "      fill: #1967D2;\n",
              "      height: 32px;\n",
              "      padding: 0 0 0 0;\n",
              "      width: 32px;\n",
              "    }\n",
              "\n",
              "    .colab-df-convert:hover {\n",
              "      background-color: #E2EBFA;\n",
              "      box-shadow: 0px 1px 2px rgba(60, 64, 67, 0.3), 0px 1px 3px 1px rgba(60, 64, 67, 0.15);\n",
              "      fill: #174EA6;\n",
              "    }\n",
              "\n",
              "    .colab-df-buttons div {\n",
              "      margin-bottom: 4px;\n",
              "    }\n",
              "\n",
              "    [theme=dark] .colab-df-convert {\n",
              "      background-color: #3B4455;\n",
              "      fill: #D2E3FC;\n",
              "    }\n",
              "\n",
              "    [theme=dark] .colab-df-convert:hover {\n",
              "      background-color: #434B5C;\n",
              "      box-shadow: 0px 1px 3px 1px rgba(0, 0, 0, 0.15);\n",
              "      filter: drop-shadow(0px 1px 2px rgba(0, 0, 0, 0.3));\n",
              "      fill: #FFFFFF;\n",
              "    }\n",
              "  </style>\n",
              "\n",
              "    <script>\n",
              "      const buttonEl =\n",
              "        document.querySelector('#df-812a13f1-52c3-442c-a564-f02007eae54a button.colab-df-convert');\n",
              "      buttonEl.style.display =\n",
              "        google.colab.kernel.accessAllowed ? 'block' : 'none';\n",
              "\n",
              "      async function convertToInteractive(key) {\n",
              "        const element = document.querySelector('#df-812a13f1-52c3-442c-a564-f02007eae54a');\n",
              "        const dataTable =\n",
              "          await google.colab.kernel.invokeFunction('convertToInteractive',\n",
              "                                                    [key], {});\n",
              "        if (!dataTable) return;\n",
              "\n",
              "        const docLinkHtml = 'Like what you see? Visit the ' +\n",
              "          '<a target=\"_blank\" href=https://colab.research.google.com/notebooks/data_table.ipynb>data table notebook</a>'\n",
              "          + ' to learn more about interactive tables.';\n",
              "        element.innerHTML = '';\n",
              "        dataTable['output_type'] = 'display_data';\n",
              "        await google.colab.output.renderOutput(dataTable, element);\n",
              "        const docLink = document.createElement('div');\n",
              "        docLink.innerHTML = docLinkHtml;\n",
              "        element.appendChild(docLink);\n",
              "      }\n",
              "    </script>\n",
              "  </div>\n",
              "\n",
              "\n",
              "<div id=\"df-b88a6df4-dd00-405a-8478-68299043723f\">\n",
              "  <button class=\"colab-df-quickchart\" onclick=\"quickchart('df-b88a6df4-dd00-405a-8478-68299043723f')\"\n",
              "            title=\"Suggest charts\"\n",
              "            style=\"display:none;\">\n",
              "\n",
              "<svg xmlns=\"http://www.w3.org/2000/svg\" height=\"24px\"viewBox=\"0 0 24 24\"\n",
              "     width=\"24px\">\n",
              "    <g>\n",
              "        <path d=\"M19 3H5c-1.1 0-2 .9-2 2v14c0 1.1.9 2 2 2h14c1.1 0 2-.9 2-2V5c0-1.1-.9-2-2-2zM9 17H7v-7h2v7zm4 0h-2V7h2v10zm4 0h-2v-4h2v4z\"/>\n",
              "    </g>\n",
              "</svg>\n",
              "  </button>\n",
              "\n",
              "<style>\n",
              "  .colab-df-quickchart {\n",
              "      --bg-color: #E8F0FE;\n",
              "      --fill-color: #1967D2;\n",
              "      --hover-bg-color: #E2EBFA;\n",
              "      --hover-fill-color: #174EA6;\n",
              "      --disabled-fill-color: #AAA;\n",
              "      --disabled-bg-color: #DDD;\n",
              "  }\n",
              "\n",
              "  [theme=dark] .colab-df-quickchart {\n",
              "      --bg-color: #3B4455;\n",
              "      --fill-color: #D2E3FC;\n",
              "      --hover-bg-color: #434B5C;\n",
              "      --hover-fill-color: #FFFFFF;\n",
              "      --disabled-bg-color: #3B4455;\n",
              "      --disabled-fill-color: #666;\n",
              "  }\n",
              "\n",
              "  .colab-df-quickchart {\n",
              "    background-color: var(--bg-color);\n",
              "    border: none;\n",
              "    border-radius: 50%;\n",
              "    cursor: pointer;\n",
              "    display: none;\n",
              "    fill: var(--fill-color);\n",
              "    height: 32px;\n",
              "    padding: 0;\n",
              "    width: 32px;\n",
              "  }\n",
              "\n",
              "  .colab-df-quickchart:hover {\n",
              "    background-color: var(--hover-bg-color);\n",
              "    box-shadow: 0 1px 2px rgba(60, 64, 67, 0.3), 0 1px 3px 1px rgba(60, 64, 67, 0.15);\n",
              "    fill: var(--button-hover-fill-color);\n",
              "  }\n",
              "\n",
              "  .colab-df-quickchart-complete:disabled,\n",
              "  .colab-df-quickchart-complete:disabled:hover {\n",
              "    background-color: var(--disabled-bg-color);\n",
              "    fill: var(--disabled-fill-color);\n",
              "    box-shadow: none;\n",
              "  }\n",
              "\n",
              "  .colab-df-spinner {\n",
              "    border: 2px solid var(--fill-color);\n",
              "    border-color: transparent;\n",
              "    border-bottom-color: var(--fill-color);\n",
              "    animation:\n",
              "      spin 1s steps(1) infinite;\n",
              "  }\n",
              "\n",
              "  @keyframes spin {\n",
              "    0% {\n",
              "      border-color: transparent;\n",
              "      border-bottom-color: var(--fill-color);\n",
              "      border-left-color: var(--fill-color);\n",
              "    }\n",
              "    20% {\n",
              "      border-color: transparent;\n",
              "      border-left-color: var(--fill-color);\n",
              "      border-top-color: var(--fill-color);\n",
              "    }\n",
              "    30% {\n",
              "      border-color: transparent;\n",
              "      border-left-color: var(--fill-color);\n",
              "      border-top-color: var(--fill-color);\n",
              "      border-right-color: var(--fill-color);\n",
              "    }\n",
              "    40% {\n",
              "      border-color: transparent;\n",
              "      border-right-color: var(--fill-color);\n",
              "      border-top-color: var(--fill-color);\n",
              "    }\n",
              "    60% {\n",
              "      border-color: transparent;\n",
              "      border-right-color: var(--fill-color);\n",
              "    }\n",
              "    80% {\n",
              "      border-color: transparent;\n",
              "      border-right-color: var(--fill-color);\n",
              "      border-bottom-color: var(--fill-color);\n",
              "    }\n",
              "    90% {\n",
              "      border-color: transparent;\n",
              "      border-bottom-color: var(--fill-color);\n",
              "    }\n",
              "  }\n",
              "</style>\n",
              "\n",
              "  <script>\n",
              "    async function quickchart(key) {\n",
              "      const quickchartButtonEl =\n",
              "        document.querySelector('#' + key + ' button');\n",
              "      quickchartButtonEl.disabled = true;  // To prevent multiple clicks.\n",
              "      quickchartButtonEl.classList.add('colab-df-spinner');\n",
              "      try {\n",
              "        const charts = await google.colab.kernel.invokeFunction(\n",
              "            'suggestCharts', [key], {});\n",
              "      } catch (error) {\n",
              "        console.error('Error during call to suggestCharts:', error);\n",
              "      }\n",
              "      quickchartButtonEl.classList.remove('colab-df-spinner');\n",
              "      quickchartButtonEl.classList.add('colab-df-quickchart-complete');\n",
              "    }\n",
              "    (() => {\n",
              "      let quickchartButtonEl =\n",
              "        document.querySelector('#df-b88a6df4-dd00-405a-8478-68299043723f button');\n",
              "      quickchartButtonEl.style.display =\n",
              "        google.colab.kernel.accessAllowed ? 'block' : 'none';\n",
              "    })();\n",
              "  </script>\n",
              "</div>\n",
              "\n",
              "    </div>\n",
              "  </div>\n"
            ]
          },
          "metadata": {},
          "execution_count": 51
        }
      ]
    },
    {
      "cell_type": "code",
      "source": [
        "df.iloc[:4]"
      ],
      "metadata": {
        "colab": {
          "base_uri": "https://localhost:8080/",
          "height": 175
        },
        "id": "KMlsXoZlL7A_",
        "outputId": "021dc8f7-0c1d-4b84-c086-3d5db7964553"
      },
      "execution_count": null,
      "outputs": [
        {
          "output_type": "execute_result",
          "data": {
            "text/plain": [
              "     0\n",
              "2    1\n",
              "12   2\n",
              "181  3\n",
              "199  4"
            ],
            "text/html": [
              "\n",
              "  <div id=\"df-7c27ca6b-d8f5-4692-bf0e-357373c812eb\" class=\"colab-df-container\">\n",
              "    <div>\n",
              "<style scoped>\n",
              "    .dataframe tbody tr th:only-of-type {\n",
              "        vertical-align: middle;\n",
              "    }\n",
              "\n",
              "    .dataframe tbody tr th {\n",
              "        vertical-align: top;\n",
              "    }\n",
              "\n",
              "    .dataframe thead th {\n",
              "        text-align: right;\n",
              "    }\n",
              "</style>\n",
              "<table border=\"1\" class=\"dataframe\">\n",
              "  <thead>\n",
              "    <tr style=\"text-align: right;\">\n",
              "      <th></th>\n",
              "      <th>0</th>\n",
              "    </tr>\n",
              "  </thead>\n",
              "  <tbody>\n",
              "    <tr>\n",
              "      <th>2</th>\n",
              "      <td>1</td>\n",
              "    </tr>\n",
              "    <tr>\n",
              "      <th>12</th>\n",
              "      <td>2</td>\n",
              "    </tr>\n",
              "    <tr>\n",
              "      <th>181</th>\n",
              "      <td>3</td>\n",
              "    </tr>\n",
              "    <tr>\n",
              "      <th>199</th>\n",
              "      <td>4</td>\n",
              "    </tr>\n",
              "  </tbody>\n",
              "</table>\n",
              "</div>\n",
              "    <div class=\"colab-df-buttons\">\n",
              "\n",
              "  <div class=\"colab-df-container\">\n",
              "    <button class=\"colab-df-convert\" onclick=\"convertToInteractive('df-7c27ca6b-d8f5-4692-bf0e-357373c812eb')\"\n",
              "            title=\"Convert this dataframe to an interactive table.\"\n",
              "            style=\"display:none;\">\n",
              "\n",
              "  <svg xmlns=\"http://www.w3.org/2000/svg\" height=\"24px\" viewBox=\"0 -960 960 960\">\n",
              "    <path d=\"M120-120v-720h720v720H120Zm60-500h600v-160H180v160Zm220 220h160v-160H400v160Zm0 220h160v-160H400v160ZM180-400h160v-160H180v160Zm440 0h160v-160H620v160ZM180-180h160v-160H180v160Zm440 0h160v-160H620v160Z\"/>\n",
              "  </svg>\n",
              "    </button>\n",
              "\n",
              "  <style>\n",
              "    .colab-df-container {\n",
              "      display:flex;\n",
              "      gap: 12px;\n",
              "    }\n",
              "\n",
              "    .colab-df-convert {\n",
              "      background-color: #E8F0FE;\n",
              "      border: none;\n",
              "      border-radius: 50%;\n",
              "      cursor: pointer;\n",
              "      display: none;\n",
              "      fill: #1967D2;\n",
              "      height: 32px;\n",
              "      padding: 0 0 0 0;\n",
              "      width: 32px;\n",
              "    }\n",
              "\n",
              "    .colab-df-convert:hover {\n",
              "      background-color: #E2EBFA;\n",
              "      box-shadow: 0px 1px 2px rgba(60, 64, 67, 0.3), 0px 1px 3px 1px rgba(60, 64, 67, 0.15);\n",
              "      fill: #174EA6;\n",
              "    }\n",
              "\n",
              "    .colab-df-buttons div {\n",
              "      margin-bottom: 4px;\n",
              "    }\n",
              "\n",
              "    [theme=dark] .colab-df-convert {\n",
              "      background-color: #3B4455;\n",
              "      fill: #D2E3FC;\n",
              "    }\n",
              "\n",
              "    [theme=dark] .colab-df-convert:hover {\n",
              "      background-color: #434B5C;\n",
              "      box-shadow: 0px 1px 3px 1px rgba(0, 0, 0, 0.15);\n",
              "      filter: drop-shadow(0px 1px 2px rgba(0, 0, 0, 0.3));\n",
              "      fill: #FFFFFF;\n",
              "    }\n",
              "  </style>\n",
              "\n",
              "    <script>\n",
              "      const buttonEl =\n",
              "        document.querySelector('#df-7c27ca6b-d8f5-4692-bf0e-357373c812eb button.colab-df-convert');\n",
              "      buttonEl.style.display =\n",
              "        google.colab.kernel.accessAllowed ? 'block' : 'none';\n",
              "\n",
              "      async function convertToInteractive(key) {\n",
              "        const element = document.querySelector('#df-7c27ca6b-d8f5-4692-bf0e-357373c812eb');\n",
              "        const dataTable =\n",
              "          await google.colab.kernel.invokeFunction('convertToInteractive',\n",
              "                                                    [key], {});\n",
              "        if (!dataTable) return;\n",
              "\n",
              "        const docLinkHtml = 'Like what you see? Visit the ' +\n",
              "          '<a target=\"_blank\" href=https://colab.research.google.com/notebooks/data_table.ipynb>data table notebook</a>'\n",
              "          + ' to learn more about interactive tables.';\n",
              "        element.innerHTML = '';\n",
              "        dataTable['output_type'] = 'display_data';\n",
              "        await google.colab.output.renderOutput(dataTable, element);\n",
              "        const docLink = document.createElement('div');\n",
              "        docLink.innerHTML = docLinkHtml;\n",
              "        element.appendChild(docLink);\n",
              "      }\n",
              "    </script>\n",
              "  </div>\n",
              "\n",
              "\n",
              "<div id=\"df-de58a3d7-dce6-4efd-ab38-c8977f209b04\">\n",
              "  <button class=\"colab-df-quickchart\" onclick=\"quickchart('df-de58a3d7-dce6-4efd-ab38-c8977f209b04')\"\n",
              "            title=\"Suggest charts\"\n",
              "            style=\"display:none;\">\n",
              "\n",
              "<svg xmlns=\"http://www.w3.org/2000/svg\" height=\"24px\"viewBox=\"0 0 24 24\"\n",
              "     width=\"24px\">\n",
              "    <g>\n",
              "        <path d=\"M19 3H5c-1.1 0-2 .9-2 2v14c0 1.1.9 2 2 2h14c1.1 0 2-.9 2-2V5c0-1.1-.9-2-2-2zM9 17H7v-7h2v7zm4 0h-2V7h2v10zm4 0h-2v-4h2v4z\"/>\n",
              "    </g>\n",
              "</svg>\n",
              "  </button>\n",
              "\n",
              "<style>\n",
              "  .colab-df-quickchart {\n",
              "      --bg-color: #E8F0FE;\n",
              "      --fill-color: #1967D2;\n",
              "      --hover-bg-color: #E2EBFA;\n",
              "      --hover-fill-color: #174EA6;\n",
              "      --disabled-fill-color: #AAA;\n",
              "      --disabled-bg-color: #DDD;\n",
              "  }\n",
              "\n",
              "  [theme=dark] .colab-df-quickchart {\n",
              "      --bg-color: #3B4455;\n",
              "      --fill-color: #D2E3FC;\n",
              "      --hover-bg-color: #434B5C;\n",
              "      --hover-fill-color: #FFFFFF;\n",
              "      --disabled-bg-color: #3B4455;\n",
              "      --disabled-fill-color: #666;\n",
              "  }\n",
              "\n",
              "  .colab-df-quickchart {\n",
              "    background-color: var(--bg-color);\n",
              "    border: none;\n",
              "    border-radius: 50%;\n",
              "    cursor: pointer;\n",
              "    display: none;\n",
              "    fill: var(--fill-color);\n",
              "    height: 32px;\n",
              "    padding: 0;\n",
              "    width: 32px;\n",
              "  }\n",
              "\n",
              "  .colab-df-quickchart:hover {\n",
              "    background-color: var(--hover-bg-color);\n",
              "    box-shadow: 0 1px 2px rgba(60, 64, 67, 0.3), 0 1px 3px 1px rgba(60, 64, 67, 0.15);\n",
              "    fill: var(--button-hover-fill-color);\n",
              "  }\n",
              "\n",
              "  .colab-df-quickchart-complete:disabled,\n",
              "  .colab-df-quickchart-complete:disabled:hover {\n",
              "    background-color: var(--disabled-bg-color);\n",
              "    fill: var(--disabled-fill-color);\n",
              "    box-shadow: none;\n",
              "  }\n",
              "\n",
              "  .colab-df-spinner {\n",
              "    border: 2px solid var(--fill-color);\n",
              "    border-color: transparent;\n",
              "    border-bottom-color: var(--fill-color);\n",
              "    animation:\n",
              "      spin 1s steps(1) infinite;\n",
              "  }\n",
              "\n",
              "  @keyframes spin {\n",
              "    0% {\n",
              "      border-color: transparent;\n",
              "      border-bottom-color: var(--fill-color);\n",
              "      border-left-color: var(--fill-color);\n",
              "    }\n",
              "    20% {\n",
              "      border-color: transparent;\n",
              "      border-left-color: var(--fill-color);\n",
              "      border-top-color: var(--fill-color);\n",
              "    }\n",
              "    30% {\n",
              "      border-color: transparent;\n",
              "      border-left-color: var(--fill-color);\n",
              "      border-top-color: var(--fill-color);\n",
              "      border-right-color: var(--fill-color);\n",
              "    }\n",
              "    40% {\n",
              "      border-color: transparent;\n",
              "      border-right-color: var(--fill-color);\n",
              "      border-top-color: var(--fill-color);\n",
              "    }\n",
              "    60% {\n",
              "      border-color: transparent;\n",
              "      border-right-color: var(--fill-color);\n",
              "    }\n",
              "    80% {\n",
              "      border-color: transparent;\n",
              "      border-right-color: var(--fill-color);\n",
              "      border-bottom-color: var(--fill-color);\n",
              "    }\n",
              "    90% {\n",
              "      border-color: transparent;\n",
              "      border-bottom-color: var(--fill-color);\n",
              "    }\n",
              "  }\n",
              "</style>\n",
              "\n",
              "  <script>\n",
              "    async function quickchart(key) {\n",
              "      const quickchartButtonEl =\n",
              "        document.querySelector('#' + key + ' button');\n",
              "      quickchartButtonEl.disabled = true;  // To prevent multiple clicks.\n",
              "      quickchartButtonEl.classList.add('colab-df-spinner');\n",
              "      try {\n",
              "        const charts = await google.colab.kernel.invokeFunction(\n",
              "            'suggestCharts', [key], {});\n",
              "      } catch (error) {\n",
              "        console.error('Error during call to suggestCharts:', error);\n",
              "      }\n",
              "      quickchartButtonEl.classList.remove('colab-df-spinner');\n",
              "      quickchartButtonEl.classList.add('colab-df-quickchart-complete');\n",
              "    }\n",
              "    (() => {\n",
              "      let quickchartButtonEl =\n",
              "        document.querySelector('#df-de58a3d7-dce6-4efd-ab38-c8977f209b04 button');\n",
              "      quickchartButtonEl.style.display =\n",
              "        google.colab.kernel.accessAllowed ? 'block' : 'none';\n",
              "    })();\n",
              "  </script>\n",
              "</div>\n",
              "\n",
              "    </div>\n",
              "  </div>\n"
            ]
          },
          "metadata": {},
          "execution_count": 53
        }
      ]
    }
  ]
}