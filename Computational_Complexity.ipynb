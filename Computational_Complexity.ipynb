{
  "nbformat": 4,
  "nbformat_minor": 0,
  "metadata": {
    "colab": {
      "provenance": []
    },
    "kernelspec": {
      "name": "python3",
      "display_name": "Python 3"
    },
    "language_info": {
      "name": "python"
    }
  },
  "cells": [
    {
      "cell_type": "markdown",
      "source": [
        "to measure how much time and space an algorithm takes"
      ],
      "metadata": {
        "id": "87_X8E-bOICP"
      }
    },
    {
      "cell_type": "code",
      "source": [
        "import numpy as np\n",
        "import random\n",
        "\n",
        "a = list(range(100))\n",
        "random.shuffle(a)\n",
        "a\n"
      ],
      "metadata": {
        "colab": {
          "base_uri": "https://localhost:8080/"
        },
        "id": "3V85InXHPlMg",
        "outputId": "473b5f81-d7b7-4d97-f15c-285494b4a173"
      },
      "execution_count": null,
      "outputs": [
        {
          "output_type": "execute_result",
          "data": {
            "text/plain": [
              "[33,\n",
              " 78,\n",
              " 44,\n",
              " 64,\n",
              " 19,\n",
              " 93,\n",
              " 5,\n",
              " 66,\n",
              " 94,\n",
              " 62,\n",
              " 17,\n",
              " 86,\n",
              " 77,\n",
              " 60,\n",
              " 55,\n",
              " 26,\n",
              " 30,\n",
              " 72,\n",
              " 2,\n",
              " 88,\n",
              " 90,\n",
              " 51,\n",
              " 46,\n",
              " 15,\n",
              " 31,\n",
              " 8,\n",
              " 49,\n",
              " 28,\n",
              " 53,\n",
              " 58,\n",
              " 70,\n",
              " 67,\n",
              " 81,\n",
              " 56,\n",
              " 97,\n",
              " 0,\n",
              " 68,\n",
              " 91,\n",
              " 27,\n",
              " 87,\n",
              " 45,\n",
              " 95,\n",
              " 38,\n",
              " 76,\n",
              " 83,\n",
              " 25,\n",
              " 3,\n",
              " 61,\n",
              " 43,\n",
              " 12,\n",
              " 71,\n",
              " 32,\n",
              " 9,\n",
              " 7,\n",
              " 85,\n",
              " 21,\n",
              " 20,\n",
              " 54,\n",
              " 82,\n",
              " 37,\n",
              " 52,\n",
              " 79,\n",
              " 40,\n",
              " 50,\n",
              " 96,\n",
              " 41,\n",
              " 35,\n",
              " 80,\n",
              " 16,\n",
              " 34,\n",
              " 63,\n",
              " 89,\n",
              " 36,\n",
              " 10,\n",
              " 92,\n",
              " 57,\n",
              " 22,\n",
              " 73,\n",
              " 99,\n",
              " 65,\n",
              " 1,\n",
              " 69,\n",
              " 48,\n",
              " 6,\n",
              " 24,\n",
              " 75,\n",
              " 29,\n",
              " 11,\n",
              " 14,\n",
              " 47,\n",
              " 42,\n",
              " 98,\n",
              " 23,\n",
              " 4,\n",
              " 39,\n",
              " 59,\n",
              " 13,\n",
              " 74,\n",
              " 84,\n",
              " 18]"
            ]
          },
          "metadata": {},
          "execution_count": 5
        }
      ]
    },
    {
      "cell_type": "code",
      "source": [
        "q = 31\n",
        "isFound = False\n",
        "for i in a:\n",
        "  if i==31:\n",
        "    print(\"Found\")\n",
        "    isFound = True\n",
        "    break;\n",
        "\n",
        "if isFound == False:\n",
        "  print(\"not found\")"
      ],
      "metadata": {
        "colab": {
          "base_uri": "https://localhost:8080/"
        },
        "id": "5sOye_LAP02u",
        "outputId": "1f2cebb3-d2e4-487e-ea12-40a2ccf812a2"
      },
      "execution_count": null,
      "outputs": [
        {
          "output_type": "stream",
          "name": "stdout",
          "text": [
            "Found\n"
          ]
        }
      ]
    },
    {
      "cell_type": "markdown",
      "source": [
        "time complexity - O(n)"
      ],
      "metadata": {
        "id": "xJbpG1rgRSS9"
      }
    },
    {
      "cell_type": "code",
      "source": [
        "#Binary Search\n",
        "\n",
        "import math\n",
        "\n",
        "def binSearch(arr, l, r, x):\n",
        "  if r >= l:\n",
        "    mid = l + math.floor((r-l)/2)\n",
        "    if arr[mid] == x:\n",
        "      return mid\n",
        "\n",
        "    elif arr[mid] > x:\n",
        "      return binSearch(arr, l, mid-1, x)\n",
        "\n",
        "    else:\n",
        "      return binSearch(arr, mid+1, r, x)\n",
        "\n",
        "a.sort()\n",
        "arr = a\n",
        "x = 31\n",
        "binSearch(arr, 0, len(a)-1, x)\n"
      ],
      "metadata": {
        "colab": {
          "base_uri": "https://localhost:8080/"
        },
        "id": "9fPUESCJTc6h",
        "outputId": "9f83a55d-6477-4252-9fd2-19abf720fa95"
      },
      "execution_count": null,
      "outputs": [
        {
          "output_type": "execute_result",
          "data": {
            "text/plain": [
              "31"
            ]
          },
          "metadata": {},
          "execution_count": 6
        }
      ]
    },
    {
      "cell_type": "code",
      "source": [
        "#find elements common in 2 lists\n",
        "\n",
        "l1 = list(range(75))\n",
        "random.shuffle(l1)\n",
        "\n",
        "l2 = list(range(50))\n",
        "random.shuffle(l2)\n",
        "\n",
        "l3 = {}\n",
        "for i in l2:\n",
        "  l3[i] = 1;\n",
        "\n",
        "cnt = 0;\n",
        "for num in l1:\n",
        "  if l3.get(i) != None:\n",
        "    print(num)\n",
        "    cnt += 1\n",
        "\n",
        "print(\"no of common elements\" , cnt)"
      ],
      "metadata": {
        "colab": {
          "base_uri": "https://localhost:8080/"
        },
        "id": "n4cfMJ2rWTSg",
        "outputId": "add2c1bf-9d2f-431d-893a-eebb9689ceac"
      },
      "execution_count": null,
      "outputs": [
        {
          "output_type": "stream",
          "name": "stdout",
          "text": [
            "46\n",
            "33\n",
            "1\n",
            "55\n",
            "10\n",
            "44\n",
            "51\n",
            "54\n",
            "21\n",
            "13\n",
            "29\n",
            "7\n",
            "50\n",
            "34\n",
            "6\n",
            "28\n",
            "17\n",
            "9\n",
            "23\n",
            "37\n",
            "47\n",
            "11\n",
            "8\n",
            "45\n",
            "73\n",
            "16\n",
            "27\n",
            "3\n",
            "31\n",
            "38\n",
            "67\n",
            "70\n",
            "36\n",
            "69\n",
            "24\n",
            "20\n",
            "18\n",
            "35\n",
            "4\n",
            "15\n",
            "58\n",
            "60\n",
            "62\n",
            "22\n",
            "68\n",
            "64\n",
            "48\n",
            "61\n",
            "32\n",
            "2\n",
            "56\n",
            "41\n",
            "63\n",
            "40\n",
            "42\n",
            "66\n",
            "49\n",
            "25\n",
            "5\n",
            "0\n",
            "14\n",
            "52\n",
            "12\n",
            "71\n",
            "59\n",
            "53\n",
            "65\n",
            "30\n",
            "39\n",
            "43\n",
            "57\n",
            "72\n",
            "74\n",
            "26\n",
            "19\n",
            "no of common elements 75\n"
          ]
        }
      ]
    },
    {
      "cell_type": "markdown",
      "source": [
        "time complexity = O(m+n)"
      ],
      "metadata": {
        "id": "LSz2YJ3yW_hk"
      }
    },
    {
      "cell_type": "code",
      "source": [
        "#Intersection of 2 lists\n",
        "l1 = list(range(100))\n",
        "random.shuffle(l1)\n",
        "\n",
        "l2 = list(range(50))\n",
        "random.shuffle(l2)\n",
        "\n",
        "cnt = 0;\n",
        "for i in l1:\n",
        "  for j in l2:\n",
        "    if i == j:\n",
        "      print(i)\n",
        "      cnt += 1;\n",
        "\n",
        "print(\"no of common elements\" , cnt)"
      ],
      "metadata": {
        "colab": {
          "base_uri": "https://localhost:8080/"
        },
        "id": "FO26TkNEXQKJ",
        "outputId": "1e9a2f20-beea-44a2-c716-771e6cd802dd"
      },
      "execution_count": null,
      "outputs": [
        {
          "output_type": "stream",
          "name": "stdout",
          "text": [
            "27\n",
            "49\n",
            "24\n",
            "8\n",
            "17\n",
            "32\n",
            "11\n",
            "19\n",
            "38\n",
            "33\n",
            "5\n",
            "42\n",
            "7\n",
            "41\n",
            "20\n",
            "15\n",
            "43\n",
            "28\n",
            "10\n",
            "37\n",
            "26\n",
            "21\n",
            "46\n",
            "30\n",
            "48\n",
            "39\n",
            "31\n",
            "16\n",
            "6\n",
            "44\n",
            "9\n",
            "45\n",
            "0\n",
            "12\n",
            "13\n",
            "3\n",
            "23\n",
            "18\n",
            "4\n",
            "34\n",
            "35\n",
            "40\n",
            "36\n",
            "1\n",
            "47\n",
            "25\n",
            "14\n",
            "29\n",
            "22\n",
            "2\n",
            "no of common elements 50\n"
          ]
        }
      ]
    }
  ]
}